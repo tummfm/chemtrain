{
 "cells": [
  {
   "cell_type": "code",
   "execution_count": 1,
   "id": "e42d0bbf",
   "metadata": {
    "execution": {
     "iopub.execute_input": "2024-08-20T16:45:41.970354Z",
     "iopub.status.busy": "2024-08-20T16:45:41.969429Z",
     "iopub.status.idle": "2024-08-20T16:45:47.758151Z",
     "shell.execute_reply": "2024-08-20T16:45:47.757314Z"
    },
    "tags": [
     "hide-cell"
    ]
   },
   "outputs": [],
   "source": [
    "import os\n",
    "from pathlib import Path\n",
    "\n",
    "import jax\n",
    "import jax.numpy as jnp\n",
    "from jax import tree_util, random\n",
    "\n",
    "import jax_md_mod\n",
    "from jax_md import space, energy, partition, simulate\n",
    "\n",
    "import optax\n",
    "\n",
    "import matplotlib.pyplot as plt\n",
    "\n",
    "from chemtrain.data import preprocessing\n",
    "from chemtrain.trainers import ForceMatching, RelativeEntropy\n",
    "from chemtrain import ensemble, quantity\n",
    "\n",
    "base_path = Path(os.environ.get(\"DATA_PATH\", \"./data\"))"
   ]
  },
  {
   "cell_type": "markdown",
   "id": "cf4b8bc6",
   "metadata": {},
   "source": [
    "# Relative Entropy Minimization\n",
    "\n",
    "## Principle of Relative Entropy\n",
    "\n",
    "Relative entropy provides a fundamental link between models of different scales [^Shell2008].\n",
    "Measuring the loss of information induced by the coarse-graining [^Carmichael2012], it is thus a desirable objective to minimize.\n",
    "\n",
    "For a corase-grained model $p^\\text{CG}_\\theta(\\mathbf R)$ on coarse-grained sites $\\mathbf R$ connected to the sites of a fine-scale model $p^\\text{AA}(\\mathbf r)$ via a mapping $\\mathbf R = M(\\mathbf r)$, the relative entropy is [^Carmichael2012]\n",
    "\n",
    "$$\n",
    "S_\\text{rel} = S_\\text{map} + \\int p^\\text{AA}(\\mathbf r)\\log \\frac{p^\\text{AA}(\\mathbf r)}{p^\\text{CG}(M(\\mathbf r))}d\\mathbf r.\n",
    "$$\n",
    "\n",
    "\n",
    "For a canonical ensemble $p(\\mathbf r) \\propto e^{-\\beta U(\\mathbf r)}$ at temperature $T = \\frac{1}{k_B \\beta}$, the relative entropy further decomposes to\n",
    "\n",
    "$$\n",
    "S_\\text{rel} = S_\\text{map} + \\beta \\left\\langle U_\\theta^\\text{CG}(M(\\mathbf r)) - U^\\text{AA}(\\mathbf r)\\right\\rangle_\\text{AA} - \\beta(A_\\theta^\\text{CG} - A^\\text{AA}).\n",
    "$$\n",
    "\n",
    "The first part $S_\\text{rel}$ measures the unavoidable loss of information due to the degeneracy of the mapping.\n",
    "This part is, however, independent of the fine-grained and coarse-grained distributions.\n",
    "\n",
    "The second part is the expected difference between the predicted potential energies $U_\\theta^\\text{CG}(M(\\mathbf r)) - U^\\text{AA}(\\mathbf r)$ in the fine-scaled ensemble.\n",
    "This part is simple to estimate.\n",
    "Analogous to force-matching, the estimation involves pre-computing an atomistic trajectory, followed by a batched gradient-based optimization.\n",
    "\n",
    "The last part is the free energy difference between the fine-scaled and coarse-grained ensembles.\n",
    "Since the free energy normalizes a distribution \n",
    "\n",
    "$$\n",
    "A_\\theta = -\\frac{1}{\\beta}\\log \\int e^{-\\beta U_\\theta}dx,\n",
    "$$\n",
    "it is not a quantity directly predictable from individual samples of the potential energy model.\n",
    "However, several routines exist to estimate the difference of free energies $A_\\theta^\\text{CG} = \\Delta A_\\theta^\\text{CG} + \\tilde A^\\text{CG}$ to a reference potential $\\tilde U^\\text{CG}$.\n",
    "\n",
    "Thus, the exact computation of the relative entropy is infeasible.\n",
    "Nevertheless, we can collect all terms directly depending on $\\theta$ in a new objective \n",
    "\n",
    "$$\n",
    "\\mathcal L_\\text{RE}(\\theta) = \\beta\\left(\\left\\langle U_\\theta^\\text{CG}(M(R))\\right\\rangle_\\text{AA} - \\Delta A_\\theta^\\text{CG}\\right).\n",
    "$$\n",
    "\n",
    "This objective has precisely the same gradients as the relative entropy \n",
    "\n",
    "$$\n",
    "\\frac{\\partial}{\\partial \\theta} \\mathcal L(\\theta) = \\frac{\\partial}{\\partial \\theta}S_\\text{rel}.\n",
    "$$\n",
    "\n",
    "Unfortunately, the objective is no longer lower bound by $0$, reached by the relative entropy under perfect preservation of information.\n",
    "Nevertheless, **chemtrain** enables the estimation of all the contributions to the loss.\n",
    "Thus, **chemtrain** can compute the correct gradients via algorithmic differentiation and enable training via the Relative Entropy objective.\n",
    "\n",
    "\n",
    "## Load Data\n",
    "\n",
    "This example follows the [Force Matching](./force_matching.md) guide.\n",
    "Again, we use reference data from an all-atomistic simulation of\n",
    "ethane. We obtained this data in the example\n",
    "[Prior Simulation](./prior_simulation.md).\n",
    "\n",
    "```{image} ../_static/ethane.png\n",
    ":align: center\n",
    ":alt: Ethane\n",
    "```\n",
    "\n",
    "<br>"
   ]
  },
  {
   "cell_type": "code",
   "execution_count": 2,
   "id": "3f02e394",
   "metadata": {
    "execution": {
     "iopub.execute_input": "2024-08-20T16:45:47.764618Z",
     "iopub.status.busy": "2024-08-20T16:45:47.763651Z",
     "iopub.status.idle": "2024-08-20T16:45:47.973161Z",
     "shell.execute_reply": "2024-08-20T16:45:47.972332Z"
    }
   },
   "outputs": [],
   "source": [
    "train_ratio = 0.5\n",
    "\n",
    "box = jnp.asarray([1.0, 1.0, 1.0])\n",
    "kT = 2.56\n",
    "\n",
    "all_forces = preprocessing.get_dataset(base_path / \"forces_ethane.npy\")\n",
    "all_positions = preprocessing.get_dataset(base_path / \"positions_ethane.npy\")"
   ]
  },
  {
   "cell_type": "markdown",
   "id": "43cfbaf7",
   "metadata": {},
   "source": [
    "## Compute Mapping\n",
    "\n",
    "The reference data contains only fine-grained forces $\\mathbf f_i$ and positions\n",
    "$\\mathbf r_i$.\n",
    "Thus, we must define a mapping $M$ that derives the\n",
    "positions of the coarse-grained sites $\\mathcal I_I$ [^Noid2008]\n",
    "\n",
    "```{math}\n",
    "\\mathbf R_I = \\sum_{i \\in \\mathcal I_I} c_{Ii} \\mathbf r_i.\n",
    "```\n",
    "\n",
    "We select the two carbon atoms $C_1$ and $C_2$ as locations of the\n",
    "coarse-grained sites $\\mathcal I_1$ and $\\mathcal I_2$ and neglect the hydrogen\n",
    "atoms."
   ]
  },
  {
   "cell_type": "code",
   "execution_count": 3,
   "id": "9a8e6d7b",
   "metadata": {
    "execution": {
     "iopub.execute_input": "2024-08-20T16:45:47.979319Z",
     "iopub.status.busy": "2024-08-20T16:45:47.978454Z",
     "iopub.status.idle": "2024-08-20T16:45:48.898912Z",
     "shell.execute_reply": "2024-08-20T16:45:48.898065Z"
    }
   },
   "outputs": [],
   "source": [
    "# Heacy-atoms mapping\n",
    "displacement_fn, shift_fn = space.periodic_general(box, fractional_coordinates=True)\n",
    "\n",
    "# Scale the position data into fractional coordinates\n",
    "position_dataset = preprocessing.scale_dataset_fractional(all_positions, box)\n",
    "\n",
    "masses = jnp.asarray([15.035, 1.011, 1.011, 1.011])\n",
    "\n",
    "weights = jnp.asarray([\n",
    "    [1, 0.0000, 0, 0, 0, 0.000, 0.000, 0.000],\n",
    "    [0.0000, 1, 0.000, 0.000, 0.000, 0, 0, 0]\n",
    "])\n",
    "\n",
    "position_dataset = preprocessing.map_dataset(\n",
    "    position_dataset, displacement_fn, shift_fn, weights, \n",
    ")\n"
   ]
  },
  {
   "cell_type": "markdown",
   "id": "1956c67d",
   "metadata": {},
   "source": [
    "## Setup Model\n",
    "\n",
    "As a coarse-grained potential model, we choose a simple spring bond\n",
    "\n",
    "```{math}\n",
    "    U(\\mathbf R) = \\frac{1}{2} k_b (|\\mathbf R_1 - \\mathbf R_2| - b_0)^2.\n",
    "```\n",
    "\n",
    "To ensure that the model parameters remain positive during optimization,\n",
    "we transform them into a constraint space\n",
    "$\\theta_1 = \\log b_0,\\ \\theta_2= \\log k_b$."
   ]
  },
  {
   "cell_type": "code",
   "execution_count": 4,
   "id": "1e55a3ed",
   "metadata": {
    "execution": {
     "iopub.execute_input": "2024-08-20T16:45:48.902000Z",
     "iopub.status.busy": "2024-08-20T16:45:48.901756Z",
     "iopub.status.idle": "2024-08-20T16:45:49.583437Z",
     "shell.execute_reply": "2024-08-20T16:45:49.582931Z"
    }
   },
   "outputs": [
    {
     "name": "stdout",
     "output_type": "stream",
     "text": [
      "Energy with initial params is 0.18380476534366608\n"
     ]
    },
    {
     "name": "stderr",
     "output_type": "stream",
     "text": [
      "/Users/paul/miniconda3/envs/chemtrain/lib/python3.10/site-packages/jax/_src/numpy/reductions.py:221: UserWarning: Explicitly requested dtype <class 'jax.numpy.float64'> requested in sum is not available, and will be truncated to dtype float32. To enable more dtypes, set the jax_enable_x64 configuration option or the JAX_ENABLE_X64 shell environment variable. See https://github.com/google/jax#current-gotchas for more.\n",
      "  return _reduction(a, \"sum\", np.sum, lax.add, 0, preproc=_cast_to_numeric,\n"
     ]
    }
   ],
   "source": [
    "r_init = position_dataset[0, ...]\n",
    "\n",
    "displacement_fn, shift_fn = space.periodic_general(box, fractional_coordinates=True)\n",
    "neighbor_fn = partition.neighbor_list(\n",
    "    displacement_fn, box, 1.0, fractional_coordinates=True, disable_cell_list=True)\n",
    "\n",
    "nbrs_init = neighbor_fn.allocate(r_init)\n",
    "\n",
    "init_params = {\n",
    "    \"log_b0\": jnp.log(0.11),\n",
    "    \"log_kb\": jnp.log(1000.0)\n",
    "}\n",
    "\n",
    "def energy_fn_template(energy_params):\n",
    "    harmonic_energy_fn = energy.simple_spring_bond(\n",
    "        displacement_fn, bond=jnp.asarray([[0, 1]]),\n",
    "        length=jnp.exp(energy_params[\"log_b0\"]),\n",
    "        epsilon=jnp.exp(energy_params[\"log_kb\"]),\n",
    "        alpha=2.0\n",
    "    )\n",
    "    \n",
    "    return harmonic_energy_fn    \n",
    "\n",
    "sample_idx = 0\n",
    "\n",
    "print(f\"Energy with initial params is {energy_fn_template(init_params)(position_dataset[sample_idx, ...], neighbor=nbrs_init)}\")"
   ]
  },
  {
   "cell_type": "markdown",
   "id": "b47f2fe3",
   "metadata": {},
   "source": [
    "## Analytical Solution\n",
    "\n",
    "As our model relies only on the magnitude of the displacement between $C_1$ and $C_2$,\n",
    "we compute this distance and plot it."
   ]
  },
  {
   "cell_type": "code",
   "execution_count": 5,
   "id": "6ee18ad8",
   "metadata": {
    "execution": {
     "iopub.execute_input": "2024-08-20T16:45:49.587074Z",
     "iopub.status.busy": "2024-08-20T16:45:49.586827Z",
     "iopub.status.idle": "2024-08-20T16:45:50.364873Z",
     "shell.execute_reply": "2024-08-20T16:45:50.364241Z"
    }
   },
   "outputs": [
    {
     "data": {
      "text/plain": [
       "Text(0, 0.5, 'Count')"
      ]
     },
     "execution_count": 5,
     "metadata": {},
     "output_type": "execute_result"
    },
    {
     "data": {
      "image/png": "[encoded data removed]",
      "text/plain": [
       "<Figure size 640x480 with 1 Axes>"
      ]
     },
     "metadata": {},
     "output_type": "display_data"
    }
   ],
   "source": [
    "disp = jax.vmap(displacement_fn)(position_dataset[:, 0, :], position_dataset[:, 1, :])\n",
    "dist_CC = jnp.sqrt(jnp.sum(disp ** 2, axis=-1))\n",
    "\n",
    "plt.figure()\n",
    "plt.hist(dist_CC, bins=100)\n",
    "plt.xlabel(\"Distance C_1 - C_2 [nm]\")\n",
    "plt.ylabel(\"Count\")"
   ]
  },
  {
   "cell_type": "markdown",
   "id": "e850ad5e",
   "metadata": {},
   "source": [
    "Indeed, the distance between the two carbon atoms is approximately\n",
    "Gaussian distributed.\n",
    "Hence, the choice of a harmonic potential model is reasonable.\n",
    "\n",
    "Thus, we might estimate the parameters of the model by computing the mean and\n",
    "variance of the particle distance.\n",
    "\n",
    "$$\n",
    "b_0 = \\mathbb E[|\\mathbf R_1 - \\mathbf R_2|], \\quad k_b = \\frac{1}{\\beta \\operatorname{Var}[|\\mathbf R_1 - \\mathbf R_2|]}\n",
    "$$"
   ]
  },
  {
   "cell_type": "code",
   "execution_count": 6,
   "id": "8301beaa",
   "metadata": {
    "execution": {
     "iopub.execute_input": "2024-08-20T16:45:50.368026Z",
     "iopub.status.busy": "2024-08-20T16:45:50.367770Z",
     "iopub.status.idle": "2024-08-20T16:45:50.449924Z",
     "shell.execute_reply": "2024-08-20T16:45:50.449233Z"
    }
   },
   "outputs": [
    {
     "name": "stdout",
     "output_type": "stream",
     "text": [
      "Estimated potential parameters are 9693.3 kJ/mol/nm^2 and 0.156 nm\n"
     ]
    }
   ],
   "source": [
    "# Analytical solution\n",
    "b0 = jnp.mean(dist_CC)\n",
    "kb = kT / jnp.var(dist_CC)\n",
    "\n",
    "print(f\"Estimated potential parameters are {kb :.1f} kJ/mol/nm^2 and {b0 :.3f} nm\")"
   ]
  },
  {
   "cell_type": "markdown",
   "id": "6501742f",
   "metadata": {},
   "source": [
    "## Setup Optimizer"
   ]
  },
  {
   "cell_type": "code",
   "execution_count": 7,
   "id": "d36962cb",
   "metadata": {
    "execution": {
     "iopub.execute_input": "2024-08-20T16:45:50.453199Z",
     "iopub.status.busy": "2024-08-20T16:45:50.452931Z",
     "iopub.status.idle": "2024-08-20T16:45:50.456855Z",
     "shell.execute_reply": "2024-08-20T16:45:50.456185Z"
    }
   },
   "outputs": [],
   "source": [
    "epochs = 100\n",
    "initial_lr = 0.5\n",
    "lr_decay = 0.1\n",
    "\n",
    "lrd = int(position_dataset.shape[0] / epochs)\n",
    "lr_schedule = optax.exponential_decay(initial_lr, lrd, lr_decay)\n",
    "optimizer = optax.chain(\n",
    "    optax.scale_by_adam(),\n",
    "    optax.scale_by_schedule(lr_schedule),\n",
    "    # Flips the sign of the update for gradient descend\n",
    "    optax.scale_by_learning_rate(1.0),\n",
    ")"
   ]
  },
  {
   "cell_type": "markdown",
   "id": "ddaa84f1",
   "metadata": {},
   "source": [
    "## Setup Simulator"
   ]
  },
  {
   "cell_type": "code",
   "execution_count": 8,
   "id": "1dd37d3e",
   "metadata": {
    "execution": {
     "iopub.execute_input": "2024-08-20T16:45:50.460112Z",
     "iopub.status.busy": "2024-08-20T16:45:50.459889Z",
     "iopub.status.idle": "2024-08-20T16:45:51.285605Z",
     "shell.execute_reply": "2024-08-20T16:45:51.284789Z"
    },
    "tags": [
     "hide-output"
    ]
   },
   "outputs": [],
   "source": [
    "timings = ensemble.sampling.process_printouts(\n",
    "    time_step=0.002, total_time=1e3, t_equilib=1e2,\n",
    "    print_every=0.1, t_start=0.0\n",
    ")\n",
    "\n",
    "init_ref_state, sim_template = ensemble.sampling.initialize_simulator_template(\n",
    "    simulate.nvt_langevin, shift_fn=shift_fn, nbrs=nbrs_init,\n",
    "    init_with_PRNGKey=True, extra_simulator_kwargs={\"kT\": kT, \"gamma\": 1.0, \"dt\": 0.002}\n",
    ")\n",
    "\n",
    "cg_masses = masses[0]\n",
    "\n",
    "reference_state = init_ref_state(\n",
    "    random.PRNGKey(11), r_init,\n",
    "    energy_or_force_fn=energy_fn_template(init_params),\n",
    "    init_sim_kwargs={\"mass\": cg_masses, \"neighbor\": nbrs_init}\n",
    ")"
   ]
  },
  {
   "cell_type": "markdown",
   "id": "c7a4a0a8",
   "metadata": {},
   "source": [
    "## Setup Relative Entropy Minimization"
   ]
  },
  {
   "cell_type": "code",
   "execution_count": 9,
   "id": "5d9f1bd1",
   "metadata": {
    "execution": {
     "iopub.execute_input": "2024-08-20T16:45:51.288888Z",
     "iopub.status.busy": "2024-08-20T16:45:51.288631Z",
     "iopub.status.idle": "2024-08-20T16:45:55.213694Z",
     "shell.execute_reply": "2024-08-20T16:45:55.213013Z"
    },
    "tags": [
     "hide-output"
    ]
   },
   "outputs": [
    {
     "name": "stdout",
     "output_type": "stream",
     "text": [
      "Dataset has shape (90, 2, 3)\n",
      "No reference batch size provided. Using number of generated CG snapshots by default.\n"
     ]
    },
    {
     "name": "stderr",
     "output_type": "stream",
     "text": [
      "/Users/paul/Lokal/chemtrain/chemtrain/ensemble/reweighting.py:777: UserWarning: Propagation function is not safe by default. Do not forget to use the wrapper around the compute function to ensure that the neighborlist does not overflow.\n",
      "  warnings.warn(\n",
      "/Users/paul/miniconda3/envs/chemtrain/lib/python3.10/site-packages/jax/_src/numpy/reductions.py:221: UserWarning: Explicitly requested dtype <class 'jax.numpy.float64'> requested in sum is not available, and will be truncated to dtype float32. To enable more dtypes, set the jax_enable_x64 configuration option or the JAX_ENABLE_X64 shell environment variable. See https://github.com/google/jax#current-gotchas for more.\n",
      "  return _reduction(a, \"sum\", np.sum, lax.add, 0, preproc=_cast_to_numeric,\n"
     ]
    },
    {
     "name": "stderr",
     "output_type": "stream",
     "text": [
      "/Users/paul/miniconda3/envs/chemtrain/lib/python3.10/site-packages/jax/_src/numpy/reductions.py:221: UserWarning: Explicitly requested dtype <class 'jax.numpy.float64'> requested in sum is not available, and will be truncated to dtype float32. To enable more dtypes, set the jax_enable_x64 configuration option or the JAX_ENABLE_X64 shell environment variable. See https://github.com/google/jax#current-gotchas for more.\n",
      "  return _reduction(a, \"sum\", np.sum, lax.add, 0, preproc=_cast_to_numeric,\n"
     ]
    },
    {
     "name": "stdout",
     "output_type": "stream",
     "text": [
      "Time for trajectory initialization 0: 0.0038750052452087404 mins\n",
      "[Step size] Use 7 iterations for 10 interior points.\n"
     ]
    }
   ],
   "source": [
    "relative_entropy = RelativeEntropy(\n",
    "    init_params=init_params, optimizer=optimizer,\n",
    "    reweight_ratio=1.1, sim_batch_size=1,\n",
    "    energy_fn_template=energy_fn_template,\n",
    ")\n",
    "\n",
    "subsampled_dataset = position_dataset[::100, ...]\n",
    "print(f\"Dataset has shape {subsampled_dataset.shape}\")\n",
    "\n",
    "relative_entropy.add_statepoint(\n",
    "    position_dataset, energy_fn_template,\n",
    "    sim_template, neighbor_fn, timings,\n",
    "    {'kT': kT}, reference_state,  \n",
    ")\n",
    "\n",
    "relative_entropy.init_step_size_adaption(0.1)"
   ]
  },
  {
   "cell_type": "code",
   "execution_count": 10,
   "id": "231f4bbb",
   "metadata": {
    "execution": {
     "iopub.execute_input": "2024-08-20T16:45:55.216588Z",
     "iopub.status.busy": "2024-08-20T16:45:55.216344Z",
     "iopub.status.idle": "2024-08-20T16:46:32.462927Z",
     "shell.execute_reply": "2024-08-20T16:46:32.462244Z"
    },
    "tags": [
     "hide-output"
    ]
   },
   "outputs": [
    {
     "name": "stdout",
     "output_type": "stream",
     "text": [
      "[Step Size] Found optimal step size 1.0 with residual 1.69264554977417\n"
     ]
    },
    {
     "name": "stdout",
     "output_type": "stream",
     "text": [
      "\n",
      "[RE] Epoch 0\n",
      "\tMean Delta RE loss = 0.46431\n",
      "\tGradient norm: 0.14550553262233734\n",
      "\tElapsed time = 0.069 min\n",
      "[Statepoint 0]\n",
      "\tkT = 2.564 ref_kT = 2.560\n"
     ]
    },
    {
     "name": "stdout",
     "output_type": "stream",
     "text": [
      "[Step Size] Found optimal step size 1.0 with residual 1.19598388671875\n"
     ]
    },
    {
     "name": "stdout",
     "output_type": "stream",
     "text": [
      "\n",
      "[RE] Epoch 1\n",
      "\tMean Delta RE loss = 1.50070\n",
      "\tGradient norm: 24.406991958618164\n",
      "\tElapsed time = 0.059 min\n",
      "[Statepoint 0]\n",
      "\tkT = 2.597 ref_kT = 2.560\n"
     ]
    },
    {
     "name": "stdout",
     "output_type": "stream",
     "text": [
      "[Step Size] Found optimal step size 1.0 with residual 2.038072109222412\n"
     ]
    },
    {
     "name": "stdout",
     "output_type": "stream",
     "text": [
      "\n",
      "[RE] Epoch 2\n",
      "\tMean Delta RE loss = -0.13227\n",
      "\tGradient norm: 2.9602198600769043\n",
      "\tElapsed time = 0.004 min\n",
      "[Statepoint 0]\n",
      "\tkT = 2.580 ref_kT = 2.560\n"
     ]
    },
    {
     "name": "stdout",
     "output_type": "stream",
     "text": [
      "[Step Size] Found optimal step size 1.0 with residual 2.0931191444396973\n"
     ]
    },
    {
     "name": "stdout",
     "output_type": "stream",
     "text": [
      "\n",
      "[RE] Epoch 3\n",
      "\tMean Delta RE loss = 0.07060\n",
      "\tGradient norm: 33.6684455871582\n",
      "\tElapsed time = 0.008 min\n",
      "[Statepoint 0]\n",
      "\tkT = 2.554 ref_kT = 2.560\n"
     ]
    },
    {
     "name": "stdout",
     "output_type": "stream",
     "text": [
      "[Step Size] Found optimal step size 1.0 with residual 1.8890833854675293\n"
     ]
    },
    {
     "name": "stdout",
     "output_type": "stream",
     "text": [
      "\n",
      "[RE] Epoch 4\n",
      "\tMean Delta RE loss = -0.24193\n",
      "\tGradient norm: 8.893223762512207\n",
      "\tElapsed time = 0.010 min\n",
      "[Statepoint 0]\n",
      "\tkT = 2.565 ref_kT = 2.560\n"
     ]
    },
    {
     "name": "stdout",
     "output_type": "stream",
     "text": [
      "[Step Size] Found optimal step size 1.0 with residual 2.1107516288757324\n"
     ]
    },
    {
     "name": "stdout",
     "output_type": "stream",
     "text": [
      "\n",
      "[RE] Epoch 5\n",
      "\tMean Delta RE loss = 0.05841\n",
      "\tGradient norm: 1.6036288738250732\n",
      "\tElapsed time = 0.007 min\n",
      "[Statepoint 0]\n",
      "\tkT = 2.546 ref_kT = 2.560\n"
     ]
    },
    {
     "name": "stdout",
     "output_type": "stream",
     "text": [
      "[Step Size] Found optimal step size 1.0 with residual 2.300546169281006\n"
     ]
    },
    {
     "name": "stdout",
     "output_type": "stream",
     "text": [
      "\n",
      "[RE] Epoch 6\n",
      "\tMean Delta RE loss = 0.69102\n",
      "\tGradient norm: 19.912639617919922\n",
      "\tElapsed time = 0.007 min\n",
      "[Statepoint 0]\n",
      "\tkT = 2.564 ref_kT = 2.560\n"
     ]
    },
    {
     "name": "stdout",
     "output_type": "stream",
     "text": [
      "[Step Size] Found optimal step size 1.0 with residual 2.1906371116638184\n"
     ]
    },
    {
     "name": "stdout",
     "output_type": "stream",
     "text": [
      "\n",
      "[RE] Epoch 7\n",
      "\tMean Delta RE loss = 0.62581\n",
      "\tGradient norm: 16.731433868408203\n",
      "\tElapsed time = 0.008 min\n",
      "[Statepoint 0]\n",
      "\tkT = 2.586 ref_kT = 2.560\n"
     ]
    },
    {
     "name": "stdout",
     "output_type": "stream",
     "text": [
      "[Step Size] Found optimal step size 1.0 with residual 2.172318935394287\n"
     ]
    },
    {
     "name": "stdout",
     "output_type": "stream",
     "text": [
      "\n",
      "[RE] Epoch 8\n",
      "\tMean Delta RE loss = 0.15127\n",
      "\tGradient norm: 2.527944803237915\n",
      "\tElapsed time = 0.007 min\n",
      "[Statepoint 0]\n",
      "\tkT = 2.567 ref_kT = 2.560\n"
     ]
    },
    {
     "name": "stdout",
     "output_type": "stream",
     "text": [
      "[Step Size] Found optimal step size 1.0 with residual 2.226191997528076\n"
     ]
    },
    {
     "name": "stdout",
     "output_type": "stream",
     "text": [
      "\n",
      "[RE] Epoch 9\n",
      "\tMean Delta RE loss = -0.17438\n",
      "\tGradient norm: 0.6666352152824402\n",
      "\tElapsed time = 0.006 min\n",
      "[Statepoint 0]\n",
      "\tkT = 2.594 ref_kT = 2.560\n"
     ]
    },
    {
     "name": "stdout",
     "output_type": "stream",
     "text": [
      "[Step Size] Found optimal step size 1.0 with residual 2.2942042350769043\n"
     ]
    },
    {
     "name": "stdout",
     "output_type": "stream",
     "text": [
      "\n",
      "[RE] Epoch 10\n",
      "\tMean Delta RE loss = -0.25704\n",
      "\tGradient norm: 6.75494384765625\n",
      "\tElapsed time = 0.006 min\n",
      "[Statepoint 0]\n",
      "\tkT = 2.464 ref_kT = 2.560\n"
     ]
    },
    {
     "name": "stdout",
     "output_type": "stream",
     "text": [
      "[Step Size] Found optimal step size 1.0 with residual 2.291734218597412\n"
     ]
    },
    {
     "name": "stdout",
     "output_type": "stream",
     "text": [
      "\n",
      "[RE] Epoch 11\n",
      "\tMean Delta RE loss = -0.25817\n",
      "\tGradient norm: 11.13673210144043\n",
      "\tElapsed time = 0.006 min\n",
      "[Statepoint 0]\n",
      "\tkT = 2.534 ref_kT = 2.560\n"
     ]
    },
    {
     "name": "stdout",
     "output_type": "stream",
     "text": [
      "[Step Size] Found optimal step size 1.0 with residual 2.247230052947998\n"
     ]
    },
    {
     "name": "stdout",
     "output_type": "stream",
     "text": [
      "\n",
      "[RE] Epoch 12\n",
      "\tMean Delta RE loss = -0.31259\n",
      "\tGradient norm: 8.103449821472168\n",
      "\tElapsed time = 0.006 min\n",
      "[Statepoint 0]\n",
      "\tkT = 2.604 ref_kT = 2.560\n"
     ]
    },
    {
     "name": "stdout",
     "output_type": "stream",
     "text": [
      "[Step Size] Found optimal step size 1.0 with residual 2.2080130577087402\n"
     ]
    },
    {
     "name": "stdout",
     "output_type": "stream",
     "text": [
      "\n",
      "[RE] Epoch 13\n",
      "\tMean Delta RE loss = -0.33501\n",
      "\tGradient norm: 1.964651107788086\n",
      "\tElapsed time = 0.009 min\n",
      "[Statepoint 0]\n",
      "\tkT = 2.577 ref_kT = 2.560\n"
     ]
    },
    {
     "name": "stdout",
     "output_type": "stream",
     "text": [
      "[Step Size] Found optimal step size 1.0 with residual 2.2470803260803223\n"
     ]
    },
    {
     "name": "stdout",
     "output_type": "stream",
     "text": [
      "\n",
      "[RE] Epoch 14\n",
      "\tMean Delta RE loss = -0.22193\n",
      "\tGradient norm: 0.7772279977798462\n",
      "\tElapsed time = 0.006 min\n",
      "[Statepoint 0]\n",
      "\tkT = 2.555 ref_kT = 2.560\n"
     ]
    },
    {
     "name": "stdout",
     "output_type": "stream",
     "text": [
      "[Step Size] Found optimal step size 1.0 with residual 2.2999091148376465\n"
     ]
    },
    {
     "name": "stdout",
     "output_type": "stream",
     "text": [
      "\n",
      "[RE] Epoch 15\n",
      "\tMean Delta RE loss = -0.03257\n",
      "\tGradient norm: 9.466257095336914\n",
      "\tElapsed time = 0.006 min\n",
      "[Statepoint 0]\n",
      "\tkT = 2.647 ref_kT = 2.560\n"
     ]
    },
    {
     "name": "stdout",
     "output_type": "stream",
     "text": [
      "[Step Size] Found optimal step size 1.0 with residual 2.26570463180542\n"
     ]
    },
    {
     "name": "stdout",
     "output_type": "stream",
     "text": [
      "\n",
      "[RE] Epoch 16\n",
      "\tMean Delta RE loss = -0.04723\n",
      "\tGradient norm: 12.82009220123291\n",
      "\tElapsed time = 0.007 min\n",
      "[Statepoint 0]\n",
      "\tkT = 2.506 ref_kT = 2.560\n"
     ]
    },
    {
     "name": "stdout",
     "output_type": "stream",
     "text": [
      "[Step Size] Found optimal step size 1.0 with residual 2.2268319129943848\n"
     ]
    },
    {
     "name": "stdout",
     "output_type": "stream",
     "text": [
      "\n",
      "[RE] Epoch 17\n",
      "\tMean Delta RE loss = -0.30274\n",
      "\tGradient norm: 4.190487384796143\n",
      "\tElapsed time = 0.007 min\n",
      "[Statepoint 0]\n",
      "\tkT = 2.486 ref_kT = 2.560\n"
     ]
    },
    {
     "name": "stdout",
     "output_type": "stream",
     "text": [
      "[Step Size] Found optimal step size 1.0 with residual 2.2430663108825684\n"
     ]
    },
    {
     "name": "stdout",
     "output_type": "stream",
     "text": [
      "\n",
      "[RE] Epoch 18\n",
      "\tMean Delta RE loss = -0.55148\n",
      "\tGradient norm: 0.28897106647491455\n",
      "\tElapsed time = 0.006 min\n",
      "[Statepoint 0]\n",
      "\tkT = 2.621 ref_kT = 2.560\n"
     ]
    },
    {
     "name": "stdout",
     "output_type": "stream",
     "text": [
      "[Step Size] Found optimal step size 1.0 with residual 2.2980265617370605\n"
     ]
    },
    {
     "name": "stdout",
     "output_type": "stream",
     "text": [
      "\n",
      "[RE] Epoch 19\n",
      "\tMean Delta RE loss = -0.64588\n",
      "\tGradient norm: 8.430623054504395\n",
      "\tElapsed time = 0.005 min\n",
      "[Statepoint 0]\n",
      "\tkT = 2.550 ref_kT = 2.560\n"
     ]
    },
    {
     "name": "stdout",
     "output_type": "stream",
     "text": [
      "[Step Size] Found optimal step size 1.0 with residual 2.270982265472412\n"
     ]
    },
    {
     "name": "stdout",
     "output_type": "stream",
     "text": [
      "\n",
      "[RE] Epoch 20\n",
      "\tMean Delta RE loss = -0.69046\n",
      "\tGradient norm: 12.95241928100586\n",
      "\tElapsed time = 0.006 min\n",
      "[Statepoint 0]\n",
      "\tkT = 2.544 ref_kT = 2.560\n"
     ]
    },
    {
     "name": "stdout",
     "output_type": "stream",
     "text": [
      "[Step Size] Found optimal step size 1.0 with residual 2.2128891944885254\n"
     ]
    },
    {
     "name": "stdout",
     "output_type": "stream",
     "text": [
      "\n",
      "[RE] Epoch 21\n",
      "\tMean Delta RE loss = -0.76470\n",
      "\tGradient norm: 4.372643947601318\n",
      "\tElapsed time = 0.006 min\n",
      "[Statepoint 0]\n",
      "\tkT = 2.633 ref_kT = 2.560\n"
     ]
    },
    {
     "name": "stdout",
     "output_type": "stream",
     "text": [
      "[Step Size] Found optimal step size 1.0 with residual 2.2557902336120605\n"
     ]
    },
    {
     "name": "stdout",
     "output_type": "stream",
     "text": [
      "\n",
      "[RE] Epoch 22\n",
      "\tMean Delta RE loss = -0.73104\n",
      "\tGradient norm: 1.2244025468826294\n",
      "\tElapsed time = 0.006 min\n",
      "[Statepoint 0]\n",
      "\tkT = 2.629 ref_kT = 2.560\n"
     ]
    },
    {
     "name": "stdout",
     "output_type": "stream",
     "text": [
      "[Step Size] Found optimal step size 1.0 with residual 2.2955899238586426\n"
     ]
    },
    {
     "name": "stdout",
     "output_type": "stream",
     "text": [
      "\n",
      "[RE] Epoch 23\n",
      "\tMean Delta RE loss = -0.61595\n",
      "\tGradient norm: 16.02248764038086\n",
      "\tElapsed time = 0.005 min\n",
      "[Statepoint 0]\n",
      "\tkT = 2.643 ref_kT = 2.560\n"
     ]
    },
    {
     "name": "stdout",
     "output_type": "stream",
     "text": [
      "[Step Size] Found optimal step size 1.0 with residual 2.2311644554138184\n"
     ]
    },
    {
     "name": "stdout",
     "output_type": "stream",
     "text": [
      "\n",
      "[RE] Epoch 24\n",
      "\tMean Delta RE loss = -0.71463\n",
      "\tGradient norm: 10.673898696899414\n",
      "\tElapsed time = 0.005 min\n",
      "[Statepoint 0]\n",
      "\tkT = 2.531 ref_kT = 2.560\n"
     ]
    },
    {
     "name": "stdout",
     "output_type": "stream",
     "text": [
      "[Step Size] Found optimal step size 1.0 with residual 2.2496800422668457\n"
     ]
    },
    {
     "name": "stdout",
     "output_type": "stream",
     "text": [
      "\n",
      "[RE] Epoch 25\n",
      "\tMean Delta RE loss = -0.89454\n",
      "\tGradient norm: 0.0731111541390419\n",
      "\tElapsed time = 0.006 min\n",
      "[Statepoint 0]\n",
      "\tkT = 2.639 ref_kT = 2.560\n"
     ]
    },
    {
     "name": "stdout",
     "output_type": "stream",
     "text": [
      "[Step Size] Found optimal step size 1.0 with residual 2.3022122383117676\n"
     ]
    },
    {
     "name": "stdout",
     "output_type": "stream",
     "text": [
      "\n",
      "[RE] Epoch 26\n",
      "\tMean Delta RE loss = -0.92942\n",
      "\tGradient norm: 10.889283180236816\n",
      "\tElapsed time = 0.005 min\n",
      "[Statepoint 0]\n",
      "\tkT = 2.575 ref_kT = 2.560\n"
     ]
    },
    {
     "name": "stdout",
     "output_type": "stream",
     "text": [
      "[Step Size] Found optimal step size 1.0 with residual 2.2559380531311035\n"
     ]
    },
    {
     "name": "stdout",
     "output_type": "stream",
     "text": [
      "\n",
      "[RE] Epoch 27\n",
      "\tMean Delta RE loss = -0.94362\n",
      "\tGradient norm: 11.357768058776855\n",
      "\tElapsed time = 0.006 min\n",
      "[Statepoint 0]\n",
      "\tkT = 2.552 ref_kT = 2.560\n"
     ]
    },
    {
     "name": "stdout",
     "output_type": "stream",
     "text": [
      "[Step Size] Found optimal step size 1.0 with residual 2.2421507835388184\n"
     ]
    },
    {
     "name": "stdout",
     "output_type": "stream",
     "text": [
      "\n",
      "[RE] Epoch 28\n",
      "\tMean Delta RE loss = -0.95229\n",
      "\tGradient norm: 0.33922281861305237\n",
      "\tElapsed time = 0.005 min\n",
      "[Statepoint 0]\n",
      "\tkT = 2.502 ref_kT = 2.560\n"
     ]
    },
    {
     "name": "stdout",
     "output_type": "stream",
     "text": [
      "[Step Size] Found optimal step size 1.0 with residual 2.301283359527588\n"
     ]
    },
    {
     "name": "stdout",
     "output_type": "stream",
     "text": [
      "\n",
      "[RE] Epoch 29\n",
      "\tMean Delta RE loss = -0.85662\n",
      "\tGradient norm: 8.027220726013184\n",
      "\tElapsed time = 0.005 min\n",
      "[Statepoint 0]\n",
      "\tkT = 2.501 ref_kT = 2.560\n"
     ]
    },
    {
     "name": "stdout",
     "output_type": "stream",
     "text": [
      "[Step Size] Found optimal step size 1.0 with residual 2.2732443809509277\n"
     ]
    },
    {
     "name": "stdout",
     "output_type": "stream",
     "text": [
      "\n",
      "[RE] Epoch 30\n",
      "\tMean Delta RE loss = -0.83401\n",
      "\tGradient norm: 11.496160507202148\n",
      "\tElapsed time = 0.005 min\n",
      "[Statepoint 0]\n",
      "\tkT = 2.521 ref_kT = 2.560\n"
     ]
    },
    {
     "name": "stdout",
     "output_type": "stream",
     "text": [
      "[Step Size] Found optimal step size 1.0 with residual 2.260648250579834\n"
     ]
    },
    {
     "name": "stdout",
     "output_type": "stream",
     "text": [
      "\n",
      "[RE] Epoch 31\n",
      "\tMean Delta RE loss = -0.93252\n",
      "\tGradient norm: 1.0126227140426636\n",
      "\tElapsed time = 0.005 min\n",
      "[Statepoint 0]\n",
      "\tkT = 2.621 ref_kT = 2.560\n"
     ]
    },
    {
     "name": "stdout",
     "output_type": "stream",
     "text": [
      "[Step Size] Found optimal step size 1.0 with residual 2.297847270965576\n"
     ]
    },
    {
     "name": "stdout",
     "output_type": "stream",
     "text": [
      "\n",
      "[RE] Epoch 32\n",
      "\tMean Delta RE loss = -0.97350\n",
      "\tGradient norm: 3.827704906463623\n",
      "\tElapsed time = 0.005 min\n",
      "[Statepoint 0]\n",
      "\tkT = 2.537 ref_kT = 2.560\n"
     ]
    },
    {
     "name": "stdout",
     "output_type": "stream",
     "text": [
      "[Step Size] Found optimal step size 1.0 with residual 2.293562412261963\n"
     ]
    },
    {
     "name": "stdout",
     "output_type": "stream",
     "text": [
      "\n",
      "[RE] Epoch 33\n",
      "\tMean Delta RE loss = -0.96241\n",
      "\tGradient norm: 8.058612823486328\n",
      "\tElapsed time = 0.005 min\n",
      "[Statepoint 0]\n",
      "\tkT = 2.495 ref_kT = 2.560\n"
     ]
    },
    {
     "name": "stdout",
     "output_type": "stream",
     "text": [
      "[Step Size] Found optimal step size 1.0 with residual 2.2756762504577637\n"
     ]
    },
    {
     "name": "stdout",
     "output_type": "stream",
     "text": [
      "\n",
      "[RE] Epoch 34\n",
      "\tMean Delta RE loss = -0.95570\n",
      "\tGradient norm: 2.4031059741973877\n",
      "\tElapsed time = 0.005 min\n",
      "[Statepoint 0]\n",
      "\tkT = 2.567 ref_kT = 2.560\n"
     ]
    },
    {
     "name": "stdout",
     "output_type": "stream",
     "text": [
      "[Step Size] Found optimal step size 1.0 with residual 2.290210247039795\n"
     ]
    },
    {
     "name": "stdout",
     "output_type": "stream",
     "text": [
      "\n",
      "[RE] Epoch 35\n",
      "\tMean Delta RE loss = -0.90425\n",
      "\tGradient norm: 0.5543835759162903\n",
      "\tElapsed time = 0.005 min\n",
      "[Statepoint 0]\n",
      "\tkT = 2.526 ref_kT = 2.560\n"
     ]
    },
    {
     "name": "stdout",
     "output_type": "stream",
     "text": [
      "[Step Size] Found optimal step size 1.0 with residual 2.3023571968078613\n"
     ]
    },
    {
     "name": "stdout",
     "output_type": "stream",
     "text": [
      "\n",
      "[RE] Epoch 36\n",
      "\tMean Delta RE loss = -0.83900\n",
      "\tGradient norm: 4.060449123382568\n",
      "\tElapsed time = 0.005 min\n",
      "[Statepoint 0]\n",
      "\tkT = 2.493 ref_kT = 2.560\n"
     ]
    },
    {
     "name": "stdout",
     "output_type": "stream",
     "text": [
      "[Step Size] Found optimal step size 1.0 with residual 2.2906670570373535\n"
     ]
    },
    {
     "name": "stdout",
     "output_type": "stream",
     "text": [
      "\n",
      "[RE] Epoch 37\n",
      "\tMean Delta RE loss = -0.83091\n",
      "\tGradient norm: 4.558497905731201\n",
      "\tElapsed time = 0.005 min\n",
      "[Statepoint 0]\n",
      "\tkT = 2.638 ref_kT = 2.560\n"
     ]
    },
    {
     "name": "stdout",
     "output_type": "stream",
     "text": [
      "[Step Size] Found optimal step size 1.0 with residual 2.287458896636963\n"
     ]
    },
    {
     "name": "stdout",
     "output_type": "stream",
     "text": [
      "\n",
      "[RE] Epoch 38\n",
      "\tMean Delta RE loss = -0.87685\n",
      "\tGradient norm: 0.40644362568855286\n",
      "\tElapsed time = 0.005 min\n",
      "[Statepoint 0]\n",
      "\tkT = 2.667 ref_kT = 2.560\n"
     ]
    },
    {
     "name": "stdout",
     "output_type": "stream",
     "text": [
      "[Step Size] Found optimal step size 1.0 with residual 2.298466205596924\n"
     ]
    },
    {
     "name": "stdout",
     "output_type": "stream",
     "text": [
      "\n",
      "[RE] Epoch 39\n",
      "\tMean Delta RE loss = -0.90500\n",
      "\tGradient norm: 0.8309930562973022\n",
      "\tElapsed time = 0.007 min\n",
      "[Statepoint 0]\n",
      "\tkT = 2.586 ref_kT = 2.560\n"
     ]
    },
    {
     "name": "stdout",
     "output_type": "stream",
     "text": [
      "[Step Size] Found optimal step size 1.0 with residual 2.3022170066833496\n"
     ]
    },
    {
     "name": "stdout",
     "output_type": "stream",
     "text": [
      "\n",
      "[RE] Epoch 40\n",
      "\tMean Delta RE loss = -0.90446\n",
      "\tGradient norm: 2.9303343296051025\n",
      "\tElapsed time = 0.006 min\n",
      "[Statepoint 0]\n",
      "\tkT = 2.532 ref_kT = 2.560\n"
     ]
    },
    {
     "name": "stdout",
     "output_type": "stream",
     "text": [
      "[Step Size] Found optimal step size 1.0 with residual 2.2962355613708496\n"
     ]
    },
    {
     "name": "stdout",
     "output_type": "stream",
     "text": [
      "\n",
      "[RE] Epoch 41\n",
      "\tMean Delta RE loss = -0.89379\n",
      "\tGradient norm: 2.2445690631866455\n",
      "\tElapsed time = 0.005 min\n",
      "[Statepoint 0]\n",
      "\tkT = 2.592 ref_kT = 2.560\n"
     ]
    },
    {
     "name": "stdout",
     "output_type": "stream",
     "text": [
      "[Step Size] Found optimal step size 1.0 with residual 2.29335355758667\n"
     ]
    },
    {
     "name": "stdout",
     "output_type": "stream",
     "text": [
      "\n",
      "[RE] Epoch 42\n",
      "\tMean Delta RE loss = -0.87306\n",
      "\tGradient norm: 0.3976753056049347\n",
      "\tElapsed time = 0.005 min\n",
      "[Statepoint 0]\n",
      "\tkT = 2.524 ref_kT = 2.560\n"
     ]
    },
    {
     "name": "stdout",
     "output_type": "stream",
     "text": [
      "[Step Size] Found optimal step size 1.0 with residual 2.2991976737976074\n"
     ]
    },
    {
     "name": "stdout",
     "output_type": "stream",
     "text": [
      "\n",
      "[RE] Epoch 43\n",
      "\tMean Delta RE loss = -0.83553\n",
      "\tGradient norm: 0.4246998429298401\n",
      "\tElapsed time = 0.005 min\n",
      "[Statepoint 0]\n",
      "\tkT = 2.586 ref_kT = 2.560\n"
     ]
    },
    {
     "name": "stdout",
     "output_type": "stream",
     "text": [
      "[Step Size] Found optimal step size 1.0 with residual 2.3025803565979004\n"
     ]
    },
    {
     "name": "stdout",
     "output_type": "stream",
     "text": [
      "\n",
      "[RE] Epoch 44\n",
      "\tMean Delta RE loss = -0.80548\n",
      "\tGradient norm: 1.4895868301391602\n",
      "\tElapsed time = 0.005 min\n",
      "[Statepoint 0]\n",
      "\tkT = 2.517 ref_kT = 2.560\n"
     ]
    },
    {
     "name": "stdout",
     "output_type": "stream",
     "text": [
      "[Step Size] Found optimal step size 1.0 with residual 2.299630641937256\n"
     ]
    },
    {
     "name": "stdout",
     "output_type": "stream",
     "text": [
      "\n",
      "[RE] Epoch 45\n",
      "\tMean Delta RE loss = -0.80298\n",
      "\tGradient norm: 1.8220791816711426\n",
      "\tElapsed time = 0.005 min\n",
      "[Statepoint 0]\n",
      "\tkT = 2.532 ref_kT = 2.560\n"
     ]
    },
    {
     "name": "stdout",
     "output_type": "stream",
     "text": [
      "[Step Size] Found optimal step size 1.0 with residual 2.296996593475342\n"
     ]
    },
    {
     "name": "stdout",
     "output_type": "stream",
     "text": [
      "\n",
      "[RE] Epoch 46\n",
      "\tMean Delta RE loss = -0.83055\n",
      "\tGradient norm: 0.4951845109462738\n",
      "\tElapsed time = 0.005 min\n",
      "[Statepoint 0]\n",
      "\tkT = 2.596 ref_kT = 2.560\n"
     ]
    },
    {
     "name": "stdout",
     "output_type": "stream",
     "text": [
      "[Step Size] Found optimal step size 1.0 with residual 2.299342632293701\n"
     ]
    },
    {
     "name": "stdout",
     "output_type": "stream",
     "text": [
      "\n",
      "[RE] Epoch 47\n",
      "\tMean Delta RE loss = -0.86166\n",
      "\tGradient norm: 0.04056096822023392\n",
      "\tElapsed time = 0.005 min\n",
      "[Statepoint 0]\n",
      "\tkT = 2.623 ref_kT = 2.560\n"
     ]
    },
    {
     "name": "stdout",
     "output_type": "stream",
     "text": [
      "[Step Size] Found optimal step size 1.0 with residual 2.3023533821105957\n"
     ]
    },
    {
     "name": "stdout",
     "output_type": "stream",
     "text": [
      "\n",
      "[RE] Epoch 48\n",
      "\tMean Delta RE loss = -0.87880\n",
      "\tGradient norm: 0.9568777680397034\n",
      "\tElapsed time = 0.005 min\n",
      "[Statepoint 0]\n",
      "\tkT = 2.496 ref_kT = 2.560\n"
     ]
    },
    {
     "name": "stdout",
     "output_type": "stream",
     "text": [
      "[Step Size] Found optimal step size 1.0 with residual 2.301805019378662\n"
     ]
    },
    {
     "name": "stdout",
     "output_type": "stream",
     "text": [
      "\n",
      "[RE] Epoch 49\n",
      "\tMean Delta RE loss = -0.88438\n",
      "\tGradient norm: 1.2937185764312744\n",
      "\tElapsed time = 0.005 min\n",
      "[Statepoint 0]\n",
      "\tkT = 2.543 ref_kT = 2.560\n"
     ]
    },
    {
     "name": "stdout",
     "output_type": "stream",
     "text": [
      "[Step Size] Found optimal step size 1.0 with residual 2.299389362335205\n"
     ]
    },
    {
     "name": "stdout",
     "output_type": "stream",
     "text": [
      "\n",
      "[RE] Epoch 50\n",
      "\tMean Delta RE loss = -0.88313\n",
      "\tGradient norm: 0.809322714805603\n",
      "\tElapsed time = 0.005 min\n",
      "[Statepoint 0]\n",
      "\tkT = 2.498 ref_kT = 2.560\n"
     ]
    },
    {
     "name": "stdout",
     "output_type": "stream",
     "text": [
      "[Step Size] Found optimal step size 1.0 with residual 2.299487590789795\n"
     ]
    },
    {
     "name": "stdout",
     "output_type": "stream",
     "text": [
      "\n",
      "[RE] Epoch 51\n",
      "\tMean Delta RE loss = -0.87240\n",
      "\tGradient norm: 0.013178685680031776\n",
      "\tElapsed time = 0.005 min\n",
      "[Statepoint 0]\n",
      "\tkT = 2.559 ref_kT = 2.560\n"
     ]
    },
    {
     "name": "stdout",
     "output_type": "stream",
     "text": [
      "[Step Size] Found optimal step size 1.0 with residual 2.3017163276672363\n"
     ]
    },
    {
     "name": "stdout",
     "output_type": "stream",
     "text": [
      "\n",
      "[RE] Epoch 52\n",
      "\tMean Delta RE loss = -0.85716\n",
      "\tGradient norm: 0.30010589957237244\n",
      "\tElapsed time = 0.005 min\n",
      "[Statepoint 0]\n",
      "\tkT = 2.558 ref_kT = 2.560\n"
     ]
    },
    {
     "name": "stdout",
     "output_type": "stream",
     "text": [
      "[Step Size] Found optimal step size 1.0 with residual 2.3024067878723145\n"
     ]
    },
    {
     "name": "stdout",
     "output_type": "stream",
     "text": [
      "\n",
      "[RE] Epoch 53\n",
      "\tMean Delta RE loss = -0.84867\n",
      "\tGradient norm: 1.1466858386993408\n",
      "\tElapsed time = 0.005 min\n",
      "[Statepoint 0]\n",
      "\tkT = 2.592 ref_kT = 2.560\n"
     ]
    },
    {
     "name": "stdout",
     "output_type": "stream",
     "text": [
      "[Step Size] Found optimal step size 1.0 with residual 2.3007922172546387\n"
     ]
    },
    {
     "name": "stdout",
     "output_type": "stream",
     "text": [
      "\n",
      "[RE] Epoch 54\n",
      "\tMean Delta RE loss = -0.85951\n",
      "\tGradient norm: 0.804693341255188\n",
      "\tElapsed time = 0.004 min\n",
      "[Statepoint 0]\n",
      "\tkT = 2.625 ref_kT = 2.560\n"
     ]
    },
    {
     "name": "stdout",
     "output_type": "stream",
     "text": [
      "[Step Size] Found optimal step size 1.0 with residual 2.3004393577575684\n"
     ]
    },
    {
     "name": "stdout",
     "output_type": "stream",
     "text": [
      "\n",
      "[RE] Epoch 55\n",
      "\tMean Delta RE loss = -0.88203\n",
      "\tGradient norm: 0.08093190938234329\n",
      "\tElapsed time = 0.004 min\n",
      "[Statepoint 0]\n",
      "\tkT = 2.545 ref_kT = 2.560\n"
     ]
    },
    {
     "name": "stdout",
     "output_type": "stream",
     "text": [
      "[Step Size] Found optimal step size 1.0 with residual 2.301684856414795\n"
     ]
    },
    {
     "name": "stdout",
     "output_type": "stream",
     "text": [
      "\n",
      "[RE] Epoch 56\n",
      "\tMean Delta RE loss = -0.90111\n",
      "\tGradient norm: 0.12642493844032288\n",
      "\tElapsed time = 0.004 min\n",
      "[Statepoint 0]\n",
      "\tkT = 2.541 ref_kT = 2.560\n"
     ]
    },
    {
     "name": "stdout",
     "output_type": "stream",
     "text": [
      "[Step Size] Found optimal step size 1.0 with residual 2.3025612831115723\n"
     ]
    },
    {
     "name": "stdout",
     "output_type": "stream",
     "text": [
      "\n",
      "[RE] Epoch 57\n",
      "\tMean Delta RE loss = -0.91225\n",
      "\tGradient norm: 0.49474823474884033\n",
      "\tElapsed time = 0.004 min\n",
      "[Statepoint 0]\n",
      "\tkT = 2.601 ref_kT = 2.560\n"
     ]
    },
    {
     "name": "stdout",
     "output_type": "stream",
     "text": [
      "[Step Size] Found optimal step size 1.0 with residual 2.3021302223205566\n"
     ]
    },
    {
     "name": "stdout",
     "output_type": "stream",
     "text": [
      "\n",
      "[RE] Epoch 58\n",
      "\tMean Delta RE loss = -0.91611\n",
      "\tGradient norm: 0.5652409791946411\n",
      "\tElapsed time = 0.004 min\n",
      "[Statepoint 0]\n",
      "\tkT = 2.570 ref_kT = 2.560\n"
     ]
    },
    {
     "name": "stdout",
     "output_type": "stream",
     "text": [
      "[Step Size] Found optimal step size 1.0 with residual 2.3015856742858887\n"
     ]
    },
    {
     "name": "stdout",
     "output_type": "stream",
     "text": [
      "\n",
      "[RE] Epoch 59\n",
      "\tMean Delta RE loss = -0.91263\n",
      "\tGradient norm: 0.13772520422935486\n",
      "\tElapsed time = 0.004 min\n",
      "[Statepoint 0]\n",
      "\tkT = 2.623 ref_kT = 2.560\n"
     ]
    },
    {
     "name": "stdout",
     "output_type": "stream",
     "text": [
      "[Step Size] Found optimal step size 1.0 with residual 2.3016066551208496\n"
     ]
    },
    {
     "name": "stdout",
     "output_type": "stream",
     "text": [
      "\n",
      "[RE] Epoch 60\n",
      "\tMean Delta RE loss = -0.90514\n",
      "\tGradient norm: 0.007427164353430271\n",
      "\tElapsed time = 0.004 min\n",
      "[Statepoint 0]\n",
      "\tkT = 2.604 ref_kT = 2.560\n"
     ]
    },
    {
     "name": "stdout",
     "output_type": "stream",
     "text": [
      "[Step Size] Found optimal step size 1.0 with residual 2.302253246307373\n"
     ]
    },
    {
     "name": "stdout",
     "output_type": "stream",
     "text": [
      "\n",
      "[RE] Epoch 61\n",
      "\tMean Delta RE loss = -0.89688\n",
      "\tGradient norm: 0.09003090113401413\n",
      "\tElapsed time = 0.004 min\n",
      "[Statepoint 0]\n",
      "\tkT = 2.523 ref_kT = 2.560\n"
     ]
    },
    {
     "name": "stdout",
     "output_type": "stream",
     "text": [
      "[Step Size] Found optimal step size 1.0 with residual 2.302577495574951\n"
     ]
    },
    {
     "name": "stdout",
     "output_type": "stream",
     "text": [
      "\n",
      "[RE] Epoch 62\n",
      "\tMean Delta RE loss = -0.89212\n",
      "\tGradient norm: 0.32082200050354004\n",
      "\tElapsed time = 0.004 min\n",
      "[Statepoint 0]\n",
      "\tkT = 2.586 ref_kT = 2.560\n"
     ]
    },
    {
     "name": "stdout",
     "output_type": "stream",
     "text": [
      "[Step Size] Found optimal step size 1.0 with residual 2.302323818206787\n"
     ]
    },
    {
     "name": "stdout",
     "output_type": "stream",
     "text": [
      "\n",
      "[RE] Epoch 63\n",
      "\tMean Delta RE loss = -0.89490\n",
      "\tGradient norm: 0.19765697419643402\n",
      "\tElapsed time = 0.004 min\n",
      "[Statepoint 0]\n",
      "\tkT = 2.569 ref_kT = 2.560\n"
     ]
    },
    {
     "name": "stdout",
     "output_type": "stream",
     "text": [
      "[Step Size] Found optimal step size 1.0 with residual 2.302018642425537\n"
     ]
    },
    {
     "name": "stdout",
     "output_type": "stream",
     "text": [
      "\n",
      "[RE] Epoch 64\n",
      "\tMean Delta RE loss = -0.90329\n",
      "\tGradient norm: 0.09963271021842957\n",
      "\tElapsed time = 0.004 min\n",
      "[Statepoint 0]\n",
      "\tkT = 2.600 ref_kT = 2.560\n"
     ]
    },
    {
     "name": "stdout",
     "output_type": "stream",
     "text": [
      "[Step Size] Found optimal step size 1.0 with residual 2.3022475242614746\n"
     ]
    },
    {
     "name": "stdout",
     "output_type": "stream",
     "text": [
      "\n",
      "[RE] Epoch 65\n",
      "\tMean Delta RE loss = -0.91338\n",
      "\tGradient norm: 0.004822018090635538\n",
      "\tElapsed time = 0.004 min\n",
      "[Statepoint 0]\n",
      "\tkT = 2.567 ref_kT = 2.560\n"
     ]
    },
    {
     "name": "stdout",
     "output_type": "stream",
     "text": [
      "[Step Size] Found optimal step size 1.0 with residual 2.3024630546569824\n"
     ]
    },
    {
     "name": "stdout",
     "output_type": "stream",
     "text": [
      "\n",
      "[RE] Epoch 66\n",
      "\tMean Delta RE loss = -0.92058\n",
      "\tGradient norm: 0.03647816926240921\n",
      "\tElapsed time = 0.004 min\n",
      "[Statepoint 0]\n",
      "\tkT = 2.591 ref_kT = 2.560\n"
     ]
    },
    {
     "name": "stdout",
     "output_type": "stream",
     "text": [
      "[Step Size] Found optimal step size 1.0 with residual 2.302581310272217\n"
     ]
    },
    {
     "name": "stdout",
     "output_type": "stream",
     "text": [
      "\n",
      "[RE] Epoch 67\n",
      "\tMean Delta RE loss = -0.92511\n",
      "\tGradient norm: 0.14709219336509705\n",
      "\tElapsed time = 0.004 min\n",
      "[Statepoint 0]\n",
      "\tkT = 2.566 ref_kT = 2.560\n"
     ]
    },
    {
     "name": "stdout",
     "output_type": "stream",
     "text": [
      "[Step Size] Found optimal step size 1.0 with residual 2.302490711212158\n"
     ]
    },
    {
     "name": "stdout",
     "output_type": "stream",
     "text": [
      "\n",
      "[RE] Epoch 68\n",
      "\tMean Delta RE loss = -0.92573\n",
      "\tGradient norm: 0.09084843099117279\n",
      "\tElapsed time = 0.004 min\n",
      "[Statepoint 0]\n",
      "\tkT = 2.587 ref_kT = 2.560\n"
     ]
    },
    {
     "name": "stdout",
     "output_type": "stream",
     "text": [
      "[Step Size] Found optimal step size 1.0 with residual 2.302372455596924\n"
     ]
    },
    {
     "name": "stdout",
     "output_type": "stream",
     "text": [
      "\n",
      "[RE] Epoch 69\n",
      "\tMean Delta RE loss = -0.92304\n",
      "\tGradient norm: 0.041303928941488266\n",
      "\tElapsed time = 0.004 min\n",
      "[Statepoint 0]\n",
      "\tkT = 2.579 ref_kT = 2.560\n"
     ]
    },
    {
     "name": "stdout",
     "output_type": "stream",
     "text": [
      "[Step Size] Found optimal step size 1.0 with residual 2.3024439811706543\n"
     ]
    },
    {
     "name": "stdout",
     "output_type": "stream",
     "text": [
      "\n",
      "[RE] Epoch 70\n",
      "\tMean Delta RE loss = -0.91840\n",
      "\tGradient norm: 0.0020019356161355972\n",
      "\tElapsed time = 0.004 min\n",
      "[Statepoint 0]\n",
      "\tkT = 2.557 ref_kT = 2.560\n"
     ]
    },
    {
     "name": "stdout",
     "output_type": "stream",
     "text": [
      "[Step Size] Found optimal step size 1.0 with residual 2.302537441253662\n"
     ]
    },
    {
     "name": "stdout",
     "output_type": "stream",
     "text": [
      "\n",
      "[RE] Epoch 71\n",
      "\tMean Delta RE loss = -0.91421\n",
      "\tGradient norm: 0.021195000037550926\n",
      "\tElapsed time = 0.004 min\n",
      "[Statepoint 0]\n",
      "\tkT = 2.483 ref_kT = 2.560\n"
     ]
    },
    {
     "name": "stdout",
     "output_type": "stream",
     "text": [
      "[Step Size] Found optimal step size 1.0 with residual 2.3025155067443848\n"
     ]
    },
    {
     "name": "stdout",
     "output_type": "stream",
     "text": [
      "\n",
      "[RE] Epoch 72\n",
      "\tMean Delta RE loss = -0.91022\n",
      "\tGradient norm: 0.29772642254829407\n",
      "\tElapsed time = 0.004 min\n",
      "[Statepoint 0]\n",
      "\tkT = 2.729 ref_kT = 2.560\n"
     ]
    },
    {
     "name": "stdout",
     "output_type": "stream",
     "text": [
      "[Step Size] Found optimal step size 1.0 with residual 2.3024306297302246\n"
     ]
    },
    {
     "name": "stdout",
     "output_type": "stream",
     "text": [
      "\n",
      "[RE] Epoch 73\n",
      "\tMean Delta RE loss = -0.91236\n",
      "\tGradient norm: 0.030812950804829597\n",
      "\tElapsed time = 0.004 min\n",
      "[Statepoint 0]\n",
      "\tkT = 2.591 ref_kT = 2.560\n"
     ]
    },
    {
     "name": "stdout",
     "output_type": "stream",
     "text": [
      "[Step Size] Found optimal step size 1.0 with residual 2.3024563789367676\n"
     ]
    },
    {
     "name": "stdout",
     "output_type": "stream",
     "text": [
      "\n",
      "[RE] Epoch 74\n",
      "\tMean Delta RE loss = -0.91645\n",
      "\tGradient norm: 0.0015621858183294535\n",
      "\tElapsed time = 0.004 min\n",
      "[Statepoint 0]\n",
      "\tkT = 2.580 ref_kT = 2.560\n"
     ]
    },
    {
     "name": "stdout",
     "output_type": "stream",
     "text": [
      "[Step Size] Found optimal step size 1.0 with residual 2.3025574684143066\n"
     ]
    },
    {
     "name": "stdout",
     "output_type": "stream",
     "text": [
      "\n",
      "[RE] Epoch 75\n",
      "\tMean Delta RE loss = -0.91985\n",
      "\tGradient norm: 0.035889048129320145\n",
      "\tElapsed time = 0.004 min\n",
      "[Statepoint 0]\n",
      "\tkT = 2.612 ref_kT = 2.560\n"
     ]
    },
    {
     "name": "stdout",
     "output_type": "stream",
     "text": [
      "[Step Size] Found optimal step size 1.0 with residual 2.302579402923584\n"
     ]
    },
    {
     "name": "stdout",
     "output_type": "stream",
     "text": [
      "\n",
      "[RE] Epoch 76\n",
      "\tMean Delta RE loss = -0.92095\n",
      "\tGradient norm: 0.06691400706768036\n",
      "\tElapsed time = 0.004 min\n",
      "[Statepoint 0]\n",
      "\tkT = 2.494 ref_kT = 2.560\n"
     ]
    },
    {
     "name": "stdout",
     "output_type": "stream",
     "text": [
      "[Step Size] Found optimal step size 1.0 with residual 2.302518367767334\n"
     ]
    },
    {
     "name": "stdout",
     "output_type": "stream",
     "text": [
      "\n",
      "[RE] Epoch 77\n",
      "\tMean Delta RE loss = -0.91909\n",
      "\tGradient norm: 0.07292872667312622\n",
      "\tElapsed time = 0.004 min\n",
      "[Statepoint 0]\n",
      "\tkT = 2.554 ref_kT = 2.560\n"
     ]
    },
    {
     "name": "stdout",
     "output_type": "stream",
     "text": [
      "[Step Size] Found optimal step size 1.0 with residual 2.30253267288208\n"
     ]
    },
    {
     "name": "stdout",
     "output_type": "stream",
     "text": [
      "\n",
      "[RE] Epoch 78\n",
      "\tMean Delta RE loss = -0.91547\n",
      "\tGradient norm: 1.2806281119992491e-05\n",
      "\tElapsed time = 0.004 min\n",
      "[Statepoint 0]\n",
      "\tkT = 2.560 ref_kT = 2.560\n"
     ]
    },
    {
     "name": "stdout",
     "output_type": "stream",
     "text": [
      "[Step Size] Found optimal step size 1.0 with residual 2.302506923675537\n"
     ]
    },
    {
     "name": "stdout",
     "output_type": "stream",
     "text": [
      "\n",
      "[RE] Epoch 79\n",
      "\tMean Delta RE loss = -0.91236\n",
      "\tGradient norm: 0.013716545887291431\n",
      "\tElapsed time = 0.004 min\n",
      "[Statepoint 0]\n",
      "\tkT = 2.541 ref_kT = 2.560\n"
     ]
    },
    {
     "name": "stdout",
     "output_type": "stream",
     "text": [
      "[Step Size] Found optimal step size 1.0 with residual 2.302548885345459\n"
     ]
    },
    {
     "name": "stdout",
     "output_type": "stream",
     "text": [
      "\n",
      "[RE] Epoch 80\n",
      "\tMean Delta RE loss = -0.90838\n",
      "\tGradient norm: 0.0081621203571558\n",
      "\tElapsed time = 0.004 min\n",
      "[Statepoint 0]\n",
      "\tkT = 2.560 ref_kT = 2.560\n"
     ]
    },
    {
     "name": "stdout",
     "output_type": "stream",
     "text": [
      "[Step Size] Found optimal step size 1.0 with residual 2.3025755882263184\n"
     ]
    },
    {
     "name": "stdout",
     "output_type": "stream",
     "text": [
      "\n",
      "[RE] Epoch 81\n",
      "\tMean Delta RE loss = -0.90553\n",
      "\tGradient norm: 0.012603219598531723\n",
      "\tElapsed time = 0.004 min\n",
      "[Statepoint 0]\n",
      "\tkT = 2.547 ref_kT = 2.560\n"
     ]
    },
    {
     "name": "stdout",
     "output_type": "stream",
     "text": [
      "[Step Size] Found optimal step size 1.0 with residual 2.3025736808776855\n"
     ]
    },
    {
     "name": "stdout",
     "output_type": "stream",
     "text": [
      "\n",
      "[RE] Epoch 82\n",
      "\tMean Delta RE loss = -0.90341\n",
      "\tGradient norm: 0.06289057433605194\n",
      "\tElapsed time = 0.004 min\n",
      "[Statepoint 0]\n",
      "\tkT = 2.598 ref_kT = 2.560\n"
     ]
    },
    {
     "name": "stdout",
     "output_type": "stream",
     "text": [
      "[Step Size] Found optimal step size 1.0 with residual 2.3025641441345215\n"
     ]
    },
    {
     "name": "stdout",
     "output_type": "stream",
     "text": [
      "\n",
      "[RE] Epoch 83\n",
      "\tMean Delta RE loss = -0.90366\n",
      "\tGradient norm: 0.00964263640344143\n",
      "\tElapsed time = 0.004 min\n",
      "[Statepoint 0]\n",
      "\tkT = 2.564 ref_kT = 2.560\n"
     ]
    },
    {
     "name": "stdout",
     "output_type": "stream",
     "text": [
      "[Step Size] Found optimal step size 1.0 with residual 2.302525043487549\n"
     ]
    },
    {
     "name": "stdout",
     "output_type": "stream",
     "text": [
      "\n",
      "[RE] Epoch 84\n",
      "\tMean Delta RE loss = -0.90445\n",
      "\tGradient norm: 0.03756815567612648\n",
      "\tElapsed time = 0.005 min\n",
      "[Statepoint 0]\n",
      "\tkT = 2.578 ref_kT = 2.560\n"
     ]
    },
    {
     "name": "stdout",
     "output_type": "stream",
     "text": [
      "[Step Size] Found optimal step size 1.0 with residual 2.3025288581848145\n"
     ]
    },
    {
     "name": "stdout",
     "output_type": "stream",
     "text": [
      "\n",
      "[RE] Epoch 85\n",
      "\tMean Delta RE loss = -0.90597\n",
      "\tGradient norm: 0.0004589617601595819\n",
      "\tElapsed time = 0.004 min\n",
      "[Statepoint 0]\n",
      "\tkT = 2.646 ref_kT = 2.560\n"
     ]
    },
    {
     "name": "stdout",
     "output_type": "stream",
     "text": [
      "[Step Size] Found optimal step size 1.0 with residual 2.3025736808776855\n"
     ]
    },
    {
     "name": "stdout",
     "output_type": "stream",
     "text": [
      "\n",
      "[RE] Epoch 86\n",
      "\tMean Delta RE loss = -0.90727\n",
      "\tGradient norm: 0.02740626037120819\n",
      "\tElapsed time = 0.004 min\n",
      "[Statepoint 0]\n",
      "\tkT = 2.558 ref_kT = 2.560\n"
     ]
    },
    {
     "name": "stdout",
     "output_type": "stream",
     "text": [
      "[Step Size] Found optimal step size 1.0 with residual 2.3025832176208496\n"
     ]
    },
    {
     "name": "stdout",
     "output_type": "stream",
     "text": [
      "\n",
      "[RE] Epoch 87\n",
      "\tMean Delta RE loss = -0.90759\n",
      "\tGradient norm: 0.016031775623559952\n",
      "\tElapsed time = 0.004 min\n",
      "[Statepoint 0]\n",
      "\tkT = 2.657 ref_kT = 2.560\n"
     ]
    },
    {
     "name": "stdout",
     "output_type": "stream",
     "text": [
      "[Step Size] Found optimal step size 1.0 with residual 2.3025736808776855\n"
     ]
    },
    {
     "name": "stdout",
     "output_type": "stream",
     "text": [
      "\n",
      "[RE] Epoch 88\n",
      "\tMean Delta RE loss = -0.90797\n",
      "\tGradient norm: 0.045033056288957596\n",
      "\tElapsed time = 0.004 min\n",
      "[Statepoint 0]\n",
      "\tkT = 2.539 ref_kT = 2.560\n"
     ]
    },
    {
     "name": "stdout",
     "output_type": "stream",
     "text": [
      "[Step Size] Found optimal step size 1.0 with residual 2.3025574684143066\n"
     ]
    },
    {
     "name": "stdout",
     "output_type": "stream",
     "text": [
      "\n",
      "[RE] Epoch 89\n",
      "\tMean Delta RE loss = -0.90695\n",
      "\tGradient norm: 0.015362126752734184\n",
      "\tElapsed time = 0.005 min\n",
      "[Statepoint 0]\n",
      "\tkT = 2.546 ref_kT = 2.560\n"
     ]
    },
    {
     "name": "stdout",
     "output_type": "stream",
     "text": [
      "[Step Size] Found optimal step size 1.0 with residual 2.3025546073913574\n"
     ]
    },
    {
     "name": "stdout",
     "output_type": "stream",
     "text": [
      "\n",
      "[RE] Epoch 90\n",
      "\tMean Delta RE loss = -0.90558\n",
      "\tGradient norm: 0.002629705471917987\n",
      "\tElapsed time = 0.004 min\n",
      "[Statepoint 0]\n",
      "\tkT = 2.509 ref_kT = 2.560\n"
     ]
    },
    {
     "name": "stdout",
     "output_type": "stream",
     "text": [
      "[Step Size] Found optimal step size 1.0 with residual 2.3025660514831543\n"
     ]
    },
    {
     "name": "stdout",
     "output_type": "stream",
     "text": [
      "\n",
      "[RE] Epoch 91\n",
      "\tMean Delta RE loss = -0.90397\n",
      "\tGradient norm: 0.0008668584050610662\n",
      "\tElapsed time = 0.004 min\n",
      "[Statepoint 0]\n",
      "\tkT = 2.559 ref_kT = 2.560\n"
     ]
    },
    {
     "name": "stdout",
     "output_type": "stream",
     "text": [
      "[Step Size] Found optimal step size 1.0 with residual 2.3025689125061035\n"
     ]
    },
    {
     "name": "stdout",
     "output_type": "stream",
     "text": [
      "\n",
      "[RE] Epoch 92\n",
      "\tMean Delta RE loss = -0.90250\n",
      "\tGradient norm: 0.00019140679796691984\n",
      "\tElapsed time = 0.004 min\n",
      "[Statepoint 0]\n",
      "\tkT = 2.535 ref_kT = 2.560\n"
     ]
    },
    {
     "name": "stdout",
     "output_type": "stream",
     "text": [
      "[Step Size] Found optimal step size 1.0 with residual 2.3025851249694824\n"
     ]
    },
    {
     "name": "stdout",
     "output_type": "stream",
     "text": [
      "\n",
      "[RE] Epoch 93\n",
      "\tMean Delta RE loss = -0.90089\n",
      "\tGradient norm: 0.04572681710124016\n",
      "\tElapsed time = 0.004 min\n",
      "[Statepoint 0]\n",
      "\tkT = 2.576 ref_kT = 2.560\n"
     ]
    },
    {
     "name": "stdout",
     "output_type": "stream",
     "text": [
      "[Step Size] Found optimal step size 1.0 with residual 2.302565097808838\n"
     ]
    },
    {
     "name": "stdout",
     "output_type": "stream",
     "text": [
      "\n",
      "[RE] Epoch 94\n",
      "\tMean Delta RE loss = -0.90085\n",
      "\tGradient norm: 0.07125427573919296\n",
      "\tElapsed time = 0.004 min\n",
      "[Statepoint 0]\n",
      "\tkT = 2.626 ref_kT = 2.560\n"
     ]
    },
    {
     "name": "stdout",
     "output_type": "stream",
     "text": [
      "[Step Size] Found optimal step size 1.0 with residual 2.3025641441345215\n"
     ]
    },
    {
     "name": "stdout",
     "output_type": "stream",
     "text": [
      "\n",
      "[RE] Epoch 95\n",
      "\tMean Delta RE loss = -0.90220\n",
      "\tGradient norm: 0.00211071758531034\n",
      "\tElapsed time = 0.004 min\n",
      "[Statepoint 0]\n",
      "\tkT = 2.532 ref_kT = 2.560\n"
     ]
    },
    {
     "name": "stdout",
     "output_type": "stream",
     "text": [
      "[Step Size] Found optimal step size 1.0 with residual 2.302537441253662\n"
     ]
    },
    {
     "name": "stdout",
     "output_type": "stream",
     "text": [
      "\n",
      "[RE] Epoch 96\n",
      "\tMean Delta RE loss = -0.90329\n",
      "\tGradient norm: 0.0236463975161314\n",
      "\tElapsed time = 0.004 min\n",
      "[Statepoint 0]\n",
      "\tkT = 2.641 ref_kT = 2.560\n"
     ]
    },
    {
     "name": "stdout",
     "output_type": "stream",
     "text": [
      "[Step Size] Found optimal step size 1.0 with residual 2.3025641441345215\n"
     ]
    },
    {
     "name": "stdout",
     "output_type": "stream",
     "text": [
      "\n",
      "[RE] Epoch 97\n",
      "\tMean Delta RE loss = -0.90550\n",
      "\tGradient norm: 0.007483238819986582\n",
      "\tElapsed time = 0.004 min\n",
      "[Statepoint 0]\n",
      "\tkT = 2.488 ref_kT = 2.560\n"
     ]
    },
    {
     "name": "stdout",
     "output_type": "stream",
     "text": [
      "[Step Size] Found optimal step size 1.0 with residual 2.3025765419006348\n"
     ]
    },
    {
     "name": "stdout",
     "output_type": "stream",
     "text": [
      "\n",
      "[RE] Epoch 98\n",
      "\tMean Delta RE loss = -0.90696\n",
      "\tGradient norm: 0.0036234266590327024\n",
      "\tElapsed time = 0.004 min\n",
      "[Statepoint 0]\n",
      "\tkT = 2.559 ref_kT = 2.560\n"
     ]
    },
    {
     "name": "stdout",
     "output_type": "stream",
     "text": [
      "[Step Size] Found optimal step size 1.0 with residual 2.302581310272217\n"
     ]
    },
    {
     "name": "stdout",
     "output_type": "stream",
     "text": [
      "\n",
      "[RE] Epoch 99\n",
      "\tMean Delta RE loss = -0.90760\n",
      "\tGradient norm: 0.07393365353345871\n",
      "\tElapsed time = 0.004 min\n",
      "[Statepoint 0]\n",
      "\tkT = 2.547 ref_kT = 2.560\n"
     ]
    }
   ],
   "source": [
    "relative_entropy.train(epochs)"
   ]
  },
  {
   "cell_type": "markdown",
   "id": "4720a9ad",
   "metadata": {},
   "source": [
    "## Results"
   ]
  },
  {
   "cell_type": "code",
   "execution_count": 11,
   "id": "dc351158",
   "metadata": {
    "execution": {
     "iopub.execute_input": "2024-08-20T16:46:32.467277Z",
     "iopub.status.busy": "2024-08-20T16:46:32.467002Z",
     "iopub.status.idle": "2024-08-20T16:46:32.732134Z",
     "shell.execute_reply": "2024-08-20T16:46:32.731539Z"
    }
   },
   "outputs": [
    {
     "data": {
      "text/plain": [
       "Text(0, 0.5, 'Gradient Norm')"
      ]
     },
     "execution_count": 11,
     "metadata": {},
     "output_type": "execute_result"
    },
    {
     "data": {
      "image/png": "[encoded data removed]",
      "text/plain": [
       "<Figure size 640x480 with 1 Axes>"
      ]
     },
     "metadata": {},
     "output_type": "display_data"
    },
    {
     "data": {
      "image/png": "[encoded data removed]",
      "text/plain": [
       "<Figure size 640x480 with 1 Axes>"
      ]
     },
     "metadata": {},
     "output_type": "display_data"
    }
   ],
   "source": [
    "plt.figure()\n",
    "plt.plot(relative_entropy.delta_re[0])\n",
    "plt.xticks(ticks=range(0, epochs + 1, 25))\n",
    "plt.xlabel(\"Epoch\")\n",
    "plt.ylabel(\"Loss\")\n",
    "\n",
    "plt.figure()\n",
    "plt.plot(relative_entropy.gradient_norm_history)\n",
    "plt.xticks(ticks=range(0, epochs + 1, 25))\n",
    "plt.xlabel(\"Epoch\")\n",
    "plt.ylabel(\"Gradient Norm\")"
   ]
  },
  {
   "cell_type": "markdown",
   "id": "9c8ebf6f",
   "metadata": {},
   "source": [
    "Finally, we compare the values obtained from a Gaussian fit to those obtained from relative entropy minimization."
   ]
  },
  {
   "cell_type": "code",
   "execution_count": 12,
   "id": "c5dd6a1b",
   "metadata": {
    "execution": {
     "iopub.execute_input": "2024-08-20T16:46:32.735017Z",
     "iopub.status.busy": "2024-08-20T16:46:32.734783Z",
     "iopub.status.idle": "2024-08-20T16:46:32.787789Z",
     "shell.execute_reply": "2024-08-20T16:46:32.787164Z"
    }
   },
   "outputs": [
    {
     "name": "stdout",
     "output_type": "stream",
     "text": [
      "RE min. predicted 0.152 nm and 9485.1 kJ/mol/nm^2\n",
      "Gaussian fit predicted 0.156 nm and 9693.3 kJ/mol/nm^2\n",
      "Absolute error in b0 is 0.004 nm and in kb is 208.2 kJ/mol/nm^2\n"
     ]
    }
   ],
   "source": [
    "pred_parameters = tree_util.tree_map(jnp.exp, relative_entropy.params)\n",
    "\n",
    "b0_err = jnp.abs(b0 - pred_parameters[\"log_b0\"])\n",
    "kb_err = jnp.abs(kb - pred_parameters[\"log_kb\"])\n",
    "\n",
    "print(f\"RE min. predicted {pred_parameters['log_b0']:.3f} nm and {pred_parameters['log_kb']:.1f} kJ/mol/nm^2\")\n",
    "print(f\"Gaussian fit predicted {b0:.3f} nm and {kb:.1f} kJ/mol/nm^2\")\n",
    "print(f\"Absolute error in b0 is {b0_err:.3f} nm and in kb is {kb_err:.1f} kJ/mol/nm^2\")"
   ]
  },
  {
   "cell_type": "markdown",
   "id": "068e7243",
   "metadata": {},
   "source": [
    "## Further Reading\n",
    "\n",
    "### Examples\n",
    "\n",
    "- [Alanine Dipeptide in Implicit Water](../examples/CG_alanine_dipeptide)\n",
    "\n",
    "### Publications\n",
    "\n",
    "1. Stephan Thaler, Maximilian Stupp, Julija Zavadlav; *Deep coarse-grained potentials via relative entropy minimization*. J. Chem. Phys. 28 December 2022; 157 (24): 244103. <https://doi.org/10.1063/5.0124538>\n",
    "\n",
    "## References\n",
    "\n",
    "[^Shell2008]: Shell, M. S. The Relative Entropy Is Fundamental to Multiscale and Inverse Thermodynamic Problems. _J. Chem. Phys._ **2008**, _129_ (14), 144108. [https://doi.org/10.1063/1.2992060](https://doi.org/10.1063/1.2992060).\n",
    "[^Carmichael2012]: Carmichael, S. P.; Shell, M. S. A New Multiscale Algorithm and Its Application to Coarse-Grained Peptide Models for Self-Assembly. _J. Phys. Chem. B_ **2012**, _116_ (29), 8383–8393. [https://doi.org/10.1021/jp2114994](https://doi.org/10.1021/jp2114994).\n",
    "[^Noid2008]: Noid, W. G.; Chu, J.-W.; Ayton, G. S.; Krishna, V.; Izvekov, S.; Voth, G. A.; Das, A.; Andersen, H. C. The Multiscale Coarse-Graining Method. I. A Rigorous Bridge between Atomistic and Coarse-Grained Models. _J Chem Phys_ **2008**, _128_ (24), 244114. [https://doi.org/10.1063/1.2938860](https://doi.org/10.1063/1.2938860)."
   ]
  }
 ],
 "metadata": {
  "jupytext": {
   "main_language": "python"
  },
  "kernelspec": {
   "display_name": "Python 3 (ipykernel)",
   "language": "python",
   "name": "python3"
  },
  "language_info": {
   "codemirror_mode": {
    "name": "ipython",
    "version": 3
   },
   "file_extension": ".py",
   "mimetype": "text/x-python",
   "name": "python",
   "nbconvert_exporter": "python",
   "pygments_lexer": "ipython3",
   "version": "3.10.14"
  }
 },
 "nbformat": 4,
 "nbformat_minor": 5
}
