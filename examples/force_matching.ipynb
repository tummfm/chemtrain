{
 "cells": [
  {
   "cell_type": "code",
   "execution_count": 1,
   "id": "c7584e9f",
   "metadata": {
    "execution": {
     "iopub.execute_input": "2024-08-20T17:48:34.204648Z",
     "iopub.status.busy": "2024-08-20T17:48:34.203389Z",
     "iopub.status.idle": "2024-08-20T17:48:40.283978Z",
     "shell.execute_reply": "2024-08-20T17:48:40.283070Z"
    },
    "tags": [
     "hide-cell"
    ]
   },
   "outputs": [],
   "source": [
    "import os\n",
    "from pathlib import Path\n",
    "\n",
    "import jax\n",
    "import jax.numpy as jnp\n",
    "from jax import tree_util\n",
    "\n",
    "import jax_md_mod\n",
    "from jax_md import space, energy, partition\n",
    "\n",
    "import optax\n",
    "\n",
    "import matplotlib.pyplot as plt\n",
    "\n",
    "from chemtrain.data import preprocessing\n",
    "from chemtrain.trainers import ForceMatching\n",
    "\n",
    "base_path = Path(os.environ.get(\"DATA_PATH\", \"./data\"))"
   ]
  },
  {
   "cell_type": "markdown",
   "id": "a96faebf",
   "metadata": {},
   "source": [
    "# Force Matching\n",
    "\n",
    "\n",
    "\n",
    "Force matching is a bottom-up method to derive coarse-grained potentials\n",
    "$U_\\theta$ from atomistic reference data.\n",
    "In a variational formulation, the approach learns a set of parameters $\\theta$\n",
    "by optimizing the error $\\chi^2$ of predicted coarse forces\n",
    "$\\mathbf F_I^\\theta(\\mathbf R)$ on the coarse-grained sites\n",
    "$\\mathbf R = M(\\mathbf r)$ [^Noid2008]\n",
    "\n",
    "```{math}\n",
    "\\chi^2 = \\frac{1}{3N}\\left\\langle \\sum_{I=1}^N \\left| \\mathbf{\\hat{F}}_I^\\text{AT} - \\mathbf{F}_I^\\theta(\\mathbf{R})\\right|^2 \\right\\rangle_\\text{AT}.\n",
    "```\n",
    "\n",
    "## Load Data\n",
    "\n",
    "In this example, we use reference data from an all-atomistic simulation of\n",
    "ethane. We obtained this data in the example\n",
    "[Prior Simulation](./prior_simulation.md).\n",
    "\n",
    "```{image} ../_static/ethane.png\n",
    ":align: center\n",
    ":alt: Ethane\n",
    "```\n",
    "\n",
    "<br>"
   ]
  },
  {
   "cell_type": "code",
   "execution_count": 2,
   "id": "64db49c2",
   "metadata": {
    "execution": {
     "iopub.execute_input": "2024-08-20T17:48:40.287151Z",
     "iopub.status.busy": "2024-08-20T17:48:40.286834Z",
     "iopub.status.idle": "2024-08-20T17:48:40.414424Z",
     "shell.execute_reply": "2024-08-20T17:48:40.413317Z"
    }
   },
   "outputs": [],
   "source": [
    "train_ratio = 0.5\n",
    "\n",
    "box = jnp.asarray([1.0, 1.0, 1.0])\n",
    "\n",
    "all_forces = preprocessing.get_dataset(base_path / \"forces_ethane.npy\")\n",
    "all_positions = preprocessing.get_dataset(base_path / \"positions_ethane.npy\")"
   ]
  },
  {
   "cell_type": "markdown",
   "id": "dda03013",
   "metadata": {},
   "source": [
    "## Compute Mapping\n",
    "\n",
    "The reference data contains only fine-grained forces $\\mathbf f_i$ and positions\n",
    "$\\mathbf r_i$.\n",
    "Thus, we must define a mapping $M$ that derives the\n",
    "positions of the coarse-grained sites $\\mathcal I_I$ and the forces acting on\n",
    "them [^Noid2008]\n",
    "\n",
    "```{math}\n",
    "\\mathbf R_I = \\sum_{i \\in \\mathcal I_I} c_{Ii} \\mathbf r_i.\n",
    "```\n",
    "\n",
    "We select the two carbon atoms $C_1$ and $C_2$ as locations of the\n",
    "coarse-grained sites $\\mathcal I_1$ and $\\mathcal I_2$ and neglect the hydrogen\n",
    "atoms.\n",
    "We then compute the effective coarse-grained forces from the atomistic forces\n",
    "via the corresponding linear mapping [^Noid2008]\n",
    "\n",
    "```{math}\n",
    "\\mathbf{F}_I = \\sum_{i \\in \\mathcal I_I} \\frac{d_{Ii}}{c_{Ii}} \\mathbf f_i.\n",
    "```"
   ]
  },
  {
   "cell_type": "code",
   "execution_count": 3,
   "id": "80b854c5",
   "metadata": {
    "execution": {
     "iopub.execute_input": "2024-08-20T17:48:40.419005Z",
     "iopub.status.busy": "2024-08-20T17:48:40.418683Z",
     "iopub.status.idle": "2024-08-20T17:48:41.121949Z",
     "shell.execute_reply": "2024-08-20T17:48:41.120770Z"
    }
   },
   "outputs": [],
   "source": [
    "# Center of Mass (COM) mapping\n",
    "displacement_fn, shift_fn = space.periodic_general(box, fractional_coordinates=True)\n",
    "\n",
    "# Scale the position data into fractional coordinates\n",
    "position_dataset = preprocessing.scale_dataset_fractional(all_positions, box)\n",
    "\n",
    "masses = jnp.asarray([15.035, 1.011, 1.011, 1.011])\n",
    "\n",
    "weights = jnp.asarray([\n",
    "    [1, 0.0000, 0, 0, 0, 0.000, 0.000, 0.000],\n",
    "    [0.0000, 1, 0.000, 0.000, 0.000, 0, 0, 0]\n",
    "])\n",
    "\n",
    "position_dataset, force_dataset = preprocessing.map_dataset(\n",
    "    position_dataset, displacement_fn, shift_fn, weights, weights, all_forces \n",
    ")"
   ]
  },
  {
   "cell_type": "markdown",
   "id": "80a3651c",
   "metadata": {},
   "source": [
    "## Setup Model\n",
    "\n",
    "As a coarse-grained potential model, we choose a simple spring bond\n",
    "\n",
    "```{math}\n",
    "    U(\\mathbf R) = \\frac{1}{2} k_B (|\\mathbf R_1 - \\mathbf R_2| - b_0)^2.\n",
    "```\n",
    "\n",
    "To ensure that the model parameters remain positive during optimization,\n",
    "we transform them into a constraint space\n",
    "$\\theta_1 = \\log b_0,\\ \\theta_2= \\log k_B$."
   ]
  },
  {
   "cell_type": "code",
   "execution_count": 4,
   "id": "edda9fe0",
   "metadata": {
    "execution": {
     "iopub.execute_input": "2024-08-20T17:48:41.125292Z",
     "iopub.status.busy": "2024-08-20T17:48:41.125044Z",
     "iopub.status.idle": "2024-08-20T17:48:43.299572Z",
     "shell.execute_reply": "2024-08-20T17:48:43.298969Z"
    }
   },
   "outputs": [
    {
     "name": "stderr",
     "output_type": "stream",
     "text": [
      "/Users/paul/miniconda3/envs/chemtrain/lib/python3.10/site-packages/jax/_src/numpy/reductions.py:221: UserWarning: Explicitly requested dtype <class 'jax.numpy.float64'> requested in sum is not available, and will be truncated to dtype float32. To enable more dtypes, set the jax_enable_x64 configuration option or the JAX_ENABLE_X64 shell environment variable. See https://github.com/google/jax#current-gotchas for more.\n",
      "  return _reduction(a, \"sum\", np.sum, lax.add, 0, preproc=_cast_to_numeric,\n"
     ]
    },
    {
     "name": "stdout",
     "output_type": "stream",
     "text": [
      "Energy with initial params is 0.9190233945846558\n"
     ]
    },
    {
     "name": "stdout",
     "output_type": "stream",
     "text": [
      "Forces with initial params are\n",
      "[[-10.736445 -90.864784 -28.61029 ]\n",
      " [ 10.736445  90.864784  28.61029 ]]\n"
     ]
    },
    {
     "name": "stdout",
     "output_type": "stream",
     "text": [
      "Parameter gradients on initial sample are\n",
      "{'log_b0': Array(246463.5, dtype=float32, weak_type=True), 'log_kb': Array(-42958.914, dtype=float32, weak_type=True)}\n"
     ]
    }
   ],
   "source": [
    "r_init = position_dataset[0, ...]\n",
    "\n",
    "displacement_fn, shift_fn = space.periodic_general(box, fractional_coordinates=True)\n",
    "neighbor_fn = partition.neighbor_list(\n",
    "    displacement_fn, box, 1.0, fractional_coordinates=True, disable_cell_list=True)\n",
    "\n",
    "nbrs_init = neighbor_fn.allocate(r_init)\n",
    "\n",
    "init_params = {\n",
    "    \"log_b0\": jnp.log(0.11),\n",
    "    \"log_kb\": jnp.log(5000.0)\n",
    "}\n",
    "\n",
    "def energy_fn_template(energy_params):\n",
    "    harmonic_energy_fn = energy.simple_spring_bond(\n",
    "        displacement_fn, bond=jnp.asarray([[0, 1]]),\n",
    "        length=jnp.exp(energy_params[\"log_b0\"]),\n",
    "        epsilon=jnp.exp(energy_params[\"log_kb\"]),\n",
    "        alpha=2.0\n",
    "    )\n",
    "    \n",
    "    return harmonic_energy_fn    \n",
    "\n",
    "def force_fn_template(energy_params):\n",
    "    neg_energy_fn = lambda r, **kwargs: -energy_fn_template(energy_params)(r, **kwargs)\n",
    "    return jax.grad(neg_energy_fn, argnums=0)\n",
    "\n",
    "@jax.value_and_grad\n",
    "def test_loss_fn(params, r, f):\n",
    "    return jnp.mean(jnp.sum((f - force_fn_template(params)(r, neighbor=nbrs_init)) ** 2, axis=-1))\n",
    "\n",
    "sample_idx = 0\n",
    "\n",
    "print(f\"Energy with initial params is {energy_fn_template(init_params)(position_dataset[sample_idx, ...], neighbor=nbrs_init)}\")\n",
    "print(f\"Forces with initial params are\\n{force_fn_template(init_params)(position_dataset[sample_idx, ...], neighbor=nbrs_init)}\")\n",
    "print(f\"Parameter gradients on initial sample are\\n{test_loss_fn(init_params, position_dataset[sample_idx, ...], force_dataset[sample_idx, ...])[1]}\")"
   ]
  },
  {
   "cell_type": "markdown",
   "id": "a03cbf0d",
   "metadata": {},
   "source": [
    "## Analytical Solution\n",
    "\n",
    "As our model relies only on the magnitude of the displacement between $C_1$ and $C_2$,\n",
    "we compute this distance and plot it."
   ]
  },
  {
   "cell_type": "code",
   "execution_count": 5,
   "id": "60c0ae3b",
   "metadata": {
    "execution": {
     "iopub.execute_input": "2024-08-20T17:48:43.302740Z",
     "iopub.status.busy": "2024-08-20T17:48:43.302496Z",
     "iopub.status.idle": "2024-08-20T17:48:44.181261Z",
     "shell.execute_reply": "2024-08-20T17:48:44.180368Z"
    }
   },
   "outputs": [
    {
     "data": {
      "text/plain": [
       "Text(0, 0.5, 'Count')"
      ]
     },
     "execution_count": 5,
     "metadata": {},
     "output_type": "execute_result"
    },
    {
     "data": {
      "image/png": "[encoded data removed]",
      "text/plain": [
       "<Figure size 640x480 with 1 Axes>"
      ]
     },
     "metadata": {},
     "output_type": "display_data"
    }
   ],
   "source": [
    "disp = jax.vmap(displacement_fn)(position_dataset[:, 0, :], position_dataset[:, 1, :])\n",
    "dist_CC = jnp.sqrt(jnp.sum(disp ** 2, axis=-1))\n",
    "\n",
    "plt.figure()\n",
    "plt.hist(dist_CC, bins=100)\n",
    "plt.xlabel(\"Distance C_1 - C_2 [nm]\")\n",
    "plt.ylabel(\"Count\")"
   ]
  },
  {
   "cell_type": "markdown",
   "id": "a6268d5c",
   "metadata": {},
   "source": [
    "Indeed, the distance between the two carbon atoms is approximately\n",
    "Gaussian distributed.\n",
    "Hence, the choice of a harmonic potential model is reasonable.\n",
    "\n",
    "However, we want to check whether our force data supports this hypothesis.\n",
    "Therefore, we project the forces onto the displacement vector between the two\n",
    "carbon atoms."
   ]
  },
  {
   "cell_type": "code",
   "execution_count": 6,
   "id": "9f38e47d",
   "metadata": {
    "execution": {
     "iopub.execute_input": "2024-08-20T17:48:44.184672Z",
     "iopub.status.busy": "2024-08-20T17:48:44.184429Z",
     "iopub.status.idle": "2024-08-20T17:48:44.460816Z",
     "shell.execute_reply": "2024-08-20T17:48:44.459950Z"
    }
   },
   "outputs": [
    {
     "data": {
      "text/plain": [
       "Text(0, 0.5, 'Projected Force')"
      ]
     },
     "execution_count": 6,
     "metadata": {},
     "output_type": "execute_result"
    },
    {
     "data": {
      "image/png": "[encoded data removed]",
      "text/plain": [
       "<Figure size 640x480 with 1 Axes>"
      ]
     },
     "metadata": {},
     "output_type": "display_data"
    }
   ],
   "source": [
    "disp_dir = disp / dist_CC[:, None]\n",
    "force_proj = jnp.einsum('ijk, i...k->ij', force_dataset, disp_dir)\n",
    "\n",
    "plt.figure()\n",
    "plt.scatter(dist_CC, force_proj[:, 0], color=\"r\", s=1)\n",
    "plt.scatter(dist_CC, force_proj[:, 1], color=\"b\", s=1)\n",
    "plt.xlabel(\"Distance C_1 - C_2 [nm]\")\n",
    "plt.ylabel(\"Projected Force\")"
   ]
  },
  {
   "cell_type": "markdown",
   "id": "56ed01da",
   "metadata": {},
   "source": [
    "We see that also the force reference data is quite noisy, but still correlates\n",
    "with the distance between the coarse-grained sites.\n",
    "\n",
    "```{math}\n",
    "\n",
    "\\mathbf F_I = (-1)^I k_B (|\\mathbf{R}_1 - \\mathbf{R}_2| - b_0) \\frac{\\mathbf{R}_1 - \\mathbf{R}_2}{|\\mathbf{R}_1 - \\mathbf{R}_2|}.\n",
    "```\n",
    "\n",
    "Since this relationship is linear, we might estimate the parameters of the model\n",
    "via a linear regression fit."
   ]
  },
  {
   "cell_type": "code",
   "execution_count": 7,
   "id": "2aed89f6",
   "metadata": {
    "execution": {
     "iopub.execute_input": "2024-08-20T17:48:44.464320Z",
     "iopub.status.busy": "2024-08-20T17:48:44.464068Z",
     "iopub.status.idle": "2024-08-20T17:48:44.718812Z",
     "shell.execute_reply": "2024-08-20T17:48:44.718065Z"
    }
   },
   "outputs": [
    {
     "name": "stdout",
     "output_type": "stream",
     "text": [
      "Estimated potential parameters are 9659.2 kJ/mol/nm^2 and 0.152 nm\n"
     ]
    }
   ],
   "source": [
    "# Least squares solution\n",
    "lhs = jnp.stack((dist_CC, jnp.ones_like(dist_CC)), axis=-1)\n",
    "rhs = -force_proj[:, (0,)]\n",
    "\n",
    "kb, c = jnp.linalg.lstsq(lhs, rhs, rcond=None)[0]\n",
    "b0 = -c / kb\n",
    "\n",
    "print(f\"Estimated potential parameters are {kb[0] :.1f} kJ/mol/nm^2 and {b0[0] :.3f} nm\")"
   ]
  },
  {
   "cell_type": "markdown",
   "id": "6820f3a4",
   "metadata": {},
   "source": [
    "## Setup Optimizer"
   ]
  },
  {
   "cell_type": "code",
   "execution_count": 8,
   "id": "df5b40a6",
   "metadata": {
    "execution": {
     "iopub.execute_input": "2024-08-20T17:48:44.722127Z",
     "iopub.status.busy": "2024-08-20T17:48:44.721883Z",
     "iopub.status.idle": "2024-08-20T17:48:44.726127Z",
     "shell.execute_reply": "2024-08-20T17:48:44.725357Z"
    }
   },
   "outputs": [],
   "source": [
    "subsample = 25\n",
    "batch_per_device = 10\n",
    "epochs = 20\n",
    "initial_lr = 0.02\n",
    "lr_decay = 0.05\n",
    "\n",
    "lrd = int(position_dataset.shape[0] / subsample / batch_per_device * epochs)\n",
    "lr_schedule = optax.exponential_decay(initial_lr, lrd, lr_decay)\n",
    "optimizer = optax.chain(\n",
    "    optax.scale_by_adam(0.9, 0.95),\n",
    "    optax.scale_by_schedule(lr_schedule),\n",
    "    # Flips the sign of the update for gradient descend\n",
    "    optax.scale_by_learning_rate(1.0),\n",
    ")"
   ]
  },
  {
   "cell_type": "markdown",
   "id": "e37b140f",
   "metadata": {},
   "source": [
    "## Setup Force Matching"
   ]
  },
  {
   "cell_type": "code",
   "execution_count": 9,
   "id": "b96787c2",
   "metadata": {
    "execution": {
     "iopub.execute_input": "2024-08-20T17:48:44.729040Z",
     "iopub.status.busy": "2024-08-20T17:48:44.728822Z",
     "iopub.status.idle": "2024-08-20T17:48:44.915107Z",
     "shell.execute_reply": "2024-08-20T17:48:44.914253Z"
    }
   },
   "outputs": [],
   "source": [
    "force_matching = ForceMatching(\n",
    "    init_params=init_params, energy_fn_template=energy_fn_template,\n",
    "    nbrs_init=nbrs_init, optimizer=optimizer, batch_per_device=batch_per_device,\n",
    ")\n",
    "\n",
    "# We can provide numpy arrays to initialize the datasets for training,\n",
    "# validation, and testing in a single step\n",
    "force_matching.set_datasets({\n",
    "    \"F\": force_dataset[::subsample, :, :],\n",
    "    \"R\": position_dataset[::subsample, :, :],\n",
    "}, train_ratio=train_ratio)\n"
   ]
  },
  {
   "cell_type": "code",
   "execution_count": 10,
   "id": "a6f600af",
   "metadata": {
    "execution": {
     "iopub.execute_input": "2024-08-20T17:48:44.918238Z",
     "iopub.status.busy": "2024-08-20T17:48:44.917988Z",
     "iopub.status.idle": "2024-08-20T17:48:48.065879Z",
     "shell.execute_reply": "2024-08-20T17:48:48.065261Z"
    },
    "tags": [
     "hide-output"
    ]
   },
   "outputs": [
    {
     "name": "stdout",
     "output_type": "stream",
     "text": [
      "[Epoch 0]:\n",
      "\tAverage train loss: 275324.87934\n",
      "\tAverage val loss: 236598.9375\n",
      "\tGradient norm: 6439788544.0\n",
      "\tElapsed time = 0.031 min\n",
      "\tPer-target losses:\n",
      "\t\tF | train loss: 275324.87934027775 | val loss: 236598.9375\n",
      "\n",
      "[Epoch 1]:\n",
      "\tAverage train loss: 273037.12413\n",
      "\tAverage val loss: 237960.953125\n",
      "\tGradient norm: 5256895488.0\n",
      "\tElapsed time = 0.001 min\n",
      "\tPer-target losses:\n",
      "\t\tF | train loss: 273037.12413194444 | val loss: 237960.953125\n",
      "\n",
      "[Epoch 2]:\n",
      "\tAverage train loss: 272265.79167\n",
      "\tAverage val loss: 236449.421875\n",
      "\tGradient norm: 4731447808.0\n",
      "\tElapsed time = 0.001 min\n",
      "\tPer-target losses:\n",
      "\t\tF | train loss: 272265.7916666667 | val loss: 236449.421875\n",
      "\n",
      "[Epoch 3]:\n",
      "\tAverage train loss: 271902.76562\n",
      "\tAverage val loss: 236506.40625\n",
      "\tGradient norm: 156474592.0\n",
      "\tElapsed time = 0.001 min\n",
      "\tPer-target losses:\n",
      "\t\tF | train loss: 271902.765625 | val loss: 236506.40625\n",
      "\n"
     ]
    },
    {
     "name": "stdout",
     "output_type": "stream",
     "text": [
      "[Epoch 4]:\n",
      "\tAverage train loss: 271636.87674\n",
      "\tAverage val loss: 237217.1875\n",
      "\tGradient norm: 5472421888.0\n",
      "\tElapsed time = 0.001 min\n",
      "\tPer-target losses:\n",
      "\t\tF | train loss: 271636.8767361111 | val loss: 237217.1875\n",
      "\n",
      "[Epoch 5]:\n",
      "\tAverage train loss: 271395.45399\n",
      "\tAverage val loss: 236955.109375\n",
      "\tGradient norm: 561978176.0\n",
      "\tElapsed time = 0.001 min\n",
      "\tPer-target losses:\n",
      "\t\tF | train loss: 271395.45399305556 | val loss: 236955.109375\n",
      "\n",
      "[Epoch 6]:\n",
      "\tAverage train loss: 271170.84983\n",
      "\tAverage val loss: 237614.59375\n",
      "\tGradient norm: 3819492096.0\n",
      "\tElapsed time = 0.001 min\n",
      "\tPer-target losses:\n",
      "\t\tF | train loss: 271170.8498263889 | val loss: 237614.59375\n",
      "\n",
      "[Epoch 7]:\n",
      "\tAverage train loss: 271153.67274\n",
      "\tAverage val loss: 237014.125\n",
      "\tGradient norm: 26939443200.0\n",
      "\tElapsed time = 0.001 min\n",
      "\tPer-target losses:\n",
      "\t\tF | train loss: 271153.67274305556 | val loss: 237014.125\n",
      "\n"
     ]
    },
    {
     "name": "stdout",
     "output_type": "stream",
     "text": [
      "[Epoch 8]:\n",
      "\tAverage train loss: 270810.23264\n",
      "\tAverage val loss: 237909.078125\n",
      "\tGradient norm: 1554359680.0\n",
      "\tElapsed time = 0.001 min\n",
      "\tPer-target losses:\n",
      "\t\tF | train loss: 270810.2326388889 | val loss: 237909.078125\n",
      "\n",
      "[Epoch 9]:\n",
      "\tAverage train loss: 270923.39410\n",
      "\tAverage val loss: 238278.9375\n",
      "\tGradient norm: 7308095488.0\n",
      "\tElapsed time = 0.001 min\n",
      "\tPer-target losses:\n",
      "\t\tF | train loss: 270923.39409722225 | val loss: 238278.9375\n",
      "\n",
      "[Epoch 10]:\n",
      "\tAverage train loss: 270902.26997\n",
      "\tAverage val loss: 238088.96875\n",
      "\tGradient norm: 3503863808.0\n",
      "\tElapsed time = 0.001 min\n",
      "\tPer-target losses:\n",
      "\t\tF | train loss: 270902.26996527775 | val loss: 238088.96875\n",
      "\n",
      "[Epoch 11]:\n",
      "\tAverage train loss: 270788.86979\n",
      "\tAverage val loss: 238498.203125\n",
      "\tGradient norm: 2576067072.0\n",
      "\tElapsed time = 0.001 min\n",
      "\tPer-target losses:\n",
      "\t\tF | train loss: 270788.8697916667 | val loss: 238498.203125\n",
      "\n"
     ]
    },
    {
     "name": "stdout",
     "output_type": "stream",
     "text": [
      "[Epoch 12]:\n",
      "\tAverage train loss: 270903.87587\n",
      "\tAverage val loss: 238362.5625\n",
      "\tGradient norm: 22409934848.0\n",
      "\tElapsed time = 0.001 min\n",
      "\tPer-target losses:\n",
      "\t\tF | train loss: 270903.87586805556 | val loss: 238362.5625\n",
      "\n",
      "[Epoch 13]:\n",
      "\tAverage train loss: 270733.37500\n",
      "\tAverage val loss: 238220.640625\n",
      "\tGradient norm: 1508411008.0\n",
      "\tElapsed time = 0.001 min\n",
      "\tPer-target losses:\n",
      "\t\tF | train loss: 270733.375 | val loss: 238220.640625\n",
      "\n",
      "[Epoch 14]:\n",
      "\tAverage train loss: 270762.36719\n",
      "\tAverage val loss: 238545.484375\n",
      "\tGradient norm: 887819840.0\n",
      "\tElapsed time = 0.001 min\n",
      "\tPer-target losses:\n",
      "\t\tF | train loss: 270762.3671875 | val loss: 238545.484375\n",
      "\n",
      "[Epoch 15]:\n",
      "\tAverage train loss: 270722.80469\n",
      "\tAverage val loss: 238412.5\n",
      "\tGradient norm: 8280138240.0\n",
      "\tElapsed time = 0.001 min\n",
      "\tPer-target losses:\n",
      "\t\tF | train loss: 270722.8046875 | val loss: 238412.5\n",
      "\n"
     ]
    },
    {
     "name": "stdout",
     "output_type": "stream",
     "text": [
      "[Epoch 16]:\n",
      "\tAverage train loss: 270811.31684\n",
      "\tAverage val loss: 238602.0625\n",
      "\tGradient norm: 7095881216.0\n",
      "\tElapsed time = 0.001 min\n",
      "\tPer-target losses:\n",
      "\t\tF | train loss: 270811.31684027775 | val loss: 238602.0625\n",
      "\n",
      "[Epoch 17]:\n",
      "\tAverage train loss: 270706.23611\n",
      "\tAverage val loss: 238186.5\n",
      "\tGradient norm: 32078110720.0\n",
      "\tElapsed time = 0.001 min\n",
      "\tPer-target losses:\n",
      "\t\tF | train loss: 270706.2361111111 | val loss: 238186.5\n",
      "\n",
      "[Epoch 18]:\n",
      "\tAverage train loss: 270756.25955\n",
      "\tAverage val loss: 238383.546875\n",
      "\tGradient norm: 6668497408.0\n",
      "\tElapsed time = 0.001 min\n",
      "\tPer-target losses:\n",
      "\t\tF | train loss: 270756.2595486111 | val loss: 238383.546875\n",
      "\n",
      "[Epoch 19]:\n",
      "\tAverage train loss: 270709.96615\n",
      "\tAverage val loss: 238588.375\n",
      "\tGradient norm: 110710288.0\n",
      "\tElapsed time = 0.001 min\n",
      "\tPer-target losses:\n",
      "\t\tF | train loss: 270709.9661458333 | val loss: 238588.375\n",
      "\n"
     ]
    }
   ],
   "source": [
    "force_matching.train(epochs, checkpoint_freq=1000)"
   ]
  },
  {
   "cell_type": "code",
   "execution_count": 11,
   "id": "65ed75de",
   "metadata": {
    "execution": {
     "iopub.execute_input": "2024-08-20T17:48:48.069547Z",
     "iopub.status.busy": "2024-08-20T17:48:48.069275Z",
     "iopub.status.idle": "2024-08-20T17:48:48.335764Z",
     "shell.execute_reply": "2024-08-20T17:48:48.335163Z"
    }
   },
   "outputs": [
    {
     "name": "stdout",
     "output_type": "stream",
     "text": [
      "F: MAE = 437.8789\n",
      "None\n"
     ]
    }
   ],
   "source": [
    "# We can also provide completely new samples for a single stage, e.g., testing\n",
    "force_matching.set_dataset({\n",
    "    \"F\": force_dataset[1::subsample, :, :],\n",
    "    \"R\": position_dataset[1::subsample, :, :],\n",
    "}, stage = \"testing\")\n",
    "\n",
    "mae_error = force_matching.evaluate_mae_testset()\n",
    "print(mae_error)"
   ]
  },
  {
   "cell_type": "markdown",
   "id": "a50f5cd9",
   "metadata": {},
   "source": [
    "## Results"
   ]
  },
  {
   "cell_type": "code",
   "execution_count": 12,
   "id": "441f6841",
   "metadata": {
    "execution": {
     "iopub.execute_input": "2024-08-20T17:48:48.339253Z",
     "iopub.status.busy": "2024-08-20T17:48:48.338791Z",
     "iopub.status.idle": "2024-08-20T17:48:48.459040Z",
     "shell.execute_reply": "2024-08-20T17:48:48.458291Z"
    }
   },
   "outputs": [
    {
     "data": {
      "text/plain": [
       "Text(0, 0.5, 'Force Error')"
      ]
     },
     "execution_count": 12,
     "metadata": {},
     "output_type": "execute_result"
    },
    {
     "data": {
      "image/png": "[encoded data removed]",
      "text/plain": [
       "<Figure size 640x480 with 1 Axes>"
      ]
     },
     "metadata": {},
     "output_type": "display_data"
    }
   ],
   "source": [
    "plt.plot(force_matching.train_losses)\n",
    "plt.xticks(ticks=range(0, epochs + 1, 5))\n",
    "plt.xlabel(\"Epoch\")\n",
    "plt.ylabel(\"Force Error\")"
   ]
  },
  {
   "cell_type": "markdown",
   "id": "87da54f5",
   "metadata": {},
   "source": [
    "Finally, we compare the values obtained from a least-squares fit to those\n",
    "obtained from force-matching."
   ]
  },
  {
   "cell_type": "code",
   "execution_count": 13,
   "id": "e5a71e2b",
   "metadata": {
    "execution": {
     "iopub.execute_input": "2024-08-20T17:48:48.462115Z",
     "iopub.status.busy": "2024-08-20T17:48:48.461851Z",
     "iopub.status.idle": "2024-08-20T17:48:48.496957Z",
     "shell.execute_reply": "2024-08-20T17:48:48.496293Z"
    }
   },
   "outputs": [
    {
     "name": "stdout",
     "output_type": "stream",
     "text": [
      "Force matching predicted 0.153 nm and 8476.0 kJ/mol/nm^2\n",
      "Least squares predicted 0.152 nm and 9659.2 kJ/mol/nm^2\n",
      "Absolute error in b0 is 0.000 nm and in kb is 1183.2 kJ/mol/nm^2\n"
     ]
    }
   ],
   "source": [
    "pred_parameters = tree_util.tree_map(jnp.exp, force_matching.params)\n",
    "\n",
    "b0_err = jnp.abs(b0[0] - pred_parameters[\"log_b0\"])\n",
    "kb_err = jnp.abs(kb[0] - pred_parameters[\"log_kb\"])\n",
    "\n",
    "print(f\"Force matching predicted {pred_parameters['log_b0']:.3f} nm and {pred_parameters['log_kb']:.1f} kJ/mol/nm^2\")\n",
    "print(f\"Least squares predicted {b0[0]:.3f} nm and {kb[0]:.1f} kJ/mol/nm^2\")\n",
    "print(f\"Absolute error in b0 is {b0_err:.3f} nm and in kb is {kb_err:.1f} kJ/mol/nm^2\")"
   ]
  },
  {
   "cell_type": "markdown",
   "id": "8e96ce42",
   "metadata": {},
   "source": [
    "## Further Reading\n",
    "\n",
    "### Examples\n",
    "\n",
    "- [Alanine Dipeptide in Implicit Water](../examples/CG_alanine_dipeptide.ipynb)\n",
    "\n",
    "### Publications\n",
    "\n",
    "1. Stephan Thaler, Maximilian Stupp, Julija Zavadlav; *Deep coarse-grained potentials via relative entropy minimization*. J. Chem. Phys. 28 December 2022; 157 (24): 244103. <https://doi.org/10.1063/5.0124538>\n",
    "\n",
    "## References\n",
    "\n",
    "[^Noid2008]: W. G. Noid, Jhih-Wei Chu, Gary S. Ayton, Vinod Krishna, Sergei Izvekov, Gregory A. Voth, Avisek Das, Hans C. Andersen; *The multiscale coarse-graining method. I. A rigorous bridge between atomistic and coarse-grained models*. J. Chem. Phys. 28 June 2008; 128 (24): 244114. https://doi-org.eaccess.tum.edu/10.1063/1.2938860"
   ]
  }
 ],
 "metadata": {
  "jupytext": {
   "main_language": "python"
  },
  "kernelspec": {
   "display_name": "Python 3 (ipykernel)",
   "language": "python",
   "name": "python3"
  },
  "language_info": {
   "codemirror_mode": {
    "name": "ipython",
    "version": 3
   },
   "file_extension": ".py",
   "mimetype": "text/x-python",
   "name": "python",
   "nbconvert_exporter": "python",
   "pygments_lexer": "ipython3",
   "version": "3.10.14"
  }
 },
 "nbformat": 4,
 "nbformat_minor": 5
}
