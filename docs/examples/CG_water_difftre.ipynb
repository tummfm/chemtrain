{
 "cells": [
  {
   "cell_type": "raw",
   "id": "881122cd",
   "metadata": {},
   "source": [
    "Copyright 2023 Multiscale Modeling of Fluid Materials, TU Munich\n",
    "\n",
    "Licensed under the Apache License, Version 2.0 (the \"License\");\n",
    "you may not use this file except in compliance with the License.\n",
    "You may obtain a copy of the License at\n",
    "\n",
    "  http://www.apache.org/licenses/LICENSE-2.0\n",
    "\n",
    "Unless required by applicable law or agreed to in writing, software\n",
    "distributed under the License is distributed on an \"AS IS\" BASIS,\n",
    "WITHOUT WARRANTIES OR CONDITIONS OF ANY KIND, either express or implied.\n",
    "See the License for the specific language governing permissions and\n",
    "limitations under the License."
   ]
  },
  {
   "cell_type": "code",
   "execution_count": 1,
   "id": "64591638",
   "metadata": {
    "execution": {
     "iopub.execute_input": "2024-06-12T13:33:19.688484Z",
     "iopub.status.busy": "2024-06-12T13:33:19.688003Z",
     "iopub.status.idle": "2024-06-12T13:33:27.844575Z",
     "shell.execute_reply": "2024-06-12T13:33:27.843253Z"
    },
    "tags": [
     "hide-cell"
    ]
   },
   "outputs": [],
   "source": [
    "from pathlib import Path\n",
    "from functools import partial\n",
    "\n",
    "import numpy as onp\n",
    "\n",
    "import matplotlib.pyplot as plt\n",
    "\n",
    "import optax\n",
    "\n",
    "import haiku as hk\n",
    "\n",
    "from jax import numpy as jnp, random\n",
    "\n",
    "from jax_md import space, energy, partition, simulate"
   ]
  },
  {
   "cell_type": "code",
   "execution_count": 2,
   "id": "be2c763d",
   "metadata": {
    "execution": {
     "iopub.execute_input": "2024-06-12T13:33:27.849265Z",
     "iopub.status.busy": "2024-06-12T13:33:27.849079Z",
     "iopub.status.idle": "2024-06-12T13:33:28.032987Z",
     "shell.execute_reply": "2024-06-12T13:33:28.032123Z"
    }
   },
   "outputs": [],
   "source": [
    "from chemtrain.jax_md_mod import io, custom_space, custom_energy\n",
    "from chemtrain import trainers, trajectory, util, quantity\n",
    "from chemtrain.potential import neural_networks, layers"
   ]
  },
  {
   "cell_type": "code",
   "execution_count": 3,
   "id": "0db4f183",
   "metadata": {
    "execution": {
     "iopub.execute_input": "2024-06-12T13:33:28.038740Z",
     "iopub.status.busy": "2024-06-12T13:33:28.038161Z",
     "iopub.status.idle": "2024-06-12T13:33:28.168909Z",
     "shell.execute_reply": "2024-06-12T13:33:28.168015Z"
    }
   },
   "outputs": [],
   "source": [
    "%config InlineBackend.figure_formats = ['svg']\n",
    "%matplotlib inline"
   ]
  },
  {
   "cell_type": "markdown",
   "id": "133e3861",
   "metadata": {},
   "source": [
    "# DiffTRe: CG Water on Structural Data\n",
    "\n",
    "This example, based on the paper [Learning neural network potentials from experimental data via Differentiable Trajectory Reweighting](https://www.nature.com/articles/s41467-021-27241-4),\n",
    "employs DiffTRe with an adaptive scaling of the learning rate to learn a\n",
    "structurally accurate coarse-grained model for water.\n",
    "\n",
    "## Introduction\n",
    "\n",
    "Classical approaches to Top-Down learning of potential models, e.g., Iterative Boltzmann Inversion [^Reith2003] or Inverse Monte Carlo [^Lyubartsev1995], only learn pair-wise dependencies between particles.\n",
    "However, to correctly predict the anomalous properties of water, it is necessary that the water model correctly represents triplet interactions [^Dhabal2014].\n",
    "\n",
    "Therefore, the DiffTRe algorithm [^Thaler2021] leverages umbrella sampling [^Torrie1977] to flexibly train arbitrary potential models on experimental reference data.\n",
    "\n",
    "We present the details of the approach in the toy example [Differentiable Trajectory Reweighting (DiffTRe)](/algorithms/difftre)."
   ]
  },
  {
   "cell_type": "markdown",
   "id": "bdb29cb0",
   "metadata": {},
   "source": [
    "## Setup Training\n",
    "\n",
    "First, we need to create a reference system, in which we can predict macroscopic measurements.\n",
    "Therefore, we load a box of 901 water particles and construct a periodic space.\n",
    "Additionally, we initialize a neighbor list, which enables accelerating the simulation and the extraction of a neighborlist graph for the Graph Neural Network (GNN) model.\n",
    "\n",
    "### System"
   ]
  },
  {
   "cell_type": "code",
   "execution_count": 4,
   "id": "5749eca0",
   "metadata": {
    "execution": {
     "iopub.execute_input": "2024-06-12T13:33:28.173881Z",
     "iopub.status.busy": "2024-06-12T13:33:28.173724Z",
     "iopub.status.idle": "2024-06-12T13:33:30.002529Z",
     "shell.execute_reply": "2024-06-12T13:33:30.001175Z"
    }
   },
   "outputs": [],
   "source": [
    "system: quantity.util.InitArguments = {}\n",
    "\n",
    "file = 'water/data/confs/Water_experimental_3nm.gro'\n",
    "\n",
    "box, r_init, _, _ = io.load_box(file)  # initial configuration\n",
    "mass = 18.0154\n",
    "\n",
    "box_tensor, scale_fn = custom_space.init_fractional_coordinates(box)\n",
    "displacement_fn, shift_fn = space.periodic_general(\n",
    "    box_tensor, fractional_coordinates=True, wrapped=True)\n",
    "r_init = scale_fn(r_init)\n",
    "\n",
    "neighbor_fn = partition.neighbor_list(\n",
    "    displacement_fn, box, r_cutoff=0.5, dr_threshold=0.0,\n",
    "    disable_cell_list=True, fractional_coordinates=True\n",
    ")\n",
    "nbrs_init = neighbor_fn.allocate(r_init, capacity_multiplier=1.5, extra_capacity=0)\n",
    "\n",
    "system.update({\n",
    "    \"displacement_fn\": displacement_fn,\n",
    "    \"reference_box\": box_tensor,\n",
    "    \"nbrs_init\": nbrs_init,\n",
    "    \"r_init\": r_init\n",
    "})"
   ]
  },
  {
   "cell_type": "markdown",
   "id": "9afe345c",
   "metadata": {},
   "source": [
    "### Model\n",
    "\n",
    "Next, we construct a potential model for the reference system.\n",
    "We use the expressive DimeNet architecture [^DimeNet] and employ a $\\Delta$-learning approach based on a prior.\n",
    "The prior stabilizes the simulation in the first epochs and additionally should enforce physical constraints.\n",
    "Like the paper, we choose a simple repulsive prior based on the repulsive term of the Lennard Jones potential.\n",
    "Consequently, the system directly respects the Pauli exclusion principle."
   ]
  },
  {
   "cell_type": "code",
   "execution_count": 5,
   "id": "d642128c",
   "metadata": {
    "execution": {
     "iopub.execute_input": "2024-06-12T13:33:30.007776Z",
     "iopub.status.busy": "2024-06-12T13:33:30.007502Z",
     "iopub.status.idle": "2024-06-12T13:34:06.621582Z",
     "shell.execute_reply": "2024-06-12T13:34:06.620833Z"
    },
    "tags": [
     "hide-output"
    ]
   },
   "outputs": [
    {
     "name": "stdout",
     "output_type": "stream",
     "text": [
      "Capping edges and triplets. Beware of overflow, which is currently not being detected.\n"
     ]
    },
    {
     "name": "stderr",
     "output_type": "stream",
     "text": [
      "/home/paul/miniconda3/envs/chemtrain/lib/python3.10/site-packages/jax/_src/numpy/lax_numpy.py:148: UserWarning: Explicitly requested dtype float64 requested in asarray is not available, and will be truncated to dtype float32. To enable more dtypes, set the jax_enable_x64 configuration option or the JAX_ENABLE_X64 shell environment variable. See https://github.com/google/jax#current-gotchas for more.\n",
      "  return asarray(x, dtype=self.dtype)\n"
     ]
    },
    {
     "name": "stderr",
     "output_type": "stream",
     "text": [
      "/home/paul/miniconda3/envs/chemtrain/lib/python3.10/site-packages/jax/_src/numpy/reductions.py:212: UserWarning: Explicitly requested dtype <class 'jax.numpy.float64'> requested in sum is not available, and will be truncated to dtype float32. To enable more dtypes, set the jax_enable_x64 configuration option or the JAX_ENABLE_X64 shell environment variable. See https://github.com/google/jax#current-gotchas for more.\n",
      "  return _reduction(a, \"sum\", np.sum, lax.add, 0, preproc=_cast_to_numeric,\n"
     ]
    }
   ],
   "source": [
    "mlp_init = {\n",
    "    'b_init': hk.initializers.Constant(0.),\n",
    "    'w_init': layers.OrthogonalVarianceScalingInit(scale=1.)\n",
    "    }\n",
    "\n",
    "model_init, model_apply = neural_networks.dimenetpp_neighborlist(\n",
    "    displacement_fn, 0.5, 1, r_init, nbrs_init,\n",
    "    embed_size=32, init_kwargs=mlp_init,\n",
    ")\n",
    "\n",
    "prior_energy_apply = custom_energy.generic_repulsion_neighborlist(\n",
    "    displacement_fn, box, sigma=0.3165, epsilon=1.0, exp=12.0,\n",
    "    r_onset=0.45, r_cutoff=0.5, initialize_neighbor_list=False)\n",
    "\n",
    "def energy_fn_template(energy_params):\n",
    "    def energy_fn(pos, neighbor, **dyn_kwargs):\n",
    "        gnn_energy = model_apply(energy_params, pos, neighbor, **dyn_kwargs)\n",
    "\n",
    "        prior_energy = prior_energy_apply(pos, neighbor, **dyn_kwargs)\n",
    "\n",
    "        return prior_energy + gnn_energy\n",
    "\n",
    "    return energy_fn\n",
    "\n",
    "init_model_params = model_init(random.PRNGKey(11), r_init, nbrs_init)"
   ]
  },
  {
   "cell_type": "markdown",
   "id": "db6b92a3",
   "metadata": {},
   "source": [
    "### Simulator\n",
    "\n",
    "As outlined in the [Differentiable Trajectory Reweighting (DiffTRe)](/algorithms/difftre) example, a molecular dynamics simulation is an efficient method to sample particle position from the equilibrium distribution.\n",
    "Hence, we set up a simulation routine based on a Nosé-Hoover integrator for a total time of $70\\ \\text{ps}$.\n",
    "Since the samples should be uncorrelated, we subsample the trajectory every $0.1\\ \\text{ps}$ and additionally substract the first $10\\ \\text{ps}$ to account for the changing potential model."
   ]
  },
  {
   "cell_type": "code",
   "execution_count": 6,
   "id": "071c49c8",
   "metadata": {
    "execution": {
     "iopub.execute_input": "2024-06-12T13:34:06.626620Z",
     "iopub.status.busy": "2024-06-12T13:34:06.626449Z",
     "iopub.status.idle": "2024-06-12T13:34:07.114162Z",
     "shell.execute_reply": "2024-06-12T13:34:07.112826Z"
    }
   },
   "outputs": [],
   "source": [
    "system_temperature = 296.15  # Kelvin\n",
    "boltzmann_constant = 0.0083145107  # in kJ / mol K\n",
    "kbt = system_temperature * boltzmann_constant\n",
    "\n",
    "time_step = 0.01\n",
    "total_time = 70.\n",
    "t_equilib = 20.\n",
    "print_every = 0.1\n",
    "\n",
    "timings = trajectory.traj_util.process_printouts(\n",
    "    time_step, total_time, t_equilib, print_every\n",
    ")"
   ]
  },
  {
   "cell_type": "code",
   "execution_count": 7,
   "id": "5331f148",
   "metadata": {
    "execution": {
     "iopub.execute_input": "2024-06-12T13:34:07.119437Z",
     "iopub.status.busy": "2024-06-12T13:34:07.118798Z",
     "iopub.status.idle": "2024-06-12T13:34:36.975127Z",
     "shell.execute_reply": "2024-06-12T13:34:36.973824Z"
    }
   },
   "outputs": [],
   "source": [
    "# The simulator template enables to initialize a \n",
    "# new simulation routine whenever the potential model\n",
    "# changes.\n",
    "simulator_template = partial(\n",
    "    simulate.nvt_nose_hoover, shift_fn=shift_fn,\n",
    "    dt=time_step, kT=kbt, tau=50. * time_step, chain_length=3, chain_steps=1\n",
    ")\n",
    "\n",
    "# We need an initial state of the simulator, where\n",
    "# we can start the simulations from.\n",
    "simulator_init, _ = simulator_template(\n",
    "    energy_fn_template(init_model_params)\n",
    ")\n",
    "\n",
    "init_simulator_state = simulator_init(\n",
    "    random.PRNGKey(11), r_init, neighbor=nbrs_init, mass=mass\n",
    ")\n",
    "reference_simulation_state = trajectory.traj_util.SimulatorState(\n",
    "    sim_state=init_simulator_state, nbrs=nbrs_init\n",
    ")"
   ]
  },
  {
   "cell_type": "markdown",
   "id": "ed9d943b",
   "metadata": {},
   "source": [
    "### Targets\n",
    "\n",
    "Next, we can set up the macroscopic properties we want to match.\n",
    "We use the experimentally determined RDF and ADF at $296.15\\ \\text{K}$ [^Soper2008] and additionally the pressure target of $1\\ \\text{bar}$."
   ]
  },
  {
   "cell_type": "code",
   "execution_count": 8,
   "id": "b3110115",
   "metadata": {
    "execution": {
     "iopub.execute_input": "2024-06-12T13:34:36.980573Z",
     "iopub.status.busy": "2024-06-12T13:34:36.980219Z",
     "iopub.status.idle": "2024-06-12T13:34:36.987042Z",
     "shell.execute_reply": "2024-06-12T13:34:36.985913Z"
    }
   },
   "outputs": [],
   "source": [
    "reference_rdf = onp.loadtxt(\"water/data/experimental/O_O_RDF.csv\")\n",
    "reference_adf = onp.loadtxt(\"water/data/experimental/O_O_O_ADF.csv\")\n",
    "pressure_target = 1. / 16.6054   # 1 bar in kJ / mol nm^3"
   ]
  },
  {
   "cell_type": "code",
   "execution_count": 9,
   "id": "ac246a5f",
   "metadata": {
    "execution": {
     "iopub.execute_input": "2024-06-12T13:34:36.991806Z",
     "iopub.status.busy": "2024-06-12T13:34:36.991329Z",
     "iopub.status.idle": "2024-06-12T13:34:43.425321Z",
     "shell.execute_reply": "2024-06-12T13:34:43.424376Z"
    }
   },
   "outputs": [
    {
     "name": "stdout",
     "output_type": "stream",
     "text": [
      "[ADF] Estimates 498644 max. triplets in neighbor list and 23308 max. triplets in cutoff-shell.\n"
     ]
    }
   ],
   "source": [
    "target_builder = quantity.TargetBuilder(system, strict=True)\n",
    "\n",
    "target_builder[\"rdf\"] = quantity.structure.init_radial_distribution_target(\n",
    "    reference_rdf, nbins=300, rdf_cut=1.0, gamma=1.0\n",
    ")\n",
    "target_builder[\"adf\"] = quantity.structure.init_angular_distribution_target(\n",
    "    reference_adf, nbins=150, r_outer=0.318, gamma=1.0\n",
    ")\n",
    "target_builder[\"pressure\"] = quantity.thermodynamics.init_pressure_target(\n",
    "    energy_fn_template, include_kinetic=False, gamma=1.0e-7, target=pressure_target\n",
    ")\n",
    "\n",
    "targets, compute_fns = target_builder.build()"
   ]
  },
  {
   "cell_type": "markdown",
   "id": "27861e53",
   "metadata": {},
   "source": [
    "### Trainer\n",
    "\n",
    "Finally, we can use the potential model, simulation routines, and targets to initialize the DiffTRe algorithm.\n",
    "Therefore, we use the high-level interface, called trainer.\n",
    "It is possible to add multiple statepoints to the trainer, e.g., to train different systems at different thermodynamic state points.\n",
    "However, here we only set up a single state points.\n",
    "We set the reweighting ratio to 0.9, such that the computed trajectories might be re-used if the updated potential and the reference potential are sufficiently close."
   ]
  },
  {
   "cell_type": "code",
   "execution_count": 10,
   "id": "d18cadfe",
   "metadata": {
    "execution": {
     "iopub.execute_input": "2024-06-12T13:34:43.430795Z",
     "iopub.status.busy": "2024-06-12T13:34:43.430195Z",
     "iopub.status.idle": "2024-06-12T13:34:44.225697Z",
     "shell.execute_reply": "2024-06-12T13:34:44.224965Z"
    }
   },
   "outputs": [],
   "source": [
    "check_freq = None\n",
    "num_updates = 300\n",
    "\n",
    "initial_lr = 0.003\n",
    "\n",
    "lr_schedule = optax.exponential_decay(initial_lr, num_updates, 0.01)\n",
    "optimizer = optax.chain(\n",
    "    optax.scale_by_adam(0.1, 0.4),\n",
    "    optax.scale_by_schedule(lr_schedule),\n",
    "    optax.scale_by_learning_rate(1.0, flip_sign=True)\n",
    ")\n",
    "\n",
    "trainer = trainers.Difftre(init_model_params,\n",
    "                           optimizer,\n",
    "                           energy_fn_template=energy_fn_template)"
   ]
  },
  {
   "cell_type": "code",
   "execution_count": 11,
   "id": "fd8d48b9",
   "metadata": {
    "execution": {
     "iopub.execute_input": "2024-06-12T13:34:44.229840Z",
     "iopub.status.busy": "2024-06-12T13:34:44.229669Z",
     "iopub.status.idle": "2024-06-12T13:37:59.781109Z",
     "shell.execute_reply": "2024-06-12T13:37:59.780160Z"
    },
    "tags": [
     "hide-output"
    ]
   },
   "outputs": [
    {
     "name": "stderr",
     "output_type": "stream",
     "text": [
      "/home/paul/chemtrain/chemtrain/trajectory/reweighting.py:790: UserWarning: Propagation function is not safe by default. Do not forget to use the wrapper around the compute function to ensure that the neighborlist does not overflow.\n",
      "  warnings.warn(\n"
     ]
    },
    {
     "name": "stderr",
     "output_type": "stream",
     "text": [
      "/home/paul/miniconda3/envs/chemtrain/lib/python3.10/site-packages/jax/_src/numpy/lax_numpy.py:148: UserWarning: Explicitly requested dtype float64 requested in asarray is not available, and will be truncated to dtype float32. To enable more dtypes, set the jax_enable_x64 configuration option or the JAX_ENABLE_X64 shell environment variable. See https://github.com/google/jax#current-gotchas for more.\n",
      "  return asarray(x, dtype=self.dtype)\n"
     ]
    },
    {
     "name": "stderr",
     "output_type": "stream",
     "text": [
      "/home/paul/miniconda3/envs/chemtrain/lib/python3.10/site-packages/jax/_src/numpy/lax_numpy.py:148: UserWarning: Explicitly requested dtype float64 requested in asarray is not available, and will be truncated to dtype float32. To enable more dtypes, set the jax_enable_x64 configuration option or the JAX_ENABLE_X64 shell environment variable. See https://github.com/google/jax#current-gotchas for more.\n",
      "  return asarray(x, dtype=self.dtype)\n"
     ]
    },
    {
     "name": "stderr",
     "output_type": "stream",
     "text": [
      "/home/paul/miniconda3/envs/chemtrain/lib/python3.10/site-packages/jax/_src/numpy/reductions.py:212: UserWarning: Explicitly requested dtype <class 'jax.numpy.float64'> requested in sum is not available, and will be truncated to dtype float32. To enable more dtypes, set the jax_enable_x64 configuration option or the JAX_ENABLE_X64 shell environment variable. See https://github.com/google/jax#current-gotchas for more.\n",
      "  return _reduction(a, \"sum\", np.sum, lax.add, 0, preproc=_cast_to_numeric,\n"
     ]
    },
    {
     "name": "stdout",
     "output_type": "stream",
     "text": [
      "Time for trajectory initialization 0: 0.8261173685391744 mins\n"
     ]
    }
   ],
   "source": [
    "trainer.add_statepoint(energy_fn_template, simulator_template,\n",
    "                       neighbor_fn, timings, {'kT': kbt}, compute_fns,\n",
    "                       reference_simulation_state, targets)"
   ]
  },
  {
   "cell_type": "code",
   "execution_count": 12,
   "id": "15e396a4",
   "metadata": {
    "execution": {
     "iopub.execute_input": "2024-06-12T13:37:59.786404Z",
     "iopub.status.busy": "2024-06-12T13:37:59.785865Z",
     "iopub.status.idle": "2024-06-12T13:37:59.792031Z",
     "shell.execute_reply": "2024-06-12T13:37:59.791310Z"
    }
   },
   "outputs": [
    {
     "name": "stdout",
     "output_type": "stream",
     "text": [
      "[Step size] Use 5 iterations for 10 interior points.\n"
     ]
    }
   ],
   "source": [
    "trainer.init_step_size_adaption(0.10)"
   ]
  },
  {
   "cell_type": "markdown",
   "id": "2f372d57",
   "metadata": {},
   "source": [
    "## Train"
   ]
  },
  {
   "cell_type": "code",
   "execution_count": 13,
   "id": "4ecdfd92",
   "metadata": {
    "execution": {
     "iopub.execute_input": "2024-06-12T13:37:59.796995Z",
     "iopub.status.busy": "2024-06-12T13:37:59.796814Z",
     "iopub.status.idle": "2024-06-13T03:29:17.170443Z",
     "shell.execute_reply": "2024-06-13T03:29:17.169234Z"
    },
    "tags": [
     "hide-output"
    ]
   },
   "outputs": [
    {
     "name": "stdout",
     "output_type": "stream",
     "text": [
      "[Step Size] Found optimal step size 0.11646263301372528 with residual 0.00012969970703125\n"
     ]
    },
    {
     "name": "stdout",
     "output_type": "stream",
     "text": [
      "\n",
      "[DiffTRe] Epoch 0\n",
      "\tEpoch loss = 0.19103\n",
      "\tGradient norm: 0.1356312483549118\n",
      "\tElapsed time = 2.920 min\n",
      "[Statepoint 0]\n",
      "\tkT = 2.464 ref_kT = 2.462\n",
      "\tPredicted entropy: 7.942501724755857e-06\n",
      "\tPredicted free_energy: 8.923435962060466e-05\n",
      "\tPredicted pressure: 667.1107788085938\n"
     ]
    },
    {
     "name": "stdout",
     "output_type": "stream",
     "text": [
      "[Step Size] Found optimal step size 0.09630772471427917 with residual 0.0002570152282714844\n"
     ]
    },
    {
     "name": "stdout",
     "output_type": "stream",
     "text": [
      "\n",
      "[DiffTRe] Epoch 1\n",
      "\tEpoch loss = 0.17203\n",
      "\tGradient norm: 0.12802192568778992\n",
      "\tElapsed time = 2.689 min\n",
      "[Statepoint 0]\n",
      "\tkT = 2.450 ref_kT = 2.462\n",
      "\tPredicted entropy: 0.579969048500061\n",
      "\tPredicted free_energy: -169.37730407714844\n",
      "\tPredicted pressure: 636.3814086914062\n"
     ]
    },
    {
     "name": "stdout",
     "output_type": "stream",
     "text": [
      "[Step Size] Found optimal step size 0.08265380561351776 with residual 0.06174349784851074\n"
     ]
    },
    {
     "name": "stdout",
     "output_type": "stream",
     "text": [
      "\n",
      "[DiffTRe] Epoch 2\n",
      "\tEpoch loss = 0.15626\n",
      "\tGradient norm: 0.17260897159576416\n",
      "\tElapsed time = 2.702 min\n",
      "[Statepoint 0]\n",
      "\tkT = 2.459 ref_kT = 2.462\n",
      "\tPredicted entropy: 1.004400372505188\n",
      "\tPredicted free_energy: -315.7657775878906\n",
      "\tPredicted pressure: 605.7669067382812\n"
     ]
    },
    {
     "name": "stdout",
     "output_type": "stream",
     "text": [
      "[Step Size] Found optimal step size 0.08190250396728516 with residual 0.009772539138793945\n"
     ]
    },
    {
     "name": "stdout",
     "output_type": "stream",
     "text": [
      "\n",
      "[DiffTRe] Epoch 3\n",
      "\tEpoch loss = 0.14267\n",
      "\tGradient norm: 0.16704203188419342\n",
      "\tElapsed time = 2.703 min\n",
      "[Statepoint 0]\n",
      "\tkT = 2.461 ref_kT = 2.462\n",
      "\tPredicted entropy: 1.4072855710983276\n",
      "\tPredicted free_energy: -452.358642578125\n",
      "\tPredicted pressure: 578.72900390625\n"
     ]
    },
    {
     "name": "stdout",
     "output_type": "stream",
     "text": [
      "[Step Size] Found optimal step size 0.06880739331245422 with residual 0.00011348724365234375\n"
     ]
    },
    {
     "name": "stdout",
     "output_type": "stream",
     "text": [
      "\n",
      "[DiffTRe] Epoch 4\n",
      "\tEpoch loss = 0.12912\n",
      "\tGradient norm: 0.23225824534893036\n",
      "\tElapsed time = 2.709 min\n",
      "[Statepoint 0]\n",
      "\tkT = 2.465 ref_kT = 2.462\n",
      "\tPredicted entropy: 1.8181695938110352\n",
      "\tPredicted free_energy: -597.4717407226562\n",
      "\tPredicted pressure: 556.10107421875\n"
     ]
    },
    {
     "name": "stdout",
     "output_type": "stream",
     "text": [
      "[Step Size] Found optimal step size 0.06744759529829025 with residual 7.033348083496094e-05\n"
     ]
    },
    {
     "name": "stdout",
     "output_type": "stream",
     "text": [
      "\n",
      "[DiffTRe] Epoch 5\n",
      "\tEpoch loss = 0.11782\n",
      "\tGradient norm: 0.19114157557487488\n",
      "\tElapsed time = 2.708 min\n",
      "[Statepoint 0]\n",
      "\tkT = 2.466 ref_kT = 2.462\n",
      "\tPredicted entropy: 2.127558708190918\n",
      "\tPredicted free_energy: -758.139404296875\n",
      "\tPredicted pressure: 527.9712524414062\n"
     ]
    },
    {
     "name": "stdout",
     "output_type": "stream",
     "text": [
      "[Step Size] Found optimal step size 0.056283533573150635 with residual 0.0012888908386230469\n"
     ]
    },
    {
     "name": "stdout",
     "output_type": "stream",
     "text": [
      "\n",
      "[DiffTRe] Epoch 6\n",
      "\tEpoch loss = 0.10730\n",
      "\tGradient norm: 0.20673471689224243\n",
      "\tElapsed time = 2.696 min\n",
      "[Statepoint 0]\n",
      "\tkT = 2.457 ref_kT = 2.462\n",
      "\tPredicted entropy: 2.3672566413879395\n",
      "\tPredicted free_energy: -942.9878540039062\n",
      "\tPredicted pressure: 502.20086669921875\n"
     ]
    },
    {
     "name": "stdout",
     "output_type": "stream",
     "text": [
      "[Step Size] Found optimal step size 0.06161719560623169 with residual 0.001413583755493164\n"
     ]
    },
    {
     "name": "stdout",
     "output_type": "stream",
     "text": [
      "\n",
      "[DiffTRe] Epoch 7\n",
      "\tEpoch loss = 0.09825\n",
      "\tGradient norm: 0.15900519490242004\n",
      "\tElapsed time = 2.700 min\n",
      "[Statepoint 0]\n",
      "\tkT = 2.458 ref_kT = 2.462\n",
      "\tPredicted entropy: 2.5686984062194824\n",
      "\tPredicted free_energy: -1116.3572998046875\n",
      "\tPredicted pressure: 478.932373046875\n"
     ]
    },
    {
     "name": "stdout",
     "output_type": "stream",
     "text": [
      "[Step Size] Found optimal step size 0.05355771631002426 with residual 0.0014007091522216797\n"
     ]
    },
    {
     "name": "stdout",
     "output_type": "stream",
     "text": [
      "\n",
      "[DiffTRe] Epoch 8\n",
      "\tEpoch loss = 0.08924\n",
      "\tGradient norm: 0.2412528246641159\n",
      "\tElapsed time = 2.697 min\n",
      "[Statepoint 0]\n",
      "\tkT = 2.462 ref_kT = 2.462\n",
      "\tPredicted entropy: 2.76936674118042\n",
      "\tPredicted free_energy: -1271.210205078125\n",
      "\tPredicted pressure: 455.0650329589844\n"
     ]
    },
    {
     "name": "stdout",
     "output_type": "stream",
     "text": [
      "[Step Size] Found optimal step size 0.046181246638298035 with residual 0.0003399848937988281\n"
     ]
    },
    {
     "name": "stdout",
     "output_type": "stream",
     "text": [
      "\n",
      "[DiffTRe] Epoch 9\n",
      "\tEpoch loss = 0.08127\n",
      "\tGradient norm: 0.18372927606105804\n",
      "\tElapsed time = 2.698 min\n",
      "[Statepoint 0]\n",
      "\tkT = 2.468 ref_kT = 2.462\n",
      "\tPredicted entropy: 2.9228973388671875\n",
      "\tPredicted free_energy: -1449.210693359375\n",
      "\tPredicted pressure: 430.7251892089844\n"
     ]
    },
    {
     "name": "stdout",
     "output_type": "stream",
     "text": [
      "[Step Size] Found optimal step size 0.05553843453526497 with residual 0.002583026885986328\n"
     ]
    },
    {
     "name": "stdout",
     "output_type": "stream",
     "text": [
      "\n",
      "[DiffTRe] Epoch 10\n",
      "\tEpoch loss = 0.07596\n",
      "\tGradient norm: 0.1570090502500534\n",
      "\tElapsed time = 2.701 min\n",
      "[Statepoint 0]\n",
      "\tkT = 2.467 ref_kT = 2.462\n",
      "\tPredicted entropy: 3.0435216426849365\n",
      "\tPredicted free_energy: -1578.072021484375\n",
      "\tPredicted pressure: 416.3880310058594\n"
     ]
    },
    {
     "name": "stdout",
     "output_type": "stream",
     "text": [
      "[Step Size] Found optimal step size 0.0560724250972271 with residual 0.0015625953674316406\n"
     ]
    },
    {
     "name": "stdout",
     "output_type": "stream",
     "text": [
      "\n",
      "[DiffTRe] Epoch 11\n",
      "\tEpoch loss = 0.06971\n",
      "\tGradient norm: 0.1119617372751236\n",
      "\tElapsed time = 2.703 min\n",
      "[Statepoint 0]\n",
      "\tkT = 2.462 ref_kT = 2.462\n",
      "\tPredicted entropy: 3.1312859058380127\n",
      "\tPredicted free_energy: -1754.8358154296875\n",
      "\tPredicted pressure: 395.5330810546875\n"
     ]
    },
    {
     "name": "stdout",
     "output_type": "stream",
     "text": [
      "[Step Size] Found optimal step size 0.0535639263689518 with residual 0.0011000633239746094\n"
     ]
    },
    {
     "name": "stdout",
     "output_type": "stream",
     "text": [
      "\n",
      "[DiffTRe] Epoch 12\n",
      "\tEpoch loss = 0.06400\n",
      "\tGradient norm: 0.13304631412029266\n",
      "\tElapsed time = 2.700 min\n",
      "[Statepoint 0]\n",
      "\tkT = 2.461 ref_kT = 2.462\n",
      "\tPredicted entropy: 3.2113561630249023\n",
      "\tPredicted free_energy: -1858.22607421875\n",
      "\tPredicted pressure: 377.4339904785156\n"
     ]
    },
    {
     "name": "stdout",
     "output_type": "stream",
     "text": [
      "[Step Size] Found optimal step size 0.07493582367897034 with residual 0.0007491111755371094\n"
     ]
    },
    {
     "name": "stdout",
     "output_type": "stream",
     "text": [
      "\n",
      "[DiffTRe] Epoch 13\n",
      "\tEpoch loss = 0.05935\n",
      "\tGradient norm: 0.07252632081508636\n",
      "\tElapsed time = 2.701 min\n",
      "[Statepoint 0]\n",
      "\tkT = 2.465 ref_kT = 2.462\n",
      "\tPredicted entropy: 3.30344295501709\n",
      "\tPredicted free_energy: -1964.234619140625\n",
      "\tPredicted pressure: 364.0181884765625\n"
     ]
    },
    {
     "name": "stdout",
     "output_type": "stream",
     "text": [
      "[Step Size] Found optimal step size 0.05227863788604736 with residual 0.0001392364501953125\n"
     ]
    },
    {
     "name": "stdout",
     "output_type": "stream",
     "text": [
      "\n",
      "[DiffTRe] Epoch 14\n",
      "\tEpoch loss = 0.05420\n",
      "\tGradient norm: 0.06779029220342636\n",
      "\tElapsed time = 2.704 min\n",
      "[Statepoint 0]\n",
      "\tkT = 2.458 ref_kT = 2.462\n",
      "\tPredicted entropy: 3.4637222290039062\n",
      "\tPredicted free_energy: -1984.869384765625\n",
      "\tPredicted pressure: 363.1494445800781\n"
     ]
    },
    {
     "name": "stdout",
     "output_type": "stream",
     "text": [
      "[Step Size] Found optimal step size 0.07281851023435593 with residual 0.002334117889404297\n"
     ]
    },
    {
     "name": "stdout",
     "output_type": "stream",
     "text": [
      "\n",
      "[DiffTRe] Epoch 15\n",
      "\tEpoch loss = 0.05072\n",
      "\tGradient norm: 0.041721243411302567\n",
      "\tElapsed time = 2.702 min\n",
      "[Statepoint 0]\n",
      "\tkT = 2.462 ref_kT = 2.462\n",
      "\tPredicted entropy: 3.527883291244507\n",
      "\tPredicted free_energy: -2146.51025390625\n",
      "\tPredicted pressure: 345.3955078125\n"
     ]
    },
    {
     "name": "stdout",
     "output_type": "stream",
     "text": [
      "[Step Size] Found optimal step size 0.046994648873806 with residual 0.0008411407470703125\n"
     ]
    },
    {
     "name": "stdout",
     "output_type": "stream",
     "text": [
      "\n",
      "[DiffTRe] Epoch 16\n",
      "\tEpoch loss = 0.04714\n",
      "\tGradient norm: 0.06377094984054565\n",
      "\tElapsed time = 2.707 min\n",
      "[Statepoint 0]\n",
      "\tkT = 2.463 ref_kT = 2.462\n",
      "\tPredicted entropy: 3.661432981491089\n",
      "\tPredicted free_energy: -2093.930908203125\n",
      "\tPredicted pressure: 344.1494445800781\n"
     ]
    },
    {
     "name": "stdout",
     "output_type": "stream",
     "text": [
      "[Step Size] Found optimal step size 0.09729498624801636 with residual 2.956390380859375e-05\n"
     ]
    },
    {
     "name": "stdout",
     "output_type": "stream",
     "text": [
      "\n",
      "[DiffTRe] Epoch 17\n",
      "\tEpoch loss = 0.04551\n",
      "\tGradient norm: 0.023103982210159302\n",
      "\tElapsed time = 2.704 min\n",
      "[Statepoint 0]\n",
      "\tkT = 2.466 ref_kT = 2.462\n",
      "\tPredicted entropy: 3.6687514781951904\n",
      "\tPredicted free_energy: -2273.284423828125\n",
      "\tPredicted pressure: 330.5783996582031\n"
     ]
    },
    {
     "name": "stdout",
     "output_type": "stream",
     "text": [
      "[Step Size] Found optimal step size 0.08108288794755936 with residual 0.0009706020355224609\n"
     ]
    },
    {
     "name": "stdout",
     "output_type": "stream",
     "text": [
      "\n",
      "[DiffTRe] Epoch 18\n",
      "\tEpoch loss = 0.04236\n",
      "\tGradient norm: 0.018263863399624825\n",
      "\tElapsed time = 2.707 min\n",
      "[Statepoint 0]\n",
      "\tkT = 2.463 ref_kT = 2.462\n",
      "\tPredicted entropy: 3.9044411182403564\n",
      "\tPredicted free_energy: -2157.87646484375\n",
      "\tPredicted pressure: 340.6921081542969\n"
     ]
    },
    {
     "name": "stdout",
     "output_type": "stream",
     "text": [
      "[Step Size] Found optimal step size 0.05130379647016525 with residual 8.416175842285156e-05\n"
     ]
    },
    {
     "name": "stdout",
     "output_type": "stream",
     "text": [
      "\n",
      "[DiffTRe] Epoch 19\n",
      "\tEpoch loss = 0.04096\n",
      "\tGradient norm: 0.026316501200199127\n",
      "\tElapsed time = 2.708 min\n",
      "[Statepoint 0]\n",
      "\tkT = 2.471 ref_kT = 2.462\n",
      "\tPredicted entropy: 3.9732825756073\n",
      "\tPredicted free_energy: -2275.769287109375\n",
      "\tPredicted pressure: 341.1780090332031\n"
     ]
    },
    {
     "name": "stdout",
     "output_type": "stream",
     "text": [
      "[Step Size] Found optimal step size 0.05819595232605934 with residual 0.0016453266143798828\n"
     ]
    },
    {
     "name": "stdout",
     "output_type": "stream",
     "text": [
      "\n",
      "[DiffTRe] Epoch 20\n",
      "\tEpoch loss = 0.04009\n",
      "\tGradient norm: 0.02832428365945816\n",
      "\tElapsed time = 2.712 min\n",
      "[Statepoint 0]\n",
      "\tkT = 2.466 ref_kT = 2.462\n",
      "\tPredicted entropy: 4.111354827880859\n",
      "\tPredicted free_energy: -2070.59814453125\n",
      "\tPredicted pressure: 358.2225036621094\n"
     ]
    },
    {
     "name": "stdout",
     "output_type": "stream",
     "text": [
      "[Step Size] Found optimal step size 0.19500839710235596 with residual 0.0004658699035644531\n"
     ]
    },
    {
     "name": "stdout",
     "output_type": "stream",
     "text": [
      "\n",
      "[DiffTRe] Epoch 21\n",
      "\tEpoch loss = 0.03871\n",
      "\tGradient norm: 0.005490739364176989\n",
      "\tElapsed time = 2.714 min\n",
      "[Statepoint 0]\n",
      "\tkT = 2.465 ref_kT = 2.462\n",
      "\tPredicted entropy: 4.0304083824157715\n",
      "\tPredicted free_energy: -2495.965576171875\n",
      "\tPredicted pressure: 320.12115478515625\n"
     ]
    },
    {
     "name": "stdout",
     "output_type": "stream",
     "text": [
      "[Step Size] Found optimal step size 0.13276785612106323 with residual 0.00022077560424804688\n"
     ]
    },
    {
     "name": "stdout",
     "output_type": "stream",
     "text": [
      "\n",
      "[DiffTRe] Epoch 22\n",
      "\tEpoch loss = 0.03704\n",
      "\tGradient norm: 0.0039050783962011337\n",
      "\tElapsed time = 2.715 min\n",
      "[Statepoint 0]\n",
      "\tkT = 2.466 ref_kT = 2.462\n",
      "\tPredicted entropy: 4.2354536056518555\n",
      "\tPredicted free_energy: -2853.604248046875\n",
      "\tPredicted pressure: 301.82452392578125\n"
     ]
    },
    {
     "name": "stdout",
     "output_type": "stream",
     "text": [
      "[Step Size] Found optimal step size 0.10298876464366913 with residual 0.0011284351348876953\n"
     ]
    },
    {
     "name": "stdout",
     "output_type": "stream",
     "text": [
      "\n",
      "[DiffTRe] Epoch 23\n",
      "\tEpoch loss = 0.03555\n",
      "\tGradient norm: 0.006110412068665028\n",
      "\tElapsed time = 2.713 min\n",
      "[Statepoint 0]\n",
      "\tkT = 2.458 ref_kT = 2.462\n",
      "\tPredicted entropy: 4.282986164093018\n",
      "\tPredicted free_energy: -3268.4375\n",
      "\tPredicted pressure: 285.7274169921875\n"
     ]
    },
    {
     "name": "stdout",
     "output_type": "stream",
     "text": [
      "[Step Size] Found optimal step size 0.04381556436419487 with residual 0.00014472007751464844\n"
     ]
    },
    {
     "name": "stdout",
     "output_type": "stream",
     "text": [
      "\n",
      "[DiffTRe] Epoch 24\n",
      "\tEpoch loss = 0.03472\n",
      "\tGradient norm: 0.010918434709310532\n",
      "\tElapsed time = 2.718 min\n",
      "[Statepoint 0]\n",
      "\tkT = 2.469 ref_kT = 2.462\n",
      "\tPredicted entropy: 4.349307060241699\n",
      "\tPredicted free_energy: -3425.649658203125\n",
      "\tPredicted pressure: 279.2060852050781\n"
     ]
    },
    {
     "name": "stdout",
     "output_type": "stream",
     "text": [
      "[Step Size] Found optimal step size 0.07977276295423508 with residual 0.0005316734313964844\n"
     ]
    },
    {
     "name": "stdout",
     "output_type": "stream",
     "text": [
      "\n",
      "[DiffTRe] Epoch 25\n",
      "\tEpoch loss = 0.03414\n",
      "\tGradient norm: 0.0058218021877110004\n",
      "\tElapsed time = 2.717 min\n",
      "[Statepoint 0]\n",
      "\tkT = 2.462 ref_kT = 2.462\n",
      "\tPredicted entropy: 4.3840413093566895\n",
      "\tPredicted free_energy: -3408.73291015625\n",
      "\tPredicted pressure: 286.93536376953125\n"
     ]
    },
    {
     "name": "stdout",
     "output_type": "stream",
     "text": [
      "[Step Size] Found optimal step size 0.05888517200946808 with residual 0.000579833984375\n"
     ]
    },
    {
     "name": "stdout",
     "output_type": "stream",
     "text": [
      "\n",
      "[DiffTRe] Epoch 26\n",
      "\tEpoch loss = 0.03431\n",
      "\tGradient norm: 0.03151208907365799\n",
      "\tElapsed time = 2.722 min\n",
      "[Statepoint 0]\n",
      "\tkT = 2.458 ref_kT = 2.462\n",
      "\tPredicted entropy: 4.482857704162598\n",
      "\tPredicted free_energy: -3299.0\n",
      "\tPredicted pressure: 301.80291748046875\n"
     ]
    },
    {
     "name": "stdout",
     "output_type": "stream",
     "text": [
      "[Step Size] Found optimal step size 0.21066787838935852 with residual 0.002720355987548828\n"
     ]
    },
    {
     "name": "stdout",
     "output_type": "stream",
     "text": [
      "\n",
      "[DiffTRe] Epoch 27\n",
      "\tEpoch loss = 0.03306\n",
      "\tGradient norm: 0.0021364272106438875\n",
      "\tElapsed time = 2.719 min\n",
      "[Statepoint 0]\n",
      "\tkT = 2.465 ref_kT = 2.462\n",
      "\tPredicted entropy: 4.331233501434326\n",
      "\tPredicted free_energy: -3857.7158203125\n",
      "\tPredicted pressure: 258.2695007324219\n"
     ]
    },
    {
     "name": "stdout",
     "output_type": "stream",
     "text": [
      "[Step Size] Found optimal step size 0.0653737336397171 with residual 0.021349430084228516\n"
     ]
    },
    {
     "name": "stdout",
     "output_type": "stream",
     "text": [
      "\n",
      "[DiffTRe] Epoch 28\n",
      "\tEpoch loss = 0.03147\n",
      "\tGradient norm: 0.008684496395289898\n",
      "\tElapsed time = 2.737 min\n",
      "[Statepoint 0]\n",
      "\tkT = 2.457 ref_kT = 2.462\n",
      "\tPredicted entropy: 4.2325358390808105\n",
      "\tPredicted free_energy: -4744.640625\n",
      "\tPredicted pressure: 213.1644744873047\n"
     ]
    },
    {
     "name": "stdout",
     "output_type": "stream",
     "text": [
      "[Step Size] Found optimal step size 0.2644701600074768 with residual 0.02908778190612793\n"
     ]
    },
    {
     "name": "stdout",
     "output_type": "stream",
     "text": [
      "\n",
      "[DiffTRe] Epoch 29\n",
      "\tEpoch loss = 0.03155\n",
      "\tGradient norm: 0.002668860135599971\n",
      "\tElapsed time = 2.704 min\n",
      "[Statepoint 0]\n",
      "\tkT = 2.464 ref_kT = 2.462\n",
      "\tPredicted entropy: 4.262420654296875\n",
      "\tPredicted free_energy: -4548.39697265625\n",
      "\tPredicted pressure: 228.2977752685547\n"
     ]
    },
    {
     "name": "stdout",
     "output_type": "stream",
     "text": [
      "[Step Size] Found optimal step size 0.06465347111225128 with residual 0.0003020763397216797\n"
     ]
    },
    {
     "name": "stdout",
     "output_type": "stream",
     "text": [
      "\n",
      "[DiffTRe] Epoch 30\n",
      "\tEpoch loss = 0.02958\n",
      "\tGradient norm: 0.007060658652335405\n",
      "\tElapsed time = 2.722 min\n",
      "[Statepoint 0]\n",
      "\tkT = 2.454 ref_kT = 2.462\n",
      "\tPredicted entropy: 4.1731157302856445\n",
      "\tPredicted free_energy: -5498.09814453125\n",
      "\tPredicted pressure: 191.00245666503906\n"
     ]
    },
    {
     "name": "stdout",
     "output_type": "stream",
     "text": [
      "[Step Size] Found optimal step size 0.048844970762729645 with residual 0.027605533599853516\n"
     ]
    },
    {
     "name": "stdout",
     "output_type": "stream",
     "text": [
      "\n",
      "[DiffTRe] Epoch 31\n",
      "\tEpoch loss = 0.02867\n",
      "\tGradient norm: 0.009643757715821266\n",
      "\tElapsed time = 2.711 min\n",
      "[Statepoint 0]\n",
      "\tkT = 2.467 ref_kT = 2.462\n",
      "\tPredicted entropy: 4.239561080932617\n",
      "\tPredicted free_energy: -5662.7626953125\n",
      "\tPredicted pressure: 182.14842224121094\n"
     ]
    },
    {
     "name": "stdout",
     "output_type": "stream",
     "text": [
      "[Step Size] Found optimal step size 0.054942354559898376 with residual 0.0012650489807128906\n"
     ]
    },
    {
     "name": "stdout",
     "output_type": "stream",
     "text": [
      "\n",
      "[DiffTRe] Epoch 32\n",
      "\tEpoch loss = 0.02863\n",
      "\tGradient norm: 0.011492052115499973\n",
      "\tElapsed time = 2.716 min\n",
      "[Statepoint 0]\n",
      "\tkT = 2.462 ref_kT = 2.462\n",
      "\tPredicted entropy: 4.244324207305908\n",
      "\tPredicted free_energy: -5370.89453125\n",
      "\tPredicted pressure: 204.86724853515625\n"
     ]
    },
    {
     "name": "stdout",
     "output_type": "stream",
     "text": [
      "[Step Size] Found optimal step size 0.09341426193714142 with residual 0.00032901763916015625\n"
     ]
    },
    {
     "name": "stdout",
     "output_type": "stream",
     "text": [
      "\n",
      "[DiffTRe] Epoch 33\n",
      "\tEpoch loss = 0.02784\n",
      "\tGradient norm: 0.006838821806013584\n",
      "\tElapsed time = 2.717 min\n",
      "[Statepoint 0]\n",
      "\tkT = 2.471 ref_kT = 2.462\n",
      "\tPredicted entropy: 4.245877742767334\n",
      "\tPredicted free_energy: -5723.00439453125\n",
      "\tPredicted pressure: 181.06761169433594\n"
     ]
    },
    {
     "name": "stdout",
     "output_type": "stream",
     "text": [
      "[Step Size] Found optimal step size 0.06648516654968262 with residual 0.004840850830078125\n"
     ]
    },
    {
     "name": "stdout",
     "output_type": "stream",
     "text": [
      "\n",
      "[DiffTRe] Epoch 34\n",
      "\tEpoch loss = 0.02808\n",
      "\tGradient norm: 0.005736091639846563\n",
      "\tElapsed time = 2.721 min\n",
      "[Statepoint 0]\n",
      "\tkT = 2.464 ref_kT = 2.462\n",
      "\tPredicted entropy: 4.182639122009277\n",
      "\tPredicted free_energy: -5609.95703125\n",
      "\tPredicted pressure: 191.7781982421875\n"
     ]
    },
    {
     "name": "stdout",
     "output_type": "stream",
     "text": [
      "[Step Size] Found optimal step size 0.10758353769779205 with residual 0.00012254714965820312\n"
     ]
    },
    {
     "name": "stdout",
     "output_type": "stream",
     "text": [
      "\n",
      "[DiffTRe] Epoch 35\n",
      "\tEpoch loss = 0.02800\n",
      "\tGradient norm: 0.004680092446506023\n",
      "\tElapsed time = 2.717 min\n",
      "[Statepoint 0]\n",
      "\tkT = 2.464 ref_kT = 2.462\n",
      "\tPredicted entropy: 4.107640266418457\n",
      "\tPredicted free_energy: -6116.2998046875\n",
      "\tPredicted pressure: 170.89772033691406\n"
     ]
    },
    {
     "name": "stdout",
     "output_type": "stream",
     "text": [
      "[Step Size] Found optimal step size 0.12452211230993271 with residual 0.0010972023010253906\n"
     ]
    },
    {
     "name": "stdout",
     "output_type": "stream",
     "text": [
      "\n",
      "[DiffTRe] Epoch 36\n",
      "\tEpoch loss = 0.02672\n",
      "\tGradient norm: 0.0018761394312605262\n",
      "\tElapsed time = 2.722 min\n",
      "[Statepoint 0]\n",
      "\tkT = 2.461 ref_kT = 2.462\n",
      "\tPredicted entropy: 4.1471662521362305\n",
      "\tPredicted free_energy: -5956.83154296875\n",
      "\tPredicted pressure: 182.12289428710938\n"
     ]
    },
    {
     "name": "stdout",
     "output_type": "stream",
     "text": [
      "[Step Size] Found optimal step size 0.08265381306409836 with residual 0.3399691581726074\n"
     ]
    },
    {
     "name": "stdout",
     "output_type": "stream",
     "text": [
      "\n",
      "[DiffTRe] Epoch 37\n",
      "\tEpoch loss = 0.02623\n",
      "\tGradient norm: 0.0026447551790624857\n",
      "\tElapsed time = 2.720 min\n",
      "[Statepoint 0]\n",
      "\tkT = 2.466 ref_kT = 2.462\n",
      "\tPredicted entropy: 4.027464866638184\n",
      "\tPredicted free_energy: -6650.47265625\n",
      "\tPredicted pressure: 152.50778198242188\n"
     ]
    },
    {
     "name": "stdout",
     "output_type": "stream",
     "text": [
      "[Step Size] Found optimal step size 0.11782864481210709 with residual 0.0037064552307128906\n"
     ]
    },
    {
     "name": "stdout",
     "output_type": "stream",
     "text": [
      "\n",
      "[DiffTRe] Epoch 38\n",
      "\tEpoch loss = 0.02557\n",
      "\tGradient norm: 0.0031116625759750605\n",
      "\tElapsed time = 2.714 min\n",
      "[Statepoint 0]\n",
      "\tkT = 2.466 ref_kT = 2.462\n",
      "\tPredicted entropy: 4.0158796310424805\n",
      "\tPredicted free_energy: -6337.89404296875\n",
      "\tPredicted pressure: 173.7356414794922\n"
     ]
    },
    {
     "name": "stdout",
     "output_type": "stream",
     "text": [
      "[Step Size] Found optimal step size 0.04058059677481651 with residual 0.01288461685180664\n"
     ]
    },
    {
     "name": "stdout",
     "output_type": "stream",
     "text": [
      "\n",
      "[DiffTRe] Epoch 39\n",
      "\tEpoch loss = 0.02516\n",
      "\tGradient norm: 0.008814167231321335\n",
      "\tElapsed time = 2.713 min\n",
      "[Statepoint 0]\n",
      "\tkT = 2.466 ref_kT = 2.462\n",
      "\tPredicted entropy: 3.821241855621338\n",
      "\tPredicted free_energy: -6700.66650390625\n",
      "\tPredicted pressure: 160.57704162597656\n"
     ]
    },
    {
     "name": "stdout",
     "output_type": "stream",
     "text": [
      "[Step Size] Found optimal step size 0.06773321330547333 with residual 0.0009520053863525391\n"
     ]
    },
    {
     "name": "stdout",
     "output_type": "stream",
     "text": [
      "\n",
      "[DiffTRe] Epoch 40\n",
      "\tEpoch loss = 0.02474\n",
      "\tGradient norm: 0.003472318407148123\n",
      "\tElapsed time = 2.707 min\n",
      "[Statepoint 0]\n",
      "\tkT = 2.471 ref_kT = 2.462\n",
      "\tPredicted entropy: 3.8839566707611084\n",
      "\tPredicted free_energy: -6487.48486328125\n",
      "\tPredicted pressure: 170.49232482910156\n"
     ]
    },
    {
     "name": "stdout",
     "output_type": "stream",
     "text": [
      "[Step Size] Found optimal step size 0.060729287564754486 with residual 0.007171154022216797\n"
     ]
    },
    {
     "name": "stdout",
     "output_type": "stream",
     "text": [
      "\n",
      "[DiffTRe] Epoch 41\n",
      "\tEpoch loss = 0.02440\n",
      "\tGradient norm: 0.009781386703252792\n",
      "\tElapsed time = 2.713 min\n",
      "[Statepoint 0]\n",
      "\tkT = 2.467 ref_kT = 2.462\n",
      "\tPredicted entropy: 3.819136381149292\n",
      "\tPredicted free_energy: -6607.2939453125\n",
      "\tPredicted pressure: 162.90585327148438\n"
     ]
    },
    {
     "name": "stdout",
     "output_type": "stream",
     "text": [
      "[Step Size] Found optimal step size 0.08265380561351776 with residual 0.2635622024536133\n"
     ]
    },
    {
     "name": "stdout",
     "output_type": "stream",
     "text": [
      "\n",
      "[DiffTRe] Epoch 42\n",
      "\tEpoch loss = 0.02469\n",
      "\tGradient norm: 0.0028380730655044317\n",
      "\tElapsed time = 2.714 min\n",
      "[Statepoint 0]\n",
      "\tkT = 2.458 ref_kT = 2.462\n",
      "\tPredicted entropy: 3.7133824825286865\n",
      "\tPredicted free_energy: -7068.71826171875\n",
      "\tPredicted pressure: 142.43836975097656\n"
     ]
    },
    {
     "name": "stdout",
     "output_type": "stream",
     "text": [
      "[Step Size] Found optimal step size 0.08265380561351776 with residual 0.23050832748413086\n"
     ]
    },
    {
     "name": "stdout",
     "output_type": "stream",
     "text": [
      "\n",
      "[DiffTRe] Epoch 43\n",
      "\tEpoch loss = 0.02381\n",
      "\tGradient norm: 0.0023482595570385456\n",
      "\tElapsed time = 2.714 min\n",
      "[Statepoint 0]\n",
      "\tkT = 2.458 ref_kT = 2.462\n",
      "\tPredicted entropy: 3.7937467098236084\n",
      "\tPredicted free_energy: -6960.90380859375\n",
      "\tPredicted pressure: 152.22604370117188\n"
     ]
    },
    {
     "name": "stdout",
     "output_type": "stream",
     "text": [
      "[Step Size] Found optimal step size 0.08265381306409836 with residual 0.2437882423400879\n"
     ]
    },
    {
     "name": "stdout",
     "output_type": "stream",
     "text": [
      "\n",
      "[DiffTRe] Epoch 44\n",
      "\tEpoch loss = 0.02370\n",
      "\tGradient norm: 0.004011994227766991\n",
      "\tElapsed time = 2.717 min\n",
      "[Statepoint 0]\n",
      "\tkT = 2.460 ref_kT = 2.462\n",
      "\tPredicted entropy: 3.742128610610962\n",
      "\tPredicted free_energy: -6942.98583984375\n",
      "\tPredicted pressure: 159.97909545898438\n"
     ]
    },
    {
     "name": "stdout",
     "output_type": "stream",
     "text": [
      "[Step Size] Found optimal step size 0.07322831451892853 with residual 0.0025243759155273438\n"
     ]
    },
    {
     "name": "stdout",
     "output_type": "stream",
     "text": [
      "\n",
      "[DiffTRe] Epoch 45\n",
      "\tEpoch loss = 0.02291\n",
      "\tGradient norm: 0.010999626480042934\n",
      "\tElapsed time = 2.721 min\n",
      "[Statepoint 0]\n",
      "\tkT = 2.464 ref_kT = 2.462\n",
      "\tPredicted entropy: 3.720419406890869\n",
      "\tPredicted free_energy: -7226.04833984375\n",
      "\tPredicted pressure: 138.60194396972656\n"
     ]
    },
    {
     "name": "stdout",
     "output_type": "stream",
     "text": [
      "[Step Size] Found optimal step size 0.07233420014381409 with residual 0.0016870498657226562\n"
     ]
    },
    {
     "name": "stdout",
     "output_type": "stream",
     "text": [
      "\n",
      "[DiffTRe] Epoch 46\n",
      "\tEpoch loss = 0.02291\n",
      "\tGradient norm: 0.0036964500322937965\n",
      "\tElapsed time = 2.722 min\n",
      "[Statepoint 0]\n",
      "\tkT = 2.461 ref_kT = 2.462\n",
      "\tPredicted entropy: 3.847076416015625\n",
      "\tPredicted free_energy: -6832.8623046875\n",
      "\tPredicted pressure: 167.6994171142578\n"
     ]
    },
    {
     "name": "stdout",
     "output_type": "stream",
     "text": [
      "[Step Size] Found optimal step size 0.19534990191459656 with residual 0.0007557868957519531\n"
     ]
    },
    {
     "name": "stdout",
     "output_type": "stream",
     "text": [
      "\n",
      "[DiffTRe] Epoch 47\n",
      "\tEpoch loss = 0.02256\n",
      "\tGradient norm: 0.0023708725348114967\n",
      "\tElapsed time = 2.726 min\n",
      "[Statepoint 0]\n",
      "\tkT = 2.470 ref_kT = 2.462\n",
      "\tPredicted entropy: 3.8505172729492188\n",
      "\tPredicted free_energy: -6708.583984375\n",
      "\tPredicted pressure: 177.50634765625\n"
     ]
    },
    {
     "name": "stdout",
     "output_type": "stream",
     "text": [
      "[Step Size] Found optimal step size 0.044181905686855316 with residual 0.00142669677734375\n"
     ]
    },
    {
     "name": "stdout",
     "output_type": "stream",
     "text": [
      "\n",
      "[DiffTRe] Epoch 48\n",
      "\tEpoch loss = 0.02133\n",
      "\tGradient norm: 0.013841172680258751\n",
      "\tElapsed time = 2.726 min\n",
      "[Statepoint 0]\n",
      "\tkT = 2.466 ref_kT = 2.462\n",
      "\tPredicted entropy: 3.6754961013793945\n",
      "\tPredicted free_energy: -7534.4345703125\n",
      "\tPredicted pressure: 139.1604766845703\n"
     ]
    },
    {
     "name": "stdout",
     "output_type": "stream",
     "text": [
      "[Step Size] Found optimal step size 0.1540963053703308 with residual 0.0002231597900390625\n"
     ]
    },
    {
     "name": "stdout",
     "output_type": "stream",
     "text": [
      "\n",
      "[DiffTRe] Epoch 49\n",
      "\tEpoch loss = 0.02139\n",
      "\tGradient norm: 0.003109158016741276\n",
      "\tElapsed time = 2.727 min\n",
      "[Statepoint 0]\n",
      "\tkT = 2.460 ref_kT = 2.462\n",
      "\tPredicted entropy: 3.695502281188965\n",
      "\tPredicted free_energy: -7275.4677734375\n",
      "\tPredicted pressure: 156.9134979248047\n"
     ]
    },
    {
     "name": "stdout",
     "output_type": "stream",
     "text": [
      "[Step Size] Found optimal step size 0.168358713388443 with residual 0.00029659271240234375\n"
     ]
    },
    {
     "name": "stdout",
     "output_type": "stream",
     "text": [
      "\n",
      "[DiffTRe] Epoch 50\n",
      "\tEpoch loss = 0.02068\n",
      "\tGradient norm: 0.0014812848530709743\n",
      "\tElapsed time = 2.729 min\n",
      "[Statepoint 0]\n",
      "\tkT = 2.453 ref_kT = 2.462\n",
      "\tPredicted entropy: 3.5273680686950684\n",
      "\tPredicted free_energy: -7829.5302734375\n",
      "\tPredicted pressure: 133.35244750976562\n"
     ]
    },
    {
     "name": "stdout",
     "output_type": "stream",
     "text": [
      "[Step Size] Found optimal step size 0.06406360864639282 with residual 0.0011510848999023438\n"
     ]
    },
    {
     "name": "stdout",
     "output_type": "stream",
     "text": [
      "\n",
      "[DiffTRe] Epoch 51\n",
      "\tEpoch loss = 0.02054\n",
      "\tGradient norm: 0.01121461484581232\n",
      "\tElapsed time = 2.757 min\n",
      "[Statepoint 0]\n",
      "\tkT = 2.470 ref_kT = 2.462\n",
      "\tPredicted entropy: 3.629861831665039\n",
      "\tPredicted free_energy: -7867.443359375\n",
      "\tPredicted pressure: 139.90408325195312\n"
     ]
    },
    {
     "name": "stdout",
     "output_type": "stream",
     "text": [
      "[Step Size] Found optimal step size 0.050937455147504807 with residual 0.0002503395080566406\n"
     ]
    },
    {
     "name": "stdout",
     "output_type": "stream",
     "text": [
      "\n",
      "[DiffTRe] Epoch 52\n",
      "\tEpoch loss = 0.01942\n",
      "\tGradient norm: 0.0058807795867323875\n",
      "\tElapsed time = 2.746 min\n",
      "[Statepoint 0]\n",
      "\tkT = 2.456 ref_kT = 2.462\n",
      "\tPredicted entropy: 3.513216972351074\n",
      "\tPredicted free_energy: -8219.8564453125\n",
      "\tPredicted pressure: 117.9385757446289\n"
     ]
    },
    {
     "name": "stdout",
     "output_type": "stream",
     "text": [
      "[Step Size] Found optimal step size 0.07651294767856598 with residual 0.0010652542114257812\n"
     ]
    },
    {
     "name": "stdout",
     "output_type": "stream",
     "text": [
      "\n",
      "[DiffTRe] Epoch 53\n",
      "\tEpoch loss = 0.01980\n",
      "\tGradient norm: 0.008270300924777985\n",
      "\tElapsed time = 2.749 min\n",
      "[Statepoint 0]\n",
      "\tkT = 2.455 ref_kT = 2.462\n",
      "\tPredicted entropy: 3.45671010017395\n",
      "\tPredicted free_energy: -8606.2880859375\n",
      "\tPredicted pressure: 100.01148986816406\n"
     ]
    },
    {
     "name": "stdout",
     "output_type": "stream",
     "text": [
      "[Step Size] Found optimal step size 0.08265381306409836 with residual 0.14670324325561523\n"
     ]
    },
    {
     "name": "stdout",
     "output_type": "stream",
     "text": [
      "\n",
      "[DiffTRe] Epoch 54\n",
      "\tEpoch loss = 0.01928\n",
      "\tGradient norm: 0.00523982523009181\n",
      "\tElapsed time = 2.748 min\n",
      "[Statepoint 0]\n",
      "\tkT = 2.460 ref_kT = 2.462\n",
      "\tPredicted entropy: 3.5433244705200195\n",
      "\tPredicted free_energy: -8203.552734375\n",
      "\tPredicted pressure: 123.5760498046875\n"
     ]
    },
    {
     "name": "stdout",
     "output_type": "stream",
     "text": [
      "[Step Size] Found optimal step size 0.1232244074344635 with residual 0.0002715587615966797\n"
     ]
    },
    {
     "name": "stdout",
     "output_type": "stream",
     "text": [
      "\n",
      "[DiffTRe] Epoch 55\n",
      "\tEpoch loss = 0.01902\n",
      "\tGradient norm: 0.003137152176350355\n",
      "\tElapsed time = 2.748 min\n",
      "[Statepoint 0]\n",
      "\tkT = 2.466 ref_kT = 2.462\n",
      "\tPredicted entropy: 3.4927473068237305\n",
      "\tPredicted free_energy: -8340.3173828125\n",
      "\tPredicted pressure: 120.92337799072266\n"
     ]
    },
    {
     "name": "stdout",
     "output_type": "stream",
     "text": [
      "[Step Size] Found optimal step size 0.06497013568878174 with residual 0.003920555114746094\n"
     ]
    },
    {
     "name": "stdout",
     "output_type": "stream",
     "text": [
      "\n",
      "[DiffTRe] Epoch 56\n",
      "\tEpoch loss = 0.01862\n",
      "\tGradient norm: 0.008218959905207157\n",
      "\tElapsed time = 2.750 min\n",
      "[Statepoint 0]\n",
      "\tkT = 2.457 ref_kT = 2.462\n",
      "\tPredicted entropy: 3.494046926498413\n",
      "\tPredicted free_energy: -8442.8759765625\n",
      "\tPredicted pressure: 118.66621398925781\n"
     ]
    },
    {
     "name": "stdout",
     "output_type": "stream",
     "text": [
      "[Step Size] Found optimal step size 0.08265381306409836 with residual 0.166015625\n"
     ]
    },
    {
     "name": "stdout",
     "output_type": "stream",
     "text": [
      "\n",
      "[DiffTRe] Epoch 57\n",
      "\tEpoch loss = 0.01793\n",
      "\tGradient norm: 0.0045677609741687775\n",
      "\tElapsed time = 2.747 min\n",
      "[Statepoint 0]\n",
      "\tkT = 2.462 ref_kT = 2.462\n",
      "\tPredicted entropy: 3.37808895111084\n",
      "\tPredicted free_energy: -8820.572265625\n",
      "\tPredicted pressure: 97.47692108154297\n"
     ]
    },
    {
     "name": "stdout",
     "output_type": "stream",
     "text": [
      "[Step Size] Found optimal step size 0.05460085719823837 with residual 0.003567218780517578\n"
     ]
    },
    {
     "name": "stdout",
     "output_type": "stream",
     "text": [
      "\n",
      "[DiffTRe] Epoch 58\n",
      "\tEpoch loss = 0.01827\n",
      "\tGradient norm: 0.02345690131187439\n",
      "\tElapsed time = 2.741 min\n",
      "[Statepoint 0]\n",
      "\tkT = 2.463 ref_kT = 2.462\n",
      "\tPredicted entropy: 3.2590723037719727\n",
      "\tPredicted free_energy: -9123.98828125\n",
      "\tPredicted pressure: 81.96312713623047\n"
     ]
    },
    {
     "name": "stdout",
     "output_type": "stream",
     "text": [
      "[Step Size] Found optimal step size 0.14162832498550415 with residual 0.00021696090698242188\n"
     ]
    },
    {
     "name": "stdout",
     "output_type": "stream",
     "text": [
      "\n",
      "[DiffTRe] Epoch 59\n",
      "\tEpoch loss = 0.01770\n",
      "\tGradient norm: 0.0034723570570349693\n",
      "\tElapsed time = 2.748 min\n",
      "[Statepoint 0]\n",
      "\tkT = 2.457 ref_kT = 2.462\n",
      "\tPredicted entropy: 3.327254295349121\n",
      "\tPredicted free_energy: -8747.9033203125\n",
      "\tPredicted pressure: 108.63729858398438\n"
     ]
    },
    {
     "name": "stdout",
     "output_type": "stream",
     "text": [
      "[Step Size] Found optimal step size 0.08265380561351776 with residual 0.23379087448120117\n"
     ]
    },
    {
     "name": "stdout",
     "output_type": "stream",
     "text": [
      "\n",
      "[DiffTRe] Epoch 60\n",
      "\tEpoch loss = 0.01729\n",
      "\tGradient norm: 0.004218488931655884\n",
      "\tElapsed time = 2.755 min\n",
      "[Statepoint 0]\n",
      "\tkT = 2.451 ref_kT = 2.462\n",
      "\tPredicted entropy: 3.2899436950683594\n",
      "\tPredicted free_energy: -8632.9765625\n",
      "\tPredicted pressure: 115.04000854492188\n"
     ]
    },
    {
     "name": "stdout",
     "output_type": "stream",
     "text": [
      "[Step Size] Found optimal step size 0.10860805213451385 with residual 0.0005381107330322266\n"
     ]
    },
    {
     "name": "stdout",
     "output_type": "stream",
     "text": [
      "\n",
      "[DiffTRe] Epoch 61\n",
      "\tEpoch loss = 0.01668\n",
      "\tGradient norm: 0.00299689918756485\n",
      "\tElapsed time = 2.752 min\n",
      "[Statepoint 0]\n",
      "\tkT = 2.459 ref_kT = 2.462\n",
      "\tPredicted entropy: 3.264859676361084\n",
      "\tPredicted free_energy: -8269.5693359375\n",
      "\tPredicted pressure: 132.1308135986328\n"
     ]
    },
    {
     "name": "stdout",
     "output_type": "stream",
     "text": [
      "[Step Size] Found optimal step size 0.17356199026107788 with residual 0.014223337173461914\n"
     ]
    },
    {
     "name": "stdout",
     "output_type": "stream",
     "text": [
      "\n",
      "[DiffTRe] Epoch 62\n",
      "\tEpoch loss = 0.01650\n",
      "\tGradient norm: 0.001680215122178197\n",
      "\tElapsed time = 2.747 min\n",
      "[Statepoint 0]\n",
      "\tkT = 2.466 ref_kT = 2.462\n",
      "\tPredicted entropy: 3.1775741577148438\n",
      "\tPredicted free_energy: -8482.5498046875\n",
      "\tPredicted pressure: 122.21324920654297\n"
     ]
    },
    {
     "name": "stdout",
     "output_type": "stream",
     "text": [
      "[Step Size] Found optimal step size 0.05596686527132988 with residual 0.0034902095794677734\n"
     ]
    },
    {
     "name": "stdout",
     "output_type": "stream",
     "text": [
      "\n",
      "[DiffTRe] Epoch 63\n",
      "\tEpoch loss = 0.01628\n",
      "\tGradient norm: 0.02146271988749504\n",
      "\tElapsed time = 2.748 min\n",
      "[Statepoint 0]\n",
      "\tkT = 2.460 ref_kT = 2.462\n",
      "\tPredicted entropy: 3.210787773132324\n",
      "\tPredicted free_energy: -8413.5\n",
      "\tPredicted pressure: 137.13876342773438\n"
     ]
    },
    {
     "name": "stdout",
     "output_type": "stream",
     "text": [
      "[Step Size] Found optimal step size 0.11399759352207184 with residual 0.0018656253814697266\n"
     ]
    },
    {
     "name": "stdout",
     "output_type": "stream",
     "text": [
      "\n",
      "[DiffTRe] Epoch 64\n",
      "\tEpoch loss = 0.01544\n",
      "\tGradient norm: 0.0032660961151123047\n",
      "\tElapsed time = 2.745 min\n",
      "[Statepoint 0]\n",
      "\tkT = 2.461 ref_kT = 2.462\n",
      "\tPredicted entropy: 3.163680076599121\n",
      "\tPredicted free_energy: -8784.265625\n",
      "\tPredicted pressure: 117.33353424072266\n"
     ]
    },
    {
     "name": "stdout",
     "output_type": "stream",
     "text": [
      "[Step Size] Found optimal step size 0.08082210272550583 with residual 0.00020313262939453125\n"
     ]
    },
    {
     "name": "stdout",
     "output_type": "stream",
     "text": [
      "\n",
      "[DiffTRe] Epoch 65\n",
      "\tEpoch loss = 0.01526\n",
      "\tGradient norm: 0.007989320904016495\n",
      "\tElapsed time = 2.742 min\n",
      "[Statepoint 0]\n",
      "\tkT = 2.470 ref_kT = 2.462\n",
      "\tPredicted entropy: 3.065687894821167\n",
      "\tPredicted free_energy: -8936.7705078125\n",
      "\tPredicted pressure: 111.52897644042969\n"
     ]
    },
    {
     "name": "stdout",
     "output_type": "stream",
     "text": [
      "[Step Size] Found optimal step size 0.10799334198236465 with residual 0.005389690399169922\n"
     ]
    },
    {
     "name": "stdout",
     "output_type": "stream",
     "text": [
      "\n",
      "[DiffTRe] Epoch 66\n",
      "\tEpoch loss = 0.01461\n",
      "\tGradient norm: 0.004580482840538025\n",
      "\tElapsed time = 2.742 min\n",
      "[Statepoint 0]\n",
      "\tkT = 2.462 ref_kT = 2.462\n",
      "\tPredicted entropy: 3.1026124954223633\n",
      "\tPredicted free_energy: -8520.1796875\n",
      "\tPredicted pressure: 130.59593200683594\n"
     ]
    },
    {
     "name": "stdout",
     "output_type": "stream",
     "text": [
      "[Step Size] Found optimal step size 0.0535639226436615 with residual 0.0019083023071289062\n"
     ]
    },
    {
     "name": "stdout",
     "output_type": "stream",
     "text": [
      "\n",
      "[DiffTRe] Epoch 67\n",
      "\tEpoch loss = 0.01426\n",
      "\tGradient norm: 0.011825675144791603\n",
      "\tElapsed time = 2.741 min\n",
      "[Statepoint 0]\n",
      "\tkT = 2.466 ref_kT = 2.462\n",
      "\tPredicted entropy: 2.999809741973877\n",
      "\tPredicted free_energy: -8947.455078125\n",
      "\tPredicted pressure: 110.64203643798828\n"
     ]
    },
    {
     "name": "stdout",
     "output_type": "stream",
     "text": [
      "[Step Size] Found optimal step size 0.19133256375789642 with residual 0.0010445117950439453\n"
     ]
    },
    {
     "name": "stdout",
     "output_type": "stream",
     "text": [
      "\n",
      "[DiffTRe] Epoch 68\n",
      "\tEpoch loss = 0.01417\n",
      "\tGradient norm: 0.0026165544986724854\n",
      "\tElapsed time = 2.743 min\n",
      "[Statepoint 0]\n",
      "\tkT = 2.464 ref_kT = 2.462\n",
      "\tPredicted entropy: 2.9245030879974365\n",
      "\tPredicted free_energy: -9205.654296875\n",
      "\tPredicted pressure: 105.19222259521484\n"
     ]
    },
    {
     "name": "stdout",
     "output_type": "stream",
     "text": [
      "[Step Size] Found optimal step size 0.08007701486349106 with residual 0.0002846717834472656\n"
     ]
    },
    {
     "name": "stdout",
     "output_type": "stream",
     "text": [
      "\n",
      "[DiffTRe] Epoch 69\n",
      "\tEpoch loss = 0.01397\n",
      "\tGradient norm: 0.0203111469745636\n",
      "\tElapsed time = 2.745 min\n",
      "[Statepoint 0]\n",
      "\tkT = 2.459 ref_kT = 2.462\n",
      "\tPredicted entropy: 2.7350780963897705\n",
      "\tPredicted free_energy: -9447.14453125\n",
      "\tPredicted pressure: 96.28162384033203\n"
     ]
    },
    {
     "name": "stdout",
     "output_type": "stream",
     "text": [
      "[Step Size] Found optimal step size 0.08265380561351776 with residual 0.15436983108520508\n"
     ]
    },
    {
     "name": "stdout",
     "output_type": "stream",
     "text": [
      "\n",
      "[DiffTRe] Epoch 70\n",
      "\tEpoch loss = 0.01335\n",
      "\tGradient norm: 0.005758835002779961\n",
      "\tElapsed time = 2.742 min\n",
      "[Statepoint 0]\n",
      "\tkT = 2.453 ref_kT = 2.462\n",
      "\tPredicted entropy: 2.7940757274627686\n",
      "\tPredicted free_energy: -9007.96875\n",
      "\tPredicted pressure: 116.32361602783203\n"
     ]
    },
    {
     "name": "stdout",
     "output_type": "stream",
     "text": [
      "[Step Size] Found optimal step size 0.07569955289363861 with residual 0.0070116519927978516\n"
     ]
    },
    {
     "name": "stdout",
     "output_type": "stream",
     "text": [
      "\n",
      "[DiffTRe] Epoch 71\n",
      "\tEpoch loss = 0.01320\n",
      "\tGradient norm: 0.006180922035127878\n",
      "\tElapsed time = 2.742 min\n",
      "[Statepoint 0]\n",
      "\tkT = 2.455 ref_kT = 2.462\n",
      "\tPredicted entropy: 2.8175363540649414\n",
      "\tPredicted free_energy: -9319.7578125\n",
      "\tPredicted pressure: 104.63349151611328\n"
     ]
    },
    {
     "name": "stdout",
     "output_type": "stream",
     "text": [
      "[Step Size] Found optimal step size 0.24316036701202393 with residual 4.553794860839844e-05\n"
     ]
    },
    {
     "name": "stdout",
     "output_type": "stream",
     "text": [
      "\n",
      "[DiffTRe] Epoch 72\n",
      "\tEpoch loss = 0.01285\n",
      "\tGradient norm: 0.0028831264935433865\n",
      "\tElapsed time = 2.738 min\n",
      "[Statepoint 0]\n",
      "\tkT = 2.463 ref_kT = 2.462\n",
      "\tPredicted entropy: 2.7410366535186768\n",
      "\tPredicted free_energy: -9471.798828125\n",
      "\tPredicted pressure: 95.78726959228516\n"
     ]
    },
    {
     "name": "stdout",
     "output_type": "stream",
     "text": [
      "[Step Size] Found optimal step size 0.0702541172504425 with residual 0.001087188720703125\n"
     ]
    },
    {
     "name": "stdout",
     "output_type": "stream",
     "text": [
      "\n",
      "[DiffTRe] Epoch 73\n",
      "\tEpoch loss = 0.01237\n",
      "\tGradient norm: 0.012110087089240551\n",
      "\tElapsed time = 2.738 min\n",
      "[Statepoint 0]\n",
      "\tkT = 2.458 ref_kT = 2.462\n",
      "\tPredicted entropy: 2.571061849594116\n",
      "\tPredicted free_energy: -9408.9228515625\n",
      "\tPredicted pressure: 109.5110855102539\n"
     ]
    },
    {
     "name": "stdout",
     "output_type": "stream",
     "text": [
      "[Step Size] Found optimal step size 0.07862406969070435 with residual 0.0016827583312988281\n"
     ]
    },
    {
     "name": "stdout",
     "output_type": "stream",
     "text": [
      "\n",
      "[DiffTRe] Epoch 74\n",
      "\tEpoch loss = 0.01174\n",
      "\tGradient norm: 0.011302510276436806\n",
      "\tElapsed time = 2.738 min\n",
      "[Statepoint 0]\n",
      "\tkT = 2.455 ref_kT = 2.462\n",
      "\tPredicted entropy: 2.572962760925293\n",
      "\tPredicted free_energy: -9514.451171875\n",
      "\tPredicted pressure: 104.85250091552734\n"
     ]
    },
    {
     "name": "stdout",
     "output_type": "stream",
     "text": [
      "[Step Size] Found optimal step size 0.13825054466724396 with residual 0.0008416175842285156\n"
     ]
    },
    {
     "name": "stdout",
     "output_type": "stream",
     "text": [
      "\n",
      "[DiffTRe] Epoch 75\n",
      "\tEpoch loss = 0.01158\n",
      "\tGradient norm: 0.005119099281728268\n",
      "\tElapsed time = 2.738 min\n",
      "[Statepoint 0]\n",
      "\tkT = 2.449 ref_kT = 2.462\n",
      "\tPredicted entropy: 2.4612696170806885\n",
      "\tPredicted free_energy: -9979.689453125\n",
      "\tPredicted pressure: 79.42442321777344\n"
     ]
    },
    {
     "name": "stdout",
     "output_type": "stream",
     "text": [
      "[Step Size] Found optimal step size 0.09918256103992462 with residual 0.0027823448181152344\n"
     ]
    },
    {
     "name": "stdout",
     "output_type": "stream",
     "text": [
      "\n",
      "[DiffTRe] Epoch 76\n",
      "\tEpoch loss = 0.01100\n",
      "\tGradient norm: 0.0070262569934129715\n",
      "\tElapsed time = 2.740 min\n",
      "[Statepoint 0]\n",
      "\tkT = 2.457 ref_kT = 2.462\n",
      "\tPredicted entropy: 2.4313771724700928\n",
      "\tPredicted free_energy: -10038.1904296875\n",
      "\tPredicted pressure: 77.12755584716797\n"
     ]
    },
    {
     "name": "stdout",
     "output_type": "stream",
     "text": [
      "[Step Size] Found optimal step size 0.1050998866558075 with residual 0.0014758110046386719\n"
     ]
    },
    {
     "name": "stdout",
     "output_type": "stream",
     "text": [
      "\n",
      "[DiffTRe] Epoch 77\n",
      "\tEpoch loss = 0.01084\n",
      "\tGradient norm: 0.006896281614899635\n",
      "\tElapsed time = 2.745 min\n",
      "[Statepoint 0]\n",
      "\tkT = 2.465 ref_kT = 2.462\n",
      "\tPredicted entropy: 2.4576992988586426\n",
      "\tPredicted free_energy: -9821.97265625\n",
      "\tPredicted pressure: 93.20736694335938\n"
     ]
    },
    {
     "name": "stdout",
     "output_type": "stream",
     "text": [
      "[Step Size] Found optimal step size 0.1190580502152443 with residual 0.000598907470703125\n"
     ]
    },
    {
     "name": "stdout",
     "output_type": "stream",
     "text": [
      "\n",
      "[DiffTRe] Epoch 78\n",
      "\tEpoch loss = 0.01048\n",
      "\tGradient norm: 0.004610751289874315\n",
      "\tElapsed time = 2.741 min\n",
      "[Statepoint 0]\n",
      "\tkT = 2.461 ref_kT = 2.462\n",
      "\tPredicted entropy: 2.428535223007202\n",
      "\tPredicted free_energy: -10019.11328125\n",
      "\tPredicted pressure: 86.05412292480469\n"
     ]
    },
    {
     "name": "stdout",
     "output_type": "stream",
     "text": [
      "[Step Size] Found optimal step size 0.09476785361766815 with residual 0.0011410713195800781\n"
     ]
    },
    {
     "name": "stdout",
     "output_type": "stream",
     "text": [
      "\n",
      "[DiffTRe] Epoch 79\n",
      "\tEpoch loss = 0.00999\n",
      "\tGradient norm: 0.008448095060884953\n",
      "\tElapsed time = 2.741 min\n",
      "[Statepoint 0]\n",
      "\tkT = 2.472 ref_kT = 2.462\n",
      "\tPredicted entropy: 2.4460856914520264\n",
      "\tPredicted free_energy: -10061.8837890625\n",
      "\tPredicted pressure: 82.2171630859375\n"
     ]
    },
    {
     "name": "stdout",
     "output_type": "stream",
     "text": [
      "[Step Size] Found optimal step size 0.07276883721351624 with residual 0.0010781288146972656\n"
     ]
    },
    {
     "name": "stdout",
     "output_type": "stream",
     "text": [
      "\n",
      "[DiffTRe] Epoch 80\n",
      "\tEpoch loss = 0.00960\n",
      "\tGradient norm: 0.0072546061128377914\n",
      "\tElapsed time = 2.746 min\n",
      "[Statepoint 0]\n",
      "\tkT = 2.464 ref_kT = 2.462\n",
      "\tPredicted entropy: 2.3511533737182617\n",
      "\tPredicted free_energy: -10275.943359375\n",
      "\tPredicted pressure: 72.78911590576172\n"
     ]
    },
    {
     "name": "stdout",
     "output_type": "stream",
     "text": [
      "[Step Size] Found optimal step size 0.08265380561351776 with residual 0.0005998611450195312\n"
     ]
    },
    {
     "name": "stdout",
     "output_type": "stream",
     "text": [
      "\n",
      "[DiffTRe] Epoch 81\n",
      "\tEpoch loss = 0.00948\n",
      "\tGradient norm: 0.017591876909136772\n",
      "\tElapsed time = 2.748 min\n",
      "[Statepoint 0]\n",
      "\tkT = 2.456 ref_kT = 2.462\n",
      "\tPredicted entropy: 2.418266534805298\n",
      "\tPredicted free_energy: -9982.3271484375\n",
      "\tPredicted pressure: 89.02677917480469\n"
     ]
    },
    {
     "name": "stdout",
     "output_type": "stream",
     "text": [
      "[Step Size] Found optimal step size 0.2404966503381729 with residual 0.0026311874389648438\n"
     ]
    },
    {
     "name": "stdout",
     "output_type": "stream",
     "text": [
      "\n",
      "[DiffTRe] Epoch 82\n",
      "\tEpoch loss = 0.00939\n",
      "\tGradient norm: 0.0027776097413152456\n",
      "\tElapsed time = 2.740 min\n",
      "[Statepoint 0]\n",
      "\tkT = 2.471 ref_kT = 2.462\n",
      "\tPredicted entropy: 2.2474141120910645\n",
      "\tPredicted free_energy: -10583.2080078125\n",
      "\tPredicted pressure: 59.54806137084961\n"
     ]
    },
    {
     "name": "stdout",
     "output_type": "stream",
     "text": [
      "[Step Size] Found optimal step size 0.24007441103458405 with residual 0.0012106895446777344\n"
     ]
    },
    {
     "name": "stdout",
     "output_type": "stream",
     "text": [
      "\n",
      "[DiffTRe] Epoch 83\n",
      "\tEpoch loss = 0.00855\n",
      "\tGradient norm: 0.003576553426682949\n",
      "\tElapsed time = 2.754 min\n",
      "[Statepoint 0]\n",
      "\tkT = 2.468 ref_kT = 2.462\n",
      "\tPredicted entropy: 2.2987723350524902\n",
      "\tPredicted free_energy: -10444.4365234375\n",
      "\tPredicted pressure: 72.02230072021484\n"
     ]
    },
    {
     "name": "stdout",
     "output_type": "stream",
     "text": [
      "[Step Size] Found optimal step size 0.0928305983543396 with residual 0.00013685226440429688\n"
     ]
    },
    {
     "name": "stdout",
     "output_type": "stream",
     "text": [
      "\n",
      "[DiffTRe] Epoch 84\n",
      "\tEpoch loss = 0.00765\n",
      "\tGradient norm: 0.005269742105156183\n",
      "\tElapsed time = 2.754 min\n",
      "[Statepoint 0]\n",
      "\tkT = 2.465 ref_kT = 2.462\n",
      "\tPredicted entropy: 1.9379463195800781\n",
      "\tPredicted free_energy: -10731.2509765625\n",
      "\tPredicted pressure: 65.00816345214844\n"
     ]
    },
    {
     "name": "stdout",
     "output_type": "stream",
     "text": [
      "[Step Size] Found optimal step size 0.10770151764154434 with residual 0.0013260841369628906\n"
     ]
    },
    {
     "name": "stdout",
     "output_type": "stream",
     "text": [
      "\n",
      "[DiffTRe] Epoch 85\n",
      "\tEpoch loss = 0.00754\n",
      "\tGradient norm: 0.00561352726072073\n",
      "\tElapsed time = 2.752 min\n",
      "[Statepoint 0]\n",
      "\tkT = 2.459 ref_kT = 2.462\n",
      "\tPredicted entropy: 2.0666658878326416\n",
      "\tPredicted free_energy: -10293.9697265625\n",
      "\tPredicted pressure: 85.83378601074219\n"
     ]
    },
    {
     "name": "stdout",
     "output_type": "stream",
     "text": [
      "[Step Size] Found optimal step size 0.07238386571407318 with residual 0.006369352340698242\n"
     ]
    },
    {
     "name": "stdout",
     "output_type": "stream",
     "text": [
      "\n",
      "[DiffTRe] Epoch 86\n",
      "\tEpoch loss = 0.00699\n",
      "\tGradient norm: 0.005009605083614588\n",
      "\tElapsed time = 2.754 min\n",
      "[Statepoint 0]\n",
      "\tkT = 2.465 ref_kT = 2.462\n",
      "\tPredicted entropy: 1.877921462059021\n",
      "\tPredicted free_energy: -10896.0556640625\n",
      "\tPredicted pressure: 61.42652893066406\n"
     ]
    },
    {
     "name": "stdout",
     "output_type": "stream",
     "text": [
      "[Step Size] Found optimal step size 0.07292406260967255 with residual 0.0028290748596191406\n"
     ]
    },
    {
     "name": "stdout",
     "output_type": "stream",
     "text": [
      "\n",
      "[DiffTRe] Epoch 87\n",
      "\tEpoch loss = 0.00687\n",
      "\tGradient norm: 0.0096595985814929\n",
      "\tElapsed time = 2.753 min\n",
      "[Statepoint 0]\n",
      "\tkT = 2.455 ref_kT = 2.462\n",
      "\tPredicted entropy: 1.9296635389328003\n",
      "\tPredicted free_energy: -10650.455078125\n",
      "\tPredicted pressure: 72.64701843261719\n"
     ]
    },
    {
     "name": "stdout",
     "output_type": "stream",
     "text": [
      "[Step Size] Found optimal step size 0.10089008510112762 with residual 0.0022208690643310547\n"
     ]
    },
    {
     "name": "stdout",
     "output_type": "stream",
     "text": [
      "\n",
      "[DiffTRe] Epoch 88\n",
      "\tEpoch loss = 0.00669\n",
      "\tGradient norm: 0.005213363096117973\n",
      "\tElapsed time = 2.755 min\n",
      "[Statepoint 0]\n",
      "\tkT = 2.464 ref_kT = 2.462\n",
      "\tPredicted entropy: 1.7480204105377197\n",
      "\tPredicted free_energy: -11101.994140625\n",
      "\tPredicted pressure: 57.07940673828125\n"
     ]
    },
    {
     "name": "stdout",
     "output_type": "stream",
     "text": [
      "[Step Size] Found optimal step size 0.10191458463668823 with residual 0.0014121532440185547\n"
     ]
    },
    {
     "name": "stdout",
     "output_type": "stream",
     "text": [
      "\n",
      "[DiffTRe] Epoch 89\n",
      "\tEpoch loss = 0.00622\n",
      "\tGradient norm: 0.005450721830129623\n",
      "\tElapsed time = 2.752 min\n",
      "[Statepoint 0]\n",
      "\tkT = 2.454 ref_kT = 2.462\n",
      "\tPredicted entropy: 1.7313196659088135\n",
      "\tPredicted free_energy: -10898.8017578125\n",
      "\tPredicted pressure: 60.83805465698242\n"
     ]
    },
    {
     "name": "stdout",
     "output_type": "stream",
     "text": [
      "[Step Size] Found optimal step size 0.09843125194311142 with residual 0.0031986236572265625\n"
     ]
    },
    {
     "name": "stdout",
     "output_type": "stream",
     "text": [
      "\n",
      "[DiffTRe] Epoch 90\n",
      "\tEpoch loss = 0.00625\n",
      "\tGradient norm: 0.00842469371855259\n",
      "\tElapsed time = 2.752 min\n",
      "[Statepoint 0]\n",
      "\tkT = 2.461 ref_kT = 2.462\n",
      "\tPredicted entropy: 1.633592128753662\n",
      "\tPredicted free_energy: -11132.8037109375\n",
      "\tPredicted pressure: 57.93347930908203\n"
     ]
    },
    {
     "name": "stdout",
     "output_type": "stream",
     "text": [
      "[Step Size] Found optimal step size 0.08265380561351776 with residual 0.030539274215698242\n"
     ]
    },
    {
     "name": "stdout",
     "output_type": "stream",
     "text": [
      "\n",
      "[DiffTRe] Epoch 91\n",
      "\tEpoch loss = 0.00593\n",
      "\tGradient norm: 0.007818073034286499\n",
      "\tElapsed time = 2.750 min\n",
      "[Statepoint 0]\n",
      "\tkT = 2.466 ref_kT = 2.462\n",
      "\tPredicted entropy: 1.6600096225738525\n",
      "\tPredicted free_energy: -10759.294921875\n",
      "\tPredicted pressure: 72.32466125488281\n"
     ]
    },
    {
     "name": "stdout",
     "output_type": "stream",
     "text": [
      "[Step Size] Found optimal step size 0.08265380561351776 with residual 0.30744075775146484\n"
     ]
    },
    {
     "name": "stdout",
     "output_type": "stream",
     "text": [
      "\n",
      "[DiffTRe] Epoch 92\n",
      "\tEpoch loss = 0.00563\n",
      "\tGradient norm: 0.007217771373689175\n",
      "\tElapsed time = 2.750 min\n",
      "[Statepoint 0]\n",
      "\tkT = 2.463 ref_kT = 2.462\n",
      "\tPredicted entropy: 1.449530839920044\n",
      "\tPredicted free_energy: -11235.7119140625\n",
      "\tPredicted pressure: 54.45859146118164\n"
     ]
    },
    {
     "name": "stdout",
     "output_type": "stream",
     "text": [
      "[Step Size] Found optimal step size 0.1550152599811554 with residual 0.0004253387451171875\n"
     ]
    },
    {
     "name": "stdout",
     "output_type": "stream",
     "text": [
      "\n",
      "[DiffTRe] Epoch 93\n",
      "\tEpoch loss = 0.00555\n",
      "\tGradient norm: 0.00570300966501236\n",
      "\tElapsed time = 2.747 min\n",
      "[Statepoint 0]\n",
      "\tkT = 2.456 ref_kT = 2.462\n",
      "\tPredicted entropy: 1.4885228872299194\n",
      "\tPredicted free_energy: -10871.27734375\n",
      "\tPredicted pressure: 68.94822692871094\n"
     ]
    },
    {
     "name": "stdout",
     "output_type": "stream",
     "text": [
      "[Step Size] Found optimal step size 0.08265381306409836 with residual 0.003323793411254883\n"
     ]
    },
    {
     "name": "stdout",
     "output_type": "stream",
     "text": [
      "\n",
      "[DiffTRe] Epoch 94\n",
      "\tEpoch loss = 0.00517\n",
      "\tGradient norm: 0.008260124363005161\n",
      "\tElapsed time = 2.749 min\n",
      "[Statepoint 0]\n",
      "\tkT = 2.458 ref_kT = 2.462\n",
      "\tPredicted entropy: 1.4308874607086182\n",
      "\tPredicted free_energy: -11619.8017578125\n",
      "\tPredicted pressure: 36.90408706665039\n"
     ]
    },
    {
     "name": "stdout",
     "output_type": "stream",
     "text": [
      "[Step Size] Found optimal step size 0.08265380561351776 with residual 0.34496116638183594\n"
     ]
    },
    {
     "name": "stdout",
     "output_type": "stream",
     "text": [
      "\n",
      "[DiffTRe] Epoch 95\n",
      "\tEpoch loss = 0.00506\n",
      "\tGradient norm: 0.004378783982247114\n",
      "\tElapsed time = 2.745 min\n",
      "[Statepoint 0]\n",
      "\tkT = 2.469 ref_kT = 2.462\n",
      "\tPredicted entropy: 1.5089998245239258\n",
      "\tPredicted free_energy: -11187.2841796875\n",
      "\tPredicted pressure: 61.44991683959961\n"
     ]
    },
    {
     "name": "stdout",
     "output_type": "stream",
     "text": [
      "[Step Size] Found optimal step size 0.08265380561351776 with residual 0.12158536911010742\n"
     ]
    },
    {
     "name": "stdout",
     "output_type": "stream",
     "text": [
      "\n",
      "[DiffTRe] Epoch 96\n",
      "\tEpoch loss = 0.00501\n",
      "\tGradient norm: 0.009996083565056324\n",
      "\tElapsed time = 2.750 min\n",
      "[Statepoint 0]\n",
      "\tkT = 2.464 ref_kT = 2.462\n",
      "\tPredicted entropy: 1.3878140449523926\n",
      "\tPredicted free_energy: -11393.228515625\n",
      "\tPredicted pressure: 50.25407409667969\n"
     ]
    },
    {
     "name": "stdout",
     "output_type": "stream",
     "text": [
      "[Step Size] Found optimal step size 0.10458451509475708 with residual 0.002197742462158203\n"
     ]
    },
    {
     "name": "stdout",
     "output_type": "stream",
     "text": [
      "\n",
      "[DiffTRe] Epoch 97\n",
      "\tEpoch loss = 0.00476\n",
      "\tGradient norm: 0.004899815656244755\n",
      "\tElapsed time = 2.748 min\n",
      "[Statepoint 0]\n",
      "\tkT = 2.454 ref_kT = 2.462\n",
      "\tPredicted entropy: 1.3560764789581299\n",
      "\tPredicted free_energy: -11460.4482421875\n",
      "\tPredicted pressure: 51.61909484863281\n"
     ]
    },
    {
     "name": "stdout",
     "output_type": "stream",
     "text": [
      "[Step Size] Found optimal step size 0.13350676000118256 with residual 0.00013828277587890625\n"
     ]
    },
    {
     "name": "stdout",
     "output_type": "stream",
     "text": [
      "\n",
      "[DiffTRe] Epoch 98\n",
      "\tEpoch loss = 0.00453\n",
      "\tGradient norm: 0.0036943191662430763\n",
      "\tElapsed time = 2.752 min\n",
      "[Statepoint 0]\n",
      "\tkT = 2.455 ref_kT = 2.462\n",
      "\tPredicted entropy: 1.1430120468139648\n",
      "\tPredicted free_energy: -11803.6630859375\n",
      "\tPredicted pressure: 33.327476501464844\n"
     ]
    },
    {
     "name": "stdout",
     "output_type": "stream",
     "text": [
      "[Step Size] Found optimal step size 0.08265381306409836 with residual 0.17380762100219727\n"
     ]
    },
    {
     "name": "stdout",
     "output_type": "stream",
     "text": [
      "\n",
      "[DiffTRe] Epoch 99\n",
      "\tEpoch loss = 0.00428\n",
      "\tGradient norm: 0.00574321486055851\n",
      "\tElapsed time = 2.753 min\n",
      "[Statepoint 0]\n",
      "\tkT = 2.459 ref_kT = 2.462\n",
      "\tPredicted entropy: 1.235990285873413\n",
      "\tPredicted free_energy: -11252.275390625\n",
      "\tPredicted pressure: 63.21348571777344\n"
     ]
    },
    {
     "name": "stdout",
     "output_type": "stream",
     "text": [
      "[Step Size] Found optimal step size 0.08265380561351776 with residual 0.011187076568603516\n"
     ]
    },
    {
     "name": "stdout",
     "output_type": "stream",
     "text": [
      "\n",
      "[DiffTRe] Epoch 100\n",
      "\tEpoch loss = 0.00419\n",
      "\tGradient norm: 0.009571457281708717\n",
      "\tElapsed time = 2.752 min\n",
      "[Statepoint 0]\n",
      "\tkT = 2.474 ref_kT = 2.462\n",
      "\tPredicted entropy: 0.9685121774673462\n",
      "\tPredicted free_energy: -11768.361328125\n",
      "\tPredicted pressure: 37.408260345458984\n"
     ]
    },
    {
     "name": "stdout",
     "output_type": "stream",
     "text": [
      "[Step Size] Found optimal step size 0.17281067371368408 with residual 0.00278472900390625\n"
     ]
    },
    {
     "name": "stdout",
     "output_type": "stream",
     "text": [
      "\n",
      "[DiffTRe] Epoch 101\n",
      "\tEpoch loss = 0.00393\n",
      "\tGradient norm: 0.004018176347017288\n",
      "\tElapsed time = 2.753 min\n",
      "[Statepoint 0]\n",
      "\tkT = 2.462 ref_kT = 2.462\n",
      "\tPredicted entropy: 1.1104512214660645\n",
      "\tPredicted free_energy: -11304.1708984375\n",
      "\tPredicted pressure: 53.61764144897461\n"
     ]
    },
    {
     "name": "stdout",
     "output_type": "stream",
     "text": [
      "[Step Size] Found optimal step size 0.0642995536327362 with residual 0.00199127197265625\n"
     ]
    },
    {
     "name": "stdout",
     "output_type": "stream",
     "text": [
      "\n",
      "[DiffTRe] Epoch 102\n",
      "\tEpoch loss = 0.00384\n",
      "\tGradient norm: 0.010576209984719753\n",
      "\tElapsed time = 2.751 min\n",
      "[Statepoint 0]\n",
      "\tkT = 2.465 ref_kT = 2.462\n",
      "\tPredicted entropy: 0.7798104286193848\n",
      "\tPredicted free_energy: -12110.630859375\n",
      "\tPredicted pressure: 23.102794647216797\n"
     ]
    },
    {
     "name": "stdout",
     "output_type": "stream",
     "text": [
      "[Step Size] Found optimal step size 0.1837387979030609 with residual 0.0014619827270507812\n"
     ]
    },
    {
     "name": "stdout",
     "output_type": "stream",
     "text": [
      "\n",
      "[DiffTRe] Epoch 103\n",
      "\tEpoch loss = 0.00351\n",
      "\tGradient norm: 0.0032984004355967045\n",
      "\tElapsed time = 2.749 min\n",
      "[Statepoint 0]\n",
      "\tkT = 2.465 ref_kT = 2.462\n",
      "\tPredicted entropy: 0.9791975617408752\n",
      "\tPredicted free_energy: -11739.66796875\n",
      "\tPredicted pressure: 33.69963836669922\n"
     ]
    },
    {
     "name": "stdout",
     "output_type": "stream",
     "text": [
      "[Step Size] Found optimal step size 0.08265381306409836 with residual 0.06393575668334961\n"
     ]
    },
    {
     "name": "stdout",
     "output_type": "stream",
     "text": [
      "\n",
      "[DiffTRe] Epoch 104\n",
      "\tEpoch loss = 0.00355\n",
      "\tGradient norm: 0.01199260726571083\n",
      "\tElapsed time = 2.750 min\n",
      "[Statepoint 0]\n",
      "\tkT = 2.453 ref_kT = 2.462\n",
      "\tPredicted entropy: 0.4656696021556854\n",
      "\tPredicted free_energy: -12033.8408203125\n",
      "\tPredicted pressure: 26.226036071777344\n"
     ]
    },
    {
     "name": "stdout",
     "output_type": "stream",
     "text": [
      "[Step Size] Found optimal step size 0.11284269392490387 with residual 0.005021095275878906\n"
     ]
    },
    {
     "name": "stdout",
     "output_type": "stream",
     "text": [
      "\n",
      "[DiffTRe] Epoch 105\n",
      "\tEpoch loss = 0.00317\n",
      "\tGradient norm: 0.003221077611669898\n",
      "\tElapsed time = 2.750 min\n",
      "[Statepoint 0]\n",
      "\tkT = 2.467 ref_kT = 2.462\n",
      "\tPredicted entropy: 0.6399907469749451\n",
      "\tPredicted free_energy: -11770.1240234375\n",
      "\tPredicted pressure: 34.959625244140625\n"
     ]
    },
    {
     "name": "stdout",
     "output_type": "stream",
     "text": [
      "[Step Size] Found optimal step size 0.12704922258853912 with residual 0.010396957397460938\n"
     ]
    },
    {
     "name": "stdout",
     "output_type": "stream",
     "text": [
      "\n",
      "[DiffTRe] Epoch 106\n",
      "\tEpoch loss = 0.00322\n",
      "\tGradient norm: 0.0029306465294212103\n",
      "\tElapsed time = 2.749 min\n",
      "[Statepoint 0]\n",
      "\tkT = 2.464 ref_kT = 2.462\n",
      "\tPredicted entropy: 0.5011114478111267\n",
      "\tPredicted free_energy: -12022.94921875\n",
      "\tPredicted pressure: 34.44306564331055\n"
     ]
    },
    {
     "name": "stdout",
     "output_type": "stream",
     "text": [
      "[Step Size] Found optimal step size 0.12841525673866272 with residual 5.745887756347656e-05\n"
     ]
    },
    {
     "name": "stdout",
     "output_type": "stream",
     "text": [
      "\n",
      "[DiffTRe] Epoch 107\n",
      "\tEpoch loss = 0.00309\n",
      "\tGradient norm: 0.003622329095378518\n",
      "\tElapsed time = 2.755 min\n",
      "[Statepoint 0]\n",
      "\tkT = 2.454 ref_kT = 2.462\n",
      "\tPredicted entropy: 0.6580482721328735\n",
      "\tPredicted free_energy: -11948.2626953125\n",
      "\tPredicted pressure: 31.1414852142334\n"
     ]
    },
    {
     "name": "stdout",
     "output_type": "stream",
     "text": [
      "[Step Size] Found optimal step size 0.10669563710689545 with residual 0.04514718055725098\n"
     ]
    },
    {
     "name": "stdout",
     "output_type": "stream",
     "text": [
      "\n",
      "[DiffTRe] Epoch 108\n",
      "\tEpoch loss = 0.00295\n",
      "\tGradient norm: 0.005783549509942532\n",
      "\tElapsed time = 2.749 min\n",
      "[Statepoint 0]\n",
      "\tkT = 2.465 ref_kT = 2.462\n",
      "\tPredicted entropy: 0.5008080005645752\n",
      "\tPredicted free_energy: -11714.7626953125\n",
      "\tPredicted pressure: 43.38644790649414\n"
     ]
    },
    {
     "name": "stdout",
     "output_type": "stream",
     "text": [
      "[Step Size] Found optimal step size 0.16159072518348694 with residual 0.0005323886871337891\n"
     ]
    },
    {
     "name": "stdout",
     "output_type": "stream",
     "text": [
      "\n",
      "[DiffTRe] Epoch 109\n",
      "\tEpoch loss = 0.00271\n",
      "\tGradient norm: 0.00267032440751791\n",
      "\tElapsed time = 2.735 min\n",
      "[Statepoint 0]\n",
      "\tkT = 2.468 ref_kT = 2.462\n",
      "\tPredicted entropy: 0.33281031250953674\n",
      "\tPredicted free_energy: -12158.568359375\n",
      "\tPredicted pressure: 26.750770568847656\n"
     ]
    },
    {
     "name": "stdout",
     "output_type": "stream",
     "text": [
      "[Step Size] Found optimal step size 0.094606414437294 with residual 0.001142740249633789\n"
     ]
    },
    {
     "name": "stdout",
     "output_type": "stream",
     "text": [
      "\n",
      "[DiffTRe] Epoch 110\n",
      "\tEpoch loss = 0.00280\n",
      "\tGradient norm: 0.008279425092041492\n",
      "\tElapsed time = 2.736 min\n",
      "[Statepoint 0]\n",
      "\tkT = 2.464 ref_kT = 2.462\n",
      "\tPredicted entropy: 0.17908059060573578\n",
      "\tPredicted free_energy: -12067.62890625\n",
      "\tPredicted pressure: 26.307598114013672\n"
     ]
    },
    {
     "name": "stdout",
     "output_type": "stream",
     "text": [
      "[Step Size] Found optimal step size 0.08190250396728516 with residual 0.04418802261352539\n"
     ]
    },
    {
     "name": "stdout",
     "output_type": "stream",
     "text": [
      "\n",
      "[DiffTRe] Epoch 111\n",
      "\tEpoch loss = 0.00258\n",
      "\tGradient norm: 0.0051867542788386345\n",
      "\tElapsed time = 2.739 min\n",
      "[Statepoint 0]\n",
      "\tkT = 2.456 ref_kT = 2.462\n",
      "\tPredicted entropy: 0.3675326406955719\n",
      "\tPredicted free_energy: -11940.765625\n",
      "\tPredicted pressure: 34.758602142333984\n"
     ]
    },
    {
     "name": "stdout",
     "output_type": "stream",
     "text": [
      "[Step Size] Found optimal step size 0.1264345347881317 with residual 0.00041031837463378906\n"
     ]
    },
    {
     "name": "stdout",
     "output_type": "stream",
     "text": [
      "\n",
      "[DiffTRe] Epoch 112\n",
      "\tEpoch loss = 0.00248\n",
      "\tGradient norm: 0.002732833381742239\n",
      "\tElapsed time = 2.737 min\n",
      "[Statepoint 0]\n",
      "\tkT = 2.462 ref_kT = 2.462\n",
      "\tPredicted entropy: 0.09854654222726822\n",
      "\tPredicted free_energy: -12378.865234375\n",
      "\tPredicted pressure: 18.64027976989746\n"
     ]
    },
    {
     "name": "stdout",
     "output_type": "stream",
     "text": [
      "[Step Size] Found optimal step size 0.18544629216194153 with residual 0.0010113716125488281\n"
     ]
    },
    {
     "name": "stdout",
     "output_type": "stream",
     "text": [
      "\n",
      "[DiffTRe] Epoch 113\n",
      "\tEpoch loss = 0.00243\n",
      "\tGradient norm: 0.0010376371210440993\n",
      "\tElapsed time = 2.737 min\n",
      "[Statepoint 0]\n",
      "\tkT = 2.462 ref_kT = 2.462\n",
      "\tPredicted entropy: 0.22795534133911133\n",
      "\tPredicted free_energy: -11891.11328125\n",
      "\tPredicted pressure: 37.33094024658203\n"
     ]
    },
    {
     "name": "stdout",
     "output_type": "stream",
     "text": [
      "[Step Size] Found optimal step size 0.06687634438276291 with residual 0.007399797439575195\n"
     ]
    },
    {
     "name": "stdout",
     "output_type": "stream",
     "text": [
      "\n",
      "[DiffTRe] Epoch 114\n",
      "\tEpoch loss = 0.00244\n",
      "\tGradient norm: 0.008936023339629173\n",
      "\tElapsed time = 2.736 min\n",
      "[Statepoint 0]\n",
      "\tkT = 2.465 ref_kT = 2.462\n",
      "\tPredicted entropy: -0.08184286952018738\n",
      "\tPredicted free_energy: -12479.9736328125\n",
      "\tPredicted pressure: 19.080808639526367\n"
     ]
    },
    {
     "name": "stdout",
     "output_type": "stream",
     "text": [
      "[Step Size] Found optimal step size 0.12440414726734161 with residual 0.0002777576446533203\n"
     ]
    },
    {
     "name": "stdout",
     "output_type": "stream",
     "text": [
      "\n",
      "[DiffTRe] Epoch 115\n",
      "\tEpoch loss = 0.00234\n",
      "\tGradient norm: 0.003020509611815214\n",
      "\tElapsed time = 2.734 min\n",
      "[Statepoint 0]\n",
      "\tkT = 2.456 ref_kT = 2.462\n",
      "\tPredicted entropy: 0.1356697678565979\n",
      "\tPredicted free_energy: -12280.5869140625\n",
      "\tPredicted pressure: 26.037111282348633\n"
     ]
    },
    {
     "name": "stdout",
     "output_type": "stream",
     "text": [
      "[Step Size] Found optimal step size 0.10970086604356766 with residual 0.003251314163208008\n"
     ]
    },
    {
     "name": "stdout",
     "output_type": "stream",
     "text": [
      "\n",
      "[DiffTRe] Epoch 116\n",
      "\tEpoch loss = 0.00223\n",
      "\tGradient norm: 0.005401082336902618\n",
      "\tElapsed time = 2.736 min\n",
      "[Statepoint 0]\n",
      "\tkT = 2.463 ref_kT = 2.462\n",
      "\tPredicted entropy: 0.11278737336397171\n",
      "\tPredicted free_energy: -12027.2099609375\n",
      "\tPredicted pressure: 25.99045181274414\n"
     ]
    },
    {
     "name": "stdout",
     "output_type": "stream",
     "text": [
      "[Step Size] Found optimal step size 0.07568713277578354 with residual 0.0008742809295654297\n"
     ]
    },
    {
     "name": "stdout",
     "output_type": "stream",
     "text": [
      "\n",
      "[DiffTRe] Epoch 117\n",
      "\tEpoch loss = 0.00230\n",
      "\tGradient norm: 0.012342131696641445\n",
      "\tElapsed time = 2.738 min\n",
      "[Statepoint 0]\n",
      "\tkT = 2.477 ref_kT = 2.462\n",
      "\tPredicted entropy: 0.1959209442138672\n",
      "\tPredicted free_energy: -12142.54296875\n",
      "\tPredicted pressure: 39.91358184814453\n"
     ]
    },
    {
     "name": "stdout",
     "output_type": "stream",
     "text": [
      "[Step Size] Found optimal step size 0.11356916278600693 with residual 0.002584218978881836\n"
     ]
    },
    {
     "name": "stdout",
     "output_type": "stream",
     "text": [
      "\n",
      "[DiffTRe] Epoch 118\n",
      "\tEpoch loss = 0.00214\n",
      "\tGradient norm: 0.007638782728463411\n",
      "\tElapsed time = 2.740 min\n",
      "[Statepoint 0]\n",
      "\tkT = 2.455 ref_kT = 2.462\n",
      "\tPredicted entropy: -0.0978282168507576\n",
      "\tPredicted free_energy: -12474.6845703125\n",
      "\tPredicted pressure: 12.936321258544922\n"
     ]
    },
    {
     "name": "stdout",
     "output_type": "stream",
     "text": [
      "[Step Size] Found optimal step size 0.07288680970668793 with residual 0.0003867149353027344\n"
     ]
    },
    {
     "name": "stdout",
     "output_type": "stream",
     "text": [
      "\n",
      "[DiffTRe] Epoch 119\n",
      "\tEpoch loss = 0.00216\n",
      "\tGradient norm: 0.013841917738318443\n",
      "\tElapsed time = 2.744 min\n",
      "[Statepoint 0]\n",
      "\tkT = 2.470 ref_kT = 2.462\n",
      "\tPredicted entropy: 0.2451161891222\n",
      "\tPredicted free_energy: -11983.44921875\n",
      "\tPredicted pressure: 38.12523651123047\n"
     ]
    },
    {
     "name": "stdout",
     "output_type": "stream",
     "text": [
      "[Step Size] Found optimal step size 0.18811002373695374 with residual 0.0019636154174804688\n"
     ]
    },
    {
     "name": "stdout",
     "output_type": "stream",
     "text": [
      "\n",
      "[DiffTRe] Epoch 120\n",
      "\tEpoch loss = 0.00200\n",
      "\tGradient norm: 0.00188056833576411\n",
      "\tElapsed time = 2.748 min\n",
      "[Statepoint 0]\n",
      "\tkT = 2.450 ref_kT = 2.462\n",
      "\tPredicted entropy: -0.040994204580783844\n",
      "\tPredicted free_energy: -12348.6328125\n",
      "\tPredicted pressure: 16.425615310668945\n"
     ]
    },
    {
     "name": "stdout",
     "output_type": "stream",
     "text": [
      "[Step Size] Found optimal step size 0.0965685024857521 with residual 0.0036139488220214844\n"
     ]
    },
    {
     "name": "stdout",
     "output_type": "stream",
     "text": [
      "\n",
      "[DiffTRe] Epoch 121\n",
      "\tEpoch loss = 0.00217\n",
      "\tGradient norm: 0.010989025235176086\n",
      "\tElapsed time = 2.747 min\n",
      "[Statepoint 0]\n",
      "\tkT = 2.475 ref_kT = 2.462\n",
      "\tPredicted entropy: 0.1487186998128891\n",
      "\tPredicted free_energy: -12385.251953125\n",
      "\tPredicted pressure: 21.714977264404297\n"
     ]
    },
    {
     "name": "stdout",
     "output_type": "stream",
     "text": [
      "[Step Size] Found optimal step size 0.11741884052753448 with residual 4.291534423828125e-06\n"
     ]
    },
    {
     "name": "stdout",
     "output_type": "stream",
     "text": [
      "\n",
      "[DiffTRe] Epoch 122\n",
      "\tEpoch loss = 0.00202\n",
      "\tGradient norm: 0.005222186911851168\n",
      "\tElapsed time = 2.745 min\n",
      "[Statepoint 0]\n",
      "\tkT = 2.459 ref_kT = 2.462\n",
      "\tPredicted entropy: -0.1429949402809143\n",
      "\tPredicted free_energy: -12576.603515625\n",
      "\tPredicted pressure: 11.959088325500488\n"
     ]
    },
    {
     "name": "stdout",
     "output_type": "stream",
     "text": [
      "[Step Size] Found optimal step size 0.16127406060695648 with residual 0.0016179084777832031\n"
     ]
    },
    {
     "name": "stdout",
     "output_type": "stream",
     "text": [
      "\n",
      "[DiffTRe] Epoch 123\n",
      "\tEpoch loss = 0.00192\n",
      "\tGradient norm: 0.002634825184941292\n",
      "\tElapsed time = 2.749 min\n",
      "[Statepoint 0]\n",
      "\tkT = 2.463 ref_kT = 2.462\n",
      "\tPredicted entropy: 0.03928948566317558\n",
      "\tPredicted free_energy: -12202.5908203125\n",
      "\tPredicted pressure: 29.50735855102539\n"
     ]
    },
    {
     "name": "stdout",
     "output_type": "stream",
     "text": [
      "[Step Size] Found optimal step size 0.09805870056152344 with residual 0.014877796173095703\n"
     ]
    },
    {
     "name": "stdout",
     "output_type": "stream",
     "text": [
      "\n",
      "[DiffTRe] Epoch 124\n",
      "\tEpoch loss = 0.00206\n",
      "\tGradient norm: 0.025410015136003494\n",
      "\tElapsed time = 2.741 min\n",
      "[Statepoint 0]\n",
      "\tkT = 2.460 ref_kT = 2.462\n",
      "\tPredicted entropy: -0.2038002461194992\n",
      "\tPredicted free_energy: -12207.55859375\n",
      "\tPredicted pressure: 30.468128204345703\n"
     ]
    },
    {
     "name": "stdout",
     "output_type": "stream",
     "text": [
      "[Step Size] Found optimal step size 0.13524532318115234 with residual 0.0003662109375\n"
     ]
    },
    {
     "name": "stdout",
     "output_type": "stream",
     "text": [
      "\n",
      "[DiffTRe] Epoch 125\n",
      "\tEpoch loss = 0.00189\n",
      "\tGradient norm: 0.0061340974643826485\n",
      "\tElapsed time = 2.753 min\n",
      "[Statepoint 0]\n",
      "\tkT = 2.458 ref_kT = 2.462\n",
      "\tPredicted entropy: 0.016523068770766258\n",
      "\tPredicted free_energy: -12248.8994140625\n",
      "\tPredicted pressure: 25.201875686645508\n"
     ]
    },
    {
     "name": "stdout",
     "output_type": "stream",
     "text": [
      "[Step Size] Found optimal step size 0.09843125939369202 with residual 0.024866342544555664\n"
     ]
    },
    {
     "name": "stdout",
     "output_type": "stream",
     "text": [
      "\n",
      "[DiffTRe] Epoch 126\n",
      "\tEpoch loss = 0.00192\n",
      "\tGradient norm: 0.008428825065493584\n",
      "\tElapsed time = 2.750 min\n",
      "[Statepoint 0]\n",
      "\tkT = 2.462 ref_kT = 2.462\n",
      "\tPredicted entropy: -0.3870963454246521\n",
      "\tPredicted free_energy: -12707.09375\n",
      "\tPredicted pressure: 4.159127712249756\n"
     ]
    },
    {
     "name": "stdout",
     "output_type": "stream",
     "text": [
      "[Step Size] Found optimal step size 0.19610118865966797 with residual 0.0002281665802001953\n"
     ]
    },
    {
     "name": "stdout",
     "output_type": "stream",
     "text": [
      "\n",
      "[DiffTRe] Epoch 127\n",
      "\tEpoch loss = 0.00182\n",
      "\tGradient norm: 0.00247407634742558\n",
      "\tElapsed time = 2.751 min\n",
      "[Statepoint 0]\n",
      "\tkT = 2.468 ref_kT = 2.462\n",
      "\tPredicted entropy: -0.1113952100276947\n",
      "\tPredicted free_energy: -12282.923828125\n",
      "\tPredicted pressure: 23.428258895874023\n"
     ]
    },
    {
     "name": "stdout",
     "output_type": "stream",
     "text": [
      "[Step Size] Found optimal step size 0.10024432837963104 with residual 0.003949403762817383\n"
     ]
    },
    {
     "name": "stdout",
     "output_type": "stream",
     "text": [
      "\n",
      "[DiffTRe] Epoch 128\n",
      "\tEpoch loss = 0.00199\n",
      "\tGradient norm: 0.016180263832211494\n",
      "\tElapsed time = 2.749 min\n",
      "[Statepoint 0]\n",
      "\tkT = 2.458 ref_kT = 2.462\n",
      "\tPredicted entropy: -0.42768824100494385\n",
      "\tPredicted free_energy: -12693.294921875\n",
      "\tPredicted pressure: 11.771127700805664\n"
     ]
    },
    {
     "name": "stdout",
     "output_type": "stream",
     "text": [
      "[Step Size] Found optimal step size 0.39150941371917725 with residual 0.0003705024719238281\n"
     ]
    },
    {
     "name": "stdout",
     "output_type": "stream",
     "text": [
      "\n",
      "[DiffTRe] Epoch 129\n",
      "\tEpoch loss = 0.00175\n",
      "\tGradient norm: 0.0008388336282223463\n",
      "\tElapsed time = 2.752 min\n",
      "[Statepoint 0]\n",
      "\tkT = 2.465 ref_kT = 2.462\n",
      "\tPredicted entropy: -0.09305083006620407\n",
      "\tPredicted free_energy: -12430.0986328125\n",
      "\tPredicted pressure: 20.98790740966797\n"
     ]
    },
    {
     "name": "stdout",
     "output_type": "stream",
     "text": [
      "[Step Size] Found optimal step size 0.08115117996931076 with residual 0.011962175369262695\n"
     ]
    },
    {
     "name": "stdout",
     "output_type": "stream",
     "text": [
      "\n",
      "[DiffTRe] Epoch 130\n",
      "\tEpoch loss = 0.00174\n",
      "\tGradient norm: 0.008122592233121395\n",
      "\tElapsed time = 2.746 min\n",
      "[Statepoint 0]\n",
      "\tkT = 2.464 ref_kT = 2.462\n",
      "\tPredicted entropy: -0.36383381485939026\n",
      "\tPredicted free_energy: -12307.2802734375\n",
      "\tPredicted pressure: 19.35466194152832\n"
     ]
    },
    {
     "name": "stdout",
     "output_type": "stream",
     "text": [
      "[Step Size] Found optimal step size 0.17081134021282196 with residual 0.0004284381866455078\n"
     ]
    },
    {
     "name": "stdout",
     "output_type": "stream",
     "text": [
      "\n",
      "[DiffTRe] Epoch 131\n",
      "\tEpoch loss = 0.00163\n",
      "\tGradient norm: 0.0008860735688358545\n",
      "\tElapsed time = 2.751 min\n",
      "[Statepoint 0]\n",
      "\tkT = 2.463 ref_kT = 2.462\n",
      "\tPredicted entropy: -0.2925492525100708\n",
      "\tPredicted free_energy: -12509.3525390625\n",
      "\tPredicted pressure: 16.134920120239258\n"
     ]
    },
    {
     "name": "stdout",
     "output_type": "stream",
     "text": [
      "[Step Size] Found optimal step size 0.10330542922019958 with residual 0.0014469623565673828\n"
     ]
    },
    {
     "name": "stdout",
     "output_type": "stream",
     "text": [
      "\n",
      "[DiffTRe] Epoch 132\n",
      "\tEpoch loss = 0.00170\n",
      "\tGradient norm: 0.00588488532230258\n",
      "\tElapsed time = 2.748 min\n",
      "[Statepoint 0]\n",
      "\tkT = 2.470 ref_kT = 2.462\n",
      "\tPredicted entropy: -0.5081496238708496\n",
      "\tPredicted free_energy: -13032.935546875\n",
      "\tPredicted pressure: -1.4502676725387573\n"
     ]
    },
    {
     "name": "stdout",
     "output_type": "stream",
     "text": [
      "[Step Size] Found optimal step size 0.16584399342536926 with residual 0.0013155937194824219\n"
     ]
    },
    {
     "name": "stdout",
     "output_type": "stream",
     "text": [
      "\n",
      "[DiffTRe] Epoch 133\n",
      "\tEpoch loss = 0.00160\n",
      "\tGradient norm: 0.0016753235831856728\n",
      "\tElapsed time = 2.745 min\n",
      "[Statepoint 0]\n",
      "\tkT = 2.469 ref_kT = 2.462\n",
      "\tPredicted entropy: -0.17262068390846252\n",
      "\tPredicted free_energy: -12504.0439453125\n",
      "\tPredicted pressure: 19.53243064880371\n"
     ]
    },
    {
     "name": "stdout",
     "output_type": "stream",
     "text": [
      "[Step Size] Found optimal step size 0.09706524014472961 with residual 0.004702329635620117\n"
     ]
    },
    {
     "name": "stdout",
     "output_type": "stream",
     "text": [
      "\n",
      "[DiffTRe] Epoch 134\n",
      "\tEpoch loss = 0.00182\n",
      "\tGradient norm: 0.017104553058743477\n",
      "\tElapsed time = 2.746 min\n",
      "[Statepoint 0]\n",
      "\tkT = 2.467 ref_kT = 2.462\n",
      "\tPredicted entropy: -0.3583444356918335\n",
      "\tPredicted free_energy: -12482.7109375\n",
      "\tPredicted pressure: 14.369450569152832\n"
     ]
    },
    {
     "name": "stdout",
     "output_type": "stream",
     "text": [
      "[Step Size] Found optimal step size 0.12848356366157532 with residual 0.005794048309326172\n"
     ]
    },
    {
     "name": "stdout",
     "output_type": "stream",
     "text": [
      "\n",
      "[DiffTRe] Epoch 135\n",
      "\tEpoch loss = 0.00158\n",
      "\tGradient norm: 0.004178343806415796\n",
      "\tElapsed time = 2.754 min\n",
      "[Statepoint 0]\n",
      "\tkT = 2.460 ref_kT = 2.462\n",
      "\tPredicted entropy: -0.1510927975177765\n",
      "\tPredicted free_energy: -12372.4423828125\n",
      "\tPredicted pressure: 28.580854415893555\n"
     ]
    },
    {
     "name": "stdout",
     "output_type": "stream",
     "text": [
      "[Step Size] Found optimal step size 0.1831923872232437 with residual 0.00013494491577148438\n"
     ]
    },
    {
     "name": "stdout",
     "output_type": "stream",
     "text": [
      "\n",
      "[DiffTRe] Epoch 136\n",
      "\tEpoch loss = 0.00153\n",
      "\tGradient norm: 0.0016714470693841577\n",
      "\tElapsed time = 2.754 min\n",
      "[Statepoint 0]\n",
      "\tkT = 2.470 ref_kT = 2.462\n",
      "\tPredicted entropy: -0.4532642364501953\n",
      "\tPredicted free_energy: -12885.3994140625\n",
      "\tPredicted pressure: 3.1510257720947266\n"
     ]
    },
    {
     "name": "stdout",
     "output_type": "stream",
     "text": [
      "[Step Size] Found optimal step size 0.16099466383457184 with residual 0.00022482872009277344\n"
     ]
    },
    {
     "name": "stdout",
     "output_type": "stream",
     "text": [
      "\n",
      "[DiffTRe] Epoch 137\n",
      "\tEpoch loss = 0.00147\n",
      "\tGradient norm: 0.004052190575748682\n",
      "\tElapsed time = 2.757 min\n",
      "[Statepoint 0]\n",
      "\tkT = 2.467 ref_kT = 2.462\n",
      "\tPredicted entropy: -0.24341773986816406\n",
      "\tPredicted free_energy: -12392.6181640625\n",
      "\tPredicted pressure: 24.293869018554688\n"
     ]
    },
    {
     "name": "stdout",
     "output_type": "stream",
     "text": [
      "[Step Size] Found optimal step size 0.09583583474159241 with residual 0.011107444763183594\n"
     ]
    },
    {
     "name": "stdout",
     "output_type": "stream",
     "text": [
      "\n",
      "[DiffTRe] Epoch 138\n",
      "\tEpoch loss = 0.00169\n",
      "\tGradient norm: 0.022727014496922493\n",
      "\tElapsed time = 2.755 min\n",
      "[Statepoint 0]\n",
      "\tkT = 2.461 ref_kT = 2.462\n",
      "\tPredicted entropy: -0.6772285103797913\n",
      "\tPredicted free_energy: -12923.9775390625\n",
      "\tPredicted pressure: 5.568259239196777\n"
     ]
    },
    {
     "name": "stdout",
     "output_type": "stream",
     "text": [
      "[Step Size] Found optimal step size 0.2211426943540573 with residual 0.0021119117736816406\n"
     ]
    },
    {
     "name": "stdout",
     "output_type": "stream",
     "text": [
      "\n",
      "[DiffTRe] Epoch 139\n",
      "\tEpoch loss = 0.00144\n",
      "\tGradient norm: 0.001968858763575554\n",
      "\tElapsed time = 2.757 min\n",
      "[Statepoint 0]\n",
      "\tkT = 2.463 ref_kT = 2.462\n",
      "\tPredicted entropy: -0.2925138473510742\n",
      "\tPredicted free_energy: -12673.2724609375\n",
      "\tPredicted pressure: 19.173152923583984\n"
     ]
    },
    {
     "name": "stdout",
     "output_type": "stream",
     "text": [
      "[Step Size] Found optimal step size 0.1591443419456482 with residual 0.004716396331787109\n"
     ]
    },
    {
     "name": "stdout",
     "output_type": "stream",
     "text": [
      "\n",
      "[DiffTRe] Epoch 140\n",
      "\tEpoch loss = 0.00151\n",
      "\tGradient norm: 0.005182615015655756\n",
      "\tElapsed time = 2.751 min\n",
      "[Statepoint 0]\n",
      "\tkT = 2.455 ref_kT = 2.462\n",
      "\tPredicted entropy: -0.23737171292304993\n",
      "\tPredicted free_energy: -12430.49609375\n",
      "\tPredicted pressure: 19.078125\n"
     ]
    },
    {
     "name": "stdout",
     "output_type": "stream",
     "text": [
      "[Step Size] Found optimal step size 0.14426100254058838 with residual 0.013238668441772461\n"
     ]
    },
    {
     "name": "stdout",
     "output_type": "stream",
     "text": [
      "\n",
      "[DiffTRe] Epoch 141\n",
      "\tEpoch loss = 0.00146\n",
      "\tGradient norm: 0.0047833556309342384\n",
      "\tElapsed time = 2.754 min\n",
      "[Statepoint 0]\n",
      "\tkT = 2.465 ref_kT = 2.462\n",
      "\tPredicted entropy: -0.23521478474140167\n",
      "\tPredicted free_energy: -12764.705078125\n",
      "\tPredicted pressure: 7.626074314117432\n"
     ]
    },
    {
     "name": "stdout",
     "output_type": "stream",
     "text": [
      "[Step Size] Found optimal step size 0.10662112385034561 with residual 0.0022211074829101562\n"
     ]
    },
    {
     "name": "stdout",
     "output_type": "stream",
     "text": [
      "\n",
      "[DiffTRe] Epoch 142\n",
      "\tEpoch loss = 0.00150\n",
      "\tGradient norm: 0.011144302785396576\n",
      "\tElapsed time = 2.754 min\n",
      "[Statepoint 0]\n",
      "\tkT = 2.464 ref_kT = 2.462\n",
      "\tPredicted entropy: -0.5311656594276428\n",
      "\tPredicted free_energy: -12874.7119140625\n",
      "\tPredicted pressure: 8.574898719787598\n"
     ]
    },
    {
     "name": "stdout",
     "output_type": "stream",
     "text": [
      "[Step Size] Found optimal step size 0.1969456523656845 with residual 0.006914615631103516\n"
     ]
    },
    {
     "name": "stdout",
     "output_type": "stream",
     "text": [
      "\n",
      "[DiffTRe] Epoch 143\n",
      "\tEpoch loss = 0.00135\n",
      "\tGradient norm: 0.0025821183808147907\n",
      "\tElapsed time = 2.753 min\n",
      "[Statepoint 0]\n",
      "\tkT = 2.468 ref_kT = 2.462\n",
      "\tPredicted entropy: -0.2686789035797119\n",
      "\tPredicted free_energy: -12660.9189453125\n",
      "\tPredicted pressure: 8.270882606506348\n"
     ]
    },
    {
     "name": "stdout",
     "output_type": "stream",
     "text": [
      "[Step Size] Found optimal step size 0.1310913860797882 with residual 0.00098419189453125\n"
     ]
    },
    {
     "name": "stdout",
     "output_type": "stream",
     "text": [
      "\n",
      "[DiffTRe] Epoch 144\n",
      "\tEpoch loss = 0.00149\n",
      "\tGradient norm: 0.013197189196944237\n",
      "\tElapsed time = 2.752 min\n",
      "[Statepoint 0]\n",
      "\tkT = 2.465 ref_kT = 2.462\n",
      "\tPredicted entropy: -0.5642075538635254\n",
      "\tPredicted free_energy: -12793.5\n",
      "\tPredicted pressure: 12.274737358093262\n"
     ]
    },
    {
     "name": "stdout",
     "output_type": "stream",
     "text": [
      "[Step Size] Found optimal step size 0.1494518518447876 with residual 0.00017261505126953125\n"
     ]
    },
    {
     "name": "stdout",
     "output_type": "stream",
     "text": [
      "\n",
      "[DiffTRe] Epoch 145\n",
      "\tEpoch loss = 0.00139\n",
      "\tGradient norm: 0.008181888610124588\n",
      "\tElapsed time = 2.759 min\n",
      "[Statepoint 0]\n",
      "\tkT = 2.465 ref_kT = 2.462\n",
      "\tPredicted entropy: -0.18619072437286377\n",
      "\tPredicted free_energy: -12524.7607421875\n",
      "\tPredicted pressure: 19.89052391052246\n"
     ]
    },
    {
     "name": "stdout",
     "output_type": "stream",
     "text": [
      "[Step Size] Found optimal step size 0.13894595205783844 with residual 0.000247955322265625\n"
     ]
    },
    {
     "name": "stdout",
     "output_type": "stream",
     "text": [
      "\n",
      "[DiffTRe] Epoch 146\n",
      "\tEpoch loss = 0.00144\n",
      "\tGradient norm: 0.007037716452032328\n",
      "\tElapsed time = 2.757 min\n",
      "[Statepoint 0]\n",
      "\tkT = 2.460 ref_kT = 2.462\n",
      "\tPredicted entropy: -0.5723187327384949\n",
      "\tPredicted free_energy: -12906.6513671875\n",
      "\tPredicted pressure: 7.433784484863281\n"
     ]
    },
    {
     "name": "stdout",
     "output_type": "stream",
     "text": [
      "[Step Size] Found optimal step size 0.1657632738351822 with residual 0.005457162857055664\n"
     ]
    },
    {
     "name": "stdout",
     "output_type": "stream",
     "text": [
      "\n",
      "[DiffTRe] Epoch 147\n",
      "\tEpoch loss = 0.00132\n",
      "\tGradient norm: 0.0030527766793966293\n",
      "\tElapsed time = 2.760 min\n",
      "[Statepoint 0]\n",
      "\tkT = 2.467 ref_kT = 2.462\n",
      "\tPredicted entropy: -0.17727309465408325\n",
      "\tPredicted free_energy: -12471.775390625\n",
      "\tPredicted pressure: 26.164409637451172\n"
     ]
    },
    {
     "name": "stdout",
     "output_type": "stream",
     "text": [
      "[Step Size] Found optimal step size 0.12322439253330231 with residual 0.01127767562866211\n"
     ]
    },
    {
     "name": "stdout",
     "output_type": "stream",
     "text": [
      "\n",
      "[DiffTRe] Epoch 148\n",
      "\tEpoch loss = 0.00136\n",
      "\tGradient norm: 0.008344036526978016\n",
      "\tElapsed time = 2.767 min\n",
      "[Statepoint 0]\n",
      "\tkT = 2.455 ref_kT = 2.462\n",
      "\tPredicted entropy: -0.47307515144348145\n",
      "\tPredicted free_energy: -12726.8349609375\n",
      "\tPredicted pressure: 7.756225109100342\n"
     ]
    },
    {
     "name": "stdout",
     "output_type": "stream",
     "text": [
      "[Step Size] Found optimal step size 0.13749924302101135 with residual 0.0007910728454589844\n"
     ]
    },
    {
     "name": "stdout",
     "output_type": "stream",
     "text": [
      "\n",
      "[DiffTRe] Epoch 149\n",
      "\tEpoch loss = 0.00135\n",
      "\tGradient norm: 0.005020537413656712\n",
      "\tElapsed time = 2.761 min\n",
      "[Statepoint 0]\n",
      "\tkT = 2.462 ref_kT = 2.462\n",
      "\tPredicted entropy: -0.25333839654922485\n",
      "\tPredicted free_energy: -12652.1650390625\n",
      "\tPredicted pressure: 22.343647003173828\n"
     ]
    },
    {
     "name": "stdout",
     "output_type": "stream",
     "text": [
      "[Step Size] Found optimal step size 0.17055675387382507 with residual 0.0016279220581054688\n"
     ]
    },
    {
     "name": "stdout",
     "output_type": "stream",
     "text": [
      "\n",
      "[DiffTRe] Epoch 150\n",
      "\tEpoch loss = 0.00133\n",
      "\tGradient norm: 0.004808925092220306\n",
      "\tElapsed time = 2.756 min\n",
      "[Statepoint 0]\n",
      "\tkT = 2.461 ref_kT = 2.462\n",
      "\tPredicted entropy: -0.5412737727165222\n",
      "\tPredicted free_energy: -13007.2783203125\n",
      "\tPredicted pressure: 8.472603797912598\n"
     ]
    },
    {
     "name": "stdout",
     "output_type": "stream",
     "text": [
      "[Step Size] Found optimal step size 0.11679171770811081 with residual 0.0005450248718261719\n"
     ]
    },
    {
     "name": "stdout",
     "output_type": "stream",
     "text": [
      "\n",
      "[DiffTRe] Epoch 151\n",
      "\tEpoch loss = 0.00135\n",
      "\tGradient norm: 0.008931854739785194\n",
      "\tElapsed time = 2.760 min\n",
      "[Statepoint 0]\n",
      "\tkT = 2.464 ref_kT = 2.462\n",
      "\tPredicted entropy: -0.16491267085075378\n",
      "\tPredicted free_energy: -12662.0166015625\n",
      "\tPredicted pressure: 16.59104347229004\n"
     ]
    },
    {
     "name": "stdout",
     "output_type": "stream",
     "text": [
      "[Step Size] Found optimal step size 0.41120481491088867 with residual 0.0014927387237548828\n"
     ]
    },
    {
     "name": "stdout",
     "output_type": "stream",
     "text": [
      "\n",
      "[DiffTRe] Epoch 152\n",
      "\tEpoch loss = 0.00122\n",
      "\tGradient norm: 0.0009834408992901444\n",
      "\tElapsed time = 2.752 min\n",
      "[Statepoint 0]\n",
      "\tkT = 2.455 ref_kT = 2.462\n",
      "\tPredicted entropy: -0.42079809308052063\n",
      "\tPredicted free_energy: -12833.8623046875\n",
      "\tPredicted pressure: 11.385953903198242\n"
     ]
    },
    {
     "name": "stdout",
     "output_type": "stream",
     "text": [
      "[Step Size] Found optimal step size 0.09214137494564056 with residual 0.00140380859375\n"
     ]
    },
    {
     "name": "stdout",
     "output_type": "stream",
     "text": [
      "\n",
      "[DiffTRe] Epoch 153\n",
      "\tEpoch loss = 0.00142\n",
      "\tGradient norm: 0.023235106840729713\n",
      "\tElapsed time = 2.755 min\n",
      "[Statepoint 0]\n",
      "\tkT = 2.466 ref_kT = 2.462\n",
      "\tPredicted entropy: -0.007903477177023888\n",
      "\tPredicted free_energy: -12598.8466796875\n",
      "\tPredicted pressure: 20.698026657104492\n"
     ]
    },
    {
     "name": "stdout",
     "output_type": "stream",
     "text": [
      "[Step Size] Found optimal step size 0.4594685435295105 with residual 0.0013751983642578125\n"
     ]
    },
    {
     "name": "stdout",
     "output_type": "stream",
     "text": [
      "\n",
      "[DiffTRe] Epoch 154\n",
      "\tEpoch loss = 0.00118\n",
      "\tGradient norm: 0.0005803198437206447\n",
      "\tElapsed time = 2.758 min\n",
      "[Statepoint 0]\n",
      "\tkT = 2.472 ref_kT = 2.462\n",
      "\tPredicted entropy: -0.3138118088245392\n",
      "\tPredicted free_energy: -12841.2900390625\n",
      "\tPredicted pressure: 10.479297637939453\n"
     ]
    },
    {
     "name": "stdout",
     "output_type": "stream",
     "text": [
      "[Step Size] Found optimal step size 0.16557079553604126 with residual 0.0018639564514160156\n"
     ]
    },
    {
     "name": "stdout",
     "output_type": "stream",
     "text": [
      "\n",
      "[DiffTRe] Epoch 155\n",
      "\tEpoch loss = 0.00130\n",
      "\tGradient norm: 0.007323842961341143\n",
      "\tElapsed time = 2.761 min\n",
      "[Statepoint 0]\n",
      "\tkT = 2.461 ref_kT = 2.462\n",
      "\tPredicted entropy: -0.4804777204990387\n",
      "\tPredicted free_energy: -13130.53125\n",
      "\tPredicted pressure: -0.772874653339386\n"
     ]
    },
    {
     "name": "stdout",
     "output_type": "stream",
     "text": [
      "[Step Size] Found optimal step size 0.17356199026107788 with residual 0.044975996017456055\n"
     ]
    },
    {
     "name": "stdout",
     "output_type": "stream",
     "text": [
      "\n",
      "[DiffTRe] Epoch 156\n",
      "\tEpoch loss = 0.00119\n",
      "\tGradient norm: 0.004137455485761166\n",
      "\tElapsed time = 2.760 min\n",
      "[Statepoint 0]\n",
      "\tkT = 2.455 ref_kT = 2.462\n",
      "\tPredicted entropy: -0.5013156533241272\n",
      "\tPredicted free_energy: -12742.83203125\n",
      "\tPredicted pressure: 15.150172233581543\n"
     ]
    },
    {
     "name": "stdout",
     "output_type": "stream",
     "text": [
      "[Step Size] Found optimal step size 0.1305946707725525 with residual 0.003665447235107422\n"
     ]
    },
    {
     "name": "stdout",
     "output_type": "stream",
     "text": [
      "\n",
      "[DiffTRe] Epoch 157\n",
      "\tEpoch loss = 0.00124\n",
      "\tGradient norm: 0.0116785429418087\n",
      "\tElapsed time = 2.770 min\n",
      "[Statepoint 0]\n",
      "\tkT = 2.463 ref_kT = 2.462\n",
      "\tPredicted entropy: -0.24132207036018372\n",
      "\tPredicted free_energy: -12680.1826171875\n",
      "\tPredicted pressure: 17.19352149963379\n"
     ]
    },
    {
     "name": "stdout",
     "output_type": "stream",
     "text": [
      "[Step Size] Found optimal step size 0.1735619753599167 with residual 0.044342994689941406\n"
     ]
    },
    {
     "name": "stdout",
     "output_type": "stream",
     "text": [
      "\n",
      "[DiffTRe] Epoch 158\n",
      "\tEpoch loss = 0.00116\n",
      "\tGradient norm: 0.0041214716620743275\n",
      "\tElapsed time = 2.761 min\n",
      "[Statepoint 0]\n",
      "\tkT = 2.453 ref_kT = 2.462\n",
      "\tPredicted entropy: -0.5208142995834351\n",
      "\tPredicted free_energy: -12974.94921875\n",
      "\tPredicted pressure: 4.008003234863281\n"
     ]
    },
    {
     "name": "stdout",
     "output_type": "stream",
     "text": [
      "[Step Size] Found optimal step size 0.17356199026107788 with residual 0.06028389930725098\n"
     ]
    },
    {
     "name": "stdout",
     "output_type": "stream",
     "text": [
      "\n",
      "[DiffTRe] Epoch 159\n",
      "\tEpoch loss = 0.00113\n",
      "\tGradient norm: 0.004969743080437183\n",
      "\tElapsed time = 2.763 min\n",
      "[Statepoint 0]\n",
      "\tkT = 2.460 ref_kT = 2.462\n",
      "\tPredicted entropy: -0.28503474593162537\n",
      "\tPredicted free_energy: -12746.7119140625\n",
      "\tPredicted pressure: 13.176372528076172\n"
     ]
    },
    {
     "name": "stdout",
     "output_type": "stream",
     "text": [
      "[Step Size] Found optimal step size 0.17356199026107788 with residual 0.02117776870727539\n"
     ]
    },
    {
     "name": "stdout",
     "output_type": "stream",
     "text": [
      "\n",
      "[DiffTRe] Epoch 160\n",
      "\tEpoch loss = 0.00120\n",
      "\tGradient norm: 0.009535904973745346\n",
      "\tElapsed time = 2.773 min\n",
      "[Statepoint 0]\n",
      "\tkT = 2.460 ref_kT = 2.462\n",
      "\tPredicted entropy: -0.5873769521713257\n",
      "\tPredicted free_energy: -12940.0087890625\n",
      "\tPredicted pressure: 8.995469093322754\n"
     ]
    },
    {
     "name": "stdout",
     "output_type": "stream",
     "text": [
      "[Step Size] Found optimal step size 0.1735619753599167 with residual 0.18305540084838867\n"
     ]
    },
    {
     "name": "stdout",
     "output_type": "stream",
     "text": [
      "\n",
      "[DiffTRe] Epoch 161\n",
      "\tEpoch loss = 0.00122\n",
      "\tGradient norm: 0.005912618711590767\n",
      "\tElapsed time = 2.769 min\n",
      "[Statepoint 0]\n",
      "\tkT = 2.471 ref_kT = 2.462\n",
      "\tPredicted entropy: -0.37863945960998535\n",
      "\tPredicted free_energy: -12821.451171875\n",
      "\tPredicted pressure: 14.363819122314453\n"
     ]
    },
    {
     "name": "stdout",
     "output_type": "stream",
     "text": [
      "[Step Size] Found optimal step size 0.15871590375900269 with residual 0.01384282112121582\n"
     ]
    },
    {
     "name": "stdout",
     "output_type": "stream",
     "text": [
      "\n",
      "[DiffTRe] Epoch 162\n",
      "\tEpoch loss = 0.00110\n",
      "\tGradient norm: 0.004636495839804411\n",
      "\tElapsed time = 2.775 min\n",
      "[Statepoint 0]\n",
      "\tkT = 2.472 ref_kT = 2.462\n",
      "\tPredicted entropy: -0.49843543767929077\n",
      "\tPredicted free_energy: -12741.5458984375\n",
      "\tPredicted pressure: 15.380877494812012\n"
     ]
    },
    {
     "name": "stdout",
     "output_type": "stream",
     "text": [
      "[Step Size] Found optimal step size 0.13825054466724396 with residual 0.0027189254760742188\n"
     ]
    },
    {
     "name": "stdout",
     "output_type": "stream",
     "text": [
      "\n",
      "[DiffTRe] Epoch 163\n",
      "\tEpoch loss = 0.00112\n",
      "\tGradient norm: 0.010568661615252495\n",
      "\tElapsed time = 2.766 min\n",
      "[Statepoint 0]\n",
      "\tkT = 2.457 ref_kT = 2.462\n",
      "\tPredicted entropy: -0.28291282057762146\n",
      "\tPredicted free_energy: -12723.3623046875\n",
      "\tPredicted pressure: 13.768157958984375\n"
     ]
    },
    {
     "name": "stdout",
     "output_type": "stream",
     "text": [
      "[Step Size] Found optimal step size 0.21843552589416504 with residual 0.0015974044799804688\n"
     ]
    },
    {
     "name": "stdout",
     "output_type": "stream",
     "text": [
      "\n",
      "[DiffTRe] Epoch 164\n",
      "\tEpoch loss = 0.00113\n",
      "\tGradient norm: 0.0035414169542491436\n",
      "\tElapsed time = 2.770 min\n",
      "[Statepoint 0]\n",
      "\tkT = 2.458 ref_kT = 2.462\n",
      "\tPredicted entropy: -0.6151049733161926\n",
      "\tPredicted free_energy: -13027.5322265625\n",
      "\tPredicted pressure: 5.930680751800537\n"
     ]
    },
    {
     "name": "stdout",
     "output_type": "stream",
     "text": [
      "[Step Size] Found optimal step size 0.15266196429729462 with residual 0.005792140960693359\n"
     ]
    },
    {
     "name": "stdout",
     "output_type": "stream",
     "text": [
      "\n",
      "[DiffTRe] Epoch 165\n",
      "\tEpoch loss = 0.00118\n",
      "\tGradient norm: 0.009602893143892288\n",
      "\tElapsed time = 2.771 min\n",
      "[Statepoint 0]\n",
      "\tkT = 2.458 ref_kT = 2.462\n",
      "\tPredicted entropy: -0.35549497604370117\n",
      "\tPredicted free_energy: -12856.3544921875\n",
      "\tPredicted pressure: 14.617375373840332\n"
     ]
    },
    {
     "name": "stdout",
     "output_type": "stream",
     "text": [
      "[Step Size] Found optimal step size 0.2644701600074768 with residual 0.020224809646606445\n"
     ]
    },
    {
     "name": "stdout",
     "output_type": "stream",
     "text": [
      "\n",
      "[DiffTRe] Epoch 166\n",
      "\tEpoch loss = 0.00116\n",
      "\tGradient norm: 0.0038685391191393137\n",
      "\tElapsed time = 2.784 min\n",
      "[Statepoint 0]\n",
      "\tkT = 2.456 ref_kT = 2.462\n",
      "\tPredicted entropy: -0.6311971545219421\n",
      "\tPredicted free_energy: -12995.8916015625\n",
      "\tPredicted pressure: 9.54332160949707\n"
     ]
    },
    {
     "name": "stdout",
     "output_type": "stream",
     "text": [
      "[Step Size] Found optimal step size 0.1540963053703308 with residual 0.00036144256591796875\n"
     ]
    },
    {
     "name": "stdout",
     "output_type": "stream",
     "text": [
      "\n",
      "[DiffTRe] Epoch 167\n",
      "\tEpoch loss = 0.00122\n",
      "\tGradient norm: 0.013186907395720482\n",
      "\tElapsed time = 2.789 min\n",
      "[Statepoint 0]\n",
      "\tkT = 2.459 ref_kT = 2.462\n",
      "\tPredicted entropy: -0.3215745687484741\n",
      "\tPredicted free_energy: -12798.16796875\n",
      "\tPredicted pressure: 15.87549877166748\n"
     ]
    },
    {
     "name": "stdout",
     "output_type": "stream",
     "text": [
      "[Step Size] Found optimal step size 0.4126826226711273 with residual 0.00039649009704589844\n"
     ]
    },
    {
     "name": "stdout",
     "output_type": "stream",
     "text": [
      "\n",
      "[DiffTRe] Epoch 168\n",
      "\tEpoch loss = 0.00106\n",
      "\tGradient norm: 0.002625464228913188\n",
      "\tElapsed time = 2.778 min\n",
      "[Statepoint 0]\n",
      "\tkT = 2.455 ref_kT = 2.462\n",
      "\tPredicted entropy: -0.5924838781356812\n",
      "\tPredicted free_energy: -12999.1923828125\n",
      "\tPredicted pressure: 6.192888259887695\n"
     ]
    },
    {
     "name": "stdout",
     "output_type": "stream",
     "text": [
      "[Step Size] Found optimal step size 0.13975316286087036 with residual 0.026233911514282227\n"
     ]
    },
    {
     "name": "stdout",
     "output_type": "stream",
     "text": [
      "\n",
      "[DiffTRe] Epoch 169\n",
      "\tEpoch loss = 0.00139\n",
      "\tGradient norm: 0.02980901673436165\n",
      "\tElapsed time = 2.770 min\n",
      "[Statepoint 0]\n",
      "\tkT = 2.467 ref_kT = 2.462\n",
      "\tPredicted entropy: -0.34658902883529663\n",
      "\tPredicted free_energy: -12988.74609375\n",
      "\tPredicted pressure: 12.33686637878418\n"
     ]
    },
    {
     "name": "stdout",
     "output_type": "stream",
     "text": [
      "[Step Size] Found optimal step size 0.4275038540363312 with residual 0.00027871131896972656\n"
     ]
    },
    {
     "name": "stdout",
     "output_type": "stream",
     "text": [
      "\n",
      "[DiffTRe] Epoch 170\n",
      "\tEpoch loss = 0.00104\n",
      "\tGradient norm: 0.0009550570393912494\n",
      "\tElapsed time = 2.775 min\n",
      "[Statepoint 0]\n",
      "\tkT = 2.469 ref_kT = 2.462\n",
      "\tPredicted entropy: -0.5552181601524353\n",
      "\tPredicted free_energy: -13143.5380859375\n",
      "\tPredicted pressure: 4.681109428405762\n"
     ]
    },
    {
     "name": "stdout",
     "output_type": "stream",
     "text": [
      "[Step Size] Found optimal step size 0.2101711630821228 with residual 0.0005431175231933594\n"
     ]
    },
    {
     "name": "stdout",
     "output_type": "stream",
     "text": [
      "\n",
      "[DiffTRe] Epoch 171\n",
      "\tEpoch loss = 0.00119\n",
      "\tGradient norm: 0.007730263751000166\n",
      "\tElapsed time = 2.779 min\n",
      "[Statepoint 0]\n",
      "\tkT = 2.457 ref_kT = 2.462\n",
      "\tPredicted entropy: -0.41361376643180847\n",
      "\tPredicted free_energy: -12544.291015625\n",
      "\tPredicted pressure: 23.24359703063965\n"
     ]
    },
    {
     "name": "stdout",
     "output_type": "stream",
     "text": [
      "[Step Size] Found optimal step size 0.3955764174461365 with residual 0.002273082733154297\n"
     ]
    },
    {
     "name": "stdout",
     "output_type": "stream",
     "text": [
      "\n",
      "[DiffTRe] Epoch 172\n",
      "\tEpoch loss = 0.00103\n",
      "\tGradient norm: 0.00047923458623699844\n",
      "\tElapsed time = 2.780 min\n",
      "[Statepoint 0]\n",
      "\tkT = 2.462 ref_kT = 2.462\n",
      "\tPredicted entropy: -0.5386950373649597\n",
      "\tPredicted free_energy: -13006.794921875\n",
      "\tPredicted pressure: 5.605027675628662\n"
     ]
    },
    {
     "name": "stdout",
     "output_type": "stream",
     "text": [
      "[Step Size] Found optimal step size 0.17205935716629028 with residual 0.00209808349609375\n"
     ]
    },
    {
     "name": "stdout",
     "output_type": "stream",
     "text": [
      "\n",
      "[DiffTRe] Epoch 173\n",
      "\tEpoch loss = 0.00118\n",
      "\tGradient norm: 0.011914749629795551\n",
      "\tElapsed time = 2.770 min\n",
      "[Statepoint 0]\n",
      "\tkT = 2.461 ref_kT = 2.462\n",
      "\tPredicted entropy: -0.8362314701080322\n",
      "\tPredicted free_energy: -13383.9287109375\n",
      "\tPredicted pressure: -6.494675159454346\n"
     ]
    },
    {
     "name": "stdout",
     "output_type": "stream",
     "text": [
      "[Step Size] Found optimal step size 0.33420515060424805 with residual 0.0001964569091796875\n"
     ]
    },
    {
     "name": "stdout",
     "output_type": "stream",
     "text": [
      "\n",
      "[DiffTRe] Epoch 174\n",
      "\tEpoch loss = 0.00103\n",
      "\tGradient norm: 0.0021601084154099226\n",
      "\tElapsed time = 2.766 min\n",
      "[Statepoint 0]\n",
      "\tkT = 2.465 ref_kT = 2.462\n",
      "\tPredicted entropy: -0.4772757291793823\n",
      "\tPredicted free_energy: -12950.4658203125\n",
      "\tPredicted pressure: 14.321436882019043\n"
     ]
    },
    {
     "name": "stdout",
     "output_type": "stream",
     "text": [
      "[Step Size] Found optimal step size 0.17356199026107788 with residual 0.044605255126953125\n"
     ]
    },
    {
     "name": "stdout",
     "output_type": "stream",
     "text": [
      "\n",
      "[DiffTRe] Epoch 175\n",
      "\tEpoch loss = 0.00115\n",
      "\tGradient norm: 0.015634147450327873\n",
      "\tElapsed time = 2.775 min\n",
      "[Statepoint 0]\n",
      "\tkT = 2.472 ref_kT = 2.462\n",
      "\tPredicted entropy: -0.7214311957359314\n",
      "\tPredicted free_energy: -12941.8037109375\n",
      "\tPredicted pressure: 11.469902038574219\n"
     ]
    },
    {
     "name": "stdout",
     "output_type": "stream",
     "text": [
      "[Step Size] Found optimal step size 0.6684002876281738 with residual 9.822845458984375e-05\n"
     ]
    },
    {
     "name": "stdout",
     "output_type": "stream",
     "text": [
      "\n",
      "[DiffTRe] Epoch 176\n",
      "\tEpoch loss = 0.00099\n",
      "\tGradient norm: 0.0013221569824963808\n",
      "\tElapsed time = 2.769 min\n",
      "[Statepoint 0]\n",
      "\tkT = 2.461 ref_kT = 2.462\n",
      "\tPredicted entropy: -0.49927985668182373\n",
      "\tPredicted free_energy: -12923.40625\n",
      "\tPredicted pressure: 7.774173259735107\n"
     ]
    },
    {
     "name": "stdout",
     "output_type": "stream",
     "text": [
      "[Step Size] Found optimal step size 0.1544378101825714 with residual 0.0005788803100585938\n"
     ]
    },
    {
     "name": "stdout",
     "output_type": "stream",
     "text": [
      "\n",
      "[DiffTRe] Epoch 177\n",
      "\tEpoch loss = 0.00129\n",
      "\tGradient norm: 0.029544223099946976\n",
      "\tElapsed time = 2.770 min\n",
      "[Statepoint 0]\n",
      "\tkT = 2.465 ref_kT = 2.462\n",
      "\tPredicted entropy: -1.0112991333007812\n",
      "\tPredicted free_energy: -13149.822265625\n",
      "\tPredicted pressure: 6.748847007751465\n"
     ]
    },
    {
     "name": "stdout",
     "output_type": "stream",
     "text": [
      "[Step Size] Found optimal step size 0.6617628335952759 with residual 0.0017666816711425781\n"
     ]
    },
    {
     "name": "stdout",
     "output_type": "stream",
     "text": [
      "\n",
      "[DiffTRe] Epoch 178\n",
      "\tEpoch loss = 0.00095\n",
      "\tGradient norm: 0.0003584314545150846\n",
      "\tElapsed time = 2.772 min\n",
      "[Statepoint 0]\n",
      "\tkT = 2.465 ref_kT = 2.462\n",
      "\tPredicted entropy: -0.6952670812606812\n",
      "\tPredicted free_energy: -12867.68359375\n",
      "\tPredicted pressure: 15.197689056396484\n"
     ]
    },
    {
     "name": "stdout",
     "output_type": "stream",
     "text": [
      "[Step Size] Found optimal step size 0.18858814239501953 with residual 0.0032486915588378906\n"
     ]
    },
    {
     "name": "stdout",
     "output_type": "stream",
     "text": [
      "\n",
      "[DiffTRe] Epoch 179\n",
      "\tEpoch loss = 0.00145\n",
      "\tGradient norm: 0.030328646302223206\n",
      "\tElapsed time = 2.773 min\n",
      "[Statepoint 0]\n",
      "\tkT = 2.467 ref_kT = 2.462\n",
      "\tPredicted entropy: -0.4991990029811859\n",
      "\tPredicted free_energy: -13113.7275390625\n",
      "\tPredicted pressure: 4.504752159118652\n"
     ]
    },
    {
     "name": "stdout",
     "output_type": "stream",
     "text": [
      "[Step Size] Found optimal step size 0.3801715075969696 with residual 0.0034036636352539062\n"
     ]
    },
    {
     "name": "stdout",
     "output_type": "stream",
     "text": [
      "\n",
      "[DiffTRe] Epoch 180\n",
      "\tEpoch loss = 0.00095\n",
      "\tGradient norm: 0.0014724971260875463\n",
      "\tElapsed time = 2.769 min\n",
      "[Statepoint 0]\n",
      "\tkT = 2.452 ref_kT = 2.462\n",
      "\tPredicted entropy: -0.819473147392273\n",
      "\tPredicted free_energy: -13160.7421875\n",
      "\tPredicted pressure: 6.886929988861084\n"
     ]
    },
    {
     "name": "stdout",
     "output_type": "stream",
     "text": [
      "[Step Size] Found optimal step size 0.1840243935585022 with residual 0.0018782615661621094\n"
     ]
    },
    {
     "name": "stdout",
     "output_type": "stream",
     "text": [
      "\n",
      "[DiffTRe] Epoch 181\n",
      "\tEpoch loss = 0.00105\n",
      "\tGradient norm: 0.0040484885685145855\n",
      "\tElapsed time = 2.773 min\n",
      "[Statepoint 0]\n",
      "\tkT = 2.465 ref_kT = 2.462\n",
      "\tPredicted entropy: -0.5366999506950378\n",
      "\tPredicted free_energy: -12671.2099609375\n",
      "\tPredicted pressure: 21.966293334960938\n"
     ]
    },
    {
     "name": "stdout",
     "output_type": "stream",
     "text": [
      "[Step Size] Found optimal step size 0.4019594192504883 with residual 0.0008549690246582031\n"
     ]
    },
    {
     "name": "stdout",
     "output_type": "stream",
     "text": [
      "\n",
      "[DiffTRe] Epoch 182\n",
      "\tEpoch loss = 0.00093\n",
      "\tGradient norm: 0.0012403072323650122\n",
      "\tElapsed time = 2.771 min\n",
      "[Statepoint 0]\n",
      "\tkT = 2.459 ref_kT = 2.462\n",
      "\tPredicted entropy: -0.732200026512146\n",
      "\tPredicted free_energy: -13044.5048828125\n",
      "\tPredicted pressure: 11.667158126831055\n"
     ]
    },
    {
     "name": "stdout",
     "output_type": "stream",
     "text": [
      "[Step Size] Found optimal step size 0.16003844141960144 with residual 0.01106715202331543\n"
     ]
    },
    {
     "name": "stdout",
     "output_type": "stream",
     "text": [
      "\n",
      "[DiffTRe] Epoch 183\n",
      "\tEpoch loss = 0.00123\n",
      "\tGradient norm: 0.01680739037692547\n",
      "\tElapsed time = 2.777 min\n",
      "[Statepoint 0]\n",
      "\tkT = 2.457 ref_kT = 2.462\n",
      "\tPredicted entropy: -0.4831457734107971\n",
      "\tPredicted free_energy: -12916.5283203125\n",
      "\tPredicted pressure: 9.142451286315918\n"
     ]
    },
    {
     "name": "stdout",
     "output_type": "stream",
     "text": [
      "[Step Size] Found optimal step size 0.37115585803985596 with residual 0.003139972686767578\n"
     ]
    },
    {
     "name": "stdout",
     "output_type": "stream",
     "text": [
      "\n",
      "[DiffTRe] Epoch 184\n",
      "\tEpoch loss = 0.00090\n",
      "\tGradient norm: 0.0009414276573807001\n",
      "\tElapsed time = 2.774 min\n",
      "[Statepoint 0]\n",
      "\tkT = 2.469 ref_kT = 2.462\n",
      "\tPredicted entropy: -0.7122591733932495\n",
      "\tPredicted free_energy: -13052.4384765625\n",
      "\tPredicted pressure: 8.277427673339844\n"
     ]
    },
    {
     "name": "stdout",
     "output_type": "stream",
     "text": [
      "[Step Size] Found optimal step size 0.19104695320129395 with residual 0.007386445999145508\n"
     ]
    },
    {
     "name": "stdout",
     "output_type": "stream",
     "text": [
      "\n",
      "[DiffTRe] Epoch 185\n",
      "\tEpoch loss = 0.00120\n",
      "\tGradient norm: 0.026813382282853127\n",
      "\tElapsed time = 2.777 min\n",
      "[Statepoint 0]\n",
      "\tkT = 2.469 ref_kT = 2.462\n",
      "\tPredicted entropy: -1.069085955619812\n",
      "\tPredicted free_energy: -13490.2099609375\n",
      "\tPredicted pressure: -8.73485279083252\n"
     ]
    },
    {
     "name": "stdout",
     "output_type": "stream",
     "text": [
      "[Step Size] Found optimal step size 0.9090918302536011 with residual 0.1624140739440918\n"
     ]
    },
    {
     "name": "stdout",
     "output_type": "stream",
     "text": [
      "\n",
      "[DiffTRe] Epoch 186\n",
      "\tEpoch loss = 0.00091\n",
      "\tGradient norm: 0.0006468947394751012\n",
      "\tElapsed time = 2.777 min\n",
      "[Statepoint 0]\n",
      "\tkT = 2.458 ref_kT = 2.462\n",
      "\tPredicted entropy: -0.650083601474762\n",
      "\tPredicted free_energy: -13073.923828125\n",
      "\tPredicted pressure: 10.071351051330566\n"
     ]
    },
    {
     "name": "stdout",
     "output_type": "stream",
     "text": [
      "[Step Size] Found optimal step size 0.2385159134864807 with residual 0.001708984375\n"
     ]
    },
    {
     "name": "stdout",
     "output_type": "stream",
     "text": [
      "\n",
      "[DiffTRe] Epoch 187\n",
      "\tEpoch loss = 0.00121\n",
      "\tGradient norm: 0.01316467672586441\n",
      "\tElapsed time = 2.777 min\n",
      "[Statepoint 0]\n",
      "\tkT = 2.474 ref_kT = 2.462\n",
      "\tPredicted entropy: -0.6486950516700745\n",
      "\tPredicted free_energy: -12605.6943359375\n",
      "\tPredicted pressure: 28.037612915039062\n"
     ]
    },
    {
     "name": "stdout",
     "output_type": "stream",
     "text": [
      "[Step Size] Found optimal step size 0.36651137471199036 with residual 0.0015940666198730469\n"
     ]
    },
    {
     "name": "stdout",
     "output_type": "stream",
     "text": [
      "\n",
      "[DiffTRe] Epoch 188\n",
      "\tEpoch loss = 0.00095\n",
      "\tGradient norm: 0.002877004211768508\n",
      "\tElapsed time = 2.768 min\n",
      "[Statepoint 0]\n",
      "\tkT = 2.472 ref_kT = 2.462\n",
      "\tPredicted entropy: -0.5595464706420898\n",
      "\tPredicted free_energy: -12854.130859375\n",
      "\tPredicted pressure: 22.566818237304688\n"
     ]
    },
    {
     "name": "stdout",
     "output_type": "stream",
     "text": [
      "[Step Size] Found optimal step size 0.23582115769386292 with residual 0.0003170967102050781\n"
     ]
    },
    {
     "name": "stdout",
     "output_type": "stream",
     "text": [
      "\n",
      "[DiffTRe] Epoch 189\n",
      "\tEpoch loss = 0.00110\n",
      "\tGradient norm: 0.02145233005285263\n",
      "\tElapsed time = 2.779 min\n",
      "[Statepoint 0]\n",
      "\tkT = 2.457 ref_kT = 2.462\n",
      "\tPredicted entropy: -1.0060462951660156\n",
      "\tPredicted free_energy: -13471.541015625\n",
      "\tPredicted pressure: -5.546913146972656\n"
     ]
    },
    {
     "name": "stdout",
     "output_type": "stream",
     "text": [
      "[Step Size] Found optimal step size 0.3463627099990845 with residual 0.0031456947326660156\n"
     ]
    },
    {
     "name": "stdout",
     "output_type": "stream",
     "text": [
      "\n",
      "[DiffTRe] Epoch 190\n",
      "\tEpoch loss = 0.00097\n",
      "\tGradient norm: 0.004575608763843775\n",
      "\tElapsed time = 2.782 min\n",
      "[Statepoint 0]\n",
      "\tkT = 2.459 ref_kT = 2.462\n",
      "\tPredicted entropy: -0.5848232507705688\n",
      "\tPredicted free_energy: -13060.326171875\n",
      "\tPredicted pressure: 9.045937538146973\n"
     ]
    },
    {
     "name": "stdout",
     "output_type": "stream",
     "text": [
      "[Step Size] Found optimal step size 0.4380221664905548 with residual 0.0025780200958251953\n"
     ]
    },
    {
     "name": "stdout",
     "output_type": "stream",
     "text": [
      "\n",
      "[DiffTRe] Epoch 191\n",
      "\tEpoch loss = 0.00098\n",
      "\tGradient norm: 0.00500876922160387\n",
      "\tElapsed time = 2.786 min\n",
      "[Statepoint 0]\n",
      "\tkT = 2.458 ref_kT = 2.462\n",
      "\tPredicted entropy: -0.6033464670181274\n",
      "\tPredicted free_energy: -12804.556640625\n",
      "\tPredicted pressure: 17.710739135742188\n"
     ]
    },
    {
     "name": "stdout",
     "output_type": "stream",
     "text": [
      "[Step Size] Found optimal step size 0.29837214946746826 with residual 0.0035288333892822266\n"
     ]
    },
    {
     "name": "stdout",
     "output_type": "stream",
     "text": [
      "\n",
      "[DiffTRe] Epoch 192\n",
      "\tEpoch loss = 0.00103\n",
      "\tGradient norm: 0.0075120748952031136\n",
      "\tElapsed time = 2.781 min\n",
      "[Statepoint 0]\n",
      "\tkT = 2.470 ref_kT = 2.462\n",
      "\tPredicted entropy: -0.6632425785064697\n",
      "\tPredicted free_energy: -13308.6103515625\n",
      "\tPredicted pressure: 4.563680171966553\n"
     ]
    },
    {
     "name": "stdout",
     "output_type": "stream",
     "text": [
      "[Step Size] Found optimal step size 0.319793701171875 with residual 0.0003116130828857422\n"
     ]
    },
    {
     "name": "stdout",
     "output_type": "stream",
     "text": [
      "\n",
      "[DiffTRe] Epoch 193\n",
      "\tEpoch loss = 0.00096\n",
      "\tGradient norm: 0.005647904705256224\n",
      "\tElapsed time = 2.776 min\n",
      "[Statepoint 0]\n",
      "\tkT = 2.462 ref_kT = 2.462\n",
      "\tPredicted entropy: -0.799793541431427\n",
      "\tPredicted free_energy: -13147.51953125\n",
      "\tPredicted pressure: 9.626678466796875\n"
     ]
    },
    {
     "name": "stdout",
     "output_type": "stream",
     "text": [
      "[Step Size] Found optimal step size 0.2916538715362549 with residual 0.008196115493774414\n"
     ]
    },
    {
     "name": "stdout",
     "output_type": "stream",
     "text": [
      "\n",
      "[DiffTRe] Epoch 194\n",
      "\tEpoch loss = 0.00104\n",
      "\tGradient norm: 0.008068540133535862\n",
      "\tElapsed time = 2.781 min\n",
      "[Statepoint 0]\n",
      "\tkT = 2.464 ref_kT = 2.462\n",
      "\tPredicted entropy: -0.4591693878173828\n",
      "\tPredicted free_energy: -12835.5712890625\n",
      "\tPredicted pressure: 16.796810150146484\n"
     ]
    },
    {
     "name": "stdout",
     "output_type": "stream",
     "text": [
      "[Step Size] Found optimal step size 0.3553783893585205 with residual 0.01689910888671875\n"
     ]
    },
    {
     "name": "stdout",
     "output_type": "stream",
     "text": [
      "\n",
      "[DiffTRe] Epoch 195\n",
      "\tEpoch loss = 0.00094\n",
      "\tGradient norm: 0.0046325563453137875\n",
      "\tElapsed time = 2.782 min\n",
      "[Statepoint 0]\n",
      "\tkT = 2.462 ref_kT = 2.462\n",
      "\tPredicted entropy: -0.7674034237861633\n",
      "\tPredicted free_energy: -13164.369140625\n",
      "\tPredicted pressure: 6.756419658660889\n"
     ]
    },
    {
     "name": "stdout",
     "output_type": "stream",
     "text": [
      "[Step Size] Found optimal step size 0.20422278344631195 with residual 0.0029456615447998047\n"
     ]
    },
    {
     "name": "stdout",
     "output_type": "stream",
     "text": [
      "\n",
      "[DiffTRe] Epoch 196\n",
      "\tEpoch loss = 0.00102\n",
      "\tGradient norm: 0.01343888882547617\n",
      "\tElapsed time = 2.781 min\n",
      "[Statepoint 0]\n",
      "\tkT = 2.459 ref_kT = 2.462\n",
      "\tPredicted entropy: -0.44416752457618713\n",
      "\tPredicted free_energy: -13003.4873046875\n",
      "\tPredicted pressure: 14.806631088256836\n"
     ]
    },
    {
     "name": "stdout",
     "output_type": "stream",
     "text": [
      "[Step Size] Found optimal step size 1.0 with residual 2.1127524375915527\n"
     ]
    },
    {
     "name": "stdout",
     "output_type": "stream",
     "text": [
      "\n",
      "[DiffTRe] Epoch 197\n",
      "\tEpoch loss = 0.00090\n",
      "\tGradient norm: 0.0002268741518491879\n",
      "\tElapsed time = 2.785 min\n",
      "[Statepoint 0]\n",
      "\tkT = 2.463 ref_kT = 2.462\n",
      "\tPredicted entropy: -0.6712462902069092\n",
      "\tPredicted free_energy: -13194.0732421875\n",
      "\tPredicted pressure: 4.927561283111572\n"
     ]
    },
    {
     "name": "stdout",
     "output_type": "stream",
     "text": [
      "[Step Size] Found optimal step size 0.2879655957221985 with residual 0.0005514621734619141\n"
     ]
    },
    {
     "name": "stdout",
     "output_type": "stream",
     "text": [
      "\n",
      "[DiffTRe] Epoch 198\n",
      "\tEpoch loss = 0.00086\n",
      "\tGradient norm: 0.0013460610061883926\n",
      "\tElapsed time = 2.782 min\n",
      "[Statepoint 0]\n",
      "\tkT = 2.451 ref_kT = 2.462\n",
      "\tPredicted entropy: -0.6379430890083313\n",
      "\tPredicted free_energy: -13027.5244140625\n",
      "\tPredicted pressure: 14.904353141784668\n"
     ]
    },
    {
     "name": "stdout",
     "output_type": "stream",
     "text": [
      "[Step Size] Found optimal step size 0.1703704595565796 with residual 0.01517343521118164\n"
     ]
    },
    {
     "name": "stdout",
     "output_type": "stream",
     "text": [
      "\n",
      "[DiffTRe] Epoch 199\n",
      "\tEpoch loss = 0.00098\n",
      "\tGradient norm: 0.009093239903450012\n",
      "\tElapsed time = 2.782 min\n",
      "[Statepoint 0]\n",
      "\tkT = 2.467 ref_kT = 2.462\n",
      "\tPredicted entropy: -0.3878662586212158\n",
      "\tPredicted free_energy: -12700.140625\n",
      "\tPredicted pressure: 28.467924118041992\n"
     ]
    },
    {
     "name": "stdout",
     "output_type": "stream",
     "text": [
      "[Step Size] Found optimal step size 0.4393881559371948 with residual 0.002089977264404297\n"
     ]
    },
    {
     "name": "stdout",
     "output_type": "stream",
     "text": [
      "\n",
      "[DiffTRe] Epoch 200\n",
      "\tEpoch loss = 0.00086\n",
      "\tGradient norm: 0.003546925261616707\n",
      "\tElapsed time = 2.786 min\n",
      "[Statepoint 0]\n",
      "\tkT = 2.476 ref_kT = 2.462\n",
      "\tPredicted entropy: -0.6647359728813171\n",
      "\tPredicted free_energy: -12973.2109375\n",
      "\tPredicted pressure: 17.722471237182617\n"
     ]
    },
    {
     "name": "stdout",
     "output_type": "stream",
     "text": [
      "[Step Size] Found optimal step size 0.31780678033828735 with residual 0.0008044242858886719\n"
     ]
    },
    {
     "name": "stdout",
     "output_type": "stream",
     "text": [
      "\n",
      "[DiffTRe] Epoch 201\n",
      "\tEpoch loss = 0.00106\n",
      "\tGradient norm: 0.009454847313463688\n",
      "\tElapsed time = 2.793 min\n",
      "[Statepoint 0]\n",
      "\tkT = 2.465 ref_kT = 2.462\n",
      "\tPredicted entropy: -0.7853847146034241\n",
      "\tPredicted free_energy: -13482.248046875\n",
      "\tPredicted pressure: -2.2739100456237793\n"
     ]
    },
    {
     "name": "stdout",
     "output_type": "stream",
     "text": [
      "[Step Size] Found optimal step size 0.34535685181617737 with residual 0.005120754241943359\n"
     ]
    },
    {
     "name": "stdout",
     "output_type": "stream",
     "text": [
      "\n",
      "[DiffTRe] Epoch 202\n",
      "\tEpoch loss = 0.00087\n",
      "\tGradient norm: 0.0011505780275911093\n",
      "\tElapsed time = 2.796 min\n",
      "[Statepoint 0]\n",
      "\tkT = 2.466 ref_kT = 2.462\n",
      "\tPredicted entropy: -0.7739822268486023\n",
      "\tPredicted free_energy: -13151.9248046875\n",
      "\tPredicted pressure: 8.53166389465332\n"
     ]
    },
    {
     "name": "stdout",
     "output_type": "stream",
     "text": [
      "[Step Size] Found optimal step size 0.24794141948223114 with residual 0.007723808288574219\n"
     ]
    },
    {
     "name": "stdout",
     "output_type": "stream",
     "text": [
      "\n",
      "[DiffTRe] Epoch 203\n",
      "\tEpoch loss = 0.00097\n",
      "\tGradient norm: 0.011571015231311321\n",
      "\tElapsed time = 2.788 min\n",
      "[Statepoint 0]\n",
      "\tkT = 2.478 ref_kT = 2.462\n",
      "\tPredicted entropy: -0.4871121644973755\n",
      "\tPredicted free_energy: -12851.59375\n",
      "\tPredicted pressure: 26.168237686157227\n"
     ]
    },
    {
     "name": "stdout",
     "output_type": "stream",
     "text": [
      "[Step Size] Found optimal step size 0.3553783893585205 with residual 0.020431995391845703\n"
     ]
    },
    {
     "name": "stdout",
     "output_type": "stream",
     "text": [
      "\n",
      "[DiffTRe] Epoch 204\n",
      "\tEpoch loss = 0.00089\n",
      "\tGradient norm: 0.0047047627158463\n",
      "\tElapsed time = 2.805 min\n",
      "[Statepoint 0]\n",
      "\tkT = 2.464 ref_kT = 2.462\n",
      "\tPredicted entropy: -0.7296937108039856\n",
      "\tPredicted free_energy: -13204.03515625\n",
      "\tPredicted pressure: 7.8600287437438965\n"
     ]
    },
    {
     "name": "stdout",
     "output_type": "stream",
     "text": [
      "[Step Size] Found optimal step size 0.3553783893585205 with residual 0.0734555721282959\n"
     ]
    },
    {
     "name": "stdout",
     "output_type": "stream",
     "text": [
      "\n",
      "[DiffTRe] Epoch 205\n",
      "\tEpoch loss = 0.00093\n",
      "\tGradient norm: 0.006367534399032593\n",
      "\tElapsed time = 2.793 min\n",
      "[Statepoint 0]\n",
      "\tkT = 2.461 ref_kT = 2.462\n",
      "\tPredicted entropy: -0.5411837697029114\n",
      "\tPredicted free_energy: -13077.1337890625\n",
      "\tPredicted pressure: 14.654204368591309\n"
     ]
    },
    {
     "name": "stdout",
     "output_type": "stream",
     "text": [
      "[Step Size] Found optimal step size 0.36489081382751465 with residual 0.0023474693298339844\n"
     ]
    },
    {
     "name": "stdout",
     "output_type": "stream",
     "text": [
      "\n",
      "[DiffTRe] Epoch 206\n",
      "\tEpoch loss = 0.00093\n",
      "\tGradient norm: 0.011855531483888626\n",
      "\tElapsed time = 2.806 min\n",
      "[Statepoint 0]\n",
      "\tkT = 2.461 ref_kT = 2.462\n",
      "\tPredicted entropy: -0.8483184576034546\n",
      "\tPredicted free_energy: -13308.484375\n",
      "\tPredicted pressure: 1.146942138671875\n"
     ]
    },
    {
     "name": "stdout",
     "output_type": "stream",
     "text": [
      "[Step Size] Found optimal step size 0.32122802734375 with residual 0.0032868385314941406\n"
     ]
    },
    {
     "name": "stdout",
     "output_type": "stream",
     "text": [
      "\n",
      "[DiffTRe] Epoch 207\n",
      "\tEpoch loss = 0.00095\n",
      "\tGradient norm: 0.008569645695388317\n",
      "\tElapsed time = 2.798 min\n",
      "[Statepoint 0]\n",
      "\tkT = 2.460 ref_kT = 2.462\n",
      "\tPredicted entropy: -0.39972585439682007\n",
      "\tPredicted free_energy: -12995.8173828125\n",
      "\tPredicted pressure: 15.576659202575684\n"
     ]
    },
    {
     "name": "stdout",
     "output_type": "stream",
     "text": [
      "[Step Size] Found optimal step size 0.5563188791275024 with residual 0.001050710678100586\n"
     ]
    },
    {
     "name": "stdout",
     "output_type": "stream",
     "text": [
      "\n",
      "[DiffTRe] Epoch 208\n",
      "\tEpoch loss = 0.00087\n",
      "\tGradient norm: 0.0030056864488869905\n",
      "\tElapsed time = 2.812 min\n",
      "[Statepoint 0]\n",
      "\tkT = 2.460 ref_kT = 2.462\n",
      "\tPredicted entropy: -0.6404672265052795\n",
      "\tPredicted free_energy: -13120.18359375\n",
      "\tPredicted pressure: 11.008185386657715\n"
     ]
    },
    {
     "name": "stdout",
     "output_type": "stream",
     "text": [
      "[Step Size] Found optimal step size 0.32014143466949463 with residual 0.0008971691131591797\n"
     ]
    },
    {
     "name": "stdout",
     "output_type": "stream",
     "text": [
      "\n",
      "[DiffTRe] Epoch 209\n",
      "\tEpoch loss = 0.00101\n",
      "\tGradient norm: 0.015749571844935417\n",
      "\tElapsed time = 2.795 min\n",
      "[Statepoint 0]\n",
      "\tkT = 2.468 ref_kT = 2.462\n",
      "\tPredicted entropy: -0.6212950348854065\n",
      "\tPredicted free_energy: -13261.0419921875\n",
      "\tPredicted pressure: 12.566514015197754\n"
     ]
    },
    {
     "name": "stdout",
     "output_type": "stream",
     "text": [
      "[Step Size] Found optimal step size 0.6679221391677856 with residual 0.00018024444580078125\n"
     ]
    },
    {
     "name": "stdout",
     "output_type": "stream",
     "text": [
      "\n",
      "[DiffTRe] Epoch 210\n",
      "\tEpoch loss = 0.00085\n",
      "\tGradient norm: 0.002167169004678726\n",
      "\tElapsed time = 2.803 min\n",
      "[Statepoint 0]\n",
      "\tkT = 2.474 ref_kT = 2.462\n",
      "\tPredicted entropy: -0.7848989367485046\n",
      "\tPredicted free_energy: -13267.9765625\n",
      "\tPredicted pressure: 8.359420776367188\n"
     ]
    },
    {
     "name": "stdout",
     "output_type": "stream",
     "text": [
      "[Step Size] Found optimal step size 0.3020355701446533 with residual 8.702278137207031e-05\n"
     ]
    },
    {
     "name": "stdout",
     "output_type": "stream",
     "text": [
      "\n",
      "[DiffTRe] Epoch 211\n",
      "\tEpoch loss = 0.00098\n",
      "\tGradient norm: 0.00909833051264286\n",
      "\tElapsed time = 2.805 min\n",
      "[Statepoint 0]\n",
      "\tkT = 2.459 ref_kT = 2.462\n",
      "\tPredicted entropy: -0.4790341854095459\n",
      "\tPredicted free_energy: -12822.58203125\n",
      "\tPredicted pressure: 22.288755416870117\n"
     ]
    },
    {
     "name": "stdout",
     "output_type": "stream",
     "text": [
      "[Step Size] Found optimal step size 0.60993492603302 with residual 0.00037860870361328125\n"
     ]
    },
    {
     "name": "stdout",
     "output_type": "stream",
     "text": [
      "\n",
      "[DiffTRe] Epoch 212\n",
      "\tEpoch loss = 0.00083\n",
      "\tGradient norm: 0.0018782406114041805\n",
      "\tElapsed time = 2.804 min\n",
      "[Statepoint 0]\n",
      "\tkT = 2.455 ref_kT = 2.462\n",
      "\tPredicted entropy: -0.7542190551757812\n",
      "\tPredicted free_energy: -13245.197265625\n",
      "\tPredicted pressure: 4.487212657928467\n"
     ]
    },
    {
     "name": "stdout",
     "output_type": "stream",
     "text": [
      "[Step Size] Found optimal step size 0.29782578349113464 with residual 0.0005831718444824219\n"
     ]
    },
    {
     "name": "stdout",
     "output_type": "stream",
     "text": [
      "\n",
      "[DiffTRe] Epoch 213\n",
      "\tEpoch loss = 0.00110\n",
      "\tGradient norm: 0.018276821821928024\n",
      "\tElapsed time = 2.796 min\n",
      "[Statepoint 0]\n",
      "\tkT = 2.460 ref_kT = 2.462\n",
      "\tPredicted entropy: -0.5284252166748047\n",
      "\tPredicted free_energy: -13231.52734375\n",
      "\tPredicted pressure: 5.197177886962891\n"
     ]
    },
    {
     "name": "stdout",
     "output_type": "stream",
     "text": [
      "[Step Size] Found optimal step size 1.0 with residual 0.991539478302002\n"
     ]
    },
    {
     "name": "stdout",
     "output_type": "stream",
     "text": [
      "\n",
      "[DiffTRe] Epoch 214\n",
      "\tEpoch loss = 0.00082\n",
      "\tGradient norm: 0.00015182577772065997\n",
      "\tElapsed time = 2.803 min\n",
      "[Statepoint 0]\n",
      "\tkT = 2.457 ref_kT = 2.462\n",
      "\tPredicted entropy: -0.7362489700317383\n",
      "\tPredicted free_energy: -13296.1826171875\n",
      "\tPredicted pressure: 9.873915672302246\n"
     ]
    },
    {
     "name": "stdout",
     "output_type": "stream",
     "text": [
      "[Step Size] Found optimal step size 0.39939504861831665 with residual 0.0008182525634765625\n"
     ]
    },
    {
     "name": "stdout",
     "output_type": "stream",
     "text": [
      "\n",
      "[DiffTRe] Epoch 215\n",
      "\tEpoch loss = 0.00099\n",
      "\tGradient norm: 0.009348180145025253\n",
      "\tElapsed time = 2.798 min\n",
      "[Statepoint 0]\n",
      "\tkT = 2.470 ref_kT = 2.462\n",
      "\tPredicted entropy: -0.6690891981124878\n",
      "\tPredicted free_energy: -13066.0625\n",
      "\tPredicted pressure: 13.31751823425293\n"
     ]
    },
    {
     "name": "stdout",
     "output_type": "stream",
     "text": [
      "[Step Size] Found optimal step size 0.527564287185669 with residual 0.0010786056518554688\n"
     ]
    },
    {
     "name": "stdout",
     "output_type": "stream",
     "text": [
      "\n",
      "[DiffTRe] Epoch 216\n",
      "\tEpoch loss = 0.00084\n",
      "\tGradient norm: 0.002700578421354294\n",
      "\tElapsed time = 2.798 min\n",
      "[Statepoint 0]\n",
      "\tkT = 2.463 ref_kT = 2.462\n",
      "\tPredicted entropy: -0.5605688095092773\n",
      "\tPredicted free_energy: -13239.1337890625\n",
      "\tPredicted pressure: 11.515861511230469\n"
     ]
    },
    {
     "name": "stdout",
     "output_type": "stream",
     "text": [
      "[Step Size] Found optimal step size 0.3290826082229614 with residual 0.001191854476928711\n"
     ]
    },
    {
     "name": "stdout",
     "output_type": "stream",
     "text": [
      "\n",
      "[DiffTRe] Epoch 217\n",
      "\tEpoch loss = 0.00099\n",
      "\tGradient norm: 0.015266770496964455\n",
      "\tElapsed time = 2.794 min\n",
      "[Statepoint 0]\n",
      "\tkT = 2.459 ref_kT = 2.462\n",
      "\tPredicted entropy: -0.9407575130462646\n",
      "\tPredicted free_energy: -13601.8740234375\n",
      "\tPredicted pressure: -8.298948287963867\n"
     ]
    },
    {
     "name": "stdout",
     "output_type": "stream",
     "text": [
      "[Step Size] Found optimal step size 0.8437281250953674 with residual 0.0009660720825195312\n"
     ]
    },
    {
     "name": "stdout",
     "output_type": "stream",
     "text": [
      "\n",
      "[DiffTRe] Epoch 218\n",
      "\tEpoch loss = 0.00081\n",
      "\tGradient norm: 0.0013471503043547273\n",
      "\tElapsed time = 2.795 min\n",
      "[Statepoint 0]\n",
      "\tkT = 2.457 ref_kT = 2.462\n",
      "\tPredicted entropy: -0.5207566618919373\n",
      "\tPredicted free_energy: -13191.79296875\n",
      "\tPredicted pressure: 9.991488456726074\n"
     ]
    },
    {
     "name": "stdout",
     "output_type": "stream",
     "text": [
      "[Step Size] Found optimal step size 0.4558796286582947 with residual 0.0008909702301025391\n"
     ]
    },
    {
     "name": "stdout",
     "output_type": "stream",
     "text": [
      "\n",
      "[DiffTRe] Epoch 219\n",
      "\tEpoch loss = 0.00083\n",
      "\tGradient norm: 0.0051705255173146725\n",
      "\tElapsed time = 2.795 min\n",
      "[Statepoint 0]\n",
      "\tkT = 2.469 ref_kT = 2.462\n",
      "\tPredicted entropy: -0.7637049555778503\n",
      "\tPredicted free_energy: -13361.6220703125\n",
      "\tPredicted pressure: 3.6762921810150146\n"
     ]
    },
    {
     "name": "stdout",
     "output_type": "stream",
     "text": [
      "[Step Size] Found optimal step size 0.3223208487033844 with residual 0.0009703636169433594\n"
     ]
    },
    {
     "name": "stdout",
     "output_type": "stream",
     "text": [
      "\n",
      "[DiffTRe] Epoch 220\n",
      "\tEpoch loss = 0.00093\n",
      "\tGradient norm: 0.011891800910234451\n",
      "\tElapsed time = 2.804 min\n",
      "[Statepoint 0]\n",
      "\tkT = 2.465 ref_kT = 2.462\n",
      "\tPredicted entropy: -0.43420538306236267\n",
      "\tPredicted free_energy: -12953.8349609375\n",
      "\tPredicted pressure: 14.591035842895508\n"
     ]
    },
    {
     "name": "stdout",
     "output_type": "stream",
     "text": [
      "[Step Size] Found optimal step size 0.6889587640762329 with residual 0.0014133453369140625\n"
     ]
    },
    {
     "name": "stdout",
     "output_type": "stream",
     "text": [
      "\n",
      "[DiffTRe] Epoch 221\n",
      "\tEpoch loss = 0.00082\n",
      "\tGradient norm: 0.0018156332662329078\n",
      "\tElapsed time = 2.793 min\n",
      "[Statepoint 0]\n",
      "\tkT = 2.459 ref_kT = 2.462\n",
      "\tPredicted entropy: -0.7042950987815857\n",
      "\tPredicted free_energy: -13159.0009765625\n",
      "\tPredicted pressure: 15.986551284790039\n"
     ]
    },
    {
     "name": "stdout",
     "output_type": "stream",
     "text": [
      "[Step Size] Found optimal step size 0.4628152847290039 with residual 0.004606962203979492\n"
     ]
    },
    {
     "name": "stdout",
     "output_type": "stream",
     "text": [
      "\n",
      "[DiffTRe] Epoch 222\n",
      "\tEpoch loss = 0.00097\n",
      "\tGradient norm: 0.011063158512115479\n",
      "\tElapsed time = 2.802 min\n",
      "[Statepoint 0]\n",
      "\tkT = 2.461 ref_kT = 2.462\n",
      "\tPredicted entropy: -0.7540361285209656\n",
      "\tPredicted free_energy: -13718.96875\n",
      "\tPredicted pressure: -10.253400802612305\n"
     ]
    },
    {
     "name": "stdout",
     "output_type": "stream",
     "text": [
      "[Step Size] Found optimal step size 1.0 with residual 1.574882984161377\n"
     ]
    },
    {
     "name": "stdout",
     "output_type": "stream",
     "text": [
      "\n",
      "[DiffTRe] Epoch 223\n",
      "\tEpoch loss = 0.00076\n",
      "\tGradient norm: 0.00016848117229528725\n",
      "\tElapsed time = 2.798 min\n",
      "[Statepoint 0]\n",
      "\tkT = 2.458 ref_kT = 2.462\n",
      "\tPredicted entropy: -0.5848118662834167\n",
      "\tPredicted free_energy: -13141.01171875\n",
      "\tPredicted pressure: 11.609180450439453\n"
     ]
    },
    {
     "name": "stdout",
     "output_type": "stream",
     "text": [
      "[Step Size] Found optimal step size 0.44628655910491943 with residual 0.00921010971069336\n"
     ]
    },
    {
     "name": "stdout",
     "output_type": "stream",
     "text": [
      "\n",
      "[DiffTRe] Epoch 224\n",
      "\tEpoch loss = 0.00090\n",
      "\tGradient norm: 0.010453336872160435\n",
      "\tElapsed time = 2.807 min\n",
      "[Statepoint 0]\n",
      "\tkT = 2.449 ref_kT = 2.462\n",
      "\tPredicted entropy: -0.6567906141281128\n",
      "\tPredicted free_energy: -13205.1904296875\n",
      "\tPredicted pressure: 11.117766380310059\n"
     ]
    },
    {
     "name": "stdout",
     "output_type": "stream",
     "text": [
      "[Step Size] Found optimal step size 0.40828031301498413 with residual 0.0012404918670654297\n"
     ]
    },
    {
     "name": "stdout",
     "output_type": "stream",
     "text": [
      "\n",
      "[DiffTRe] Epoch 225\n",
      "\tEpoch loss = 0.00095\n",
      "\tGradient norm: 0.011782729998230934\n",
      "\tElapsed time = 2.802 min\n",
      "[Statepoint 0]\n",
      "\tkT = 2.460 ref_kT = 2.462\n",
      "\tPredicted entropy: -0.39779970049858093\n",
      "\tPredicted free_energy: -13126.71484375\n",
      "\tPredicted pressure: 14.498035430908203\n"
     ]
    },
    {
     "name": "stdout",
     "output_type": "stream",
     "text": [
      "[Step Size] Found optimal step size 0.9008274674415588 with residual 0.021342039108276367\n"
     ]
    },
    {
     "name": "stdout",
     "output_type": "stream",
     "text": [
      "\n",
      "[DiffTRe] Epoch 226\n",
      "\tEpoch loss = 0.00076\n",
      "\tGradient norm: 0.0012019677087664604\n",
      "\tElapsed time = 2.806 min\n",
      "[Statepoint 0]\n",
      "\tkT = 2.475 ref_kT = 2.462\n",
      "\tPredicted entropy: -0.6669678092002869\n",
      "\tPredicted free_energy: -13340.58984375\n",
      "\tPredicted pressure: 3.3486499786376953\n"
     ]
    },
    {
     "name": "stdout",
     "output_type": "stream",
     "text": [
      "[Step Size] Found optimal step size 0.5185486078262329 with residual 0.0003654956817626953\n"
     ]
    },
    {
     "name": "stdout",
     "output_type": "stream",
     "text": [
      "\n",
      "[DiffTRe] Epoch 227\n",
      "\tEpoch loss = 0.00090\n",
      "\tGradient norm: 0.005309822037816048\n",
      "\tElapsed time = 2.802 min\n",
      "[Statepoint 0]\n",
      "\tkT = 2.469 ref_kT = 2.462\n",
      "\tPredicted entropy: -0.46046802401542664\n",
      "\tPredicted free_energy: -12819.64453125\n",
      "\tPredicted pressure: 30.324474334716797\n"
     ]
    },
    {
     "name": "stdout",
     "output_type": "stream",
     "text": [
      "[Step Size] Found optimal step size 0.4035302996635437 with residual 0.0007107257843017578\n"
     ]
    },
    {
     "name": "stdout",
     "output_type": "stream",
     "text": [
      "\n",
      "[DiffTRe] Epoch 228\n",
      "\tEpoch loss = 0.00088\n",
      "\tGradient norm: 0.00891355611383915\n",
      "\tElapsed time = 2.804 min\n",
      "[Statepoint 0]\n",
      "\tkT = 2.451 ref_kT = 2.462\n",
      "\tPredicted entropy: -0.830623984336853\n",
      "\tPredicted free_energy: -13435.6533203125\n",
      "\tPredicted pressure: 1.723301887512207\n"
     ]
    },
    {
     "name": "stdout",
     "output_type": "stream",
     "text": [
      "[Step Size] Found optimal step size 0.6543986201286316 with residual 0.0007238388061523438\n"
     ]
    },
    {
     "name": "stdout",
     "output_type": "stream",
     "text": [
      "\n",
      "[DiffTRe] Epoch 229\n",
      "\tEpoch loss = 0.00080\n",
      "\tGradient norm: 0.004925622139126062\n",
      "\tElapsed time = 2.803 min\n",
      "[Statepoint 0]\n",
      "\tkT = 2.458 ref_kT = 2.462\n",
      "\tPredicted entropy: -0.5552935600280762\n",
      "\tPredicted free_energy: -13146.8583984375\n",
      "\tPredicted pressure: 14.438289642333984\n"
     ]
    },
    {
     "name": "stdout",
     "output_type": "stream",
     "text": [
      "[Step Size] Found optimal step size 0.3225257396697998 with residual 0.006783485412597656\n"
     ]
    },
    {
     "name": "stdout",
     "output_type": "stream",
     "text": [
      "\n",
      "[DiffTRe] Epoch 230\n",
      "\tEpoch loss = 0.00100\n",
      "\tGradient norm: 0.024684203788638115\n",
      "\tElapsed time = 2.805 min\n",
      "[Statepoint 0]\n",
      "\tkT = 2.458 ref_kT = 2.462\n",
      "\tPredicted entropy: -0.8649300336837769\n",
      "\tPredicted free_energy: -13405.3916015625\n",
      "\tPredicted pressure: 4.974592208862305\n"
     ]
    },
    {
     "name": "stdout",
     "output_type": "stream",
     "text": [
      "[Step Size] Found optimal step size 1.0 with residual 2.1530537605285645\n"
     ]
    },
    {
     "name": "stdout",
     "output_type": "stream",
     "text": [
      "\n",
      "[DiffTRe] Epoch 231\n",
      "\tEpoch loss = 0.00077\n",
      "\tGradient norm: 0.00047509223804809153\n",
      "\tElapsed time = 2.800 min\n",
      "[Statepoint 0]\n",
      "\tkT = 2.465 ref_kT = 2.462\n",
      "\tPredicted entropy: -0.6002062559127808\n",
      "\tPredicted free_energy: -13303.2783203125\n",
      "\tPredicted pressure: 8.083932876586914\n"
     ]
    },
    {
     "name": "stdout",
     "output_type": "stream",
     "text": [
      "[Step Size] Found optimal step size 1.0 with residual 1.5341277122497559\n"
     ]
    },
    {
     "name": "stdout",
     "output_type": "stream",
     "text": [
      "\n",
      "[DiffTRe] Epoch 232\n",
      "\tEpoch loss = 0.00074\n",
      "\tGradient norm: 0.00018956890562549233\n",
      "\tElapsed time = 2.807 min\n",
      "[Statepoint 0]\n",
      "\tkT = 2.467 ref_kT = 2.462\n",
      "\tPredicted entropy: -0.6700361967086792\n",
      "\tPredicted free_energy: -13382.6875\n",
      "\tPredicted pressure: 5.2940354347229\n"
     ]
    },
    {
     "name": "stdout",
     "output_type": "stream",
     "text": [
      "[Step Size] Found optimal step size 0.5791250467300415 with residual 0.0018749237060546875\n"
     ]
    },
    {
     "name": "stdout",
     "output_type": "stream",
     "text": [
      "\n",
      "[DiffTRe] Epoch 233\n",
      "\tEpoch loss = 0.00079\n",
      "\tGradient norm: 0.003179096383973956\n",
      "\tElapsed time = 2.816 min\n",
      "[Statepoint 0]\n",
      "\tkT = 2.463 ref_kT = 2.462\n",
      "\tPredicted entropy: -0.6088280081748962\n",
      "\tPredicted free_energy: -13425.5068359375\n",
      "\tPredicted pressure: 6.008478164672852\n"
     ]
    },
    {
     "name": "stdout",
     "output_type": "stream",
     "text": [
      "[Step Size] Found optimal step size 0.5073410868644714 with residual 0.001451730728149414\n"
     ]
    },
    {
     "name": "stdout",
     "output_type": "stream",
     "text": [
      "\n",
      "[DiffTRe] Epoch 234\n",
      "\tEpoch loss = 0.00093\n",
      "\tGradient norm: 0.016319818794727325\n",
      "\tElapsed time = 2.802 min\n",
      "[Statepoint 0]\n",
      "\tkT = 2.454 ref_kT = 2.462\n",
      "\tPredicted entropy: -0.816424548625946\n",
      "\tPredicted free_energy: -13303.75390625\n",
      "\tPredicted pressure: 9.712721824645996\n"
     ]
    },
    {
     "name": "stdout",
     "output_type": "stream",
     "text": [
      "[Step Size] Found optimal step size 0.48071008920669556 with residual 0.0036585330963134766\n"
     ]
    },
    {
     "name": "stdout",
     "output_type": "stream",
     "text": [
      "\n",
      "[DiffTRe] Epoch 235\n",
      "\tEpoch loss = 0.00083\n",
      "\tGradient norm: 0.007650608662515879\n",
      "\tElapsed time = 2.813 min\n",
      "[Statepoint 0]\n",
      "\tkT = 2.463 ref_kT = 2.462\n",
      "\tPredicted entropy: -0.46939754486083984\n",
      "\tPredicted free_energy: -13277.9951171875\n",
      "\tPredicted pressure: 5.97789192199707\n"
     ]
    },
    {
     "name": "stdout",
     "output_type": "stream",
     "text": [
      "[Step Size] Found optimal step size 0.6281028985977173 with residual 0.032745361328125\n"
     ]
    },
    {
     "name": "stdout",
     "output_type": "stream",
     "text": [
      "\n",
      "[DiffTRe] Epoch 236\n",
      "\tEpoch loss = 0.00079\n",
      "\tGradient norm: 0.004065497778356075\n",
      "\tElapsed time = 2.805 min\n",
      "[Statepoint 0]\n",
      "\tkT = 2.474 ref_kT = 2.462\n",
      "\tPredicted entropy: -0.7718802690505981\n",
      "\tPredicted free_energy: -13555.1826171875\n",
      "\tPredicted pressure: 0.38832491636276245\n"
     ]
    },
    {
     "name": "stdout",
     "output_type": "stream",
     "text": [
      "[Step Size] Found optimal step size 0.5942940711975098 with residual 0.0012602806091308594\n"
     ]
    },
    {
     "name": "stdout",
     "output_type": "stream",
     "text": [
      "\n",
      "[DiffTRe] Epoch 237\n",
      "\tEpoch loss = 0.00080\n",
      "\tGradient norm: 0.004515841603279114\n",
      "\tElapsed time = 2.818 min\n",
      "[Statepoint 0]\n",
      "\tkT = 2.465 ref_kT = 2.462\n",
      "\tPredicted entropy: -0.4111320674419403\n",
      "\tPredicted free_energy: -13035.1513671875\n",
      "\tPredicted pressure: 18.75324821472168\n"
     ]
    },
    {
     "name": "stdout",
     "output_type": "stream",
     "text": [
      "[Step Size] Found optimal step size 0.5307744741439819 with residual 0.0013365745544433594\n"
     ]
    },
    {
     "name": "stdout",
     "output_type": "stream",
     "text": [
      "\n",
      "[DiffTRe] Epoch 238\n",
      "\tEpoch loss = 0.00082\n",
      "\tGradient norm: 0.00677763344720006\n",
      "\tElapsed time = 2.817 min\n",
      "[Statepoint 0]\n",
      "\tkT = 2.457 ref_kT = 2.462\n",
      "\tPredicted entropy: -0.8010988235473633\n",
      "\tPredicted free_energy: -13541.19140625\n",
      "\tPredicted pressure: -2.825863838195801\n"
     ]
    },
    {
     "name": "stdout",
     "output_type": "stream",
     "text": [
      "[Step Size] Found optimal step size 0.616969883441925 with residual 0.0002779960632324219\n"
     ]
    },
    {
     "name": "stdout",
     "output_type": "stream",
     "text": [
      "\n",
      "[DiffTRe] Epoch 239\n",
      "\tEpoch loss = 0.00084\n",
      "\tGradient norm: 0.007234370335936546\n",
      "\tElapsed time = 2.816 min\n",
      "[Statepoint 0]\n",
      "\tkT = 2.462 ref_kT = 2.462\n",
      "\tPredicted entropy: -0.5103761553764343\n",
      "\tPredicted free_energy: -13306.1220703125\n",
      "\tPredicted pressure: 10.503315925598145\n"
     ]
    },
    {
     "name": "stdout",
     "output_type": "stream",
     "text": [
      "[Step Size] Found optimal step size 0.48975053429603577 with residual 0.00012612342834472656\n"
     ]
    },
    {
     "name": "stdout",
     "output_type": "stream",
     "text": [
      "\n",
      "[DiffTRe] Epoch 240\n",
      "\tEpoch loss = 0.00086\n",
      "\tGradient norm: 0.010033445432782173\n",
      "\tElapsed time = 2.819 min\n",
      "[Statepoint 0]\n",
      "\tkT = 2.460 ref_kT = 2.462\n",
      "\tPredicted entropy: -0.7281830906867981\n",
      "\tPredicted free_energy: -13439.12890625\n",
      "\tPredicted pressure: 2.5055458545684814\n"
     ]
    },
    {
     "name": "stdout",
     "output_type": "stream",
     "text": [
      "[Step Size] Found optimal step size 1.0 with residual 0.17251300811767578\n"
     ]
    },
    {
     "name": "stdout",
     "output_type": "stream",
     "text": [
      "\n",
      "[DiffTRe] Epoch 241\n",
      "\tEpoch loss = 0.00075\n",
      "\tGradient norm: 0.0019708320032805204\n",
      "\tElapsed time = 2.820 min\n",
      "[Statepoint 0]\n",
      "\tkT = 2.454 ref_kT = 2.462\n",
      "\tPredicted entropy: -0.4744860529899597\n",
      "\tPredicted free_energy: -13217.0146484375\n",
      "\tPredicted pressure: 8.944656372070312\n"
     ]
    },
    {
     "name": "stdout",
     "output_type": "stream",
     "text": [
      "[Step Size] Found optimal step size 0.5250433683395386 with residual 3.838539123535156e-05\n"
     ]
    },
    {
     "name": "stdout",
     "output_type": "stream",
     "text": [
      "\n",
      "[DiffTRe] Epoch 242\n",
      "\tEpoch loss = 0.00093\n",
      "\tGradient norm: 0.012132149189710617\n",
      "\tElapsed time = 2.813 min\n",
      "[Statepoint 0]\n",
      "\tkT = 2.451 ref_kT = 2.462\n",
      "\tPredicted entropy: -0.866299569606781\n",
      "\tPredicted free_energy: -13624.2001953125\n",
      "\tPredicted pressure: -4.77316427230835\n"
     ]
    },
    {
     "name": "stdout",
     "output_type": "stream",
     "text": [
      "[Step Size] Found optimal step size 0.8967976570129395 with residual 8.463859558105469e-05\n"
     ]
    },
    {
     "name": "stdout",
     "output_type": "stream",
     "text": [
      "\n",
      "[DiffTRe] Epoch 243\n",
      "\tEpoch loss = 0.00079\n",
      "\tGradient norm: 0.0037667457945644855\n",
      "\tElapsed time = 2.830 min\n",
      "[Statepoint 0]\n",
      "\tkT = 2.465 ref_kT = 2.462\n",
      "\tPredicted entropy: -0.5160046219825745\n",
      "\tPredicted free_energy: -13239.759765625\n",
      "\tPredicted pressure: 11.911055564880371\n"
     ]
    },
    {
     "name": "stdout",
     "output_type": "stream",
     "text": [
      "[Step Size] Found optimal step size 0.5254470109939575 with residual 0.00022220611572265625\n"
     ]
    },
    {
     "name": "stdout",
     "output_type": "stream",
     "text": [
      "\n",
      "[DiffTRe] Epoch 244\n",
      "\tEpoch loss = 0.00096\n",
      "\tGradient norm: 0.014838570728898048\n",
      "\tElapsed time = 2.822 min\n",
      "[Statepoint 0]\n",
      "\tkT = 2.460 ref_kT = 2.462\n",
      "\tPredicted entropy: -0.7657691240310669\n",
      "\tPredicted free_energy: -13191.9150390625\n",
      "\tPredicted pressure: 15.216190338134766\n"
     ]
    },
    {
     "name": "stdout",
     "output_type": "stream",
     "text": [
      "[Step Size] Found optimal step size 1.0 with residual 1.6513891220092773\n"
     ]
    },
    {
     "name": "stdout",
     "output_type": "stream",
     "text": [
      "\n",
      "[DiffTRe] Epoch 245\n",
      "\tEpoch loss = 0.00077\n",
      "\tGradient norm: 0.0013000197941437364\n",
      "\tElapsed time = 2.816 min\n",
      "[Statepoint 0]\n",
      "\tkT = 2.467 ref_kT = 2.462\n",
      "\tPredicted entropy: -0.6078582406044006\n",
      "\tPredicted free_energy: -13340.861328125\n",
      "\tPredicted pressure: 10.856623649597168\n"
     ]
    },
    {
     "name": "stdout",
     "output_type": "stream",
     "text": [
      "[Step Size] Found optimal step size 0.6281028985977173 with residual 0.03080439567565918\n"
     ]
    },
    {
     "name": "stdout",
     "output_type": "stream",
     "text": [
      "\n",
      "[DiffTRe] Epoch 246\n",
      "\tEpoch loss = 0.00074\n",
      "\tGradient norm: 0.002840493805706501\n",
      "\tElapsed time = 2.813 min\n",
      "[Statepoint 0]\n",
      "\tkT = 2.472 ref_kT = 2.462\n",
      "\tPredicted entropy: -0.6596918106079102\n",
      "\tPredicted free_energy: -13336.24609375\n",
      "\tPredicted pressure: 5.940024375915527\n"
     ]
    },
    {
     "name": "stdout",
     "output_type": "stream",
     "text": [
      "[Step Size] Found optimal step size 0.6089166402816772 with residual 0.0004673004150390625\n"
     ]
    },
    {
     "name": "stdout",
     "output_type": "stream",
     "text": [
      "\n",
      "[DiffTRe] Epoch 247\n",
      "\tEpoch loss = 0.00076\n",
      "\tGradient norm: 0.004406526684761047\n",
      "\tElapsed time = 2.809 min\n",
      "[Statepoint 0]\n",
      "\tkT = 2.466 ref_kT = 2.462\n",
      "\tPredicted entropy: -0.6083500981330872\n",
      "\tPredicted free_energy: -13414.9404296875\n",
      "\tPredicted pressure: 6.065752029418945\n"
     ]
    },
    {
     "name": "stdout",
     "output_type": "stream",
     "text": [
      "[Step Size] Found optimal step size 0.49983423948287964 with residual 0.0007240772247314453\n"
     ]
    },
    {
     "name": "stdout",
     "output_type": "stream",
     "text": [
      "\n",
      "[DiffTRe] Epoch 248\n",
      "\tEpoch loss = 0.00087\n",
      "\tGradient norm: 0.00872058980166912\n",
      "\tElapsed time = 2.810 min\n",
      "[Statepoint 0]\n",
      "\tkT = 2.465 ref_kT = 2.462\n",
      "\tPredicted entropy: -0.8324135541915894\n",
      "\tPredicted free_energy: -13607.12109375\n",
      "\tPredicted pressure: -1.3024992942810059\n"
     ]
    },
    {
     "name": "stdout",
     "output_type": "stream",
     "text": [
      "[Step Size] Found optimal step size 1.0 with residual 1.2977795600891113\n"
     ]
    },
    {
     "name": "stdout",
     "output_type": "stream",
     "text": [
      "\n",
      "[DiffTRe] Epoch 249\n",
      "\tEpoch loss = 0.00071\n",
      "\tGradient norm: 0.0007020631455816329\n",
      "\tElapsed time = 2.809 min\n",
      "[Statepoint 0]\n",
      "\tkT = 2.458 ref_kT = 2.462\n",
      "\tPredicted entropy: -0.49003154039382935\n",
      "\tPredicted free_energy: -13255.01953125\n",
      "\tPredicted pressure: 12.140745162963867\n"
     ]
    },
    {
     "name": "stdout",
     "output_type": "stream",
     "text": [
      "[Step Size] Found optimal step size 0.7756324410438538 with residual 0.0002903938293457031\n"
     ]
    },
    {
     "name": "stdout",
     "output_type": "stream",
     "text": [
      "\n",
      "[DiffTRe] Epoch 250\n",
      "\tEpoch loss = 0.00075\n",
      "\tGradient norm: 0.0033607303630560637\n",
      "\tElapsed time = 2.813 min\n",
      "[Statepoint 0]\n",
      "\tkT = 2.461 ref_kT = 2.462\n",
      "\tPredicted entropy: -0.5665826797485352\n",
      "\tPredicted free_energy: -13235.51171875\n",
      "\tPredicted pressure: 10.837577819824219\n"
     ]
    },
    {
     "name": "stdout",
     "output_type": "stream",
     "text": [
      "[Step Size] Found optimal step size 0.657198965549469 with residual 0.0007982254028320312\n"
     ]
    },
    {
     "name": "stdout",
     "output_type": "stream",
     "text": [
      "\n",
      "[DiffTRe] Epoch 251\n",
      "\tEpoch loss = 0.00087\n",
      "\tGradient norm: 0.012487970292568207\n",
      "\tElapsed time = 2.817 min\n",
      "[Statepoint 0]\n",
      "\tkT = 2.457 ref_kT = 2.462\n",
      "\tPredicted entropy: -0.4586065113544464\n",
      "\tPredicted free_energy: -13417.8291015625\n",
      "\tPredicted pressure: 3.2931630611419678\n"
     ]
    },
    {
     "name": "stdout",
     "output_type": "stream",
     "text": [
      "[Step Size] Found optimal step size 0.6249299645423889 with residual 0.0001308917999267578\n"
     ]
    },
    {
     "name": "stdout",
     "output_type": "stream",
     "text": [
      "\n",
      "[DiffTRe] Epoch 252\n",
      "\tEpoch loss = 0.00080\n",
      "\tGradient norm: 0.008510738611221313\n",
      "\tElapsed time = 2.812 min\n",
      "[Statepoint 0]\n",
      "\tkT = 2.451 ref_kT = 2.462\n",
      "\tPredicted entropy: -0.8218847513198853\n",
      "\tPredicted free_energy: -13529.4609375\n",
      "\tPredicted pressure: -0.6427754759788513\n"
     ]
    },
    {
     "name": "stdout",
     "output_type": "stream",
     "text": [
      "[Step Size] Found optimal step size 0.8640133738517761 with residual 0.005095243453979492\n"
     ]
    },
    {
     "name": "stdout",
     "output_type": "stream",
     "text": [
      "\n",
      "[DiffTRe] Epoch 253\n",
      "\tEpoch loss = 0.00075\n",
      "\tGradient norm: 0.004954102914780378\n",
      "\tElapsed time = 2.817 min\n",
      "[Statepoint 0]\n",
      "\tkT = 2.473 ref_kT = 2.462\n",
      "\tPredicted entropy: -0.48877617716789246\n",
      "\tPredicted free_energy: -13107.6455078125\n",
      "\tPredicted pressure: 16.8612117767334\n"
     ]
    },
    {
     "name": "stdout",
     "output_type": "stream",
     "text": [
      "[Step Size] Found optimal step size 0.6281028985977173 with residual 0.0026712417602539062\n"
     ]
    },
    {
     "name": "stdout",
     "output_type": "stream",
     "text": [
      "\n",
      "[DiffTRe] Epoch 254\n",
      "\tEpoch loss = 0.00090\n",
      "\tGradient norm: 0.01730523630976677\n",
      "\tElapsed time = 2.817 min\n",
      "[Statepoint 0]\n",
      "\tkT = 2.447 ref_kT = 2.462\n",
      "\tPredicted entropy: -0.7893704175949097\n",
      "\tPredicted free_energy: -13562.0458984375\n",
      "\tPredicted pressure: 0.10978143662214279\n"
     ]
    },
    {
     "name": "stdout",
     "output_type": "stream",
     "text": [
      "[Step Size] Found optimal step size 1.0 with residual 0.11696624755859375\n"
     ]
    },
    {
     "name": "stdout",
     "output_type": "stream",
     "text": [
      "\n",
      "[DiffTRe] Epoch 255\n",
      "\tEpoch loss = 0.00074\n",
      "\tGradient norm: 0.004443091340363026\n",
      "\tElapsed time = 2.818 min\n",
      "[Statepoint 0]\n",
      "\tkT = 2.461 ref_kT = 2.462\n",
      "\tPredicted entropy: -0.5232970118522644\n",
      "\tPredicted free_energy: -13326.896484375\n",
      "\tPredicted pressure: 10.052801132202148\n"
     ]
    },
    {
     "name": "stdout",
     "output_type": "stream",
     "text": [
      "[Step Size] Found optimal step size 1.0 with residual 0.2845487594604492\n"
     ]
    },
    {
     "name": "stdout",
     "output_type": "stream",
     "text": [
      "\n",
      "[DiffTRe] Epoch 256\n",
      "\tEpoch loss = 0.00078\n",
      "\tGradient norm: 0.006410294212400913\n",
      "\tElapsed time = 2.822 min\n",
      "[Statepoint 0]\n",
      "\tkT = 2.468 ref_kT = 2.462\n",
      "\tPredicted entropy: -0.6477949619293213\n",
      "\tPredicted free_energy: -13250.126953125\n",
      "\tPredicted pressure: 8.276803016662598\n"
     ]
    },
    {
     "name": "stdout",
     "output_type": "stream",
     "text": [
      "[Step Size] Found optimal step size 0.8274726271629333 with residual 0.0013475418090820312\n"
     ]
    },
    {
     "name": "stdout",
     "output_type": "stream",
     "text": [
      "\n",
      "[DiffTRe] Epoch 257\n",
      "\tEpoch loss = 0.00083\n",
      "\tGradient norm: 0.007226153276860714\n",
      "\tElapsed time = 2.819 min\n",
      "[Statepoint 0]\n",
      "\tkT = 2.464 ref_kT = 2.462\n",
      "\tPredicted entropy: -0.5166910290718079\n",
      "\tPredicted free_energy: -13466.974609375\n",
      "\tPredicted pressure: 4.027824401855469\n"
     ]
    },
    {
     "name": "stdout",
     "output_type": "stream",
     "text": [
      "[Step Size] Found optimal step size 0.8632620573043823 with residual 0.002631664276123047\n"
     ]
    },
    {
     "name": "stdout",
     "output_type": "stream",
     "text": [
      "\n",
      "[DiffTRe] Epoch 258\n",
      "\tEpoch loss = 0.00076\n",
      "\tGradient norm: 0.004133126698434353\n",
      "\tElapsed time = 2.820 min\n",
      "[Statepoint 0]\n",
      "\tkT = 2.458 ref_kT = 2.462\n",
      "\tPredicted entropy: -0.6862583756446838\n",
      "\tPredicted free_energy: -13418.31640625\n",
      "\tPredicted pressure: 3.795567274093628\n"
     ]
    },
    {
     "name": "stdout",
     "output_type": "stream",
     "text": [
      "[Step Size] Found optimal step size 0.7723538875579834 with residual 0.0032281875610351562\n"
     ]
    },
    {
     "name": "stdout",
     "output_type": "stream",
     "text": [
      "\n",
      "[DiffTRe] Epoch 259\n",
      "\tEpoch loss = 0.00085\n",
      "\tGradient norm: 0.010416009463369846\n",
      "\tElapsed time = 2.821 min\n",
      "[Statepoint 0]\n",
      "\tkT = 2.458 ref_kT = 2.462\n",
      "\tPredicted entropy: -0.4151928126811981\n",
      "\tPredicted free_energy: -13085.1162109375\n",
      "\tPredicted pressure: 20.034093856811523\n"
     ]
    },
    {
     "name": "stdout",
     "output_type": "stream",
     "text": [
      "[Step Size] Found optimal step size 0.9090918302536011 with residual 0.00012540817260742188\n"
     ]
    },
    {
     "name": "stdout",
     "output_type": "stream",
     "text": [
      "\n",
      "[DiffTRe] Epoch 260\n",
      "\tEpoch loss = 0.00075\n",
      "\tGradient norm: 0.005692330189049244\n",
      "\tElapsed time = 2.821 min\n",
      "[Statepoint 0]\n",
      "\tkT = 2.461 ref_kT = 2.462\n",
      "\tPredicted entropy: -0.7998683452606201\n",
      "\tPredicted free_energy: -13479.0634765625\n",
      "\tPredicted pressure: 2.1268560886383057\n"
     ]
    },
    {
     "name": "stdout",
     "output_type": "stream",
     "text": [
      "[Step Size] Found optimal step size 0.6675806641578674 with residual 0.0025205612182617188\n"
     ]
    },
    {
     "name": "stdout",
     "output_type": "stream",
     "text": [
      "\n",
      "[DiffTRe] Epoch 261\n",
      "\tEpoch loss = 0.00079\n",
      "\tGradient norm: 0.005174123216420412\n",
      "\tElapsed time = 2.818 min\n",
      "[Statepoint 0]\n",
      "\tkT = 2.473 ref_kT = 2.462\n",
      "\tPredicted entropy: -0.5280625820159912\n",
      "\tPredicted free_energy: -13249.076171875\n",
      "\tPredicted pressure: 17.21197509765625\n"
     ]
    },
    {
     "name": "stdout",
     "output_type": "stream",
     "text": [
      "[Step Size] Found optimal step size 0.8782883286476135 with residual 0.001947641372680664\n"
     ]
    },
    {
     "name": "stdout",
     "output_type": "stream",
     "text": [
      "\n",
      "[DiffTRe] Epoch 262\n",
      "\tEpoch loss = 0.00072\n",
      "\tGradient norm: 0.0028636993374675512\n",
      "\tElapsed time = 2.820 min\n",
      "[Statepoint 0]\n",
      "\tkT = 2.471 ref_kT = 2.462\n",
      "\tPredicted entropy: -0.7419804334640503\n",
      "\tPredicted free_energy: -13476.0439453125\n",
      "\tPredicted pressure: 11.282716751098633\n"
     ]
    },
    {
     "name": "stdout",
     "output_type": "stream",
     "text": [
      "[Step Size] Found optimal step size 0.6684003472328186 with residual 0.0003256797790527344\n"
     ]
    },
    {
     "name": "stdout",
     "output_type": "stream",
     "text": [
      "\n",
      "[DiffTRe] Epoch 263\n",
      "\tEpoch loss = 0.00077\n",
      "\tGradient norm: 0.008226179517805576\n",
      "\tElapsed time = 2.825 min\n",
      "[Statepoint 0]\n",
      "\tkT = 2.475 ref_kT = 2.462\n",
      "\tPredicted entropy: -0.47350385785102844\n",
      "\tPredicted free_energy: -13306.068359375\n",
      "\tPredicted pressure: 7.698033332824707\n"
     ]
    },
    {
     "name": "stdout",
     "output_type": "stream",
     "text": [
      "[Step Size] Found optimal step size 1.0 with residual 0.5618548393249512\n"
     ]
    },
    {
     "name": "stdout",
     "output_type": "stream",
     "text": [
      "\n",
      "[DiffTRe] Epoch 264\n",
      "\tEpoch loss = 0.00073\n",
      "\tGradient norm: 0.003693161066621542\n",
      "\tElapsed time = 2.823 min\n",
      "[Statepoint 0]\n",
      "\tkT = 2.465 ref_kT = 2.462\n",
      "\tPredicted entropy: -0.7577967643737793\n",
      "\tPredicted free_energy: -13451.5068359375\n",
      "\tPredicted pressure: 8.700397491455078\n"
     ]
    },
    {
     "name": "stdout",
     "output_type": "stream",
     "text": [
      "[Step Size] Found optimal step size 0.6964719295501709 with residual 0.004693746566772461\n"
     ]
    },
    {
     "name": "stdout",
     "output_type": "stream",
     "text": [
      "\n",
      "[DiffTRe] Epoch 265\n",
      "\tEpoch loss = 0.00081\n",
      "\tGradient norm: 0.009150587022304535\n",
      "\tElapsed time = 2.838 min\n",
      "[Statepoint 0]\n",
      "\tkT = 2.469 ref_kT = 2.462\n",
      "\tPredicted entropy: -0.5575955510139465\n",
      "\tPredicted free_energy: -13455.244140625\n",
      "\tPredicted pressure: 1.340678095817566\n"
     ]
    },
    {
     "name": "stdout",
     "output_type": "stream",
     "text": [
      "[Step Size] Found optimal step size 1.0 with residual 0.35451459884643555\n"
     ]
    },
    {
     "name": "stdout",
     "output_type": "stream",
     "text": [
      "\n",
      "[DiffTRe] Epoch 266\n",
      "\tEpoch loss = 0.00068\n",
      "\tGradient norm: 0.00243557570502162\n",
      "\tElapsed time = 2.840 min\n",
      "[Statepoint 0]\n",
      "\tkT = 2.467 ref_kT = 2.462\n",
      "\tPredicted entropy: -0.7669495344161987\n",
      "\tPredicted free_energy: -13442.7138671875\n",
      "\tPredicted pressure: 7.295070648193359\n"
     ]
    },
    {
     "name": "stdout",
     "output_type": "stream",
     "text": [
      "[Step Size] Found optimal step size 0.7528199553489685 with residual 0.0003509521484375\n"
     ]
    },
    {
     "name": "stdout",
     "output_type": "stream",
     "text": [
      "\n",
      "[DiffTRe] Epoch 267\n",
      "\tEpoch loss = 0.00075\n",
      "\tGradient norm: 0.009018700569868088\n",
      "\tElapsed time = 2.831 min\n",
      "[Statepoint 0]\n",
      "\tkT = 2.469 ref_kT = 2.462\n",
      "\tPredicted entropy: -0.44722500443458557\n",
      "\tPredicted free_energy: -13074.357421875\n",
      "\tPredicted pressure: 22.602901458740234\n"
     ]
    },
    {
     "name": "stdout",
     "output_type": "stream",
     "text": [
      "[Step Size] Found optimal step size 1.0 with residual 0.8065881729125977\n"
     ]
    },
    {
     "name": "stdout",
     "output_type": "stream",
     "text": [
      "\n",
      "[DiffTRe] Epoch 268\n",
      "\tEpoch loss = 0.00071\n",
      "\tGradient norm: 0.002887705573812127\n",
      "\tElapsed time = 2.844 min\n",
      "[Statepoint 0]\n",
      "\tkT = 2.469 ref_kT = 2.462\n",
      "\tPredicted entropy: -0.807921290397644\n",
      "\tPredicted free_energy: -13569.6484375\n",
      "\tPredicted pressure: 3.293606996536255\n"
     ]
    },
    {
     "name": "stdout",
     "output_type": "stream",
     "text": [
      "[Step Size] Found optimal step size 0.8099192976951599 with residual 0.024259090423583984\n"
     ]
    },
    {
     "name": "stdout",
     "output_type": "stream",
     "text": [
      "\n",
      "[DiffTRe] Epoch 269\n",
      "\tEpoch loss = 0.00071\n",
      "\tGradient norm: 0.004145488608628511\n",
      "\tElapsed time = 2.837 min\n",
      "[Statepoint 0]\n",
      "\tkT = 2.463 ref_kT = 2.462\n",
      "\tPredicted entropy: -0.5318641662597656\n",
      "\tPredicted free_energy: -13323.744140625\n",
      "\tPredicted pressure: 10.960074424743652\n"
     ]
    },
    {
     "name": "stdout",
     "output_type": "stream",
     "text": [
      "[Step Size] Found optimal step size 0.8776798248291016 with residual 0.001226663589477539\n"
     ]
    },
    {
     "name": "stdout",
     "output_type": "stream",
     "text": [
      "\n",
      "[DiffTRe] Epoch 270\n",
      "\tEpoch loss = 0.00075\n",
      "\tGradient norm: 0.00753446202725172\n",
      "\tElapsed time = 2.847 min\n",
      "[Statepoint 0]\n",
      "\tkT = 2.462 ref_kT = 2.462\n",
      "\tPredicted entropy: -0.7286763191223145\n",
      "\tPredicted free_energy: -13452.4873046875\n",
      "\tPredicted pressure: 3.332710027694702\n"
     ]
    },
    {
     "name": "stdout",
     "output_type": "stream",
     "text": [
      "[Step Size] Found optimal step size 1.0 with residual 0.38431406021118164\n"
     ]
    },
    {
     "name": "stdout",
     "output_type": "stream",
     "text": [
      "\n",
      "[DiffTRe] Epoch 271\n",
      "\tEpoch loss = 0.00073\n",
      "\tGradient norm: 0.004770652391016483\n",
      "\tElapsed time = 2.843 min\n",
      "[Statepoint 0]\n",
      "\tkT = 2.463 ref_kT = 2.462\n",
      "\tPredicted entropy: -0.5032471418380737\n",
      "\tPredicted free_energy: -13437.5849609375\n",
      "\tPredicted pressure: 4.384515762329102\n"
     ]
    },
    {
     "name": "stdout",
     "output_type": "stream",
     "text": [
      "[Step Size] Found optimal step size 1.0 with residual 0.7364873886108398\n"
     ]
    },
    {
     "name": "stdout",
     "output_type": "stream",
     "text": [
      "\n",
      "[DiffTRe] Epoch 272\n",
      "\tEpoch loss = 0.00073\n",
      "\tGradient norm: 0.0035723221953958273\n",
      "\tElapsed time = 2.832 min\n",
      "[Statepoint 0]\n",
      "\tkT = 2.457 ref_kT = 2.462\n",
      "\tPredicted entropy: -0.688176155090332\n",
      "\tPredicted free_energy: -13290.1884765625\n",
      "\tPredicted pressure: 13.318914413452148\n"
     ]
    },
    {
     "name": "stdout",
     "output_type": "stream",
     "text": [
      "[Step Size] Found optimal step size 0.9090917706489563 with residual 0.10764598846435547\n"
     ]
    },
    {
     "name": "stdout",
     "output_type": "stream",
     "text": [
      "\n",
      "[DiffTRe] Epoch 273\n",
      "\tEpoch loss = 0.00070\n",
      "\tGradient norm: 0.004498481750488281\n",
      "\tElapsed time = 2.832 min\n",
      "[Statepoint 0]\n",
      "\tkT = 2.459 ref_kT = 2.462\n",
      "\tPredicted entropy: -0.5444014668464661\n",
      "\tPredicted free_energy: -13392.701171875\n",
      "\tPredicted pressure: 6.700665473937988\n"
     ]
    },
    {
     "name": "stdout",
     "output_type": "stream",
     "text": [
      "[Step Size] Found optimal step size 0.791496753692627 with residual 0.0005311965942382812\n"
     ]
    },
    {
     "name": "stdout",
     "output_type": "stream",
     "text": [
      "\n",
      "[DiffTRe] Epoch 274\n",
      "\tEpoch loss = 0.00071\n",
      "\tGradient norm: 0.00460635032504797\n",
      "\tElapsed time = 2.838 min\n",
      "[Statepoint 0]\n",
      "\tkT = 2.467 ref_kT = 2.462\n",
      "\tPredicted entropy: -0.7436389327049255\n",
      "\tPredicted free_energy: -13578.8056640625\n",
      "\tPredicted pressure: -3.2375810146331787\n"
     ]
    },
    {
     "name": "stdout",
     "output_type": "stream",
     "text": [
      "[Step Size] Found optimal step size 1.0 with residual 0.18095636367797852\n"
     ]
    },
    {
     "name": "stdout",
     "output_type": "stream",
     "text": [
      "\n",
      "[DiffTRe] Epoch 275\n",
      "\tEpoch loss = 0.00070\n",
      "\tGradient norm: 0.0022709565237164497\n",
      "\tElapsed time = 2.837 min\n",
      "[Statepoint 0]\n",
      "\tkT = 2.461 ref_kT = 2.462\n",
      "\tPredicted entropy: -0.46474820375442505\n",
      "\tPredicted free_energy: -13245.0625\n",
      "\tPredicted pressure: 12.36138916015625\n"
     ]
    },
    {
     "name": "stdout",
     "output_type": "stream",
     "text": [
      "[Step Size] Found optimal step size 0.8183203339576721 with residual 0.0016765594482421875\n"
     ]
    },
    {
     "name": "stdout",
     "output_type": "stream",
     "text": [
      "\n",
      "[DiffTRe] Epoch 276\n",
      "\tEpoch loss = 0.00070\n",
      "\tGradient norm: 0.006213076878339052\n",
      "\tElapsed time = 2.836 min\n",
      "[Statepoint 0]\n",
      "\tkT = 2.460 ref_kT = 2.462\n",
      "\tPredicted entropy: -0.7619335055351257\n",
      "\tPredicted free_energy: -13615.79296875\n",
      "\tPredicted pressure: -1.0293433666229248\n"
     ]
    },
    {
     "name": "stdout",
     "output_type": "stream",
     "text": [
      "[Step Size] Found optimal step size 0.9090918898582458 with residual 0.14926385879516602\n"
     ]
    },
    {
     "name": "stdout",
     "output_type": "stream",
     "text": [
      "\n",
      "[DiffTRe] Epoch 277\n",
      "\tEpoch loss = 0.00072\n",
      "\tGradient norm: 0.0046059549786150455\n",
      "\tElapsed time = 2.835 min\n",
      "[Statepoint 0]\n",
      "\tkT = 2.463 ref_kT = 2.462\n",
      "\tPredicted entropy: -0.44980165362358093\n",
      "\tPredicted free_energy: -13308.9130859375\n",
      "\tPredicted pressure: 16.802640914916992\n"
     ]
    },
    {
     "name": "stdout",
     "output_type": "stream",
     "text": [
      "[Step Size] Found optimal step size 1.0 with residual 0.7681741714477539\n"
     ]
    },
    {
     "name": "stdout",
     "output_type": "stream",
     "text": [
      "\n",
      "[DiffTRe] Epoch 278\n",
      "\tEpoch loss = 0.00067\n",
      "\tGradient norm: 0.0022546553518623114\n",
      "\tElapsed time = 2.839 min\n",
      "[Statepoint 0]\n",
      "\tkT = 2.466 ref_kT = 2.462\n",
      "\tPredicted entropy: -0.7080608010292053\n",
      "\tPredicted free_energy: -13627.9296875\n",
      "\tPredicted pressure: 0.3518950343132019\n"
     ]
    },
    {
     "name": "stdout",
     "output_type": "stream",
     "text": [
      "[Step Size] Found optimal step size 0.8647646903991699 with residual 0.001983165740966797\n"
     ]
    },
    {
     "name": "stdout",
     "output_type": "stream",
     "text": [
      "\n",
      "[DiffTRe] Epoch 279\n",
      "\tEpoch loss = 0.00071\n",
      "\tGradient norm: 0.007366848178207874\n",
      "\tElapsed time = 2.834 min\n",
      "[Statepoint 0]\n",
      "\tkT = 2.466 ref_kT = 2.462\n",
      "\tPredicted entropy: -0.5397374629974365\n",
      "\tPredicted free_energy: -13359.296875\n",
      "\tPredicted pressure: 10.431824684143066\n"
     ]
    },
    {
     "name": "stdout",
     "output_type": "stream",
     "text": [
      "[Step Size] Found optimal step size 0.9090918898582458 with residual 0.1886916160583496\n"
     ]
    },
    {
     "name": "stdout",
     "output_type": "stream",
     "text": [
      "\n",
      "[DiffTRe] Epoch 280\n",
      "\tEpoch loss = 0.00074\n",
      "\tGradient norm: 0.009216466918587685\n",
      "\tElapsed time = 2.842 min\n",
      "[Statepoint 0]\n",
      "\tkT = 2.454 ref_kT = 2.462\n",
      "\tPredicted entropy: -0.7733262777328491\n",
      "\tPredicted free_energy: -13464.4755859375\n",
      "\tPredicted pressure: 2.9517946243286133\n"
     ]
    },
    {
     "name": "stdout",
     "output_type": "stream",
     "text": [
      "[Step Size] Found optimal step size 0.8785117864608765 with residual 8.344650268554688e-05\n"
     ]
    },
    {
     "name": "stdout",
     "output_type": "stream",
     "text": [
      "\n",
      "[DiffTRe] Epoch 281\n",
      "\tEpoch loss = 0.00069\n",
      "\tGradient norm: 0.00602387823164463\n",
      "\tElapsed time = 2.844 min\n",
      "[Statepoint 0]\n",
      "\tkT = 2.466 ref_kT = 2.462\n",
      "\tPredicted entropy: -0.5222117900848389\n",
      "\tPredicted free_energy: -13286.8955078125\n",
      "\tPredicted pressure: 13.736482620239258\n"
     ]
    },
    {
     "name": "stdout",
     "output_type": "stream",
     "text": [
      "[Step Size] Found optimal step size 1.0 with residual 1.3568854331970215\n"
     ]
    },
    {
     "name": "stdout",
     "output_type": "stream",
     "text": [
      "\n",
      "[DiffTRe] Epoch 282\n",
      "\tEpoch loss = 0.00067\n",
      "\tGradient norm: 0.0017011055024340749\n",
      "\tElapsed time = 2.835 min\n",
      "[Statepoint 0]\n",
      "\tkT = 2.476 ref_kT = 2.462\n",
      "\tPredicted entropy: -0.7275103330612183\n",
      "\tPredicted free_energy: -13476.4580078125\n",
      "\tPredicted pressure: 7.625991344451904\n"
     ]
    },
    {
     "name": "stdout",
     "output_type": "stream",
     "text": [
      "[Step Size] Found optimal step size 1.0 with residual 0.8711757659912109\n"
     ]
    },
    {
     "name": "stdout",
     "output_type": "stream",
     "text": [
      "\n",
      "[DiffTRe] Epoch 283\n",
      "\tEpoch loss = 0.00067\n",
      "\tGradient norm: 0.001254888135008514\n",
      "\tElapsed time = 2.841 min\n",
      "[Statepoint 0]\n",
      "\tkT = 2.459 ref_kT = 2.462\n",
      "\tPredicted entropy: -0.6743139028549194\n",
      "\tPredicted free_energy: -13552.8857421875\n",
      "\tPredicted pressure: 0.9495611786842346\n"
     ]
    },
    {
     "name": "stdout",
     "output_type": "stream",
     "text": [
      "[Step Size] Found optimal step size 0.9090918302536011 with residual 0.30167055130004883\n"
     ]
    },
    {
     "name": "stdout",
     "output_type": "stream",
     "text": [
      "\n",
      "[DiffTRe] Epoch 284\n",
      "\tEpoch loss = 0.00066\n",
      "\tGradient norm: 0.0037005769554525614\n",
      "\tElapsed time = 2.841 min\n",
      "[Statepoint 0]\n",
      "\tkT = 2.472 ref_kT = 2.462\n",
      "\tPredicted entropy: -0.5459805130958557\n",
      "\tPredicted free_energy: -13161.3486328125\n",
      "\tPredicted pressure: 20.355146408081055\n"
     ]
    },
    {
     "name": "stdout",
     "output_type": "stream",
     "text": [
      "[Step Size] Found optimal step size 1.0 with residual 0.3397097587585449\n"
     ]
    },
    {
     "name": "stdout",
     "output_type": "stream",
     "text": [
      "\n",
      "[DiffTRe] Epoch 285\n",
      "\tEpoch loss = 0.00066\n",
      "\tGradient norm: 0.0031021966133266687\n",
      "\tElapsed time = 2.842 min\n",
      "[Statepoint 0]\n",
      "\tkT = 2.473 ref_kT = 2.462\n",
      "\tPredicted entropy: -0.819398820400238\n",
      "\tPredicted free_energy: -13648.978515625\n",
      "\tPredicted pressure: -1.4750694036483765\n"
     ]
    },
    {
     "name": "stdout",
     "output_type": "stream",
     "text": [
      "[Step Size] Found optimal step size 1.0 with residual 0.6365480422973633\n"
     ]
    },
    {
     "name": "stdout",
     "output_type": "stream",
     "text": [
      "\n",
      "[DiffTRe] Epoch 286\n",
      "\tEpoch loss = 0.00068\n",
      "\tGradient norm: 0.002858884399756789\n",
      "\tElapsed time = 2.849 min\n",
      "[Statepoint 0]\n",
      "\tkT = 2.462 ref_kT = 2.462\n",
      "\tPredicted entropy: -0.5658726692199707\n",
      "\tPredicted free_energy: -13267.3681640625\n",
      "\tPredicted pressure: 16.156721115112305\n"
     ]
    },
    {
     "name": "stdout",
     "output_type": "stream",
     "text": [
      "[Step Size] Found optimal step size 0.8958415389060974 with residual 0.0005059242248535156\n"
     ]
    },
    {
     "name": "stdout",
     "output_type": "stream",
     "text": [
      "\n",
      "[DiffTRe] Epoch 287\n",
      "\tEpoch loss = 0.00075\n",
      "\tGradient norm: 0.009426074102520943\n",
      "\tElapsed time = 2.848 min\n",
      "[Statepoint 0]\n",
      "\tkT = 2.463 ref_kT = 2.462\n",
      "\tPredicted entropy: -0.7486811876296997\n",
      "\tPredicted free_energy: -13404.8388671875\n",
      "\tPredicted pressure: 12.203184127807617\n"
     ]
    },
    {
     "name": "stdout",
     "output_type": "stream",
     "text": [
      "[Step Size] Found optimal step size 1.0 with residual 1.7363805770874023\n"
     ]
    },
    {
     "name": "stdout",
     "output_type": "stream",
     "text": [
      "\n",
      "[DiffTRe] Epoch 288\n",
      "\tEpoch loss = 0.00066\n",
      "\tGradient norm: 0.0015433430671691895\n",
      "\tElapsed time = 2.856 min\n",
      "[Statepoint 0]\n",
      "\tkT = 2.456 ref_kT = 2.462\n",
      "\tPredicted entropy: -0.5715052485466003\n",
      "\tPredicted free_energy: -13366.1953125\n",
      "\tPredicted pressure: 10.991866111755371\n"
     ]
    },
    {
     "name": "stdout",
     "output_type": "stream",
     "text": [
      "[Step Size] Found optimal step size 1.0 with residual 0.5951166152954102\n"
     ]
    },
    {
     "name": "stdout",
     "output_type": "stream",
     "text": [
      "\n",
      "[DiffTRe] Epoch 289\n",
      "\tEpoch loss = 0.00061\n",
      "\tGradient norm: 0.0010530331637710333\n",
      "\tElapsed time = 2.858 min\n",
      "[Statepoint 0]\n",
      "\tkT = 2.461 ref_kT = 2.462\n",
      "\tPredicted entropy: -0.7058164477348328\n",
      "\tPredicted free_energy: -13494.8349609375\n",
      "\tPredicted pressure: 4.362936496734619\n"
     ]
    },
    {
     "name": "stdout",
     "output_type": "stream",
     "text": [
      "[Step Size] Found optimal step size 1.0 with residual 0.48379993438720703\n"
     ]
    },
    {
     "name": "stdout",
     "output_type": "stream",
     "text": [
      "\n",
      "[DiffTRe] Epoch 290\n",
      "\tEpoch loss = 0.00071\n",
      "\tGradient norm: 0.005545647814869881\n",
      "\tElapsed time = 2.851 min\n",
      "[Statepoint 0]\n",
      "\tkT = 2.461 ref_kT = 2.462\n",
      "\tPredicted entropy: -0.46852028369903564\n",
      "\tPredicted free_energy: -13231.2490234375\n",
      "\tPredicted pressure: 19.87606430053711\n"
     ]
    },
    {
     "name": "stdout",
     "output_type": "stream",
     "text": [
      "[Step Size] Found optimal step size 1.0 with residual 0.6775798797607422\n"
     ]
    },
    {
     "name": "stdout",
     "output_type": "stream",
     "text": [
      "\n",
      "[DiffTRe] Epoch 291\n",
      "\tEpoch loss = 0.00067\n",
      "\tGradient norm: 0.005669651087373495\n",
      "\tElapsed time = 2.859 min\n",
      "[Statepoint 0]\n",
      "\tkT = 2.465 ref_kT = 2.462\n",
      "\tPredicted entropy: -0.8316876292228699\n",
      "\tPredicted free_energy: -13698.8125\n",
      "\tPredicted pressure: -3.0070812702178955\n"
     ]
    },
    {
     "name": "stdout",
     "output_type": "stream",
     "text": [
      "[Step Size] Found optimal step size 1.0 with residual 1.1001644134521484\n"
     ]
    },
    {
     "name": "stdout",
     "output_type": "stream",
     "text": [
      "\n",
      "[DiffTRe] Epoch 292\n",
      "\tEpoch loss = 0.00068\n",
      "\tGradient norm: 0.003459118539467454\n",
      "\tElapsed time = 2.854 min\n",
      "[Statepoint 0]\n",
      "\tkT = 2.459 ref_kT = 2.462\n",
      "\tPredicted entropy: -0.5439114570617676\n",
      "\tPredicted free_energy: -13446.1044921875\n",
      "\tPredicted pressure: 6.517353057861328\n"
     ]
    },
    {
     "name": "stdout",
     "output_type": "stream",
     "text": [
      "[Step Size] Found optimal step size 1.0 with residual 1.7013239860534668\n"
     ]
    },
    {
     "name": "stdout",
     "output_type": "stream",
     "text": [
      "\n",
      "[DiffTRe] Epoch 293\n",
      "\tEpoch loss = 0.00065\n",
      "\tGradient norm: 0.000926543609239161\n",
      "\tElapsed time = 2.853 min\n",
      "[Statepoint 0]\n",
      "\tkT = 2.468 ref_kT = 2.462\n",
      "\tPredicted entropy: -0.6534121632575989\n",
      "\tPredicted free_energy: -13344.892578125\n",
      "\tPredicted pressure: 15.999556541442871\n"
     ]
    },
    {
     "name": "stdout",
     "output_type": "stream",
     "text": [
      "[Step Size] Found optimal step size 1.0 with residual 1.9543018341064453\n"
     ]
    },
    {
     "name": "stdout",
     "output_type": "stream",
     "text": [
      "\n",
      "[DiffTRe] Epoch 294\n",
      "\tEpoch loss = 0.00062\n",
      "\tGradient norm: 0.00026212367811240256\n",
      "\tElapsed time = 2.854 min\n",
      "[Statepoint 0]\n",
      "\tkT = 2.456 ref_kT = 2.462\n",
      "\tPredicted entropy: -0.6791719198226929\n",
      "\tPredicted free_energy: -13549.826171875\n",
      "\tPredicted pressure: 3.9993298053741455\n"
     ]
    },
    {
     "name": "stdout",
     "output_type": "stream",
     "text": [
      "[Step Size] Found optimal step size 1.0 with residual 1.0560646057128906\n"
     ]
    },
    {
     "name": "stdout",
     "output_type": "stream",
     "text": [
      "\n",
      "[DiffTRe] Epoch 295\n",
      "\tEpoch loss = 0.00060\n",
      "\tGradient norm: 0.0008671250543557107\n",
      "\tElapsed time = 2.854 min\n",
      "[Statepoint 0]\n",
      "\tkT = 2.463 ref_kT = 2.462\n",
      "\tPredicted entropy: -0.588614821434021\n",
      "\tPredicted free_energy: -13346.703125\n",
      "\tPredicted pressure: 13.344237327575684\n"
     ]
    },
    {
     "name": "stdout",
     "output_type": "stream",
     "text": [
      "[Step Size] Found optimal step size 1.0 with residual 0.7208743095397949\n"
     ]
    },
    {
     "name": "stdout",
     "output_type": "stream",
     "text": [
      "\n",
      "[DiffTRe] Epoch 296\n",
      "\tEpoch loss = 0.00070\n",
      "\tGradient norm: 0.0054490407928824425\n",
      "\tElapsed time = 2.851 min\n",
      "[Statepoint 0]\n",
      "\tkT = 2.464 ref_kT = 2.462\n",
      "\tPredicted entropy: -0.8633374571800232\n",
      "\tPredicted free_energy: -13694.55078125\n",
      "\tPredicted pressure: 3.994809865951538\n"
     ]
    },
    {
     "name": "stdout",
     "output_type": "stream",
     "text": [
      "[Step Size] Found optimal step size 1.0 with residual 1.330423355102539\n"
     ]
    },
    {
     "name": "stdout",
     "output_type": "stream",
     "text": [
      "\n",
      "[DiffTRe] Epoch 297\n",
      "\tEpoch loss = 0.00065\n",
      "\tGradient norm: 0.0024427748285233974\n",
      "\tElapsed time = 2.849 min\n",
      "[Statepoint 0]\n",
      "\tkT = 2.463 ref_kT = 2.462\n",
      "\tPredicted entropy: -0.5410556793212891\n",
      "\tPredicted free_energy: -13366.1240234375\n",
      "\tPredicted pressure: 11.96701431274414\n"
     ]
    },
    {
     "name": "stdout",
     "output_type": "stream",
     "text": [
      "[Step Size] Found optimal step size 1.0 with residual 0.9865117073059082\n"
     ]
    },
    {
     "name": "stdout",
     "output_type": "stream",
     "text": [
      "\n",
      "[DiffTRe] Epoch 298\n",
      "\tEpoch loss = 0.00064\n",
      "\tGradient norm: 0.00208352692425251\n",
      "\tElapsed time = 2.855 min\n",
      "[Statepoint 0]\n",
      "\tkT = 2.465 ref_kT = 2.462\n",
      "\tPredicted entropy: -0.6694095730781555\n",
      "\tPredicted free_energy: -13445.6103515625\n",
      "\tPredicted pressure: 5.460418224334717\n"
     ]
    },
    {
     "name": "stdout",
     "output_type": "stream",
     "text": [
      "[Step Size] Found optimal step size 1.0 with residual 1.351879596710205\n"
     ]
    },
    {
     "name": "stdout",
     "output_type": "stream",
     "text": [
      "\n",
      "[DiffTRe] Epoch 299\n",
      "\tEpoch loss = 0.00062\n",
      "\tGradient norm: 0.002511675236746669\n",
      "\tElapsed time = 2.857 min\n",
      "[Statepoint 0]\n",
      "\tkT = 2.461 ref_kT = 2.462\n",
      "\tPredicted entropy: -0.5994208455085754\n",
      "\tPredicted free_energy: -13510.1044921875\n",
      "\tPredicted pressure: 7.646917819976807\n"
     ]
    }
   ],
   "source": [
    "trainer.train(num_updates, checkpoint_freq=None)\n",
    "trainer.save_trainer(\"water/output/cg_water_example.pkl\", \".pkl\")"
   ]
  },
  {
   "cell_type": "markdown",
   "id": "4e114c26",
   "metadata": {},
   "source": [
    "## Results"
   ]
  },
  {
   "cell_type": "code",
   "execution_count": 14,
   "id": "556560b8",
   "metadata": {
    "execution": {
     "iopub.execute_input": "2024-06-13T03:29:17.174896Z",
     "iopub.status.busy": "2024-06-13T03:29:17.174704Z",
     "iopub.status.idle": "2024-06-13T03:29:17.183575Z",
     "shell.execute_reply": "2024-06-13T03:29:17.182848Z"
    }
   },
   "outputs": [],
   "source": [
    "results = onp.load(\"water/output/cg_water_example.pkl\", allow_pickle=True)\n",
    "\n",
    "predicted_quantities = results[\"predictions\"][0]\n",
    "loss_history = results[\"epoch_losses\"]\n",
    "num_updates = list(predicted_quantities.keys())[-1]"
   ]
  },
  {
   "cell_type": "markdown",
   "id": "47e50936",
   "metadata": {},
   "source": [
    "### Loss History"
   ]
  },
  {
   "cell_type": "code",
   "execution_count": 15,
   "id": "c971be41",
   "metadata": {
    "execution": {
     "iopub.execute_input": "2024-06-13T03:29:17.187739Z",
     "iopub.status.busy": "2024-06-13T03:29:17.187551Z",
     "iopub.status.idle": "2024-06-13T03:29:17.347846Z",
     "shell.execute_reply": "2024-06-13T03:29:17.346887Z"
    },
    "tags": [
     "hide-input"
    ]
   },
   "outputs": [
    {
     "data": {
      "text/plain": [
       "[<matplotlib.lines.Line2D at 0x7fb19bc03f40>]"
      ]
     },
     "execution_count": 15,
     "metadata": {},
     "output_type": "execute_result"
    },
    {
     "data": {
      "image/svg+xml": [
       "<?xml version=\"1.0\" encoding=\"utf-8\" standalone=\"no\"?>\n",
       "<!DOCTYPE svg PUBLIC \"-//W3C//DTD SVG 1.1//EN\"\n",
       "  \"http://www.w3.org/Graphics/SVG/1.1/DTD/svg11.dtd\">\n",
       "<svg xmlns:xlink=\"http://www.w3.org/1999/xlink\" width=\"469.19952pt\" height=\"353.999513pt\" viewBox=\"0 0 469.19952 353.999513\" xmlns=\"http://www.w3.org/2000/svg\" version=\"1.1\">\n",
       " <metadata>\n",
       "  <rdf:RDF xmlns:dc=\"http://purl.org/dc/elements/1.1/\" xmlns:cc=\"http://creativecommons.org/ns#\" xmlns:rdf=\"http://www.w3.org/1999/02/22-rdf-syntax-ns#\">\n",
       "   <cc:Work>\n",
       "    <dc:type rdf:resource=\"http://purl.org/dc/dcmitype/StillImage\"/>\n",
       "    <dc:date>2024-06-13T05:29:17.322231</dc:date>\n",
       "    <dc:format>image/svg+xml</dc:format>\n",
       "    <dc:creator>\n",
       "     <cc:Agent>\n",
       "      <dc:title>Matplotlib v3.8.0, https://matplotlib.org/</dc:title>\n",
       "     </cc:Agent>\n",
       "    </dc:creator>\n",
       "   </cc:Work>\n",
       "  </rdf:RDF>\n",
       " </metadata>\n",
       " <defs>\n",
       "  <style type=\"text/css\">*{stroke-linejoin: round; stroke-linecap: butt}</style>\n",
       " </defs>\n",
       " <g id=\"figure_1\">\n",
       "  <g id=\"patch_1\">\n",
       "   <path d=\"M 0 353.999513 \n",
       "L 469.19952 353.999513 \n",
       "L 469.19952 -0 \n",
       "L 0 -0 \n",
       "z\n",
       "\" style=\"fill: #ffffff\"/>\n",
       "  </g>\n",
       "  <g id=\"axes_1\">\n",
       "   <g id=\"patch_2\">\n",
       "    <path d=\"M 56.50625 316.443263 \n",
       "L 461.99952 316.443263 \n",
       "L 461.99952 10.199976 \n",
       "L 56.50625 10.199976 \n",
       "z\n",
       "\" style=\"fill: #ffffff\"/>\n",
       "   </g>\n",
       "   <g id=\"matplotlib.axis_1\">\n",
       "    <g id=\"xtick_1\">\n",
       "     <g id=\"line2d_1\">\n",
       "      <defs>\n",
       "       <path id=\"mc2179aae4d\" d=\"M 0 0 \n",
       "L 0 3.5 \n",
       "\" style=\"stroke: #000000; stroke-width: 0.8\"/>\n",
       "      </defs>\n",
       "      <g>\n",
       "       <use xlink:href=\"#mc2179aae4d\" x=\"74.937762\" y=\"316.443263\" style=\"stroke: #000000; stroke-width: 0.8\"/>\n",
       "      </g>\n",
       "     </g>\n",
       "     <g id=\"text_1\">\n",
       "      <!-- 0 -->\n",
       "      <g transform=\"translate(71.756512 331.041701) scale(0.1 -0.1)\">\n",
       "       <defs>\n",
       "        <path id=\"DejaVuSans-30\" d=\"M 2034 4250 \n",
       "Q 1547 4250 1301 3770 \n",
       "Q 1056 3291 1056 2328 \n",
       "Q 1056 1369 1301 889 \n",
       "Q 1547 409 2034 409 \n",
       "Q 2525 409 2770 889 \n",
       "Q 3016 1369 3016 2328 \n",
       "Q 3016 3291 2770 3770 \n",
       "Q 2525 4250 2034 4250 \n",
       "z\n",
       "M 2034 4750 \n",
       "Q 2819 4750 3233 4129 \n",
       "Q 3647 3509 3647 2328 \n",
       "Q 3647 1150 3233 529 \n",
       "Q 2819 -91 2034 -91 \n",
       "Q 1250 -91 836 529 \n",
       "Q 422 1150 422 2328 \n",
       "Q 422 3509 836 4129 \n",
       "Q 1250 4750 2034 4750 \n",
       "z\n",
       "\" transform=\"scale(0.015625)\"/>\n",
       "       </defs>\n",
       "       <use xlink:href=\"#DejaVuSans-30\"/>\n",
       "      </g>\n",
       "     </g>\n",
       "    </g>\n",
       "    <g id=\"xtick_2\">\n",
       "     <g id=\"line2d_2\">\n",
       "      <g>\n",
       "       <use xlink:href=\"#mc2179aae4d\" x=\"136.581616\" y=\"316.443263\" style=\"stroke: #000000; stroke-width: 0.8\"/>\n",
       "      </g>\n",
       "     </g>\n",
       "     <g id=\"text_2\">\n",
       "      <!-- 50 -->\n",
       "      <g transform=\"translate(130.219116 331.041701) scale(0.1 -0.1)\">\n",
       "       <defs>\n",
       "        <path id=\"DejaVuSans-35\" d=\"M 691 4666 \n",
       "L 3169 4666 \n",
       "L 3169 4134 \n",
       "L 1269 4134 \n",
       "L 1269 2991 \n",
       "Q 1406 3038 1543 3061 \n",
       "Q 1681 3084 1819 3084 \n",
       "Q 2600 3084 3056 2656 \n",
       "Q 3513 2228 3513 1497 \n",
       "Q 3513 744 3044 326 \n",
       "Q 2575 -91 1722 -91 \n",
       "Q 1428 -91 1123 -41 \n",
       "Q 819 9 494 109 \n",
       "L 494 744 \n",
       "Q 775 591 1075 516 \n",
       "Q 1375 441 1709 441 \n",
       "Q 2250 441 2565 725 \n",
       "Q 2881 1009 2881 1497 \n",
       "Q 2881 1984 2565 2268 \n",
       "Q 2250 2553 1709 2553 \n",
       "Q 1456 2553 1204 2497 \n",
       "Q 953 2441 691 2322 \n",
       "L 691 4666 \n",
       "z\n",
       "\" transform=\"scale(0.015625)\"/>\n",
       "       </defs>\n",
       "       <use xlink:href=\"#DejaVuSans-35\"/>\n",
       "       <use xlink:href=\"#DejaVuSans-30\" x=\"63.623047\"/>\n",
       "      </g>\n",
       "     </g>\n",
       "    </g>\n",
       "    <g id=\"xtick_3\">\n",
       "     <g id=\"line2d_3\">\n",
       "      <g>\n",
       "       <use xlink:href=\"#mc2179aae4d\" x=\"198.22547\" y=\"316.443263\" style=\"stroke: #000000; stroke-width: 0.8\"/>\n",
       "      </g>\n",
       "     </g>\n",
       "     <g id=\"text_3\">\n",
       "      <!-- 100 -->\n",
       "      <g transform=\"translate(188.68172 331.041701) scale(0.1 -0.1)\">\n",
       "       <defs>\n",
       "        <path id=\"DejaVuSans-31\" d=\"M 794 531 \n",
       "L 1825 531 \n",
       "L 1825 4091 \n",
       "L 703 3866 \n",
       "L 703 4441 \n",
       "L 1819 4666 \n",
       "L 2450 4666 \n",
       "L 2450 531 \n",
       "L 3481 531 \n",
       "L 3481 0 \n",
       "L 794 0 \n",
       "L 794 531 \n",
       "z\n",
       "\" transform=\"scale(0.015625)\"/>\n",
       "       </defs>\n",
       "       <use xlink:href=\"#DejaVuSans-31\"/>\n",
       "       <use xlink:href=\"#DejaVuSans-30\" x=\"63.623047\"/>\n",
       "       <use xlink:href=\"#DejaVuSans-30\" x=\"127.246094\"/>\n",
       "      </g>\n",
       "     </g>\n",
       "    </g>\n",
       "    <g id=\"xtick_4\">\n",
       "     <g id=\"line2d_4\">\n",
       "      <g>\n",
       "       <use xlink:href=\"#mc2179aae4d\" x=\"259.869324\" y=\"316.443263\" style=\"stroke: #000000; stroke-width: 0.8\"/>\n",
       "      </g>\n",
       "     </g>\n",
       "     <g id=\"text_4\">\n",
       "      <!-- 150 -->\n",
       "      <g transform=\"translate(250.325574 331.041701) scale(0.1 -0.1)\">\n",
       "       <use xlink:href=\"#DejaVuSans-31\"/>\n",
       "       <use xlink:href=\"#DejaVuSans-35\" x=\"63.623047\"/>\n",
       "       <use xlink:href=\"#DejaVuSans-30\" x=\"127.246094\"/>\n",
       "      </g>\n",
       "     </g>\n",
       "    </g>\n",
       "    <g id=\"xtick_5\">\n",
       "     <g id=\"line2d_5\">\n",
       "      <g>\n",
       "       <use xlink:href=\"#mc2179aae4d\" x=\"321.513177\" y=\"316.443263\" style=\"stroke: #000000; stroke-width: 0.8\"/>\n",
       "      </g>\n",
       "     </g>\n",
       "     <g id=\"text_5\">\n",
       "      <!-- 200 -->\n",
       "      <g transform=\"translate(311.969427 331.041701) scale(0.1 -0.1)\">\n",
       "       <defs>\n",
       "        <path id=\"DejaVuSans-32\" d=\"M 1228 531 \n",
       "L 3431 531 \n",
       "L 3431 0 \n",
       "L 469 0 \n",
       "L 469 531 \n",
       "Q 828 903 1448 1529 \n",
       "Q 2069 2156 2228 2338 \n",
       "Q 2531 2678 2651 2914 \n",
       "Q 2772 3150 2772 3378 \n",
       "Q 2772 3750 2511 3984 \n",
       "Q 2250 4219 1831 4219 \n",
       "Q 1534 4219 1204 4116 \n",
       "Q 875 4013 500 3803 \n",
       "L 500 4441 \n",
       "Q 881 4594 1212 4672 \n",
       "Q 1544 4750 1819 4750 \n",
       "Q 2544 4750 2975 4387 \n",
       "Q 3406 4025 3406 3419 \n",
       "Q 3406 3131 3298 2873 \n",
       "Q 3191 2616 2906 2266 \n",
       "Q 2828 2175 2409 1742 \n",
       "Q 1991 1309 1228 531 \n",
       "z\n",
       "\" transform=\"scale(0.015625)\"/>\n",
       "       </defs>\n",
       "       <use xlink:href=\"#DejaVuSans-32\"/>\n",
       "       <use xlink:href=\"#DejaVuSans-30\" x=\"63.623047\"/>\n",
       "       <use xlink:href=\"#DejaVuSans-30\" x=\"127.246094\"/>\n",
       "      </g>\n",
       "     </g>\n",
       "    </g>\n",
       "    <g id=\"xtick_6\">\n",
       "     <g id=\"line2d_6\">\n",
       "      <g>\n",
       "       <use xlink:href=\"#mc2179aae4d\" x=\"383.157031\" y=\"316.443263\" style=\"stroke: #000000; stroke-width: 0.8\"/>\n",
       "      </g>\n",
       "     </g>\n",
       "     <g id=\"text_6\">\n",
       "      <!-- 250 -->\n",
       "      <g transform=\"translate(373.613281 331.041701) scale(0.1 -0.1)\">\n",
       "       <use xlink:href=\"#DejaVuSans-32\"/>\n",
       "       <use xlink:href=\"#DejaVuSans-35\" x=\"63.623047\"/>\n",
       "       <use xlink:href=\"#DejaVuSans-30\" x=\"127.246094\"/>\n",
       "      </g>\n",
       "     </g>\n",
       "    </g>\n",
       "    <g id=\"xtick_7\">\n",
       "     <g id=\"line2d_7\">\n",
       "      <g>\n",
       "       <use xlink:href=\"#mc2179aae4d\" x=\"444.800885\" y=\"316.443263\" style=\"stroke: #000000; stroke-width: 0.8\"/>\n",
       "      </g>\n",
       "     </g>\n",
       "     <g id=\"text_7\">\n",
       "      <!-- 300 -->\n",
       "      <g transform=\"translate(435.257135 331.041701) scale(0.1 -0.1)\">\n",
       "       <defs>\n",
       "        <path id=\"DejaVuSans-33\" d=\"M 2597 2516 \n",
       "Q 3050 2419 3304 2112 \n",
       "Q 3559 1806 3559 1356 \n",
       "Q 3559 666 3084 287 \n",
       "Q 2609 -91 1734 -91 \n",
       "Q 1441 -91 1130 -33 \n",
       "Q 819 25 488 141 \n",
       "L 488 750 \n",
       "Q 750 597 1062 519 \n",
       "Q 1375 441 1716 441 \n",
       "Q 2309 441 2620 675 \n",
       "Q 2931 909 2931 1356 \n",
       "Q 2931 1769 2642 2001 \n",
       "Q 2353 2234 1838 2234 \n",
       "L 1294 2234 \n",
       "L 1294 2753 \n",
       "L 1863 2753 \n",
       "Q 2328 2753 2575 2939 \n",
       "Q 2822 3125 2822 3475 \n",
       "Q 2822 3834 2567 4026 \n",
       "Q 2313 4219 1838 4219 \n",
       "Q 1578 4219 1281 4162 \n",
       "Q 984 4106 628 3988 \n",
       "L 628 4550 \n",
       "Q 988 4650 1302 4700 \n",
       "Q 1616 4750 1894 4750 \n",
       "Q 2613 4750 3031 4423 \n",
       "Q 3450 4097 3450 3541 \n",
       "Q 3450 3153 3228 2886 \n",
       "Q 3006 2619 2597 2516 \n",
       "z\n",
       "\" transform=\"scale(0.015625)\"/>\n",
       "       </defs>\n",
       "       <use xlink:href=\"#DejaVuSans-33\"/>\n",
       "       <use xlink:href=\"#DejaVuSans-30\" x=\"63.623047\"/>\n",
       "       <use xlink:href=\"#DejaVuSans-30\" x=\"127.246094\"/>\n",
       "      </g>\n",
       "     </g>\n",
       "    </g>\n",
       "    <g id=\"text_8\">\n",
       "     <!-- Update Step -->\n",
       "     <g transform=\"translate(228.170073 344.719826) scale(0.1 -0.1)\">\n",
       "      <defs>\n",
       "       <path id=\"DejaVuSans-55\" d=\"M 556 4666 \n",
       "L 1191 4666 \n",
       "L 1191 1831 \n",
       "Q 1191 1081 1462 751 \n",
       "Q 1734 422 2344 422 \n",
       "Q 2950 422 3222 751 \n",
       "Q 3494 1081 3494 1831 \n",
       "L 3494 4666 \n",
       "L 4128 4666 \n",
       "L 4128 1753 \n",
       "Q 4128 841 3676 375 \n",
       "Q 3225 -91 2344 -91 \n",
       "Q 1459 -91 1007 375 \n",
       "Q 556 841 556 1753 \n",
       "L 556 4666 \n",
       "z\n",
       "\" transform=\"scale(0.015625)\"/>\n",
       "       <path id=\"DejaVuSans-70\" d=\"M 1159 525 \n",
       "L 1159 -1331 \n",
       "L 581 -1331 \n",
       "L 581 3500 \n",
       "L 1159 3500 \n",
       "L 1159 2969 \n",
       "Q 1341 3281 1617 3432 \n",
       "Q 1894 3584 2278 3584 \n",
       "Q 2916 3584 3314 3078 \n",
       "Q 3713 2572 3713 1747 \n",
       "Q 3713 922 3314 415 \n",
       "Q 2916 -91 2278 -91 \n",
       "Q 1894 -91 1617 61 \n",
       "Q 1341 213 1159 525 \n",
       "z\n",
       "M 3116 1747 \n",
       "Q 3116 2381 2855 2742 \n",
       "Q 2594 3103 2138 3103 \n",
       "Q 1681 3103 1420 2742 \n",
       "Q 1159 2381 1159 1747 \n",
       "Q 1159 1113 1420 752 \n",
       "Q 1681 391 2138 391 \n",
       "Q 2594 391 2855 752 \n",
       "Q 3116 1113 3116 1747 \n",
       "z\n",
       "\" transform=\"scale(0.015625)\"/>\n",
       "       <path id=\"DejaVuSans-64\" d=\"M 2906 2969 \n",
       "L 2906 4863 \n",
       "L 3481 4863 \n",
       "L 3481 0 \n",
       "L 2906 0 \n",
       "L 2906 525 \n",
       "Q 2725 213 2448 61 \n",
       "Q 2172 -91 1784 -91 \n",
       "Q 1150 -91 751 415 \n",
       "Q 353 922 353 1747 \n",
       "Q 353 2572 751 3078 \n",
       "Q 1150 3584 1784 3584 \n",
       "Q 2172 3584 2448 3432 \n",
       "Q 2725 3281 2906 2969 \n",
       "z\n",
       "M 947 1747 \n",
       "Q 947 1113 1208 752 \n",
       "Q 1469 391 1925 391 \n",
       "Q 2381 391 2643 752 \n",
       "Q 2906 1113 2906 1747 \n",
       "Q 2906 2381 2643 2742 \n",
       "Q 2381 3103 1925 3103 \n",
       "Q 1469 3103 1208 2742 \n",
       "Q 947 2381 947 1747 \n",
       "z\n",
       "\" transform=\"scale(0.015625)\"/>\n",
       "       <path id=\"DejaVuSans-61\" d=\"M 2194 1759 \n",
       "Q 1497 1759 1228 1600 \n",
       "Q 959 1441 959 1056 \n",
       "Q 959 750 1161 570 \n",
       "Q 1363 391 1709 391 \n",
       "Q 2188 391 2477 730 \n",
       "Q 2766 1069 2766 1631 \n",
       "L 2766 1759 \n",
       "L 2194 1759 \n",
       "z\n",
       "M 3341 1997 \n",
       "L 3341 0 \n",
       "L 2766 0 \n",
       "L 2766 531 \n",
       "Q 2569 213 2275 61 \n",
       "Q 1981 -91 1556 -91 \n",
       "Q 1019 -91 701 211 \n",
       "Q 384 513 384 1019 \n",
       "Q 384 1609 779 1909 \n",
       "Q 1175 2209 1959 2209 \n",
       "L 2766 2209 \n",
       "L 2766 2266 \n",
       "Q 2766 2663 2505 2880 \n",
       "Q 2244 3097 1772 3097 \n",
       "Q 1472 3097 1187 3025 \n",
       "Q 903 2953 641 2809 \n",
       "L 641 3341 \n",
       "Q 956 3463 1253 3523 \n",
       "Q 1550 3584 1831 3584 \n",
       "Q 2591 3584 2966 3190 \n",
       "Q 3341 2797 3341 1997 \n",
       "z\n",
       "\" transform=\"scale(0.015625)\"/>\n",
       "       <path id=\"DejaVuSans-74\" d=\"M 1172 4494 \n",
       "L 1172 3500 \n",
       "L 2356 3500 \n",
       "L 2356 3053 \n",
       "L 1172 3053 \n",
       "L 1172 1153 \n",
       "Q 1172 725 1289 603 \n",
       "Q 1406 481 1766 481 \n",
       "L 2356 481 \n",
       "L 2356 0 \n",
       "L 1766 0 \n",
       "Q 1100 0 847 248 \n",
       "Q 594 497 594 1153 \n",
       "L 594 3053 \n",
       "L 172 3053 \n",
       "L 172 3500 \n",
       "L 594 3500 \n",
       "L 594 4494 \n",
       "L 1172 4494 \n",
       "z\n",
       "\" transform=\"scale(0.015625)\"/>\n",
       "       <path id=\"DejaVuSans-65\" d=\"M 3597 1894 \n",
       "L 3597 1613 \n",
       "L 953 1613 \n",
       "Q 991 1019 1311 708 \n",
       "Q 1631 397 2203 397 \n",
       "Q 2534 397 2845 478 \n",
       "Q 3156 559 3463 722 \n",
       "L 3463 178 \n",
       "Q 3153 47 2828 -22 \n",
       "Q 2503 -91 2169 -91 \n",
       "Q 1331 -91 842 396 \n",
       "Q 353 884 353 1716 \n",
       "Q 353 2575 817 3079 \n",
       "Q 1281 3584 2069 3584 \n",
       "Q 2775 3584 3186 3129 \n",
       "Q 3597 2675 3597 1894 \n",
       "z\n",
       "M 3022 2063 \n",
       "Q 3016 2534 2758 2815 \n",
       "Q 2500 3097 2075 3097 \n",
       "Q 1594 3097 1305 2825 \n",
       "Q 1016 2553 972 2059 \n",
       "L 3022 2063 \n",
       "z\n",
       "\" transform=\"scale(0.015625)\"/>\n",
       "       <path id=\"DejaVuSans-20\" transform=\"scale(0.015625)\"/>\n",
       "       <path id=\"DejaVuSans-53\" d=\"M 3425 4513 \n",
       "L 3425 3897 \n",
       "Q 3066 4069 2747 4153 \n",
       "Q 2428 4238 2131 4238 \n",
       "Q 1616 4238 1336 4038 \n",
       "Q 1056 3838 1056 3469 \n",
       "Q 1056 3159 1242 3001 \n",
       "Q 1428 2844 1947 2747 \n",
       "L 2328 2669 \n",
       "Q 3034 2534 3370 2195 \n",
       "Q 3706 1856 3706 1288 \n",
       "Q 3706 609 3251 259 \n",
       "Q 2797 -91 1919 -91 \n",
       "Q 1588 -91 1214 -16 \n",
       "Q 841 59 441 206 \n",
       "L 441 856 \n",
       "Q 825 641 1194 531 \n",
       "Q 1563 422 1919 422 \n",
       "Q 2459 422 2753 634 \n",
       "Q 3047 847 3047 1241 \n",
       "Q 3047 1584 2836 1778 \n",
       "Q 2625 1972 2144 2069 \n",
       "L 1759 2144 \n",
       "Q 1053 2284 737 2584 \n",
       "Q 422 2884 422 3419 \n",
       "Q 422 4038 858 4394 \n",
       "Q 1294 4750 2059 4750 \n",
       "Q 2388 4750 2728 4690 \n",
       "Q 3069 4631 3425 4513 \n",
       "z\n",
       "\" transform=\"scale(0.015625)\"/>\n",
       "      </defs>\n",
       "      <use xlink:href=\"#DejaVuSans-55\"/>\n",
       "      <use xlink:href=\"#DejaVuSans-70\" x=\"73.193359\"/>\n",
       "      <use xlink:href=\"#DejaVuSans-64\" x=\"136.669922\"/>\n",
       "      <use xlink:href=\"#DejaVuSans-61\" x=\"200.146484\"/>\n",
       "      <use xlink:href=\"#DejaVuSans-74\" x=\"261.425781\"/>\n",
       "      <use xlink:href=\"#DejaVuSans-65\" x=\"300.634766\"/>\n",
       "      <use xlink:href=\"#DejaVuSans-20\" x=\"362.158203\"/>\n",
       "      <use xlink:href=\"#DejaVuSans-53\" x=\"393.945312\"/>\n",
       "      <use xlink:href=\"#DejaVuSans-74\" x=\"457.421875\"/>\n",
       "      <use xlink:href=\"#DejaVuSans-65\" x=\"496.630859\"/>\n",
       "      <use xlink:href=\"#DejaVuSans-70\" x=\"558.154297\"/>\n",
       "     </g>\n",
       "    </g>\n",
       "   </g>\n",
       "   <g id=\"matplotlib.axis_2\">\n",
       "    <g id=\"ytick_1\">\n",
       "     <g id=\"line2d_8\">\n",
       "      <defs>\n",
       "       <path id=\"m8916296ee9\" d=\"M 0 0 \n",
       "L -3.5 0 \n",
       "\" style=\"stroke: #000000; stroke-width: 0.8\"/>\n",
       "      </defs>\n",
       "      <g>\n",
       "       <use xlink:href=\"#m8916296ee9\" x=\"56.50625\" y=\"303.39841\" style=\"stroke: #000000; stroke-width: 0.8\"/>\n",
       "      </g>\n",
       "     </g>\n",
       "     <g id=\"text_9\">\n",
       "      <!-- 0.000 -->\n",
       "      <g transform=\"translate(20.878125 307.197629) scale(0.1 -0.1)\">\n",
       "       <defs>\n",
       "        <path id=\"DejaVuSans-2e\" d=\"M 684 794 \n",
       "L 1344 794 \n",
       "L 1344 0 \n",
       "L 684 0 \n",
       "L 684 794 \n",
       "z\n",
       "\" transform=\"scale(0.015625)\"/>\n",
       "       </defs>\n",
       "       <use xlink:href=\"#DejaVuSans-30\"/>\n",
       "       <use xlink:href=\"#DejaVuSans-2e\" x=\"63.623047\"/>\n",
       "       <use xlink:href=\"#DejaVuSans-30\" x=\"95.410156\"/>\n",
       "       <use xlink:href=\"#DejaVuSans-30\" x=\"159.033203\"/>\n",
       "       <use xlink:href=\"#DejaVuSans-30\" x=\"222.65625\"/>\n",
       "      </g>\n",
       "     </g>\n",
       "    </g>\n",
       "    <g id=\"ytick_2\">\n",
       "     <g id=\"line2d_9\">\n",
       "      <g>\n",
       "       <use xlink:href=\"#m8916296ee9\" x=\"56.50625\" y=\"266.848511\" style=\"stroke: #000000; stroke-width: 0.8\"/>\n",
       "      </g>\n",
       "     </g>\n",
       "     <g id=\"text_10\">\n",
       "      <!-- 0.025 -->\n",
       "      <g transform=\"translate(20.878125 270.64773) scale(0.1 -0.1)\">\n",
       "       <use xlink:href=\"#DejaVuSans-30\"/>\n",
       "       <use xlink:href=\"#DejaVuSans-2e\" x=\"63.623047\"/>\n",
       "       <use xlink:href=\"#DejaVuSans-30\" x=\"95.410156\"/>\n",
       "       <use xlink:href=\"#DejaVuSans-32\" x=\"159.033203\"/>\n",
       "       <use xlink:href=\"#DejaVuSans-35\" x=\"222.65625\"/>\n",
       "      </g>\n",
       "     </g>\n",
       "    </g>\n",
       "    <g id=\"ytick_3\">\n",
       "     <g id=\"line2d_10\">\n",
       "      <g>\n",
       "       <use xlink:href=\"#m8916296ee9\" x=\"56.50625\" y=\"230.298613\" style=\"stroke: #000000; stroke-width: 0.8\"/>\n",
       "      </g>\n",
       "     </g>\n",
       "     <g id=\"text_11\">\n",
       "      <!-- 0.050 -->\n",
       "      <g transform=\"translate(20.878125 234.097831) scale(0.1 -0.1)\">\n",
       "       <use xlink:href=\"#DejaVuSans-30\"/>\n",
       "       <use xlink:href=\"#DejaVuSans-2e\" x=\"63.623047\"/>\n",
       "       <use xlink:href=\"#DejaVuSans-30\" x=\"95.410156\"/>\n",
       "       <use xlink:href=\"#DejaVuSans-35\" x=\"159.033203\"/>\n",
       "       <use xlink:href=\"#DejaVuSans-30\" x=\"222.65625\"/>\n",
       "      </g>\n",
       "     </g>\n",
       "    </g>\n",
       "    <g id=\"ytick_4\">\n",
       "     <g id=\"line2d_11\">\n",
       "      <g>\n",
       "       <use xlink:href=\"#m8916296ee9\" x=\"56.50625\" y=\"193.748714\" style=\"stroke: #000000; stroke-width: 0.8\"/>\n",
       "      </g>\n",
       "     </g>\n",
       "     <g id=\"text_12\">\n",
       "      <!-- 0.075 -->\n",
       "      <g transform=\"translate(20.878125 197.547932) scale(0.1 -0.1)\">\n",
       "       <defs>\n",
       "        <path id=\"DejaVuSans-37\" d=\"M 525 4666 \n",
       "L 3525 4666 \n",
       "L 3525 4397 \n",
       "L 1831 0 \n",
       "L 1172 0 \n",
       "L 2766 4134 \n",
       "L 525 4134 \n",
       "L 525 4666 \n",
       "z\n",
       "\" transform=\"scale(0.015625)\"/>\n",
       "       </defs>\n",
       "       <use xlink:href=\"#DejaVuSans-30\"/>\n",
       "       <use xlink:href=\"#DejaVuSans-2e\" x=\"63.623047\"/>\n",
       "       <use xlink:href=\"#DejaVuSans-30\" x=\"95.410156\"/>\n",
       "       <use xlink:href=\"#DejaVuSans-37\" x=\"159.033203\"/>\n",
       "       <use xlink:href=\"#DejaVuSans-35\" x=\"222.65625\"/>\n",
       "      </g>\n",
       "     </g>\n",
       "    </g>\n",
       "    <g id=\"ytick_5\">\n",
       "     <g id=\"line2d_12\">\n",
       "      <g>\n",
       "       <use xlink:href=\"#m8916296ee9\" x=\"56.50625\" y=\"157.198815\" style=\"stroke: #000000; stroke-width: 0.8\"/>\n",
       "      </g>\n",
       "     </g>\n",
       "     <g id=\"text_13\">\n",
       "      <!-- 0.100 -->\n",
       "      <g transform=\"translate(20.878125 160.998033) scale(0.1 -0.1)\">\n",
       "       <use xlink:href=\"#DejaVuSans-30\"/>\n",
       "       <use xlink:href=\"#DejaVuSans-2e\" x=\"63.623047\"/>\n",
       "       <use xlink:href=\"#DejaVuSans-31\" x=\"95.410156\"/>\n",
       "       <use xlink:href=\"#DejaVuSans-30\" x=\"159.033203\"/>\n",
       "       <use xlink:href=\"#DejaVuSans-30\" x=\"222.65625\"/>\n",
       "      </g>\n",
       "     </g>\n",
       "    </g>\n",
       "    <g id=\"ytick_6\">\n",
       "     <g id=\"line2d_13\">\n",
       "      <g>\n",
       "       <use xlink:href=\"#m8916296ee9\" x=\"56.50625\" y=\"120.648916\" style=\"stroke: #000000; stroke-width: 0.8\"/>\n",
       "      </g>\n",
       "     </g>\n",
       "     <g id=\"text_14\">\n",
       "      <!-- 0.125 -->\n",
       "      <g transform=\"translate(20.878125 124.448134) scale(0.1 -0.1)\">\n",
       "       <use xlink:href=\"#DejaVuSans-30\"/>\n",
       "       <use xlink:href=\"#DejaVuSans-2e\" x=\"63.623047\"/>\n",
       "       <use xlink:href=\"#DejaVuSans-31\" x=\"95.410156\"/>\n",
       "       <use xlink:href=\"#DejaVuSans-32\" x=\"159.033203\"/>\n",
       "       <use xlink:href=\"#DejaVuSans-35\" x=\"222.65625\"/>\n",
       "      </g>\n",
       "     </g>\n",
       "    </g>\n",
       "    <g id=\"ytick_7\">\n",
       "     <g id=\"line2d_14\">\n",
       "      <g>\n",
       "       <use xlink:href=\"#m8916296ee9\" x=\"56.50625\" y=\"84.099017\" style=\"stroke: #000000; stroke-width: 0.8\"/>\n",
       "      </g>\n",
       "     </g>\n",
       "     <g id=\"text_15\">\n",
       "      <!-- 0.150 -->\n",
       "      <g transform=\"translate(20.878125 87.898235) scale(0.1 -0.1)\">\n",
       "       <use xlink:href=\"#DejaVuSans-30\"/>\n",
       "       <use xlink:href=\"#DejaVuSans-2e\" x=\"63.623047\"/>\n",
       "       <use xlink:href=\"#DejaVuSans-31\" x=\"95.410156\"/>\n",
       "       <use xlink:href=\"#DejaVuSans-35\" x=\"159.033203\"/>\n",
       "       <use xlink:href=\"#DejaVuSans-30\" x=\"222.65625\"/>\n",
       "      </g>\n",
       "     </g>\n",
       "    </g>\n",
       "    <g id=\"ytick_8\">\n",
       "     <g id=\"line2d_15\">\n",
       "      <g>\n",
       "       <use xlink:href=\"#m8916296ee9\" x=\"56.50625\" y=\"47.549118\" style=\"stroke: #000000; stroke-width: 0.8\"/>\n",
       "      </g>\n",
       "     </g>\n",
       "     <g id=\"text_16\">\n",
       "      <!-- 0.175 -->\n",
       "      <g transform=\"translate(20.878125 51.348336) scale(0.1 -0.1)\">\n",
       "       <use xlink:href=\"#DejaVuSans-30\"/>\n",
       "       <use xlink:href=\"#DejaVuSans-2e\" x=\"63.623047\"/>\n",
       "       <use xlink:href=\"#DejaVuSans-31\" x=\"95.410156\"/>\n",
       "       <use xlink:href=\"#DejaVuSans-37\" x=\"159.033203\"/>\n",
       "       <use xlink:href=\"#DejaVuSans-35\" x=\"222.65625\"/>\n",
       "      </g>\n",
       "     </g>\n",
       "    </g>\n",
       "    <g id=\"ytick_9\">\n",
       "     <g id=\"line2d_16\">\n",
       "      <g>\n",
       "       <use xlink:href=\"#m8916296ee9\" x=\"56.50625\" y=\"10.999219\" style=\"stroke: #000000; stroke-width: 0.8\"/>\n",
       "      </g>\n",
       "     </g>\n",
       "     <g id=\"text_17\">\n",
       "      <!-- 0.200 -->\n",
       "      <g transform=\"translate(20.878125 14.798437) scale(0.1 -0.1)\">\n",
       "       <use xlink:href=\"#DejaVuSans-30\"/>\n",
       "       <use xlink:href=\"#DejaVuSans-2e\" x=\"63.623047\"/>\n",
       "       <use xlink:href=\"#DejaVuSans-32\" x=\"95.410156\"/>\n",
       "       <use xlink:href=\"#DejaVuSans-30\" x=\"159.033203\"/>\n",
       "       <use xlink:href=\"#DejaVuSans-30\" x=\"222.65625\"/>\n",
       "      </g>\n",
       "     </g>\n",
       "    </g>\n",
       "    <g id=\"text_18\">\n",
       "     <!-- MSE Loss -->\n",
       "     <g transform=\"translate(14.798438 186.525526) rotate(-90) scale(0.1 -0.1)\">\n",
       "      <defs>\n",
       "       <path id=\"DejaVuSans-4d\" d=\"M 628 4666 \n",
       "L 1569 4666 \n",
       "L 2759 1491 \n",
       "L 3956 4666 \n",
       "L 4897 4666 \n",
       "L 4897 0 \n",
       "L 4281 0 \n",
       "L 4281 4097 \n",
       "L 3078 897 \n",
       "L 2444 897 \n",
       "L 1241 4097 \n",
       "L 1241 0 \n",
       "L 628 0 \n",
       "L 628 4666 \n",
       "z\n",
       "\" transform=\"scale(0.015625)\"/>\n",
       "       <path id=\"DejaVuSans-45\" d=\"M 628 4666 \n",
       "L 3578 4666 \n",
       "L 3578 4134 \n",
       "L 1259 4134 \n",
       "L 1259 2753 \n",
       "L 3481 2753 \n",
       "L 3481 2222 \n",
       "L 1259 2222 \n",
       "L 1259 531 \n",
       "L 3634 531 \n",
       "L 3634 0 \n",
       "L 628 0 \n",
       "L 628 4666 \n",
       "z\n",
       "\" transform=\"scale(0.015625)\"/>\n",
       "       <path id=\"DejaVuSans-4c\" d=\"M 628 4666 \n",
       "L 1259 4666 \n",
       "L 1259 531 \n",
       "L 3531 531 \n",
       "L 3531 0 \n",
       "L 628 0 \n",
       "L 628 4666 \n",
       "z\n",
       "\" transform=\"scale(0.015625)\"/>\n",
       "       <path id=\"DejaVuSans-6f\" d=\"M 1959 3097 \n",
       "Q 1497 3097 1228 2736 \n",
       "Q 959 2375 959 1747 \n",
       "Q 959 1119 1226 758 \n",
       "Q 1494 397 1959 397 \n",
       "Q 2419 397 2687 759 \n",
       "Q 2956 1122 2956 1747 \n",
       "Q 2956 2369 2687 2733 \n",
       "Q 2419 3097 1959 3097 \n",
       "z\n",
       "M 1959 3584 \n",
       "Q 2709 3584 3137 3096 \n",
       "Q 3566 2609 3566 1747 \n",
       "Q 3566 888 3137 398 \n",
       "Q 2709 -91 1959 -91 \n",
       "Q 1206 -91 779 398 \n",
       "Q 353 888 353 1747 \n",
       "Q 353 2609 779 3096 \n",
       "Q 1206 3584 1959 3584 \n",
       "z\n",
       "\" transform=\"scale(0.015625)\"/>\n",
       "       <path id=\"DejaVuSans-73\" d=\"M 2834 3397 \n",
       "L 2834 2853 \n",
       "Q 2591 2978 2328 3040 \n",
       "Q 2066 3103 1784 3103 \n",
       "Q 1356 3103 1142 2972 \n",
       "Q 928 2841 928 2578 \n",
       "Q 928 2378 1081 2264 \n",
       "Q 1234 2150 1697 2047 \n",
       "L 1894 2003 \n",
       "Q 2506 1872 2764 1633 \n",
       "Q 3022 1394 3022 966 \n",
       "Q 3022 478 2636 193 \n",
       "Q 2250 -91 1575 -91 \n",
       "Q 1294 -91 989 -36 \n",
       "Q 684 19 347 128 \n",
       "L 347 722 \n",
       "Q 666 556 975 473 \n",
       "Q 1284 391 1588 391 \n",
       "Q 1994 391 2212 530 \n",
       "Q 2431 669 2431 922 \n",
       "Q 2431 1156 2273 1281 \n",
       "Q 2116 1406 1581 1522 \n",
       "L 1381 1569 \n",
       "Q 847 1681 609 1914 \n",
       "Q 372 2147 372 2553 \n",
       "Q 372 3047 722 3315 \n",
       "Q 1072 3584 1716 3584 \n",
       "Q 2034 3584 2315 3537 \n",
       "Q 2597 3491 2834 3397 \n",
       "z\n",
       "\" transform=\"scale(0.015625)\"/>\n",
       "      </defs>\n",
       "      <use xlink:href=\"#DejaVuSans-4d\"/>\n",
       "      <use xlink:href=\"#DejaVuSans-53\" x=\"86.279297\"/>\n",
       "      <use xlink:href=\"#DejaVuSans-45\" x=\"149.755859\"/>\n",
       "      <use xlink:href=\"#DejaVuSans-20\" x=\"212.939453\"/>\n",
       "      <use xlink:href=\"#DejaVuSans-4c\" x=\"244.726562\"/>\n",
       "      <use xlink:href=\"#DejaVuSans-6f\" x=\"298.689453\"/>\n",
       "      <use xlink:href=\"#DejaVuSans-73\" x=\"359.871094\"/>\n",
       "      <use xlink:href=\"#DejaVuSans-73\" x=\"411.970703\"/>\n",
       "     </g>\n",
       "    </g>\n",
       "   </g>\n",
       "   <g id=\"line2d_17\">\n",
       "    <path d=\"M 74.937762 24.120126 \n",
       "L 76.170639 51.889653 \n",
       "L 77.403516 74.950911 \n",
       "L 79.869271 114.632148 \n",
       "L 82.335025 146.523011 \n",
       "L 84.800779 172.931351 \n",
       "L 86.033656 184.58704 \n",
       "L 87.266533 192.34845 \n",
       "L 89.732287 209.834575 \n",
       "L 90.965164 216.623849 \n",
       "L 92.198041 224.157062 \n",
       "L 94.663795 234.483185 \n",
       "L 95.896673 236.855859 \n",
       "L 97.12955 241.46611 \n",
       "L 98.362427 243.513053 \n",
       "L 99.595304 244.783449 \n",
       "L 100.828181 246.810895 \n",
       "L 102.061058 249.252688 \n",
       "L 103.293935 251.42791 \n",
       "L 104.526812 252.642312 \n",
       "L 105.759689 253.481127 \n",
       "L 106.992566 253.237305 \n",
       "L 108.225443 255.068425 \n",
       "L 109.45832 257.394511 \n",
       "L 110.691197 257.278296 \n",
       "L 111.924075 260.153315 \n",
       "L 113.156952 261.479503 \n",
       "L 114.389829 261.539174 \n",
       "L 115.622706 262.70085 \n",
       "L 116.855583 262.343261 \n",
       "L 118.08846 262.461433 \n",
       "L 119.321337 264.340171 \n",
       "L 120.554214 265.0445 \n",
       "L 121.787091 266.012201 \n",
       "L 125.485722 267.727959 \n",
       "L 126.718599 267.307467 \n",
       "L 127.951477 268.589835 \n",
       "L 129.184354 268.746281 \n",
       "L 130.417231 269.907195 \n",
       "L 131.650108 269.901364 \n",
       "L 132.882985 270.410724 \n",
       "L 134.115862 272.208001 \n",
       "L 135.348739 272.132081 \n",
       "L 136.581616 273.167976 \n",
       "L 137.814493 273.366959 \n",
       "L 139.04737 275.009968 \n",
       "L 140.280247 274.45668 \n",
       "L 141.513124 275.212017 \n",
       "L 142.746001 275.594544 \n",
       "L 143.978878 276.178269 \n",
       "L 145.211756 277.17754 \n",
       "L 146.444633 276.683626 \n",
       "L 147.67751 277.519094 \n",
       "L 148.910387 278.127469 \n",
       "L 150.143264 279.019027 \n",
       "L 152.609018 279.596842 \n",
       "L 153.841895 280.827096 \n",
       "L 155.074772 281.086275 \n",
       "L 156.307649 282.033342 \n",
       "L 157.540526 282.545136 \n",
       "L 158.773403 282.685722 \n",
       "L 160.00628 282.981265 \n",
       "L 161.239158 283.877463 \n",
       "L 162.472035 284.097191 \n",
       "L 163.704912 284.614368 \n",
       "L 164.937789 285.315484 \n",
       "L 166.170666 286.233325 \n",
       "L 167.403543 286.469101 \n",
       "L 168.63642 287.320932 \n",
       "L 169.869297 287.556462 \n",
       "L 171.102174 288.076411 \n",
       "L 172.335051 288.790085 \n",
       "L 173.567928 289.357767 \n",
       "L 176.033682 289.673624 \n",
       "L 178.499437 292.208847 \n",
       "L 179.732314 292.378706 \n",
       "L 180.965191 293.172593 \n",
       "L 183.430945 293.61263 \n",
       "L 184.663822 294.29848 \n",
       "L 185.896699 294.256324 \n",
       "L 188.362453 295.174014 \n",
       "L 189.59533 295.286047 \n",
       "L 190.828207 295.837808 \n",
       "L 194.526839 296.443481 \n",
       "L 196.992593 297.14145 \n",
       "L 198.22547 297.268808 \n",
       "L 199.458347 297.656725 \n",
       "L 200.691224 297.784041 \n",
       "L 201.924101 298.272259 \n",
       "L 203.156978 298.207513 \n",
       "L 204.389855 298.760894 \n",
       "L 205.622732 298.692694 \n",
       "L 208.088486 299.082232 \n",
       "L 209.321363 299.439729 \n",
       "L 210.554241 299.310892 \n",
       "L 211.787118 299.628375 \n",
       "L 214.252872 299.844023 \n",
       "L 215.485749 299.824101 \n",
       "L 217.951503 300.134574 \n",
       "L 219.18438 300.030676 \n",
       "L 220.417257 300.272662 \n",
       "L 221.650134 300.246601 \n",
       "L 222.883011 300.476052 \n",
       "L 224.115888 300.232898 \n",
       "L 226.581643 300.588875 \n",
       "L 227.81452 300.381453 \n",
       "L 229.047397 300.640964 \n",
       "L 230.280274 300.584972 \n",
       "L 231.513151 300.73562 \n",
       "L 232.746028 300.493366 \n",
       "L 233.978905 300.836006 \n",
       "L 235.211782 300.84838 \n",
       "L 236.444659 301.022027 \n",
       "L 237.677536 300.907048 \n",
       "L 238.910413 301.066506 \n",
       "L 240.14329 300.742301 \n",
       "L 241.376167 301.089769 \n",
       "L 243.841922 301.250316 \n",
       "L 245.074799 300.925664 \n",
       "L 246.307676 301.290524 \n",
       "L 247.540553 301.187355 \n",
       "L 248.77343 301.266448 \n",
       "L 250.006307 301.199268 \n",
       "L 251.239184 301.42854 \n",
       "L 252.472061 301.222661 \n",
       "L 253.704938 301.372795 \n",
       "L 254.937815 301.294831 \n",
       "L 256.170692 301.463329 \n",
       "L 258.636446 301.418038 \n",
       "L 262.335078 301.607838 \n",
       "L 263.567955 301.329452 \n",
       "L 264.800832 301.669269 \n",
       "L 266.033709 301.503424 \n",
       "L 267.266586 301.655106 \n",
       "L 268.499463 301.583546 \n",
       "L 270.965217 301.744724 \n",
       "L 273.430971 301.620941 \n",
       "L 274.663848 301.783639 \n",
       "L 280.828234 301.611898 \n",
       "L 282.061111 301.851215 \n",
       "L 283.293988 301.363027 \n",
       "L 284.526865 301.885152 \n",
       "L 285.759742 301.664617 \n",
       "L 286.992619 301.886923 \n",
       "L 288.225496 301.670488 \n",
       "L 289.458373 301.898387 \n",
       "L 290.69125 301.716243 \n",
       "L 291.924127 301.957042 \n",
       "L 293.157005 301.50776 \n",
       "L 294.389882 302.014803 \n",
       "L 295.622759 301.279259 \n",
       "L 296.855636 302.006859 \n",
       "L 298.088513 301.869911 \n",
       "L 299.32139 302.033597 \n",
       "L 300.554267 301.60387 \n",
       "L 301.787144 302.080507 \n",
       "L 303.020021 301.63998 \n",
       "L 304.252898 302.072638 \n",
       "L 305.485775 301.630187 \n",
       "L 306.718652 302.00271 \n",
       "L 307.951529 301.794992 \n",
       "L 309.184407 301.978179 \n",
       "L 314.115915 301.88403 \n",
       "L 315.348792 302.030633 \n",
       "L 316.581669 301.900456 \n",
       "L 317.814546 302.088835 \n",
       "L 319.047423 302.143055 \n",
       "L 320.2803 301.965183 \n",
       "L 321.513177 302.142881 \n",
       "L 322.746054 301.853039 \n",
       "L 323.978931 302.132407 \n",
       "L 325.211809 301.978467 \n",
       "L 326.444686 302.098783 \n",
       "L 330.143317 302.012994 \n",
       "L 331.376194 302.121244 \n",
       "L 332.609071 301.916087 \n",
       "L 333.841948 302.158924 \n",
       "L 335.074825 301.96155 \n",
       "L 336.307702 302.192258 \n",
       "L 337.540579 301.789077 \n",
       "L 338.773456 302.19401 \n",
       "L 340.006333 301.951122 \n",
       "L 341.23921 302.172964 \n",
       "L 342.472088 301.950214 \n",
       "L 343.704965 302.21841 \n",
       "L 348.636473 301.976551 \n",
       "L 349.86935 302.294052 \n",
       "L 351.102227 302.081738 \n",
       "L 352.335104 302.01091 \n",
       "L 353.567981 302.283622 \n",
       "L 354.800858 302.082737 \n",
       "L 357.266612 302.228924 \n",
       "L 358.49949 301.936976 \n",
       "L 359.732367 302.268193 \n",
       "L 360.965244 302.310834 \n",
       "L 362.198121 302.239245 \n",
       "L 363.430998 302.04102 \n",
       "L 365.896752 302.24625 \n",
       "L 370.82826 302.143545 \n",
       "L 372.061137 302.3066 \n",
       "L 373.294014 302.032284 \n",
       "L 374.526892 302.246303 \n",
       "L 375.759769 301.990764 \n",
       "L 376.992646 302.279125 \n",
       "L 379.4584 302.279991 \n",
       "L 380.691277 302.13037 \n",
       "L 381.924154 302.366074 \n",
       "L 383.157031 302.3017 \n",
       "L 384.389908 302.124039 \n",
       "L 386.855662 302.298491 \n",
       "L 388.088539 302.085019 \n",
       "L 389.321416 302.32118 \n",
       "L 391.787171 302.177779 \n",
       "L 393.020048 302.28214 \n",
       "L 394.252925 302.153131 \n",
       "L 395.485802 302.297525 \n",
       "L 396.718679 302.248146 \n",
       "L 397.951556 302.353011 \n",
       "L 399.184433 302.265884 \n",
       "L 400.41731 302.327102 \n",
       "L 401.650187 302.210193 \n",
       "L 402.883064 302.403708 \n",
       "L 404.115941 302.302082 \n",
       "L 406.581695 302.367511 \n",
       "L 409.04745 302.334138 \n",
       "L 430.00636 302.431563 \n",
       "L 431.239237 302.502521 \n",
       "L 432.472114 302.365151 \n",
       "L 438.636499 302.523114 \n",
       "L 439.869377 302.378151 \n",
       "L 443.568008 302.499048 \n",
       "L 443.568008 302.499048 \n",
       "\" clip-path=\"url(#p6575207aa6)\" style=\"fill: none; stroke: #d62728; stroke-width: 1.5; stroke-linecap: square\"/>\n",
       "   </g>\n",
       "   <g id=\"patch_3\">\n",
       "    <path d=\"M 56.50625 316.443263 \n",
       "L 56.50625 10.199976 \n",
       "\" style=\"fill: none; stroke: #000000; stroke-width: 0.8; stroke-linejoin: miter; stroke-linecap: square\"/>\n",
       "   </g>\n",
       "   <g id=\"patch_4\">\n",
       "    <path d=\"M 461.99952 316.443263 \n",
       "L 461.99952 10.199976 \n",
       "\" style=\"fill: none; stroke: #000000; stroke-width: 0.8; stroke-linejoin: miter; stroke-linecap: square\"/>\n",
       "   </g>\n",
       "   <g id=\"patch_5\">\n",
       "    <path d=\"M 56.50625 316.443263 \n",
       "L 461.99952 316.443263 \n",
       "\" style=\"fill: none; stroke: #000000; stroke-width: 0.8; stroke-linejoin: miter; stroke-linecap: square\"/>\n",
       "   </g>\n",
       "   <g id=\"patch_6\">\n",
       "    <path d=\"M 56.50625 10.199976 \n",
       "L 461.99952 10.199976 \n",
       "\" style=\"fill: none; stroke: #000000; stroke-width: 0.8; stroke-linejoin: miter; stroke-linecap: square\"/>\n",
       "   </g>\n",
       "  </g>\n",
       " </g>\n",
       " <defs>\n",
       "  <clipPath id=\"p6575207aa6\">\n",
       "   <rect x=\"56.50625\" y=\"10.199976\" width=\"405.49327\" height=\"306.243287\"/>\n",
       "  </clipPath>\n",
       " </defs>\n",
       "</svg>\n"
      ],
      "text/plain": [
       "<Figure size 640x480 with 1 Axes>"
      ]
     },
     "metadata": {},
     "output_type": "display_data"
    }
   ],
   "source": [
    "fig, ax = plt.subplots(1, 1, layout=\"constrained\")\n",
    "color = 'tab:red'\n",
    "ax.set_xlabel('Update Step')\n",
    "ax.set_ylabel('MSE Loss')\n",
    "ax.plot(loss_history, color=color, label='Loss')"
   ]
  },
  {
   "cell_type": "markdown",
   "id": "bd203bca",
   "metadata": {},
   "source": [
    "### RDF"
   ]
  },
  {
   "cell_type": "code",
   "execution_count": 16,
   "id": "b17e0fa2",
   "metadata": {
    "execution": {
     "iopub.execute_input": "2024-06-13T03:29:17.351195Z",
     "iopub.status.busy": "2024-06-13T03:29:17.350600Z",
     "iopub.status.idle": "2024-06-13T03:29:18.112706Z",
     "shell.execute_reply": "2024-06-13T03:29:18.112237Z"
    },
    "tags": [
     "hide-input"
    ]
   },
   "outputs": [
    {
     "data": {
      "text/plain": [
       "<matplotlib.legend.Legend at 0x7fb227e1c7f0>"
      ]
     },
     "execution_count": 16,
     "metadata": {},
     "output_type": "execute_result"
    },
    {
     "data": {
      "image/svg+xml": [
       "<?xml version=\"1.0\" encoding=\"utf-8\" standalone=\"no\"?>\n",
       "<!DOCTYPE svg PUBLIC \"-//W3C//DTD SVG 1.1//EN\"\n",
       "  \"http://www.w3.org/Graphics/SVG/1.1/DTD/svg11.dtd\">\n",
       "<svg xmlns:xlink=\"http://www.w3.org/1999/xlink\" width=\"469.19952pt\" height=\"353.99952pt\" viewBox=\"0 0 469.19952 353.99952\" xmlns=\"http://www.w3.org/2000/svg\" version=\"1.1\">\n",
       " <metadata>\n",
       "  <rdf:RDF xmlns:dc=\"http://purl.org/dc/elements/1.1/\" xmlns:cc=\"http://creativecommons.org/ns#\" xmlns:rdf=\"http://www.w3.org/1999/02/22-rdf-syntax-ns#\">\n",
       "   <cc:Work>\n",
       "    <dc:type rdf:resource=\"http://purl.org/dc/dcmitype/StillImage\"/>\n",
       "    <dc:date>2024-06-13T05:29:18.085512</dc:date>\n",
       "    <dc:format>image/svg+xml</dc:format>\n",
       "    <dc:creator>\n",
       "     <cc:Agent>\n",
       "      <dc:title>Matplotlib v3.8.0, https://matplotlib.org/</dc:title>\n",
       "     </cc:Agent>\n",
       "    </dc:creator>\n",
       "   </cc:Work>\n",
       "  </rdf:RDF>\n",
       " </metadata>\n",
       " <defs>\n",
       "  <style type=\"text/css\">*{stroke-linejoin: round; stroke-linecap: butt}</style>\n",
       " </defs>\n",
       " <g id=\"figure_1\">\n",
       "  <g id=\"patch_1\">\n",
       "   <path d=\"M 0 353.99952 \n",
       "L 469.19952 353.99952 \n",
       "L 469.19952 0 \n",
       "L 0 0 \n",
       "z\n",
       "\" style=\"fill: #ffffff\"/>\n",
       "  </g>\n",
       "  <g id=\"axes_1\">\n",
       "   <g id=\"patch_2\">\n",
       "    <path d=\"M 43.78125 316.44327 \n",
       "L 461.99952 316.44327 \n",
       "L 461.99952 7.2 \n",
       "L 43.78125 7.2 \n",
       "z\n",
       "\" style=\"fill: #ffffff\"/>\n",
       "   </g>\n",
       "   <g id=\"matplotlib.axis_1\">\n",
       "    <g id=\"xtick_1\">\n",
       "     <g id=\"line2d_1\">\n",
       "      <defs>\n",
       "       <path id=\"m5369ecfc51\" d=\"M 0 0 \n",
       "L 0 3.5 \n",
       "\" style=\"stroke: #000000; stroke-width: 0.8\"/>\n",
       "      </defs>\n",
       "      <g>\n",
       "       <use xlink:href=\"#m5369ecfc51\" x=\"62.791171\" y=\"316.44327\" style=\"stroke: #000000; stroke-width: 0.8\"/>\n",
       "      </g>\n",
       "     </g>\n",
       "     <g id=\"text_1\">\n",
       "      <!-- 0.0 -->\n",
       "      <g transform=\"translate(54.839609 331.041707) scale(0.1 -0.1)\">\n",
       "       <defs>\n",
       "        <path id=\"DejaVuSans-30\" d=\"M 2034 4250 \n",
       "Q 1547 4250 1301 3770 \n",
       "Q 1056 3291 1056 2328 \n",
       "Q 1056 1369 1301 889 \n",
       "Q 1547 409 2034 409 \n",
       "Q 2525 409 2770 889 \n",
       "Q 3016 1369 3016 2328 \n",
       "Q 3016 3291 2770 3770 \n",
       "Q 2525 4250 2034 4250 \n",
       "z\n",
       "M 2034 4750 \n",
       "Q 2819 4750 3233 4129 \n",
       "Q 3647 3509 3647 2328 \n",
       "Q 3647 1150 3233 529 \n",
       "Q 2819 -91 2034 -91 \n",
       "Q 1250 -91 836 529 \n",
       "Q 422 1150 422 2328 \n",
       "Q 422 3509 836 4129 \n",
       "Q 1250 4750 2034 4750 \n",
       "z\n",
       "\" transform=\"scale(0.015625)\"/>\n",
       "        <path id=\"DejaVuSans-2e\" d=\"M 684 794 \n",
       "L 1344 794 \n",
       "L 1344 0 \n",
       "L 684 0 \n",
       "L 684 794 \n",
       "z\n",
       "\" transform=\"scale(0.015625)\"/>\n",
       "       </defs>\n",
       "       <use xlink:href=\"#DejaVuSans-30\"/>\n",
       "       <use xlink:href=\"#DejaVuSans-2e\" x=\"63.623047\"/>\n",
       "       <use xlink:href=\"#DejaVuSans-30\" x=\"95.410156\"/>\n",
       "      </g>\n",
       "     </g>\n",
       "    </g>\n",
       "    <g id=\"xtick_2\">\n",
       "     <g id=\"line2d_2\">\n",
       "      <g>\n",
       "       <use xlink:href=\"#m5369ecfc51\" x=\"138.830857\" y=\"316.44327\" style=\"stroke: #000000; stroke-width: 0.8\"/>\n",
       "      </g>\n",
       "     </g>\n",
       "     <g id=\"text_2\">\n",
       "      <!-- 0.2 -->\n",
       "      <g transform=\"translate(130.879294 331.041707) scale(0.1 -0.1)\">\n",
       "       <defs>\n",
       "        <path id=\"DejaVuSans-32\" d=\"M 1228 531 \n",
       "L 3431 531 \n",
       "L 3431 0 \n",
       "L 469 0 \n",
       "L 469 531 \n",
       "Q 828 903 1448 1529 \n",
       "Q 2069 2156 2228 2338 \n",
       "Q 2531 2678 2651 2914 \n",
       "Q 2772 3150 2772 3378 \n",
       "Q 2772 3750 2511 3984 \n",
       "Q 2250 4219 1831 4219 \n",
       "Q 1534 4219 1204 4116 \n",
       "Q 875 4013 500 3803 \n",
       "L 500 4441 \n",
       "Q 881 4594 1212 4672 \n",
       "Q 1544 4750 1819 4750 \n",
       "Q 2544 4750 2975 4387 \n",
       "Q 3406 4025 3406 3419 \n",
       "Q 3406 3131 3298 2873 \n",
       "Q 3191 2616 2906 2266 \n",
       "Q 2828 2175 2409 1742 \n",
       "Q 1991 1309 1228 531 \n",
       "z\n",
       "\" transform=\"scale(0.015625)\"/>\n",
       "       </defs>\n",
       "       <use xlink:href=\"#DejaVuSans-30\"/>\n",
       "       <use xlink:href=\"#DejaVuSans-2e\" x=\"63.623047\"/>\n",
       "       <use xlink:href=\"#DejaVuSans-32\" x=\"95.410156\"/>\n",
       "      </g>\n",
       "     </g>\n",
       "    </g>\n",
       "    <g id=\"xtick_3\">\n",
       "     <g id=\"line2d_3\">\n",
       "      <g>\n",
       "       <use xlink:href=\"#m5369ecfc51\" x=\"214.870542\" y=\"316.44327\" style=\"stroke: #000000; stroke-width: 0.8\"/>\n",
       "      </g>\n",
       "     </g>\n",
       "     <g id=\"text_3\">\n",
       "      <!-- 0.4 -->\n",
       "      <g transform=\"translate(206.91898 331.041707) scale(0.1 -0.1)\">\n",
       "       <defs>\n",
       "        <path id=\"DejaVuSans-34\" d=\"M 2419 4116 \n",
       "L 825 1625 \n",
       "L 2419 1625 \n",
       "L 2419 4116 \n",
       "z\n",
       "M 2253 4666 \n",
       "L 3047 4666 \n",
       "L 3047 1625 \n",
       "L 3713 1625 \n",
       "L 3713 1100 \n",
       "L 3047 1100 \n",
       "L 3047 0 \n",
       "L 2419 0 \n",
       "L 2419 1100 \n",
       "L 313 1100 \n",
       "L 313 1709 \n",
       "L 2253 4666 \n",
       "z\n",
       "\" transform=\"scale(0.015625)\"/>\n",
       "       </defs>\n",
       "       <use xlink:href=\"#DejaVuSans-30\"/>\n",
       "       <use xlink:href=\"#DejaVuSans-2e\" x=\"63.623047\"/>\n",
       "       <use xlink:href=\"#DejaVuSans-34\" x=\"95.410156\"/>\n",
       "      </g>\n",
       "     </g>\n",
       "    </g>\n",
       "    <g id=\"xtick_4\">\n",
       "     <g id=\"line2d_4\">\n",
       "      <g>\n",
       "       <use xlink:href=\"#m5369ecfc51\" x=\"290.910228\" y=\"316.44327\" style=\"stroke: #000000; stroke-width: 0.8\"/>\n",
       "      </g>\n",
       "     </g>\n",
       "     <g id=\"text_4\">\n",
       "      <!-- 0.6 -->\n",
       "      <g transform=\"translate(282.958665 331.041707) scale(0.1 -0.1)\">\n",
       "       <defs>\n",
       "        <path id=\"DejaVuSans-36\" d=\"M 2113 2584 \n",
       "Q 1688 2584 1439 2293 \n",
       "Q 1191 2003 1191 1497 \n",
       "Q 1191 994 1439 701 \n",
       "Q 1688 409 2113 409 \n",
       "Q 2538 409 2786 701 \n",
       "Q 3034 994 3034 1497 \n",
       "Q 3034 2003 2786 2293 \n",
       "Q 2538 2584 2113 2584 \n",
       "z\n",
       "M 3366 4563 \n",
       "L 3366 3988 \n",
       "Q 3128 4100 2886 4159 \n",
       "Q 2644 4219 2406 4219 \n",
       "Q 1781 4219 1451 3797 \n",
       "Q 1122 3375 1075 2522 \n",
       "Q 1259 2794 1537 2939 \n",
       "Q 1816 3084 2150 3084 \n",
       "Q 2853 3084 3261 2657 \n",
       "Q 3669 2231 3669 1497 \n",
       "Q 3669 778 3244 343 \n",
       "Q 2819 -91 2113 -91 \n",
       "Q 1303 -91 875 529 \n",
       "Q 447 1150 447 2328 \n",
       "Q 447 3434 972 4092 \n",
       "Q 1497 4750 2381 4750 \n",
       "Q 2619 4750 2861 4703 \n",
       "Q 3103 4656 3366 4563 \n",
       "z\n",
       "\" transform=\"scale(0.015625)\"/>\n",
       "       </defs>\n",
       "       <use xlink:href=\"#DejaVuSans-30\"/>\n",
       "       <use xlink:href=\"#DejaVuSans-2e\" x=\"63.623047\"/>\n",
       "       <use xlink:href=\"#DejaVuSans-36\" x=\"95.410156\"/>\n",
       "      </g>\n",
       "     </g>\n",
       "    </g>\n",
       "    <g id=\"xtick_5\">\n",
       "     <g id=\"line2d_5\">\n",
       "      <g>\n",
       "       <use xlink:href=\"#m5369ecfc51\" x=\"366.949913\" y=\"316.44327\" style=\"stroke: #000000; stroke-width: 0.8\"/>\n",
       "      </g>\n",
       "     </g>\n",
       "     <g id=\"text_5\">\n",
       "      <!-- 0.8 -->\n",
       "      <g transform=\"translate(358.998351 331.041707) scale(0.1 -0.1)\">\n",
       "       <defs>\n",
       "        <path id=\"DejaVuSans-38\" d=\"M 2034 2216 \n",
       "Q 1584 2216 1326 1975 \n",
       "Q 1069 1734 1069 1313 \n",
       "Q 1069 891 1326 650 \n",
       "Q 1584 409 2034 409 \n",
       "Q 2484 409 2743 651 \n",
       "Q 3003 894 3003 1313 \n",
       "Q 3003 1734 2745 1975 \n",
       "Q 2488 2216 2034 2216 \n",
       "z\n",
       "M 1403 2484 \n",
       "Q 997 2584 770 2862 \n",
       "Q 544 3141 544 3541 \n",
       "Q 544 4100 942 4425 \n",
       "Q 1341 4750 2034 4750 \n",
       "Q 2731 4750 3128 4425 \n",
       "Q 3525 4100 3525 3541 \n",
       "Q 3525 3141 3298 2862 \n",
       "Q 3072 2584 2669 2484 \n",
       "Q 3125 2378 3379 2068 \n",
       "Q 3634 1759 3634 1313 \n",
       "Q 3634 634 3220 271 \n",
       "Q 2806 -91 2034 -91 \n",
       "Q 1263 -91 848 271 \n",
       "Q 434 634 434 1313 \n",
       "Q 434 1759 690 2068 \n",
       "Q 947 2378 1403 2484 \n",
       "z\n",
       "M 1172 3481 \n",
       "Q 1172 3119 1398 2916 \n",
       "Q 1625 2713 2034 2713 \n",
       "Q 2441 2713 2670 2916 \n",
       "Q 2900 3119 2900 3481 \n",
       "Q 2900 3844 2670 4047 \n",
       "Q 2441 4250 2034 4250 \n",
       "Q 1625 4250 1398 4047 \n",
       "Q 1172 3844 1172 3481 \n",
       "z\n",
       "\" transform=\"scale(0.015625)\"/>\n",
       "       </defs>\n",
       "       <use xlink:href=\"#DejaVuSans-30\"/>\n",
       "       <use xlink:href=\"#DejaVuSans-2e\" x=\"63.623047\"/>\n",
       "       <use xlink:href=\"#DejaVuSans-38\" x=\"95.410156\"/>\n",
       "      </g>\n",
       "     </g>\n",
       "    </g>\n",
       "    <g id=\"xtick_6\">\n",
       "     <g id=\"line2d_6\">\n",
       "      <g>\n",
       "       <use xlink:href=\"#m5369ecfc51\" x=\"442.989599\" y=\"316.44327\" style=\"stroke: #000000; stroke-width: 0.8\"/>\n",
       "      </g>\n",
       "     </g>\n",
       "     <g id=\"text_6\">\n",
       "      <!-- 1.0 -->\n",
       "      <g transform=\"translate(435.038036 331.041707) scale(0.1 -0.1)\">\n",
       "       <defs>\n",
       "        <path id=\"DejaVuSans-31\" d=\"M 794 531 \n",
       "L 1825 531 \n",
       "L 1825 4091 \n",
       "L 703 3866 \n",
       "L 703 4441 \n",
       "L 1819 4666 \n",
       "L 2450 4666 \n",
       "L 2450 531 \n",
       "L 3481 531 \n",
       "L 3481 0 \n",
       "L 794 0 \n",
       "L 794 531 \n",
       "z\n",
       "\" transform=\"scale(0.015625)\"/>\n",
       "       </defs>\n",
       "       <use xlink:href=\"#DejaVuSans-31\"/>\n",
       "       <use xlink:href=\"#DejaVuSans-2e\" x=\"63.623047\"/>\n",
       "       <use xlink:href=\"#DejaVuSans-30\" x=\"95.410156\"/>\n",
       "      </g>\n",
       "     </g>\n",
       "    </g>\n",
       "    <g id=\"text_7\">\n",
       "     <!-- r [nm] -->\n",
       "     <g transform=\"translate(237.305229 344.719832) scale(0.1 -0.1)\">\n",
       "      <defs>\n",
       "       <path id=\"DejaVuSans-72\" d=\"M 2631 2963 \n",
       "Q 2534 3019 2420 3045 \n",
       "Q 2306 3072 2169 3072 \n",
       "Q 1681 3072 1420 2755 \n",
       "Q 1159 2438 1159 1844 \n",
       "L 1159 0 \n",
       "L 581 0 \n",
       "L 581 3500 \n",
       "L 1159 3500 \n",
       "L 1159 2956 \n",
       "Q 1341 3275 1631 3429 \n",
       "Q 1922 3584 2338 3584 \n",
       "Q 2397 3584 2469 3576 \n",
       "Q 2541 3569 2628 3553 \n",
       "L 2631 2963 \n",
       "z\n",
       "\" transform=\"scale(0.015625)\"/>\n",
       "       <path id=\"DejaVuSans-20\" transform=\"scale(0.015625)\"/>\n",
       "       <path id=\"DejaVuSans-5b\" d=\"M 550 4863 \n",
       "L 1875 4863 \n",
       "L 1875 4416 \n",
       "L 1125 4416 \n",
       "L 1125 -397 \n",
       "L 1875 -397 \n",
       "L 1875 -844 \n",
       "L 550 -844 \n",
       "L 550 4863 \n",
       "z\n",
       "\" transform=\"scale(0.015625)\"/>\n",
       "       <path id=\"DejaVuSans-6e\" d=\"M 3513 2113 \n",
       "L 3513 0 \n",
       "L 2938 0 \n",
       "L 2938 2094 \n",
       "Q 2938 2591 2744 2837 \n",
       "Q 2550 3084 2163 3084 \n",
       "Q 1697 3084 1428 2787 \n",
       "Q 1159 2491 1159 1978 \n",
       "L 1159 0 \n",
       "L 581 0 \n",
       "L 581 3500 \n",
       "L 1159 3500 \n",
       "L 1159 2956 \n",
       "Q 1366 3272 1645 3428 \n",
       "Q 1925 3584 2291 3584 \n",
       "Q 2894 3584 3203 3211 \n",
       "Q 3513 2838 3513 2113 \n",
       "z\n",
       "\" transform=\"scale(0.015625)\"/>\n",
       "       <path id=\"DejaVuSans-6d\" d=\"M 3328 2828 \n",
       "Q 3544 3216 3844 3400 \n",
       "Q 4144 3584 4550 3584 \n",
       "Q 5097 3584 5394 3201 \n",
       "Q 5691 2819 5691 2113 \n",
       "L 5691 0 \n",
       "L 5113 0 \n",
       "L 5113 2094 \n",
       "Q 5113 2597 4934 2840 \n",
       "Q 4756 3084 4391 3084 \n",
       "Q 3944 3084 3684 2787 \n",
       "Q 3425 2491 3425 1978 \n",
       "L 3425 0 \n",
       "L 2847 0 \n",
       "L 2847 2094 \n",
       "Q 2847 2600 2669 2842 \n",
       "Q 2491 3084 2119 3084 \n",
       "Q 1678 3084 1418 2786 \n",
       "Q 1159 2488 1159 1978 \n",
       "L 1159 0 \n",
       "L 581 0 \n",
       "L 581 3500 \n",
       "L 1159 3500 \n",
       "L 1159 2956 \n",
       "Q 1356 3278 1631 3431 \n",
       "Q 1906 3584 2284 3584 \n",
       "Q 2666 3584 2933 3390 \n",
       "Q 3200 3197 3328 2828 \n",
       "z\n",
       "\" transform=\"scale(0.015625)\"/>\n",
       "       <path id=\"DejaVuSans-5d\" d=\"M 1947 4863 \n",
       "L 1947 -844 \n",
       "L 622 -844 \n",
       "L 622 -397 \n",
       "L 1369 -397 \n",
       "L 1369 4416 \n",
       "L 622 4416 \n",
       "L 622 4863 \n",
       "L 1947 4863 \n",
       "z\n",
       "\" transform=\"scale(0.015625)\"/>\n",
       "      </defs>\n",
       "      <use xlink:href=\"#DejaVuSans-72\"/>\n",
       "      <use xlink:href=\"#DejaVuSans-20\" x=\"41.113281\"/>\n",
       "      <use xlink:href=\"#DejaVuSans-5b\" x=\"72.900391\"/>\n",
       "      <use xlink:href=\"#DejaVuSans-6e\" x=\"111.914062\"/>\n",
       "      <use xlink:href=\"#DejaVuSans-6d\" x=\"175.292969\"/>\n",
       "      <use xlink:href=\"#DejaVuSans-5d\" x=\"272.705078\"/>\n",
       "     </g>\n",
       "    </g>\n",
       "   </g>\n",
       "   <g id=\"matplotlib.axis_2\">\n",
       "    <g id=\"ytick_1\">\n",
       "     <g id=\"line2d_7\">\n",
       "      <defs>\n",
       "       <path id=\"mc076288ad6\" d=\"M 0 0 \n",
       "L -3.5 0 \n",
       "\" style=\"stroke: #000000; stroke-width: 0.8\"/>\n",
       "      </defs>\n",
       "      <g>\n",
       "       <use xlink:href=\"#mc076288ad6\" x=\"43.78125\" y=\"302.373609\" style=\"stroke: #000000; stroke-width: 0.8\"/>\n",
       "      </g>\n",
       "     </g>\n",
       "     <g id=\"text_8\">\n",
       "      <!-- 0.0 -->\n",
       "      <g transform=\"translate(20.878125 306.172828) scale(0.1 -0.1)\">\n",
       "       <use xlink:href=\"#DejaVuSans-30\"/>\n",
       "       <use xlink:href=\"#DejaVuSans-2e\" x=\"63.623047\"/>\n",
       "       <use xlink:href=\"#DejaVuSans-30\" x=\"95.410156\"/>\n",
       "      </g>\n",
       "     </g>\n",
       "    </g>\n",
       "    <g id=\"ytick_2\">\n",
       "     <g id=\"line2d_8\">\n",
       "      <g>\n",
       "       <use xlink:href=\"#mc076288ad6\" x=\"43.78125\" y=\"248.925755\" style=\"stroke: #000000; stroke-width: 0.8\"/>\n",
       "      </g>\n",
       "     </g>\n",
       "     <g id=\"text_9\">\n",
       "      <!-- 0.5 -->\n",
       "      <g transform=\"translate(20.878125 252.724974) scale(0.1 -0.1)\">\n",
       "       <defs>\n",
       "        <path id=\"DejaVuSans-35\" d=\"M 691 4666 \n",
       "L 3169 4666 \n",
       "L 3169 4134 \n",
       "L 1269 4134 \n",
       "L 1269 2991 \n",
       "Q 1406 3038 1543 3061 \n",
       "Q 1681 3084 1819 3084 \n",
       "Q 2600 3084 3056 2656 \n",
       "Q 3513 2228 3513 1497 \n",
       "Q 3513 744 3044 326 \n",
       "Q 2575 -91 1722 -91 \n",
       "Q 1428 -91 1123 -41 \n",
       "Q 819 9 494 109 \n",
       "L 494 744 \n",
       "Q 775 591 1075 516 \n",
       "Q 1375 441 1709 441 \n",
       "Q 2250 441 2565 725 \n",
       "Q 2881 1009 2881 1497 \n",
       "Q 2881 1984 2565 2268 \n",
       "Q 2250 2553 1709 2553 \n",
       "Q 1456 2553 1204 2497 \n",
       "Q 953 2441 691 2322 \n",
       "L 691 4666 \n",
       "z\n",
       "\" transform=\"scale(0.015625)\"/>\n",
       "       </defs>\n",
       "       <use xlink:href=\"#DejaVuSans-30\"/>\n",
       "       <use xlink:href=\"#DejaVuSans-2e\" x=\"63.623047\"/>\n",
       "       <use xlink:href=\"#DejaVuSans-35\" x=\"95.410156\"/>\n",
       "      </g>\n",
       "     </g>\n",
       "    </g>\n",
       "    <g id=\"ytick_3\">\n",
       "     <g id=\"line2d_9\">\n",
       "      <g>\n",
       "       <use xlink:href=\"#mc076288ad6\" x=\"43.78125\" y=\"195.4779\" style=\"stroke: #000000; stroke-width: 0.8\"/>\n",
       "      </g>\n",
       "     </g>\n",
       "     <g id=\"text_10\">\n",
       "      <!-- 1.0 -->\n",
       "      <g transform=\"translate(20.878125 199.277119) scale(0.1 -0.1)\">\n",
       "       <use xlink:href=\"#DejaVuSans-31\"/>\n",
       "       <use xlink:href=\"#DejaVuSans-2e\" x=\"63.623047\"/>\n",
       "       <use xlink:href=\"#DejaVuSans-30\" x=\"95.410156\"/>\n",
       "      </g>\n",
       "     </g>\n",
       "    </g>\n",
       "    <g id=\"ytick_4\">\n",
       "     <g id=\"line2d_10\">\n",
       "      <g>\n",
       "       <use xlink:href=\"#mc076288ad6\" x=\"43.78125\" y=\"142.030046\" style=\"stroke: #000000; stroke-width: 0.8\"/>\n",
       "      </g>\n",
       "     </g>\n",
       "     <g id=\"text_11\">\n",
       "      <!-- 1.5 -->\n",
       "      <g transform=\"translate(20.878125 145.829264) scale(0.1 -0.1)\">\n",
       "       <use xlink:href=\"#DejaVuSans-31\"/>\n",
       "       <use xlink:href=\"#DejaVuSans-2e\" x=\"63.623047\"/>\n",
       "       <use xlink:href=\"#DejaVuSans-35\" x=\"95.410156\"/>\n",
       "      </g>\n",
       "     </g>\n",
       "    </g>\n",
       "    <g id=\"ytick_5\">\n",
       "     <g id=\"line2d_11\">\n",
       "      <g>\n",
       "       <use xlink:href=\"#mc076288ad6\" x=\"43.78125\" y=\"88.582191\" style=\"stroke: #000000; stroke-width: 0.8\"/>\n",
       "      </g>\n",
       "     </g>\n",
       "     <g id=\"text_12\">\n",
       "      <!-- 2.0 -->\n",
       "      <g transform=\"translate(20.878125 92.38141) scale(0.1 -0.1)\">\n",
       "       <use xlink:href=\"#DejaVuSans-32\"/>\n",
       "       <use xlink:href=\"#DejaVuSans-2e\" x=\"63.623047\"/>\n",
       "       <use xlink:href=\"#DejaVuSans-30\" x=\"95.410156\"/>\n",
       "      </g>\n",
       "     </g>\n",
       "    </g>\n",
       "    <g id=\"ytick_6\">\n",
       "     <g id=\"line2d_12\">\n",
       "      <g>\n",
       "       <use xlink:href=\"#mc076288ad6\" x=\"43.78125\" y=\"35.134336\" style=\"stroke: #000000; stroke-width: 0.8\"/>\n",
       "      </g>\n",
       "     </g>\n",
       "     <g id=\"text_13\">\n",
       "      <!-- 2.5 -->\n",
       "      <g transform=\"translate(20.878125 38.933555) scale(0.1 -0.1)\">\n",
       "       <use xlink:href=\"#DejaVuSans-32\"/>\n",
       "       <use xlink:href=\"#DejaVuSans-2e\" x=\"63.623047\"/>\n",
       "       <use xlink:href=\"#DejaVuSans-35\" x=\"95.410156\"/>\n",
       "      </g>\n",
       "     </g>\n",
       "    </g>\n",
       "    <g id=\"text_14\">\n",
       "     <!-- RDF -->\n",
       "     <g transform=\"translate(14.798438 172.021635) rotate(-90) scale(0.1 -0.1)\">\n",
       "      <defs>\n",
       "       <path id=\"DejaVuSans-52\" d=\"M 2841 2188 \n",
       "Q 3044 2119 3236 1894 \n",
       "Q 3428 1669 3622 1275 \n",
       "L 4263 0 \n",
       "L 3584 0 \n",
       "L 2988 1197 \n",
       "Q 2756 1666 2539 1819 \n",
       "Q 2322 1972 1947 1972 \n",
       "L 1259 1972 \n",
       "L 1259 0 \n",
       "L 628 0 \n",
       "L 628 4666 \n",
       "L 2053 4666 \n",
       "Q 2853 4666 3247 4331 \n",
       "Q 3641 3997 3641 3322 \n",
       "Q 3641 2881 3436 2590 \n",
       "Q 3231 2300 2841 2188 \n",
       "z\n",
       "M 1259 4147 \n",
       "L 1259 2491 \n",
       "L 2053 2491 \n",
       "Q 2509 2491 2742 2702 \n",
       "Q 2975 2913 2975 3322 \n",
       "Q 2975 3731 2742 3939 \n",
       "Q 2509 4147 2053 4147 \n",
       "L 1259 4147 \n",
       "z\n",
       "\" transform=\"scale(0.015625)\"/>\n",
       "       <path id=\"DejaVuSans-44\" d=\"M 1259 4147 \n",
       "L 1259 519 \n",
       "L 2022 519 \n",
       "Q 2988 519 3436 956 \n",
       "Q 3884 1394 3884 2338 \n",
       "Q 3884 3275 3436 3711 \n",
       "Q 2988 4147 2022 4147 \n",
       "L 1259 4147 \n",
       "z\n",
       "M 628 4666 \n",
       "L 1925 4666 \n",
       "Q 3281 4666 3915 4102 \n",
       "Q 4550 3538 4550 2338 \n",
       "Q 4550 1131 3912 565 \n",
       "Q 3275 0 1925 0 \n",
       "L 628 0 \n",
       "L 628 4666 \n",
       "z\n",
       "\" transform=\"scale(0.015625)\"/>\n",
       "       <path id=\"DejaVuSans-46\" d=\"M 628 4666 \n",
       "L 3309 4666 \n",
       "L 3309 4134 \n",
       "L 1259 4134 \n",
       "L 1259 2759 \n",
       "L 3109 2759 \n",
       "L 3109 2228 \n",
       "L 1259 2228 \n",
       "L 1259 0 \n",
       "L 628 0 \n",
       "L 628 4666 \n",
       "z\n",
       "\" transform=\"scale(0.015625)\"/>\n",
       "      </defs>\n",
       "      <use xlink:href=\"#DejaVuSans-52\"/>\n",
       "      <use xlink:href=\"#DejaVuSans-44\" x=\"69.482422\"/>\n",
       "      <use xlink:href=\"#DejaVuSans-46\" x=\"146.484375\"/>\n",
       "     </g>\n",
       "    </g>\n",
       "   </g>\n",
       "   <g id=\"line2d_13\">\n",
       "    <path d=\"M 62.791171 302.373609 \n",
       "L 153.072403 302.312433 \n",
       "L 154.34397 302.154814 \n",
       "L 155.615537 301.678041 \n",
       "L 156.887103 300.560826 \n",
       "L 158.15867 298.300609 \n",
       "L 159.430236 294.063988 \n",
       "L 160.701803 286.949256 \n",
       "L 161.97337 276.497833 \n",
       "L 163.244936 262.624387 \n",
       "L 164.516503 245.299178 \n",
       "L 167.059636 202.930883 \n",
       "L 169.60277 158.476048 \n",
       "L 170.874336 138.115561 \n",
       "L 172.145903 120.279734 \n",
       "L 173.41747 105.088825 \n",
       "L 174.689036 93.038265 \n",
       "L 175.960603 84.688783 \n",
       "L 177.23217 79.485169 \n",
       "L 178.503736 76.2743 \n",
       "L 179.775303 74.744533 \n",
       "L 181.046869 75.466345 \n",
       "L 182.318436 78.221067 \n",
       "L 183.590003 82.188257 \n",
       "L 184.861569 86.862783 \n",
       "L 186.133136 92.196974 \n",
       "L 188.676269 104.628638 \n",
       "L 193.762536 131.785571 \n",
       "L 197.577236 149.787833 \n",
       "L 200.120369 161.108362 \n",
       "L 202.663502 171.610168 \n",
       "L 205.206636 180.506666 \n",
       "L 207.749769 188.966438 \n",
       "L 209.021336 192.75501 \n",
       "L 210.292902 196.070104 \n",
       "L 214.107602 204.975077 \n",
       "L 215.379169 207.295532 \n",
       "L 219.193869 213.254657 \n",
       "L 220.465436 215.198888 \n",
       "L 221.737002 216.776034 \n",
       "L 226.823269 221.281505 \n",
       "L 228.094835 222.081923 \n",
       "L 231.909535 223.568217 \n",
       "L 233.181102 223.920216 \n",
       "L 236.995802 223.935061 \n",
       "L 239.538935 223.508007 \n",
       "L 240.810502 223.202743 \n",
       "L 242.082069 222.675235 \n",
       "L 244.625202 221.287718 \n",
       "L 245.896768 220.733736 \n",
       "L 247.168335 219.929783 \n",
       "L 253.526168 214.819193 \n",
       "L 254.797735 213.503629 \n",
       "L 262.427135 203.916366 \n",
       "L 266.241835 198.491171 \n",
       "L 268.784968 195.451688 \n",
       "L 272.599668 190.628286 \n",
       "L 276.414368 185.986369 \n",
       "L 277.685935 184.701942 \n",
       "L 278.957501 183.589545 \n",
       "L 284.043768 180.016444 \n",
       "L 285.315334 179.32584 \n",
       "L 287.858468 178.439974 \n",
       "L 289.130034 178.363045 \n",
       "L 290.401601 178.578503 \n",
       "L 291.673168 178.644129 \n",
       "L 292.944734 178.518484 \n",
       "L 294.216301 178.763493 \n",
       "L 300.574134 181.978529 \n",
       "L 304.388834 184.277614 \n",
       "L 308.203534 187.392466 \n",
       "L 314.561367 192.314294 \n",
       "L 319.647634 195.423845 \n",
       "L 323.462334 197.630492 \n",
       "L 326.005467 199.320572 \n",
       "L 327.277034 199.89305 \n",
       "L 329.820167 200.665547 \n",
       "L 331.091734 201.037272 \n",
       "L 333.634867 202.128853 \n",
       "L 336.178 202.783211 \n",
       "L 338.721134 203.218759 \n",
       "L 342.535834 203.579461 \n",
       "L 345.078967 203.551745 \n",
       "L 348.893667 203.029347 \n",
       "L 351.4368 202.426554 \n",
       "L 353.979933 202.131032 \n",
       "L 355.2515 201.875568 \n",
       "L 357.794633 200.964363 \n",
       "L 360.337767 200.17602 \n",
       "L 362.8809 199.366198 \n",
       "L 365.424033 198.355669 \n",
       "L 369.238733 196.91349 \n",
       "L 373.053433 195.582705 \n",
       "L 375.596566 194.83354 \n",
       "L 376.868133 194.298807 \n",
       "L 380.682833 193.157738 \n",
       "L 381.9544 192.701107 \n",
       "L 387.040666 191.987781 \n",
       "L 389.583799 191.654234 \n",
       "L 390.855366 191.362905 \n",
       "L 392.126933 191.204523 \n",
       "L 395.941633 191.376463 \n",
       "L 398.484766 191.126383 \n",
       "L 399.756333 190.930192 \n",
       "L 401.027899 190.96823 \n",
       "L 403.571033 191.483657 \n",
       "L 407.385733 191.906048 \n",
       "L 409.928866 192.4313 \n",
       "L 415.015132 193.430157 \n",
       "L 416.286699 193.701315 \n",
       "L 420.101399 194.214423 \n",
       "L 427.730799 195.740571 \n",
       "L 431.545499 196.354438 \n",
       "L 435.360199 196.792643 \n",
       "L 439.174899 197.424381 \n",
       "L 442.989599 197.441113 \n",
       "L 442.989599 197.441113 \n",
       "\" clip-path=\"url(#p576157e188)\" style=\"fill: none; stroke: #1f77b4; stroke-width: 1.5; stroke-linecap: square\"/>\n",
       "   </g>\n",
       "   <g id=\"line2d_14\">\n",
       "    <path d=\"M 62.791171 302.373609 \n",
       "L 151.800837 302.296477 \n",
       "L 153.072403 302.002531 \n",
       "L 154.34397 300.891454 \n",
       "L 155.615537 297.500178 \n",
       "L 156.887103 289.186355 \n",
       "L 158.15867 272.264693 \n",
       "L 159.430236 243.333837 \n",
       "L 160.701803 202.201756 \n",
       "L 163.244936 104.171102 \n",
       "L 164.516503 63.641514 \n",
       "L 165.78807 36.058201 \n",
       "L 167.059636 22.275949 \n",
       "L 168.331203 21.256512 \n",
       "L 169.60277 30.883412 \n",
       "L 170.874336 48.058911 \n",
       "L 174.689036 108.474782 \n",
       "L 175.960603 126.603939 \n",
       "L 177.23217 142.311461 \n",
       "L 178.503736 155.457661 \n",
       "L 179.775303 166.808811 \n",
       "L 181.046869 176.679598 \n",
       "L 182.318436 184.688014 \n",
       "L 183.590003 191.046484 \n",
       "L 184.861569 196.330366 \n",
       "L 186.133136 200.742496 \n",
       "L 187.404703 204.626104 \n",
       "L 188.676269 207.994152 \n",
       "L 189.947836 210.502706 \n",
       "L 191.219403 212.236526 \n",
       "L 192.490969 213.594397 \n",
       "L 193.762536 214.547793 \n",
       "L 195.034103 214.9294 \n",
       "L 196.305669 214.683792 \n",
       "L 197.577236 213.832601 \n",
       "L 200.120369 211.390807 \n",
       "L 201.391936 209.91068 \n",
       "L 202.663502 208.228826 \n",
       "L 207.749769 199.914413 \n",
       "L 209.021336 197.64744 \n",
       "L 215.379169 188.36599 \n",
       "L 216.650736 187.218575 \n",
       "L 217.922302 186.272525 \n",
       "L 219.193869 185.528221 \n",
       "L 221.737002 184.664261 \n",
       "L 225.551702 183.444352 \n",
       "L 226.823269 183.465569 \n",
       "L 229.366402 183.984157 \n",
       "L 233.181102 185.491203 \n",
       "L 234.452669 186.115124 \n",
       "L 236.995802 187.72772 \n",
       "L 243.353635 192.623974 \n",
       "L 247.168335 196.433756 \n",
       "L 248.439902 197.825835 \n",
       "L 249.711468 199.017678 \n",
       "L 256.069302 203.960813 \n",
       "L 257.340868 204.478445 \n",
       "L 261.155568 205.460144 \n",
       "L 263.698701 205.876883 \n",
       "L 268.784968 205.594283 \n",
       "L 271.328101 204.73001 \n",
       "L 275.142801 202.945397 \n",
       "L 278.957501 201.868406 \n",
       "L 281.500635 200.686458 \n",
       "L 284.043768 200.079479 \n",
       "L 286.586901 199.213971 \n",
       "L 287.858468 198.826451 \n",
       "L 291.673168 197.263138 \n",
       "L 294.216301 196.490354 \n",
       "L 295.487868 195.918074 \n",
       "L 299.302568 194.569607 \n",
       "L 301.845701 193.223823 \n",
       "L 308.203534 190.903406 \n",
       "L 309.475101 190.609095 \n",
       "L 315.832934 189.739745 \n",
       "L 320.919201 189.682478 \n",
       "L 324.733901 190.459722 \n",
       "L 329.820167 191.614362 \n",
       "L 333.634867 192.971755 \n",
       "L 336.178 193.385124 \n",
       "L 337.449567 193.875345 \n",
       "L 343.8074 195.473695 \n",
       "L 348.893667 196.405677 \n",
       "L 351.4368 197.003239 \n",
       "L 352.708367 197.122851 \n",
       "L 355.2515 197.209318 \n",
       "L 356.523067 197.29922 \n",
       "L 359.0662 197.322316 \n",
       "L 361.609333 197.632264 \n",
       "L 364.152467 197.671435 \n",
       "L 371.781866 197.164297 \n",
       "L 375.596566 197.089929 \n",
       "L 381.9544 196.396776 \n",
       "L 384.497533 196.219381 \n",
       "L 387.040666 195.904108 \n",
       "L 393.398499 195.624833 \n",
       "L 394.670066 195.520003 \n",
       "L 397.213199 195.56022 \n",
       "L 399.756333 195.49762 \n",
       "L 402.299466 195.517869 \n",
       "L 404.842599 195.258696 \n",
       "L 411.200432 195.179689 \n",
       "L 416.286699 195.294185 \n",
       "L 420.101399 195.19465 \n",
       "L 422.644532 195.196816 \n",
       "L 425.187666 195.316396 \n",
       "L 429.002366 195.127125 \n",
       "L 431.545499 195.434791 \n",
       "L 436.631765 195.357428 \n",
       "L 439.174899 195.309642 \n",
       "L 441.718032 195.298148 \n",
       "L 442.989599 195.311949 \n",
       "L 442.989599 195.311949 \n",
       "\" clip-path=\"url(#p576157e188)\" style=\"fill: none; stroke: #ff7f0e; stroke-width: 1.5; stroke-linecap: square\"/>\n",
       "   </g>\n",
       "   <g id=\"line2d_15\">\n",
       "    <path d=\"M 62.791171 302.373609 \n",
       "L 153.072403 302.323671 \n",
       "L 154.34397 302.051975 \n",
       "L 155.615537 298.729204 \n",
       "L 156.887103 292.430724 \n",
       "L 158.15867 278.055547 \n",
       "L 159.430236 246.364859 \n",
       "L 161.97337 154.705444 \n",
       "L 163.244936 100.77983 \n",
       "L 164.516503 59.490622 \n",
       "L 165.78807 34.794048 \n",
       "L 167.059636 24.454741 \n",
       "L 168.331203 29.104979 \n",
       "L 169.60277 39.389899 \n",
       "L 170.874336 55.35915 \n",
       "L 175.960603 128.799653 \n",
       "L 177.23217 145.225292 \n",
       "L 178.503736 158.592098 \n",
       "L 179.775303 170.68629 \n",
       "L 181.046869 180.999182 \n",
       "L 182.318436 188.987681 \n",
       "L 183.590003 195.686853 \n",
       "L 184.861569 200.990423 \n",
       "L 186.133136 205.238505 \n",
       "L 187.404703 208.030769 \n",
       "L 188.676269 210.15223 \n",
       "L 189.947836 211.806948 \n",
       "L 191.219403 212.582567 \n",
       "L 192.490969 213.117536 \n",
       "L 193.762536 213.089387 \n",
       "L 196.305669 212.333602 \n",
       "L 197.577236 211.86828 \n",
       "L 198.848803 211.209105 \n",
       "L 200.120369 210.287101 \n",
       "L 201.391936 209.086052 \n",
       "L 206.478202 203.572 \n",
       "L 209.021336 200.367916 \n",
       "L 215.379169 193.20281 \n",
       "L 217.922302 190.173222 \n",
       "L 219.193869 189.041341 \n",
       "L 221.737002 187.058371 \n",
       "L 224.280135 184.568383 \n",
       "L 225.551702 183.619861 \n",
       "L 228.094835 182.263717 \n",
       "L 229.366402 181.740045 \n",
       "L 230.637969 181.401999 \n",
       "L 231.909535 181.307434 \n",
       "L 233.181102 181.456119 \n",
       "L 234.452669 181.832648 \n",
       "L 235.724235 182.417868 \n",
       "L 238.267369 184.014141 \n",
       "L 240.810502 185.822138 \n",
       "L 243.353635 188.01134 \n",
       "L 245.896768 190.52912 \n",
       "L 248.439902 193.568469 \n",
       "L 250.983035 196.628405 \n",
       "L 253.526168 199.082228 \n",
       "L 257.340868 202.273473 \n",
       "L 259.884002 204.054519 \n",
       "L 263.698701 206.323065 \n",
       "L 264.970268 206.92171 \n",
       "L 266.241835 207.265962 \n",
       "L 268.784968 207.597865 \n",
       "L 271.328101 208.117567 \n",
       "L 272.599668 208.24687 \n",
       "L 275.142801 208.165863 \n",
       "L 276.414368 208.025225 \n",
       "L 277.685935 207.732297 \n",
       "L 281.500635 206.452139 \n",
       "L 282.772201 206.007148 \n",
       "L 285.315334 204.410882 \n",
       "L 286.586901 203.470279 \n",
       "L 290.401601 200.244876 \n",
       "L 292.944734 198.392955 \n",
       "L 295.487868 196.421153 \n",
       "L 299.302568 193.850178 \n",
       "L 303.117268 191.506008 \n",
       "L 306.931967 189.457004 \n",
       "L 308.203534 188.876396 \n",
       "L 309.475101 188.433973 \n",
       "L 310.746667 188.183128 \n",
       "L 318.376067 187.625267 \n",
       "L 320.919201 187.852576 \n",
       "L 323.462334 188.454413 \n",
       "L 327.277034 189.4627 \n",
       "L 329.820167 190.176956 \n",
       "L 332.3633 191.206243 \n",
       "L 341.264267 195.155427 \n",
       "L 343.8074 196.365537 \n",
       "L 346.350534 197.276531 \n",
       "L 348.893667 197.810582 \n",
       "L 351.4368 198.018961 \n",
       "L 362.8809 198.475274 \n",
       "L 366.6956 198.234228 \n",
       "L 374.325 197.483955 \n",
       "L 385.7691 195.406858 \n",
       "L 389.583799 194.983792 \n",
       "L 392.126933 194.924295 \n",
       "L 397.213199 194.913808 \n",
       "L 404.842599 194.611901 \n",
       "L 409.928866 194.867245 \n",
       "L 417.558266 195.284679 \n",
       "L 425.187666 195.4661 \n",
       "L 440.446465 195.478149 \n",
       "L 442.989599 195.477907 \n",
       "L 442.989599 195.477907 \n",
       "\" clip-path=\"url(#p576157e188)\" style=\"fill: none; stroke: #2ca02c; stroke-width: 1.5; stroke-linecap: square\"/>\n",
       "   </g>\n",
       "   <g id=\"patch_3\">\n",
       "    <path d=\"M 43.78125 316.44327 \n",
       "L 43.78125 7.2 \n",
       "\" style=\"fill: none; stroke: #000000; stroke-width: 0.8; stroke-linejoin: miter; stroke-linecap: square\"/>\n",
       "   </g>\n",
       "   <g id=\"patch_4\">\n",
       "    <path d=\"M 461.99952 316.44327 \n",
       "L 461.99952 7.2 \n",
       "\" style=\"fill: none; stroke: #000000; stroke-width: 0.8; stroke-linejoin: miter; stroke-linecap: square\"/>\n",
       "   </g>\n",
       "   <g id=\"patch_5\">\n",
       "    <path d=\"M 43.78125 316.44327 \n",
       "L 461.99952 316.44327 \n",
       "\" style=\"fill: none; stroke: #000000; stroke-width: 0.8; stroke-linejoin: miter; stroke-linecap: square\"/>\n",
       "   </g>\n",
       "   <g id=\"patch_6\">\n",
       "    <path d=\"M 43.78125 7.2 \n",
       "L 461.99952 7.2 \n",
       "\" style=\"fill: none; stroke: #000000; stroke-width: 0.8; stroke-linejoin: miter; stroke-linecap: square\"/>\n",
       "   </g>\n",
       "   <g id=\"legend_1\">\n",
       "    <g id=\"patch_7\">\n",
       "     <path d=\"M 372.646395 59.234375 \n",
       "L 454.99952 59.234375 \n",
       "Q 456.99952 59.234375 456.99952 57.234375 \n",
       "L 456.99952 14.2 \n",
       "Q 456.99952 12.2 454.99952 12.2 \n",
       "L 372.646395 12.2 \n",
       "Q 370.646395 12.2 370.646395 14.2 \n",
       "L 370.646395 57.234375 \n",
       "Q 370.646395 59.234375 372.646395 59.234375 \n",
       "z\n",
       "\" style=\"fill: #ffffff; opacity: 0.8; stroke: #cccccc; stroke-linejoin: miter\"/>\n",
       "    </g>\n",
       "    <g id=\"line2d_16\">\n",
       "     <path d=\"M 374.646395 20.298437 \n",
       "L 384.646395 20.298437 \n",
       "L 394.646395 20.298437 \n",
       "\" style=\"fill: none; stroke: #1f77b4; stroke-width: 1.5; stroke-linecap: square\"/>\n",
       "    </g>\n",
       "    <g id=\"text_15\">\n",
       "     <!-- Initial -->\n",
       "     <g transform=\"translate(402.646395 23.798437) scale(0.1 -0.1)\">\n",
       "      <defs>\n",
       "       <path id=\"DejaVuSans-49\" d=\"M 628 4666 \n",
       "L 1259 4666 \n",
       "L 1259 0 \n",
       "L 628 0 \n",
       "L 628 4666 \n",
       "z\n",
       "\" transform=\"scale(0.015625)\"/>\n",
       "       <path id=\"DejaVuSans-69\" d=\"M 603 3500 \n",
       "L 1178 3500 \n",
       "L 1178 0 \n",
       "L 603 0 \n",
       "L 603 3500 \n",
       "z\n",
       "M 603 4863 \n",
       "L 1178 4863 \n",
       "L 1178 4134 \n",
       "L 603 4134 \n",
       "L 603 4863 \n",
       "z\n",
       "\" transform=\"scale(0.015625)\"/>\n",
       "       <path id=\"DejaVuSans-74\" d=\"M 1172 4494 \n",
       "L 1172 3500 \n",
       "L 2356 3500 \n",
       "L 2356 3053 \n",
       "L 1172 3053 \n",
       "L 1172 1153 \n",
       "Q 1172 725 1289 603 \n",
       "Q 1406 481 1766 481 \n",
       "L 2356 481 \n",
       "L 2356 0 \n",
       "L 1766 0 \n",
       "Q 1100 0 847 248 \n",
       "Q 594 497 594 1153 \n",
       "L 594 3053 \n",
       "L 172 3053 \n",
       "L 172 3500 \n",
       "L 594 3500 \n",
       "L 594 4494 \n",
       "L 1172 4494 \n",
       "z\n",
       "\" transform=\"scale(0.015625)\"/>\n",
       "       <path id=\"DejaVuSans-61\" d=\"M 2194 1759 \n",
       "Q 1497 1759 1228 1600 \n",
       "Q 959 1441 959 1056 \n",
       "Q 959 750 1161 570 \n",
       "Q 1363 391 1709 391 \n",
       "Q 2188 391 2477 730 \n",
       "Q 2766 1069 2766 1631 \n",
       "L 2766 1759 \n",
       "L 2194 1759 \n",
       "z\n",
       "M 3341 1997 \n",
       "L 3341 0 \n",
       "L 2766 0 \n",
       "L 2766 531 \n",
       "Q 2569 213 2275 61 \n",
       "Q 1981 -91 1556 -91 \n",
       "Q 1019 -91 701 211 \n",
       "Q 384 513 384 1019 \n",
       "Q 384 1609 779 1909 \n",
       "Q 1175 2209 1959 2209 \n",
       "L 2766 2209 \n",
       "L 2766 2266 \n",
       "Q 2766 2663 2505 2880 \n",
       "Q 2244 3097 1772 3097 \n",
       "Q 1472 3097 1187 3025 \n",
       "Q 903 2953 641 2809 \n",
       "L 641 3341 \n",
       "Q 956 3463 1253 3523 \n",
       "Q 1550 3584 1831 3584 \n",
       "Q 2591 3584 2966 3190 \n",
       "Q 3341 2797 3341 1997 \n",
       "z\n",
       "\" transform=\"scale(0.015625)\"/>\n",
       "       <path id=\"DejaVuSans-6c\" d=\"M 603 4863 \n",
       "L 1178 4863 \n",
       "L 1178 0 \n",
       "L 603 0 \n",
       "L 603 4863 \n",
       "z\n",
       "\" transform=\"scale(0.015625)\"/>\n",
       "      </defs>\n",
       "      <use xlink:href=\"#DejaVuSans-49\"/>\n",
       "      <use xlink:href=\"#DejaVuSans-6e\" x=\"29.492188\"/>\n",
       "      <use xlink:href=\"#DejaVuSans-69\" x=\"92.871094\"/>\n",
       "      <use xlink:href=\"#DejaVuSans-74\" x=\"120.654297\"/>\n",
       "      <use xlink:href=\"#DejaVuSans-69\" x=\"159.863281\"/>\n",
       "      <use xlink:href=\"#DejaVuSans-61\" x=\"187.646484\"/>\n",
       "      <use xlink:href=\"#DejaVuSans-6c\" x=\"248.925781\"/>\n",
       "     </g>\n",
       "    </g>\n",
       "    <g id=\"line2d_17\">\n",
       "     <path d=\"M 374.646395 34.976562 \n",
       "L 384.646395 34.976562 \n",
       "L 394.646395 34.976562 \n",
       "\" style=\"fill: none; stroke: #ff7f0e; stroke-width: 1.5; stroke-linecap: square\"/>\n",
       "    </g>\n",
       "    <g id=\"text_16\">\n",
       "     <!-- Predicted -->\n",
       "     <g transform=\"translate(402.646395 38.476562) scale(0.1 -0.1)\">\n",
       "      <defs>\n",
       "       <path id=\"DejaVuSans-50\" d=\"M 1259 4147 \n",
       "L 1259 2394 \n",
       "L 2053 2394 \n",
       "Q 2494 2394 2734 2622 \n",
       "Q 2975 2850 2975 3272 \n",
       "Q 2975 3691 2734 3919 \n",
       "Q 2494 4147 2053 4147 \n",
       "L 1259 4147 \n",
       "z\n",
       "M 628 4666 \n",
       "L 2053 4666 \n",
       "Q 2838 4666 3239 4311 \n",
       "Q 3641 3956 3641 3272 \n",
       "Q 3641 2581 3239 2228 \n",
       "Q 2838 1875 2053 1875 \n",
       "L 1259 1875 \n",
       "L 1259 0 \n",
       "L 628 0 \n",
       "L 628 4666 \n",
       "z\n",
       "\" transform=\"scale(0.015625)\"/>\n",
       "       <path id=\"DejaVuSans-65\" d=\"M 3597 1894 \n",
       "L 3597 1613 \n",
       "L 953 1613 \n",
       "Q 991 1019 1311 708 \n",
       "Q 1631 397 2203 397 \n",
       "Q 2534 397 2845 478 \n",
       "Q 3156 559 3463 722 \n",
       "L 3463 178 \n",
       "Q 3153 47 2828 -22 \n",
       "Q 2503 -91 2169 -91 \n",
       "Q 1331 -91 842 396 \n",
       "Q 353 884 353 1716 \n",
       "Q 353 2575 817 3079 \n",
       "Q 1281 3584 2069 3584 \n",
       "Q 2775 3584 3186 3129 \n",
       "Q 3597 2675 3597 1894 \n",
       "z\n",
       "M 3022 2063 \n",
       "Q 3016 2534 2758 2815 \n",
       "Q 2500 3097 2075 3097 \n",
       "Q 1594 3097 1305 2825 \n",
       "Q 1016 2553 972 2059 \n",
       "L 3022 2063 \n",
       "z\n",
       "\" transform=\"scale(0.015625)\"/>\n",
       "       <path id=\"DejaVuSans-64\" d=\"M 2906 2969 \n",
       "L 2906 4863 \n",
       "L 3481 4863 \n",
       "L 3481 0 \n",
       "L 2906 0 \n",
       "L 2906 525 \n",
       "Q 2725 213 2448 61 \n",
       "Q 2172 -91 1784 -91 \n",
       "Q 1150 -91 751 415 \n",
       "Q 353 922 353 1747 \n",
       "Q 353 2572 751 3078 \n",
       "Q 1150 3584 1784 3584 \n",
       "Q 2172 3584 2448 3432 \n",
       "Q 2725 3281 2906 2969 \n",
       "z\n",
       "M 947 1747 \n",
       "Q 947 1113 1208 752 \n",
       "Q 1469 391 1925 391 \n",
       "Q 2381 391 2643 752 \n",
       "Q 2906 1113 2906 1747 \n",
       "Q 2906 2381 2643 2742 \n",
       "Q 2381 3103 1925 3103 \n",
       "Q 1469 3103 1208 2742 \n",
       "Q 947 2381 947 1747 \n",
       "z\n",
       "\" transform=\"scale(0.015625)\"/>\n",
       "       <path id=\"DejaVuSans-63\" d=\"M 3122 3366 \n",
       "L 3122 2828 \n",
       "Q 2878 2963 2633 3030 \n",
       "Q 2388 3097 2138 3097 \n",
       "Q 1578 3097 1268 2742 \n",
       "Q 959 2388 959 1747 \n",
       "Q 959 1106 1268 751 \n",
       "Q 1578 397 2138 397 \n",
       "Q 2388 397 2633 464 \n",
       "Q 2878 531 3122 666 \n",
       "L 3122 134 \n",
       "Q 2881 22 2623 -34 \n",
       "Q 2366 -91 2075 -91 \n",
       "Q 1284 -91 818 406 \n",
       "Q 353 903 353 1747 \n",
       "Q 353 2603 823 3093 \n",
       "Q 1294 3584 2113 3584 \n",
       "Q 2378 3584 2631 3529 \n",
       "Q 2884 3475 3122 3366 \n",
       "z\n",
       "\" transform=\"scale(0.015625)\"/>\n",
       "      </defs>\n",
       "      <use xlink:href=\"#DejaVuSans-50\"/>\n",
       "      <use xlink:href=\"#DejaVuSans-72\" x=\"58.552734\"/>\n",
       "      <use xlink:href=\"#DejaVuSans-65\" x=\"97.416016\"/>\n",
       "      <use xlink:href=\"#DejaVuSans-64\" x=\"158.939453\"/>\n",
       "      <use xlink:href=\"#DejaVuSans-69\" x=\"222.416016\"/>\n",
       "      <use xlink:href=\"#DejaVuSans-63\" x=\"250.199219\"/>\n",
       "      <use xlink:href=\"#DejaVuSans-74\" x=\"305.179688\"/>\n",
       "      <use xlink:href=\"#DejaVuSans-65\" x=\"344.388672\"/>\n",
       "      <use xlink:href=\"#DejaVuSans-64\" x=\"405.912109\"/>\n",
       "     </g>\n",
       "    </g>\n",
       "    <g id=\"line2d_18\">\n",
       "     <path d=\"M 374.646395 49.654687 \n",
       "L 384.646395 49.654687 \n",
       "L 394.646395 49.654687 \n",
       "\" style=\"fill: none; stroke: #2ca02c; stroke-width: 1.5; stroke-linecap: square\"/>\n",
       "    </g>\n",
       "    <g id=\"text_17\">\n",
       "     <!-- Reference -->\n",
       "     <g transform=\"translate(402.646395 53.154687) scale(0.1 -0.1)\">\n",
       "      <defs>\n",
       "       <path id=\"DejaVuSans-66\" d=\"M 2375 4863 \n",
       "L 2375 4384 \n",
       "L 1825 4384 \n",
       "Q 1516 4384 1395 4259 \n",
       "Q 1275 4134 1275 3809 \n",
       "L 1275 3500 \n",
       "L 2222 3500 \n",
       "L 2222 3053 \n",
       "L 1275 3053 \n",
       "L 1275 0 \n",
       "L 697 0 \n",
       "L 697 3053 \n",
       "L 147 3053 \n",
       "L 147 3500 \n",
       "L 697 3500 \n",
       "L 697 3744 \n",
       "Q 697 4328 969 4595 \n",
       "Q 1241 4863 1831 4863 \n",
       "L 2375 4863 \n",
       "z\n",
       "\" transform=\"scale(0.015625)\"/>\n",
       "      </defs>\n",
       "      <use xlink:href=\"#DejaVuSans-52\"/>\n",
       "      <use xlink:href=\"#DejaVuSans-65\" x=\"64.982422\"/>\n",
       "      <use xlink:href=\"#DejaVuSans-66\" x=\"126.505859\"/>\n",
       "      <use xlink:href=\"#DejaVuSans-65\" x=\"161.710938\"/>\n",
       "      <use xlink:href=\"#DejaVuSans-72\" x=\"223.234375\"/>\n",
       "      <use xlink:href=\"#DejaVuSans-65\" x=\"262.097656\"/>\n",
       "      <use xlink:href=\"#DejaVuSans-6e\" x=\"323.621094\"/>\n",
       "      <use xlink:href=\"#DejaVuSans-63\" x=\"387\"/>\n",
       "      <use xlink:href=\"#DejaVuSans-65\" x=\"441.980469\"/>\n",
       "     </g>\n",
       "    </g>\n",
       "   </g>\n",
       "  </g>\n",
       " </g>\n",
       " <defs>\n",
       "  <clipPath id=\"p576157e188\">\n",
       "   <rect x=\"43.78125\" y=\"7.2\" width=\"418.21827\" height=\"309.24327\"/>\n",
       "  </clipPath>\n",
       " </defs>\n",
       "</svg>\n"
      ],
      "text/plain": [
       "<Figure size 640x480 with 1 Axes>"
      ]
     },
     "metadata": {},
     "output_type": "display_data"
    }
   ],
   "source": [
    "fig, ax = plt.subplots(1, 1, layout=\"constrained\")\n",
    "r = onp.linspace(0, 1, 300)\n",
    "ax.plot(r, predicted_quantities[0][\"rdf\"], label='Initial')\n",
    "ax.plot(r, predicted_quantities[num_updates][\"rdf\"], label='Predicted')\n",
    "ax.plot(r, targets[\"rdf\"][\"target\"], label='Reference')\n",
    "ax.set_xlabel(\"r [nm]\")\n",
    "ax.set_ylabel(\"RDF\")\n",
    "ax.legend()"
   ]
  },
  {
   "cell_type": "markdown",
   "id": "a1c4a0cc",
   "metadata": {},
   "source": [
    "### ADF"
   ]
  },
  {
   "cell_type": "code",
   "execution_count": 17,
   "id": "1fe0e924",
   "metadata": {
    "execution": {
     "iopub.execute_input": "2024-06-13T03:29:18.116884Z",
     "iopub.status.busy": "2024-06-13T03:29:18.116702Z",
     "iopub.status.idle": "2024-06-13T03:29:18.423152Z",
     "shell.execute_reply": "2024-06-13T03:29:18.422680Z"
    },
    "tags": [
     "hide-input"
    ]
   },
   "outputs": [
    {
     "data": {
      "text/plain": [
       "<matplotlib.legend.Legend at 0x7fb19bcc05e0>"
      ]
     },
     "execution_count": 17,
     "metadata": {},
     "output_type": "execute_result"
    },
    {
     "data": {
      "image/svg+xml": [
       "<?xml version=\"1.0\" encoding=\"utf-8\" standalone=\"no\"?>\n",
       "<!DOCTYPE svg PUBLIC \"-//W3C//DTD SVG 1.1//EN\"\n",
       "  \"http://www.w3.org/Graphics/SVG/1.1/DTD/svg11.dtd\">\n",
       "<svg xmlns:xlink=\"http://www.w3.org/1999/xlink\" width=\"469.19952pt\" height=\"353.99952pt\" viewBox=\"0 0 469.19952 353.99952\" xmlns=\"http://www.w3.org/2000/svg\" version=\"1.1\">\n",
       " <metadata>\n",
       "  <rdf:RDF xmlns:dc=\"http://purl.org/dc/elements/1.1/\" xmlns:cc=\"http://creativecommons.org/ns#\" xmlns:rdf=\"http://www.w3.org/1999/02/22-rdf-syntax-ns#\">\n",
       "   <cc:Work>\n",
       "    <dc:type rdf:resource=\"http://purl.org/dc/dcmitype/StillImage\"/>\n",
       "    <dc:date>2024-06-13T05:29:18.396253</dc:date>\n",
       "    <dc:format>image/svg+xml</dc:format>\n",
       "    <dc:creator>\n",
       "     <cc:Agent>\n",
       "      <dc:title>Matplotlib v3.8.0, https://matplotlib.org/</dc:title>\n",
       "     </cc:Agent>\n",
       "    </dc:creator>\n",
       "   </cc:Work>\n",
       "  </rdf:RDF>\n",
       " </metadata>\n",
       " <defs>\n",
       "  <style type=\"text/css\">*{stroke-linejoin: round; stroke-linecap: butt}</style>\n",
       " </defs>\n",
       " <g id=\"figure_1\">\n",
       "  <g id=\"patch_1\">\n",
       "   <path d=\"M 0 353.99952 \n",
       "L 469.19952 353.99952 \n",
       "L 469.19952 0 \n",
       "L 0 0 \n",
       "z\n",
       "\" style=\"fill: #ffffff\"/>\n",
       "  </g>\n",
       "  <g id=\"axes_1\">\n",
       "   <g id=\"patch_2\">\n",
       "    <path d=\"M 43.78125 316.44327 \n",
       "L 461.99952 316.44327 \n",
       "L 461.99952 7.2 \n",
       "L 43.78125 7.2 \n",
       "z\n",
       "\" style=\"fill: #ffffff\"/>\n",
       "   </g>\n",
       "   <g id=\"matplotlib.axis_1\">\n",
       "    <g id=\"xtick_1\">\n",
       "     <g id=\"line2d_1\">\n",
       "      <defs>\n",
       "       <path id=\"m99c6decbab\" d=\"M 0 0 \n",
       "L 0 3.5 \n",
       "\" style=\"stroke: #000000; stroke-width: 0.8\"/>\n",
       "      </defs>\n",
       "      <g>\n",
       "       <use xlink:href=\"#m99c6decbab\" x=\"62.791171\" y=\"316.44327\" style=\"stroke: #000000; stroke-width: 0.8\"/>\n",
       "      </g>\n",
       "     </g>\n",
       "     <g id=\"text_1\">\n",
       "      <!-- 0.0 -->\n",
       "      <g transform=\"translate(54.839609 331.041707) scale(0.1 -0.1)\">\n",
       "       <defs>\n",
       "        <path id=\"DejaVuSans-30\" d=\"M 2034 4250 \n",
       "Q 1547 4250 1301 3770 \n",
       "Q 1056 3291 1056 2328 \n",
       "Q 1056 1369 1301 889 \n",
       "Q 1547 409 2034 409 \n",
       "Q 2525 409 2770 889 \n",
       "Q 3016 1369 3016 2328 \n",
       "Q 3016 3291 2770 3770 \n",
       "Q 2525 4250 2034 4250 \n",
       "z\n",
       "M 2034 4750 \n",
       "Q 2819 4750 3233 4129 \n",
       "Q 3647 3509 3647 2328 \n",
       "Q 3647 1150 3233 529 \n",
       "Q 2819 -91 2034 -91 \n",
       "Q 1250 -91 836 529 \n",
       "Q 422 1150 422 2328 \n",
       "Q 422 3509 836 4129 \n",
       "Q 1250 4750 2034 4750 \n",
       "z\n",
       "\" transform=\"scale(0.015625)\"/>\n",
       "        <path id=\"DejaVuSans-2e\" d=\"M 684 794 \n",
       "L 1344 794 \n",
       "L 1344 0 \n",
       "L 684 0 \n",
       "L 684 794 \n",
       "z\n",
       "\" transform=\"scale(0.015625)\"/>\n",
       "       </defs>\n",
       "       <use xlink:href=\"#DejaVuSans-30\"/>\n",
       "       <use xlink:href=\"#DejaVuSans-2e\" x=\"63.623047\"/>\n",
       "       <use xlink:href=\"#DejaVuSans-30\" x=\"95.410156\"/>\n",
       "      </g>\n",
       "     </g>\n",
       "    </g>\n",
       "    <g id=\"xtick_2\">\n",
       "     <g id=\"line2d_2\">\n",
       "      <g>\n",
       "       <use xlink:href=\"#m99c6decbab\" x=\"123.30163\" y=\"316.44327\" style=\"stroke: #000000; stroke-width: 0.8\"/>\n",
       "      </g>\n",
       "     </g>\n",
       "     <g id=\"text_2\">\n",
       "      <!-- 0.5 -->\n",
       "      <g transform=\"translate(115.350068 331.041707) scale(0.1 -0.1)\">\n",
       "       <defs>\n",
       "        <path id=\"DejaVuSans-35\" d=\"M 691 4666 \n",
       "L 3169 4666 \n",
       "L 3169 4134 \n",
       "L 1269 4134 \n",
       "L 1269 2991 \n",
       "Q 1406 3038 1543 3061 \n",
       "Q 1681 3084 1819 3084 \n",
       "Q 2600 3084 3056 2656 \n",
       "Q 3513 2228 3513 1497 \n",
       "Q 3513 744 3044 326 \n",
       "Q 2575 -91 1722 -91 \n",
       "Q 1428 -91 1123 -41 \n",
       "Q 819 9 494 109 \n",
       "L 494 744 \n",
       "Q 775 591 1075 516 \n",
       "Q 1375 441 1709 441 \n",
       "Q 2250 441 2565 725 \n",
       "Q 2881 1009 2881 1497 \n",
       "Q 2881 1984 2565 2268 \n",
       "Q 2250 2553 1709 2553 \n",
       "Q 1456 2553 1204 2497 \n",
       "Q 953 2441 691 2322 \n",
       "L 691 4666 \n",
       "z\n",
       "\" transform=\"scale(0.015625)\"/>\n",
       "       </defs>\n",
       "       <use xlink:href=\"#DejaVuSans-30\"/>\n",
       "       <use xlink:href=\"#DejaVuSans-2e\" x=\"63.623047\"/>\n",
       "       <use xlink:href=\"#DejaVuSans-35\" x=\"95.410156\"/>\n",
       "      </g>\n",
       "     </g>\n",
       "    </g>\n",
       "    <g id=\"xtick_3\">\n",
       "     <g id=\"line2d_3\">\n",
       "      <g>\n",
       "       <use xlink:href=\"#m99c6decbab\" x=\"183.812089\" y=\"316.44327\" style=\"stroke: #000000; stroke-width: 0.8\"/>\n",
       "      </g>\n",
       "     </g>\n",
       "     <g id=\"text_3\">\n",
       "      <!-- 1.0 -->\n",
       "      <g transform=\"translate(175.860527 331.041707) scale(0.1 -0.1)\">\n",
       "       <defs>\n",
       "        <path id=\"DejaVuSans-31\" d=\"M 794 531 \n",
       "L 1825 531 \n",
       "L 1825 4091 \n",
       "L 703 3866 \n",
       "L 703 4441 \n",
       "L 1819 4666 \n",
       "L 2450 4666 \n",
       "L 2450 531 \n",
       "L 3481 531 \n",
       "L 3481 0 \n",
       "L 794 0 \n",
       "L 794 531 \n",
       "z\n",
       "\" transform=\"scale(0.015625)\"/>\n",
       "       </defs>\n",
       "       <use xlink:href=\"#DejaVuSans-31\"/>\n",
       "       <use xlink:href=\"#DejaVuSans-2e\" x=\"63.623047\"/>\n",
       "       <use xlink:href=\"#DejaVuSans-30\" x=\"95.410156\"/>\n",
       "      </g>\n",
       "     </g>\n",
       "    </g>\n",
       "    <g id=\"xtick_4\">\n",
       "     <g id=\"line2d_4\">\n",
       "      <g>\n",
       "       <use xlink:href=\"#m99c6decbab\" x=\"244.322549\" y=\"316.44327\" style=\"stroke: #000000; stroke-width: 0.8\"/>\n",
       "      </g>\n",
       "     </g>\n",
       "     <g id=\"text_4\">\n",
       "      <!-- 1.5 -->\n",
       "      <g transform=\"translate(236.370986 331.041707) scale(0.1 -0.1)\">\n",
       "       <use xlink:href=\"#DejaVuSans-31\"/>\n",
       "       <use xlink:href=\"#DejaVuSans-2e\" x=\"63.623047\"/>\n",
       "       <use xlink:href=\"#DejaVuSans-35\" x=\"95.410156\"/>\n",
       "      </g>\n",
       "     </g>\n",
       "    </g>\n",
       "    <g id=\"xtick_5\">\n",
       "     <g id=\"line2d_5\">\n",
       "      <g>\n",
       "       <use xlink:href=\"#m99c6decbab\" x=\"304.833008\" y=\"316.44327\" style=\"stroke: #000000; stroke-width: 0.8\"/>\n",
       "      </g>\n",
       "     </g>\n",
       "     <g id=\"text_5\">\n",
       "      <!-- 2.0 -->\n",
       "      <g transform=\"translate(296.881445 331.041707) scale(0.1 -0.1)\">\n",
       "       <defs>\n",
       "        <path id=\"DejaVuSans-32\" d=\"M 1228 531 \n",
       "L 3431 531 \n",
       "L 3431 0 \n",
       "L 469 0 \n",
       "L 469 531 \n",
       "Q 828 903 1448 1529 \n",
       "Q 2069 2156 2228 2338 \n",
       "Q 2531 2678 2651 2914 \n",
       "Q 2772 3150 2772 3378 \n",
       "Q 2772 3750 2511 3984 \n",
       "Q 2250 4219 1831 4219 \n",
       "Q 1534 4219 1204 4116 \n",
       "Q 875 4013 500 3803 \n",
       "L 500 4441 \n",
       "Q 881 4594 1212 4672 \n",
       "Q 1544 4750 1819 4750 \n",
       "Q 2544 4750 2975 4387 \n",
       "Q 3406 4025 3406 3419 \n",
       "Q 3406 3131 3298 2873 \n",
       "Q 3191 2616 2906 2266 \n",
       "Q 2828 2175 2409 1742 \n",
       "Q 1991 1309 1228 531 \n",
       "z\n",
       "\" transform=\"scale(0.015625)\"/>\n",
       "       </defs>\n",
       "       <use xlink:href=\"#DejaVuSans-32\"/>\n",
       "       <use xlink:href=\"#DejaVuSans-2e\" x=\"63.623047\"/>\n",
       "       <use xlink:href=\"#DejaVuSans-30\" x=\"95.410156\"/>\n",
       "      </g>\n",
       "     </g>\n",
       "    </g>\n",
       "    <g id=\"xtick_6\">\n",
       "     <g id=\"line2d_6\">\n",
       "      <g>\n",
       "       <use xlink:href=\"#m99c6decbab\" x=\"365.343467\" y=\"316.44327\" style=\"stroke: #000000; stroke-width: 0.8\"/>\n",
       "      </g>\n",
       "     </g>\n",
       "     <g id=\"text_6\">\n",
       "      <!-- 2.5 -->\n",
       "      <g transform=\"translate(357.391904 331.041707) scale(0.1 -0.1)\">\n",
       "       <use xlink:href=\"#DejaVuSans-32\"/>\n",
       "       <use xlink:href=\"#DejaVuSans-2e\" x=\"63.623047\"/>\n",
       "       <use xlink:href=\"#DejaVuSans-35\" x=\"95.410156\"/>\n",
       "      </g>\n",
       "     </g>\n",
       "    </g>\n",
       "    <g id=\"xtick_7\">\n",
       "     <g id=\"line2d_7\">\n",
       "      <g>\n",
       "       <use xlink:href=\"#m99c6decbab\" x=\"425.853926\" y=\"316.44327\" style=\"stroke: #000000; stroke-width: 0.8\"/>\n",
       "      </g>\n",
       "     </g>\n",
       "     <g id=\"text_7\">\n",
       "      <!-- 3.0 -->\n",
       "      <g transform=\"translate(417.902363 331.041707) scale(0.1 -0.1)\">\n",
       "       <defs>\n",
       "        <path id=\"DejaVuSans-33\" d=\"M 2597 2516 \n",
       "Q 3050 2419 3304 2112 \n",
       "Q 3559 1806 3559 1356 \n",
       "Q 3559 666 3084 287 \n",
       "Q 2609 -91 1734 -91 \n",
       "Q 1441 -91 1130 -33 \n",
       "Q 819 25 488 141 \n",
       "L 488 750 \n",
       "Q 750 597 1062 519 \n",
       "Q 1375 441 1716 441 \n",
       "Q 2309 441 2620 675 \n",
       "Q 2931 909 2931 1356 \n",
       "Q 2931 1769 2642 2001 \n",
       "Q 2353 2234 1838 2234 \n",
       "L 1294 2234 \n",
       "L 1294 2753 \n",
       "L 1863 2753 \n",
       "Q 2328 2753 2575 2939 \n",
       "Q 2822 3125 2822 3475 \n",
       "Q 2822 3834 2567 4026 \n",
       "Q 2313 4219 1838 4219 \n",
       "Q 1578 4219 1281 4162 \n",
       "Q 984 4106 628 3988 \n",
       "L 628 4550 \n",
       "Q 988 4650 1302 4700 \n",
       "Q 1616 4750 1894 4750 \n",
       "Q 2613 4750 3031 4423 \n",
       "Q 3450 4097 3450 3541 \n",
       "Q 3450 3153 3228 2886 \n",
       "Q 3006 2619 2597 2516 \n",
       "z\n",
       "\" transform=\"scale(0.015625)\"/>\n",
       "       </defs>\n",
       "       <use xlink:href=\"#DejaVuSans-33\"/>\n",
       "       <use xlink:href=\"#DejaVuSans-2e\" x=\"63.623047\"/>\n",
       "       <use xlink:href=\"#DejaVuSans-30\" x=\"95.410156\"/>\n",
       "      </g>\n",
       "     </g>\n",
       "    </g>\n",
       "    <g id=\"text_8\">\n",
       "     <!-- Angle [rad] -->\n",
       "     <g transform=\"translate(224.877104 344.719832) scale(0.1 -0.1)\">\n",
       "      <defs>\n",
       "       <path id=\"DejaVuSans-41\" d=\"M 2188 4044 \n",
       "L 1331 1722 \n",
       "L 3047 1722 \n",
       "L 2188 4044 \n",
       "z\n",
       "M 1831 4666 \n",
       "L 2547 4666 \n",
       "L 4325 0 \n",
       "L 3669 0 \n",
       "L 3244 1197 \n",
       "L 1141 1197 \n",
       "L 716 0 \n",
       "L 50 0 \n",
       "L 1831 4666 \n",
       "z\n",
       "\" transform=\"scale(0.015625)\"/>\n",
       "       <path id=\"DejaVuSans-6e\" d=\"M 3513 2113 \n",
       "L 3513 0 \n",
       "L 2938 0 \n",
       "L 2938 2094 \n",
       "Q 2938 2591 2744 2837 \n",
       "Q 2550 3084 2163 3084 \n",
       "Q 1697 3084 1428 2787 \n",
       "Q 1159 2491 1159 1978 \n",
       "L 1159 0 \n",
       "L 581 0 \n",
       "L 581 3500 \n",
       "L 1159 3500 \n",
       "L 1159 2956 \n",
       "Q 1366 3272 1645 3428 \n",
       "Q 1925 3584 2291 3584 \n",
       "Q 2894 3584 3203 3211 \n",
       "Q 3513 2838 3513 2113 \n",
       "z\n",
       "\" transform=\"scale(0.015625)\"/>\n",
       "       <path id=\"DejaVuSans-67\" d=\"M 2906 1791 \n",
       "Q 2906 2416 2648 2759 \n",
       "Q 2391 3103 1925 3103 \n",
       "Q 1463 3103 1205 2759 \n",
       "Q 947 2416 947 1791 \n",
       "Q 947 1169 1205 825 \n",
       "Q 1463 481 1925 481 \n",
       "Q 2391 481 2648 825 \n",
       "Q 2906 1169 2906 1791 \n",
       "z\n",
       "M 3481 434 \n",
       "Q 3481 -459 3084 -895 \n",
       "Q 2688 -1331 1869 -1331 \n",
       "Q 1566 -1331 1297 -1286 \n",
       "Q 1028 -1241 775 -1147 \n",
       "L 775 -588 \n",
       "Q 1028 -725 1275 -790 \n",
       "Q 1522 -856 1778 -856 \n",
       "Q 2344 -856 2625 -561 \n",
       "Q 2906 -266 2906 331 \n",
       "L 2906 616 \n",
       "Q 2728 306 2450 153 \n",
       "Q 2172 0 1784 0 \n",
       "Q 1141 0 747 490 \n",
       "Q 353 981 353 1791 \n",
       "Q 353 2603 747 3093 \n",
       "Q 1141 3584 1784 3584 \n",
       "Q 2172 3584 2450 3431 \n",
       "Q 2728 3278 2906 2969 \n",
       "L 2906 3500 \n",
       "L 3481 3500 \n",
       "L 3481 434 \n",
       "z\n",
       "\" transform=\"scale(0.015625)\"/>\n",
       "       <path id=\"DejaVuSans-6c\" d=\"M 603 4863 \n",
       "L 1178 4863 \n",
       "L 1178 0 \n",
       "L 603 0 \n",
       "L 603 4863 \n",
       "z\n",
       "\" transform=\"scale(0.015625)\"/>\n",
       "       <path id=\"DejaVuSans-65\" d=\"M 3597 1894 \n",
       "L 3597 1613 \n",
       "L 953 1613 \n",
       "Q 991 1019 1311 708 \n",
       "Q 1631 397 2203 397 \n",
       "Q 2534 397 2845 478 \n",
       "Q 3156 559 3463 722 \n",
       "L 3463 178 \n",
       "Q 3153 47 2828 -22 \n",
       "Q 2503 -91 2169 -91 \n",
       "Q 1331 -91 842 396 \n",
       "Q 353 884 353 1716 \n",
       "Q 353 2575 817 3079 \n",
       "Q 1281 3584 2069 3584 \n",
       "Q 2775 3584 3186 3129 \n",
       "Q 3597 2675 3597 1894 \n",
       "z\n",
       "M 3022 2063 \n",
       "Q 3016 2534 2758 2815 \n",
       "Q 2500 3097 2075 3097 \n",
       "Q 1594 3097 1305 2825 \n",
       "Q 1016 2553 972 2059 \n",
       "L 3022 2063 \n",
       "z\n",
       "\" transform=\"scale(0.015625)\"/>\n",
       "       <path id=\"DejaVuSans-20\" transform=\"scale(0.015625)\"/>\n",
       "       <path id=\"DejaVuSans-5b\" d=\"M 550 4863 \n",
       "L 1875 4863 \n",
       "L 1875 4416 \n",
       "L 1125 4416 \n",
       "L 1125 -397 \n",
       "L 1875 -397 \n",
       "L 1875 -844 \n",
       "L 550 -844 \n",
       "L 550 4863 \n",
       "z\n",
       "\" transform=\"scale(0.015625)\"/>\n",
       "       <path id=\"DejaVuSans-72\" d=\"M 2631 2963 \n",
       "Q 2534 3019 2420 3045 \n",
       "Q 2306 3072 2169 3072 \n",
       "Q 1681 3072 1420 2755 \n",
       "Q 1159 2438 1159 1844 \n",
       "L 1159 0 \n",
       "L 581 0 \n",
       "L 581 3500 \n",
       "L 1159 3500 \n",
       "L 1159 2956 \n",
       "Q 1341 3275 1631 3429 \n",
       "Q 1922 3584 2338 3584 \n",
       "Q 2397 3584 2469 3576 \n",
       "Q 2541 3569 2628 3553 \n",
       "L 2631 2963 \n",
       "z\n",
       "\" transform=\"scale(0.015625)\"/>\n",
       "       <path id=\"DejaVuSans-61\" d=\"M 2194 1759 \n",
       "Q 1497 1759 1228 1600 \n",
       "Q 959 1441 959 1056 \n",
       "Q 959 750 1161 570 \n",
       "Q 1363 391 1709 391 \n",
       "Q 2188 391 2477 730 \n",
       "Q 2766 1069 2766 1631 \n",
       "L 2766 1759 \n",
       "L 2194 1759 \n",
       "z\n",
       "M 3341 1997 \n",
       "L 3341 0 \n",
       "L 2766 0 \n",
       "L 2766 531 \n",
       "Q 2569 213 2275 61 \n",
       "Q 1981 -91 1556 -91 \n",
       "Q 1019 -91 701 211 \n",
       "Q 384 513 384 1019 \n",
       "Q 384 1609 779 1909 \n",
       "Q 1175 2209 1959 2209 \n",
       "L 2766 2209 \n",
       "L 2766 2266 \n",
       "Q 2766 2663 2505 2880 \n",
       "Q 2244 3097 1772 3097 \n",
       "Q 1472 3097 1187 3025 \n",
       "Q 903 2953 641 2809 \n",
       "L 641 3341 \n",
       "Q 956 3463 1253 3523 \n",
       "Q 1550 3584 1831 3584 \n",
       "Q 2591 3584 2966 3190 \n",
       "Q 3341 2797 3341 1997 \n",
       "z\n",
       "\" transform=\"scale(0.015625)\"/>\n",
       "       <path id=\"DejaVuSans-64\" d=\"M 2906 2969 \n",
       "L 2906 4863 \n",
       "L 3481 4863 \n",
       "L 3481 0 \n",
       "L 2906 0 \n",
       "L 2906 525 \n",
       "Q 2725 213 2448 61 \n",
       "Q 2172 -91 1784 -91 \n",
       "Q 1150 -91 751 415 \n",
       "Q 353 922 353 1747 \n",
       "Q 353 2572 751 3078 \n",
       "Q 1150 3584 1784 3584 \n",
       "Q 2172 3584 2448 3432 \n",
       "Q 2725 3281 2906 2969 \n",
       "z\n",
       "M 947 1747 \n",
       "Q 947 1113 1208 752 \n",
       "Q 1469 391 1925 391 \n",
       "Q 2381 391 2643 752 \n",
       "Q 2906 1113 2906 1747 \n",
       "Q 2906 2381 2643 2742 \n",
       "Q 2381 3103 1925 3103 \n",
       "Q 1469 3103 1208 2742 \n",
       "Q 947 2381 947 1747 \n",
       "z\n",
       "\" transform=\"scale(0.015625)\"/>\n",
       "       <path id=\"DejaVuSans-5d\" d=\"M 1947 4863 \n",
       "L 1947 -844 \n",
       "L 622 -844 \n",
       "L 622 -397 \n",
       "L 1369 -397 \n",
       "L 1369 4416 \n",
       "L 622 4416 \n",
       "L 622 4863 \n",
       "L 1947 4863 \n",
       "z\n",
       "\" transform=\"scale(0.015625)\"/>\n",
       "      </defs>\n",
       "      <use xlink:href=\"#DejaVuSans-41\"/>\n",
       "      <use xlink:href=\"#DejaVuSans-6e\" x=\"68.408203\"/>\n",
       "      <use xlink:href=\"#DejaVuSans-67\" x=\"131.787109\"/>\n",
       "      <use xlink:href=\"#DejaVuSans-6c\" x=\"195.263672\"/>\n",
       "      <use xlink:href=\"#DejaVuSans-65\" x=\"223.046875\"/>\n",
       "      <use xlink:href=\"#DejaVuSans-20\" x=\"284.570312\"/>\n",
       "      <use xlink:href=\"#DejaVuSans-5b\" x=\"316.357422\"/>\n",
       "      <use xlink:href=\"#DejaVuSans-72\" x=\"355.371094\"/>\n",
       "      <use xlink:href=\"#DejaVuSans-61\" x=\"396.484375\"/>\n",
       "      <use xlink:href=\"#DejaVuSans-64\" x=\"457.763672\"/>\n",
       "      <use xlink:href=\"#DejaVuSans-5d\" x=\"521.240234\"/>\n",
       "     </g>\n",
       "    </g>\n",
       "   </g>\n",
       "   <g id=\"matplotlib.axis_2\">\n",
       "    <g id=\"ytick_1\">\n",
       "     <g id=\"line2d_8\">\n",
       "      <defs>\n",
       "       <path id=\"m02689b0b93\" d=\"M 0 0 \n",
       "L -3.5 0 \n",
       "\" style=\"stroke: #000000; stroke-width: 0.8\"/>\n",
       "      </defs>\n",
       "      <g>\n",
       "       <use xlink:href=\"#m02689b0b93\" x=\"43.78125\" y=\"302.377547\" style=\"stroke: #000000; stroke-width: 0.8\"/>\n",
       "      </g>\n",
       "     </g>\n",
       "     <g id=\"text_9\">\n",
       "      <!-- 0.0 -->\n",
       "      <g transform=\"translate(20.878125 306.176766) scale(0.1 -0.1)\">\n",
       "       <use xlink:href=\"#DejaVuSans-30\"/>\n",
       "       <use xlink:href=\"#DejaVuSans-2e\" x=\"63.623047\"/>\n",
       "       <use xlink:href=\"#DejaVuSans-30\" x=\"95.410156\"/>\n",
       "      </g>\n",
       "     </g>\n",
       "    </g>\n",
       "    <g id=\"ytick_2\">\n",
       "     <g id=\"line2d_9\">\n",
       "      <g>\n",
       "       <use xlink:href=\"#m02689b0b93\" x=\"43.78125\" y=\"236.643038\" style=\"stroke: #000000; stroke-width: 0.8\"/>\n",
       "      </g>\n",
       "     </g>\n",
       "     <g id=\"text_10\">\n",
       "      <!-- 0.2 -->\n",
       "      <g transform=\"translate(20.878125 240.442257) scale(0.1 -0.1)\">\n",
       "       <use xlink:href=\"#DejaVuSans-30\"/>\n",
       "       <use xlink:href=\"#DejaVuSans-2e\" x=\"63.623047\"/>\n",
       "       <use xlink:href=\"#DejaVuSans-32\" x=\"95.410156\"/>\n",
       "      </g>\n",
       "     </g>\n",
       "    </g>\n",
       "    <g id=\"ytick_3\">\n",
       "     <g id=\"line2d_10\">\n",
       "      <g>\n",
       "       <use xlink:href=\"#m02689b0b93\" x=\"43.78125\" y=\"170.90853\" style=\"stroke: #000000; stroke-width: 0.8\"/>\n",
       "      </g>\n",
       "     </g>\n",
       "     <g id=\"text_11\">\n",
       "      <!-- 0.4 -->\n",
       "      <g transform=\"translate(20.878125 174.707748) scale(0.1 -0.1)\">\n",
       "       <defs>\n",
       "        <path id=\"DejaVuSans-34\" d=\"M 2419 4116 \n",
       "L 825 1625 \n",
       "L 2419 1625 \n",
       "L 2419 4116 \n",
       "z\n",
       "M 2253 4666 \n",
       "L 3047 4666 \n",
       "L 3047 1625 \n",
       "L 3713 1625 \n",
       "L 3713 1100 \n",
       "L 3047 1100 \n",
       "L 3047 0 \n",
       "L 2419 0 \n",
       "L 2419 1100 \n",
       "L 313 1100 \n",
       "L 313 1709 \n",
       "L 2253 4666 \n",
       "z\n",
       "\" transform=\"scale(0.015625)\"/>\n",
       "       </defs>\n",
       "       <use xlink:href=\"#DejaVuSans-30\"/>\n",
       "       <use xlink:href=\"#DejaVuSans-2e\" x=\"63.623047\"/>\n",
       "       <use xlink:href=\"#DejaVuSans-34\" x=\"95.410156\"/>\n",
       "      </g>\n",
       "     </g>\n",
       "    </g>\n",
       "    <g id=\"ytick_4\">\n",
       "     <g id=\"line2d_11\">\n",
       "      <g>\n",
       "       <use xlink:href=\"#m02689b0b93\" x=\"43.78125\" y=\"105.174021\" style=\"stroke: #000000; stroke-width: 0.8\"/>\n",
       "      </g>\n",
       "     </g>\n",
       "     <g id=\"text_12\">\n",
       "      <!-- 0.6 -->\n",
       "      <g transform=\"translate(20.878125 108.97324) scale(0.1 -0.1)\">\n",
       "       <defs>\n",
       "        <path id=\"DejaVuSans-36\" d=\"M 2113 2584 \n",
       "Q 1688 2584 1439 2293 \n",
       "Q 1191 2003 1191 1497 \n",
       "Q 1191 994 1439 701 \n",
       "Q 1688 409 2113 409 \n",
       "Q 2538 409 2786 701 \n",
       "Q 3034 994 3034 1497 \n",
       "Q 3034 2003 2786 2293 \n",
       "Q 2538 2584 2113 2584 \n",
       "z\n",
       "M 3366 4563 \n",
       "L 3366 3988 \n",
       "Q 3128 4100 2886 4159 \n",
       "Q 2644 4219 2406 4219 \n",
       "Q 1781 4219 1451 3797 \n",
       "Q 1122 3375 1075 2522 \n",
       "Q 1259 2794 1537 2939 \n",
       "Q 1816 3084 2150 3084 \n",
       "Q 2853 3084 3261 2657 \n",
       "Q 3669 2231 3669 1497 \n",
       "Q 3669 778 3244 343 \n",
       "Q 2819 -91 2113 -91 \n",
       "Q 1303 -91 875 529 \n",
       "Q 447 1150 447 2328 \n",
       "Q 447 3434 972 4092 \n",
       "Q 1497 4750 2381 4750 \n",
       "Q 2619 4750 2861 4703 \n",
       "Q 3103 4656 3366 4563 \n",
       "z\n",
       "\" transform=\"scale(0.015625)\"/>\n",
       "       </defs>\n",
       "       <use xlink:href=\"#DejaVuSans-30\"/>\n",
       "       <use xlink:href=\"#DejaVuSans-2e\" x=\"63.623047\"/>\n",
       "       <use xlink:href=\"#DejaVuSans-36\" x=\"95.410156\"/>\n",
       "      </g>\n",
       "     </g>\n",
       "    </g>\n",
       "    <g id=\"ytick_5\">\n",
       "     <g id=\"line2d_12\">\n",
       "      <g>\n",
       "       <use xlink:href=\"#m02689b0b93\" x=\"43.78125\" y=\"39.439512\" style=\"stroke: #000000; stroke-width: 0.8\"/>\n",
       "      </g>\n",
       "     </g>\n",
       "     <g id=\"text_13\">\n",
       "      <!-- 0.8 -->\n",
       "      <g transform=\"translate(20.878125 43.238731) scale(0.1 -0.1)\">\n",
       "       <defs>\n",
       "        <path id=\"DejaVuSans-38\" d=\"M 2034 2216 \n",
       "Q 1584 2216 1326 1975 \n",
       "Q 1069 1734 1069 1313 \n",
       "Q 1069 891 1326 650 \n",
       "Q 1584 409 2034 409 \n",
       "Q 2484 409 2743 651 \n",
       "Q 3003 894 3003 1313 \n",
       "Q 3003 1734 2745 1975 \n",
       "Q 2488 2216 2034 2216 \n",
       "z\n",
       "M 1403 2484 \n",
       "Q 997 2584 770 2862 \n",
       "Q 544 3141 544 3541 \n",
       "Q 544 4100 942 4425 \n",
       "Q 1341 4750 2034 4750 \n",
       "Q 2731 4750 3128 4425 \n",
       "Q 3525 4100 3525 3541 \n",
       "Q 3525 3141 3298 2862 \n",
       "Q 3072 2584 2669 2484 \n",
       "Q 3125 2378 3379 2068 \n",
       "Q 3634 1759 3634 1313 \n",
       "Q 3634 634 3220 271 \n",
       "Q 2806 -91 2034 -91 \n",
       "Q 1263 -91 848 271 \n",
       "Q 434 634 434 1313 \n",
       "Q 434 1759 690 2068 \n",
       "Q 947 2378 1403 2484 \n",
       "z\n",
       "M 1172 3481 \n",
       "Q 1172 3119 1398 2916 \n",
       "Q 1625 2713 2034 2713 \n",
       "Q 2441 2713 2670 2916 \n",
       "Q 2900 3119 2900 3481 \n",
       "Q 2900 3844 2670 4047 \n",
       "Q 2441 4250 2034 4250 \n",
       "Q 1625 4250 1398 4047 \n",
       "Q 1172 3844 1172 3481 \n",
       "z\n",
       "\" transform=\"scale(0.015625)\"/>\n",
       "       </defs>\n",
       "       <use xlink:href=\"#DejaVuSans-30\"/>\n",
       "       <use xlink:href=\"#DejaVuSans-2e\" x=\"63.623047\"/>\n",
       "       <use xlink:href=\"#DejaVuSans-38\" x=\"95.410156\"/>\n",
       "      </g>\n",
       "     </g>\n",
       "    </g>\n",
       "    <g id=\"text_14\">\n",
       "     <!-- ADF -->\n",
       "     <g transform=\"translate(14.798438 171.967729) rotate(-90) scale(0.1 -0.1)\">\n",
       "      <defs>\n",
       "       <path id=\"DejaVuSans-44\" d=\"M 1259 4147 \n",
       "L 1259 519 \n",
       "L 2022 519 \n",
       "Q 2988 519 3436 956 \n",
       "Q 3884 1394 3884 2338 \n",
       "Q 3884 3275 3436 3711 \n",
       "Q 2988 4147 2022 4147 \n",
       "L 1259 4147 \n",
       "z\n",
       "M 628 4666 \n",
       "L 1925 4666 \n",
       "Q 3281 4666 3915 4102 \n",
       "Q 4550 3538 4550 2338 \n",
       "Q 4550 1131 3912 565 \n",
       "Q 3275 0 1925 0 \n",
       "L 628 0 \n",
       "L 628 4666 \n",
       "z\n",
       "\" transform=\"scale(0.015625)\"/>\n",
       "       <path id=\"DejaVuSans-46\" d=\"M 628 4666 \n",
       "L 3309 4666 \n",
       "L 3309 4134 \n",
       "L 1259 4134 \n",
       "L 1259 2759 \n",
       "L 3109 2759 \n",
       "L 3109 2228 \n",
       "L 1259 2228 \n",
       "L 1259 0 \n",
       "L 628 0 \n",
       "L 628 4666 \n",
       "z\n",
       "\" transform=\"scale(0.015625)\"/>\n",
       "      </defs>\n",
       "      <use xlink:href=\"#DejaVuSans-41\"/>\n",
       "      <use xlink:href=\"#DejaVuSans-44\" x=\"68.408203\"/>\n",
       "      <use xlink:href=\"#DejaVuSans-46\" x=\"145.410156\"/>\n",
       "     </g>\n",
       "    </g>\n",
       "   </g>\n",
       "   <g id=\"line2d_13\">\n",
       "    <path d=\"M 62.791171 302.377547 \n",
       "L 157.202861 302.320547 \n",
       "L 159.754529 302.070855 \n",
       "L 162.306196 301.119526 \n",
       "L 164.857863 298.358967 \n",
       "L 167.409531 292.074491 \n",
       "L 169.961198 280.048797 \n",
       "L 172.512865 260.500817 \n",
       "L 175.064532 233.694215 \n",
       "L 177.6162 201.421953 \n",
       "L 182.719534 131.296787 \n",
       "L 185.271202 99.335581 \n",
       "L 187.822869 72.535371 \n",
       "L 190.374536 51.220632 \n",
       "L 192.926204 36.060535 \n",
       "L 195.477871 27.225064 \n",
       "L 198.029538 22.76611 \n",
       "L 200.581205 21.256512 \n",
       "L 203.132873 22.88712 \n",
       "L 205.68454 27.685576 \n",
       "L 208.236207 34.130977 \n",
       "L 210.787875 40.977943 \n",
       "L 213.339542 49.033872 \n",
       "L 215.891209 57.866385 \n",
       "L 218.442876 66.212155 \n",
       "L 220.994544 73.912244 \n",
       "L 223.546211 80.942419 \n",
       "L 226.097878 87.501641 \n",
       "L 228.649546 93.585639 \n",
       "L 231.201213 99.316285 \n",
       "L 233.75288 104.765827 \n",
       "L 236.304548 109.69836 \n",
       "L 238.856215 114.202606 \n",
       "L 241.407882 118.042601 \n",
       "L 243.959549 121.580786 \n",
       "L 246.511217 124.911782 \n",
       "L 249.062884 127.464942 \n",
       "L 251.614551 129.141783 \n",
       "L 254.166219 130.227131 \n",
       "L 256.717886 131.438817 \n",
       "L 259.269553 132.421668 \n",
       "L 264.372888 132.98311 \n",
       "L 266.924555 132.99841 \n",
       "L 274.579557 131.720175 \n",
       "L 279.682892 130.233713 \n",
       "L 284.786226 128.445696 \n",
       "L 287.337894 128.028597 \n",
       "L 300.09623 125.123045 \n",
       "L 302.647897 124.892799 \n",
       "L 305.199565 124.817984 \n",
       "L 307.751232 125.416255 \n",
       "L 310.302899 126.851605 \n",
       "L 312.854566 127.82421 \n",
       "L 315.406234 128.325372 \n",
       "L 317.957901 129.906083 \n",
       "L 323.061236 134.740859 \n",
       "L 325.612903 137.265103 \n",
       "L 328.16457 139.392906 \n",
       "L 330.716238 141.751542 \n",
       "L 335.819572 147.481512 \n",
       "L 338.371239 150.229469 \n",
       "L 343.474574 156.338258 \n",
       "L 353.681243 170.006389 \n",
       "L 358.784578 177.362177 \n",
       "L 363.887912 185.349089 \n",
       "L 366.43958 188.139802 \n",
       "L 368.991247 190.675134 \n",
       "L 371.542914 194.485724 \n",
       "L 374.094582 198.588984 \n",
       "L 379.197916 205.749906 \n",
       "L 384.301251 213.552218 \n",
       "L 386.852918 217.035961 \n",
       "L 391.956253 223.359613 \n",
       "L 399.611255 233.809363 \n",
       "L 402.162922 237.650778 \n",
       "L 407.266256 245.820459 \n",
       "L 417.472926 260.907788 \n",
       "L 422.57626 267.901829 \n",
       "L 425.127928 271.716919 \n",
       "L 432.782929 283.975794 \n",
       "L 437.886264 291.979306 \n",
       "L 440.437931 296.130978 \n",
       "L 442.989599 299.607094 \n",
       "L 442.989599 299.607094 \n",
       "\" clip-path=\"url(#pae17685d8d)\" style=\"fill: none; stroke: #1f77b4; stroke-width: 1.5; stroke-linecap: square\"/>\n",
       "   </g>\n",
       "   <g id=\"line2d_14\">\n",
       "    <path d=\"M 62.791171 302.377547 \n",
       "L 154.651194 302.355363 \n",
       "L 157.202861 302.204414 \n",
       "L 159.754529 301.458933 \n",
       "L 162.306196 298.927213 \n",
       "L 164.857863 292.769485 \n",
       "L 167.409531 281.51808 \n",
       "L 169.961198 265.769761 \n",
       "L 172.512865 248.325411 \n",
       "L 175.064532 232.137449 \n",
       "L 177.6162 218.960621 \n",
       "L 180.167867 209.222267 \n",
       "L 182.719534 202.530908 \n",
       "L 185.271202 197.43936 \n",
       "L 187.822869 193.234484 \n",
       "L 190.374536 189.357317 \n",
       "L 192.926204 184.7813 \n",
       "L 198.029538 174.578938 \n",
       "L 200.581205 170.22542 \n",
       "L 203.132873 166.172242 \n",
       "L 205.68454 161.687488 \n",
       "L 210.787875 152.088491 \n",
       "L 215.891209 143.524063 \n",
       "L 218.442876 138.569815 \n",
       "L 220.994544 132.856066 \n",
       "L 226.097878 120.439037 \n",
       "L 228.649546 113.531321 \n",
       "L 233.75288 96.936148 \n",
       "L 236.304548 89.708344 \n",
       "L 241.407882 76.271752 \n",
       "L 246.511217 62.681434 \n",
       "L 249.062884 56.318939 \n",
       "L 251.614551 50.852058 \n",
       "L 254.166219 46.624056 \n",
       "L 256.717886 43.500933 \n",
       "L 259.269553 40.612758 \n",
       "L 261.821221 38.086359 \n",
       "L 264.372888 36.802874 \n",
       "L 266.924555 36.235379 \n",
       "L 269.476222 36.082163 \n",
       "L 274.579557 36.199627 \n",
       "L 277.131224 37.48893 \n",
       "L 282.234559 41.899123 \n",
       "L 287.337894 45.661951 \n",
       "L 289.889561 47.975677 \n",
       "L 292.441228 50.987526 \n",
       "L 294.992895 54.687782 \n",
       "L 297.544563 58.699174 \n",
       "L 300.09623 63.276904 \n",
       "L 302.647897 68.445422 \n",
       "L 307.751232 79.292123 \n",
       "L 312.854566 89.546684 \n",
       "L 315.406234 95.696153 \n",
       "L 320.509568 109.001568 \n",
       "L 323.061236 114.965065 \n",
       "L 330.716238 133.979106 \n",
       "L 333.267905 139.492709 \n",
       "L 338.371239 149.542942 \n",
       "L 343.474574 160.9671 \n",
       "L 346.026241 166.154327 \n",
       "L 348.577909 170.733497 \n",
       "L 358.784578 187.106898 \n",
       "L 361.336245 191.182291 \n",
       "L 363.887912 194.993213 \n",
       "L 366.43958 198.529654 \n",
       "L 368.991247 202.663466 \n",
       "L 371.542914 207.027563 \n",
       "L 379.197916 219.008744 \n",
       "L 381.749584 222.651317 \n",
       "L 384.301251 226.555088 \n",
       "L 389.404585 234.724818 \n",
       "L 394.50792 242.306581 \n",
       "L 397.059587 245.768202 \n",
       "L 402.162922 253.041577 \n",
       "L 407.266256 258.640698 \n",
       "L 409.817924 261.779899 \n",
       "L 412.369591 265.197606 \n",
       "L 414.921258 268.300996 \n",
       "L 425.127928 279.425386 \n",
       "L 427.679595 282.368266 \n",
       "L 432.782929 288.641917 \n",
       "L 440.437931 297.644564 \n",
       "L 442.989599 300.238144 \n",
       "L 442.989599 300.238144 \n",
       "\" clip-path=\"url(#pae17685d8d)\" style=\"fill: none; stroke: #ff7f0e; stroke-width: 1.5; stroke-linecap: square\"/>\n",
       "   </g>\n",
       "   <g id=\"line2d_15\">\n",
       "    <path d=\"M 62.791171 302.37775 \n",
       "L 159.754529 302.37829 \n",
       "L 162.306196 301.216585 \n",
       "L 164.857863 297.156946 \n",
       "L 167.409531 286.110159 \n",
       "L 169.961198 268.7768 \n",
       "L 172.512865 249.921829 \n",
       "L 175.064532 232.199462 \n",
       "L 177.6162 217.490184 \n",
       "L 180.167867 206.538087 \n",
       "L 182.719534 198.107657 \n",
       "L 185.271202 193.263057 \n",
       "L 187.822869 189.407801 \n",
       "L 192.926204 185.002643 \n",
       "L 198.029538 179.498041 \n",
       "L 200.581205 176.538782 \n",
       "L 203.132873 173.390897 \n",
       "L 205.68454 169.689671 \n",
       "L 208.236207 164.816645 \n",
       "L 210.787875 159.213053 \n",
       "L 213.339542 153.884941 \n",
       "L 215.891209 148.250347 \n",
       "L 223.546211 128.176132 \n",
       "L 228.649546 113.258819 \n",
       "L 231.201213 106.719638 \n",
       "L 233.75288 98.990907 \n",
       "L 236.304548 92.512222 \n",
       "L 241.407882 79.09138 \n",
       "L 246.511217 67.124441 \n",
       "L 251.614551 55.935025 \n",
       "L 254.166219 51.104775 \n",
       "L 259.269553 43.349617 \n",
       "L 261.821221 39.948369 \n",
       "L 264.372888 37.352326 \n",
       "L 266.924555 35.54805 \n",
       "L 269.476222 34.385555 \n",
       "L 272.02789 33.997253 \n",
       "L 274.579557 34.40203 \n",
       "L 277.131224 35.380434 \n",
       "L 279.682892 36.948176 \n",
       "L 282.234559 39.272676 \n",
       "L 284.786226 42.349115 \n",
       "L 287.337894 45.993049 \n",
       "L 289.889561 50.058529 \n",
       "L 292.441228 54.478968 \n",
       "L 294.992895 59.266492 \n",
       "L 297.544563 64.534099 \n",
       "L 310.302899 92.882108 \n",
       "L 312.854566 98.711313 \n",
       "L 317.957901 109.266195 \n",
       "L 323.061236 120.477611 \n",
       "L 328.16457 130.865465 \n",
       "L 335.819572 145.672103 \n",
       "L 340.922907 154.857076 \n",
       "L 346.026241 163.816466 \n",
       "L 348.577909 168.092289 \n",
       "L 351.129576 172.150364 \n",
       "L 363.887912 191.180714 \n",
       "L 368.991247 198.452645 \n",
       "L 376.646249 209.535978 \n",
       "L 384.301251 220.101537 \n",
       "L 412.369591 258.304379 \n",
       "L 442.989599 300.604883 \n",
       "L 442.989599 300.604883 \n",
       "\" clip-path=\"url(#pae17685d8d)\" style=\"fill: none; stroke: #2ca02c; stroke-width: 1.5; stroke-linecap: square\"/>\n",
       "   </g>\n",
       "   <g id=\"patch_3\">\n",
       "    <path d=\"M 43.78125 316.44327 \n",
       "L 43.78125 7.2 \n",
       "\" style=\"fill: none; stroke: #000000; stroke-width: 0.8; stroke-linejoin: miter; stroke-linecap: square\"/>\n",
       "   </g>\n",
       "   <g id=\"patch_4\">\n",
       "    <path d=\"M 461.99952 316.44327 \n",
       "L 461.99952 7.2 \n",
       "\" style=\"fill: none; stroke: #000000; stroke-width: 0.8; stroke-linejoin: miter; stroke-linecap: square\"/>\n",
       "   </g>\n",
       "   <g id=\"patch_5\">\n",
       "    <path d=\"M 43.78125 316.44327 \n",
       "L 461.99952 316.44327 \n",
       "\" style=\"fill: none; stroke: #000000; stroke-width: 0.8; stroke-linejoin: miter; stroke-linecap: square\"/>\n",
       "   </g>\n",
       "   <g id=\"patch_6\">\n",
       "    <path d=\"M 43.78125 7.2 \n",
       "L 461.99952 7.2 \n",
       "\" style=\"fill: none; stroke: #000000; stroke-width: 0.8; stroke-linejoin: miter; stroke-linecap: square\"/>\n",
       "   </g>\n",
       "   <g id=\"legend_1\">\n",
       "    <g id=\"patch_7\">\n",
       "     <path d=\"M 372.646395 59.234375 \n",
       "L 454.99952 59.234375 \n",
       "Q 456.99952 59.234375 456.99952 57.234375 \n",
       "L 456.99952 14.2 \n",
       "Q 456.99952 12.2 454.99952 12.2 \n",
       "L 372.646395 12.2 \n",
       "Q 370.646395 12.2 370.646395 14.2 \n",
       "L 370.646395 57.234375 \n",
       "Q 370.646395 59.234375 372.646395 59.234375 \n",
       "z\n",
       "\" style=\"fill: #ffffff; opacity: 0.8; stroke: #cccccc; stroke-linejoin: miter\"/>\n",
       "    </g>\n",
       "    <g id=\"line2d_16\">\n",
       "     <path d=\"M 374.646395 20.298437 \n",
       "L 384.646395 20.298437 \n",
       "L 394.646395 20.298437 \n",
       "\" style=\"fill: none; stroke: #1f77b4; stroke-width: 1.5; stroke-linecap: square\"/>\n",
       "    </g>\n",
       "    <g id=\"text_15\">\n",
       "     <!-- Initial -->\n",
       "     <g transform=\"translate(402.646395 23.798437) scale(0.1 -0.1)\">\n",
       "      <defs>\n",
       "       <path id=\"DejaVuSans-49\" d=\"M 628 4666 \n",
       "L 1259 4666 \n",
       "L 1259 0 \n",
       "L 628 0 \n",
       "L 628 4666 \n",
       "z\n",
       "\" transform=\"scale(0.015625)\"/>\n",
       "       <path id=\"DejaVuSans-69\" d=\"M 603 3500 \n",
       "L 1178 3500 \n",
       "L 1178 0 \n",
       "L 603 0 \n",
       "L 603 3500 \n",
       "z\n",
       "M 603 4863 \n",
       "L 1178 4863 \n",
       "L 1178 4134 \n",
       "L 603 4134 \n",
       "L 603 4863 \n",
       "z\n",
       "\" transform=\"scale(0.015625)\"/>\n",
       "       <path id=\"DejaVuSans-74\" d=\"M 1172 4494 \n",
       "L 1172 3500 \n",
       "L 2356 3500 \n",
       "L 2356 3053 \n",
       "L 1172 3053 \n",
       "L 1172 1153 \n",
       "Q 1172 725 1289 603 \n",
       "Q 1406 481 1766 481 \n",
       "L 2356 481 \n",
       "L 2356 0 \n",
       "L 1766 0 \n",
       "Q 1100 0 847 248 \n",
       "Q 594 497 594 1153 \n",
       "L 594 3053 \n",
       "L 172 3053 \n",
       "L 172 3500 \n",
       "L 594 3500 \n",
       "L 594 4494 \n",
       "L 1172 4494 \n",
       "z\n",
       "\" transform=\"scale(0.015625)\"/>\n",
       "      </defs>\n",
       "      <use xlink:href=\"#DejaVuSans-49\"/>\n",
       "      <use xlink:href=\"#DejaVuSans-6e\" x=\"29.492188\"/>\n",
       "      <use xlink:href=\"#DejaVuSans-69\" x=\"92.871094\"/>\n",
       "      <use xlink:href=\"#DejaVuSans-74\" x=\"120.654297\"/>\n",
       "      <use xlink:href=\"#DejaVuSans-69\" x=\"159.863281\"/>\n",
       "      <use xlink:href=\"#DejaVuSans-61\" x=\"187.646484\"/>\n",
       "      <use xlink:href=\"#DejaVuSans-6c\" x=\"248.925781\"/>\n",
       "     </g>\n",
       "    </g>\n",
       "    <g id=\"line2d_17\">\n",
       "     <path d=\"M 374.646395 34.976562 \n",
       "L 384.646395 34.976562 \n",
       "L 394.646395 34.976562 \n",
       "\" style=\"fill: none; stroke: #ff7f0e; stroke-width: 1.5; stroke-linecap: square\"/>\n",
       "    </g>\n",
       "    <g id=\"text_16\">\n",
       "     <!-- Predicted -->\n",
       "     <g transform=\"translate(402.646395 38.476562) scale(0.1 -0.1)\">\n",
       "      <defs>\n",
       "       <path id=\"DejaVuSans-50\" d=\"M 1259 4147 \n",
       "L 1259 2394 \n",
       "L 2053 2394 \n",
       "Q 2494 2394 2734 2622 \n",
       "Q 2975 2850 2975 3272 \n",
       "Q 2975 3691 2734 3919 \n",
       "Q 2494 4147 2053 4147 \n",
       "L 1259 4147 \n",
       "z\n",
       "M 628 4666 \n",
       "L 2053 4666 \n",
       "Q 2838 4666 3239 4311 \n",
       "Q 3641 3956 3641 3272 \n",
       "Q 3641 2581 3239 2228 \n",
       "Q 2838 1875 2053 1875 \n",
       "L 1259 1875 \n",
       "L 1259 0 \n",
       "L 628 0 \n",
       "L 628 4666 \n",
       "z\n",
       "\" transform=\"scale(0.015625)\"/>\n",
       "       <path id=\"DejaVuSans-63\" d=\"M 3122 3366 \n",
       "L 3122 2828 \n",
       "Q 2878 2963 2633 3030 \n",
       "Q 2388 3097 2138 3097 \n",
       "Q 1578 3097 1268 2742 \n",
       "Q 959 2388 959 1747 \n",
       "Q 959 1106 1268 751 \n",
       "Q 1578 397 2138 397 \n",
       "Q 2388 397 2633 464 \n",
       "Q 2878 531 3122 666 \n",
       "L 3122 134 \n",
       "Q 2881 22 2623 -34 \n",
       "Q 2366 -91 2075 -91 \n",
       "Q 1284 -91 818 406 \n",
       "Q 353 903 353 1747 \n",
       "Q 353 2603 823 3093 \n",
       "Q 1294 3584 2113 3584 \n",
       "Q 2378 3584 2631 3529 \n",
       "Q 2884 3475 3122 3366 \n",
       "z\n",
       "\" transform=\"scale(0.015625)\"/>\n",
       "      </defs>\n",
       "      <use xlink:href=\"#DejaVuSans-50\"/>\n",
       "      <use xlink:href=\"#DejaVuSans-72\" x=\"58.552734\"/>\n",
       "      <use xlink:href=\"#DejaVuSans-65\" x=\"97.416016\"/>\n",
       "      <use xlink:href=\"#DejaVuSans-64\" x=\"158.939453\"/>\n",
       "      <use xlink:href=\"#DejaVuSans-69\" x=\"222.416016\"/>\n",
       "      <use xlink:href=\"#DejaVuSans-63\" x=\"250.199219\"/>\n",
       "      <use xlink:href=\"#DejaVuSans-74\" x=\"305.179688\"/>\n",
       "      <use xlink:href=\"#DejaVuSans-65\" x=\"344.388672\"/>\n",
       "      <use xlink:href=\"#DejaVuSans-64\" x=\"405.912109\"/>\n",
       "     </g>\n",
       "    </g>\n",
       "    <g id=\"line2d_18\">\n",
       "     <path d=\"M 374.646395 49.654687 \n",
       "L 384.646395 49.654687 \n",
       "L 394.646395 49.654687 \n",
       "\" style=\"fill: none; stroke: #2ca02c; stroke-width: 1.5; stroke-linecap: square\"/>\n",
       "    </g>\n",
       "    <g id=\"text_17\">\n",
       "     <!-- Reference -->\n",
       "     <g transform=\"translate(402.646395 53.154687) scale(0.1 -0.1)\">\n",
       "      <defs>\n",
       "       <path id=\"DejaVuSans-52\" d=\"M 2841 2188 \n",
       "Q 3044 2119 3236 1894 \n",
       "Q 3428 1669 3622 1275 \n",
       "L 4263 0 \n",
       "L 3584 0 \n",
       "L 2988 1197 \n",
       "Q 2756 1666 2539 1819 \n",
       "Q 2322 1972 1947 1972 \n",
       "L 1259 1972 \n",
       "L 1259 0 \n",
       "L 628 0 \n",
       "L 628 4666 \n",
       "L 2053 4666 \n",
       "Q 2853 4666 3247 4331 \n",
       "Q 3641 3997 3641 3322 \n",
       "Q 3641 2881 3436 2590 \n",
       "Q 3231 2300 2841 2188 \n",
       "z\n",
       "M 1259 4147 \n",
       "L 1259 2491 \n",
       "L 2053 2491 \n",
       "Q 2509 2491 2742 2702 \n",
       "Q 2975 2913 2975 3322 \n",
       "Q 2975 3731 2742 3939 \n",
       "Q 2509 4147 2053 4147 \n",
       "L 1259 4147 \n",
       "z\n",
       "\" transform=\"scale(0.015625)\"/>\n",
       "       <path id=\"DejaVuSans-66\" d=\"M 2375 4863 \n",
       "L 2375 4384 \n",
       "L 1825 4384 \n",
       "Q 1516 4384 1395 4259 \n",
       "Q 1275 4134 1275 3809 \n",
       "L 1275 3500 \n",
       "L 2222 3500 \n",
       "L 2222 3053 \n",
       "L 1275 3053 \n",
       "L 1275 0 \n",
       "L 697 0 \n",
       "L 697 3053 \n",
       "L 147 3053 \n",
       "L 147 3500 \n",
       "L 697 3500 \n",
       "L 697 3744 \n",
       "Q 697 4328 969 4595 \n",
       "Q 1241 4863 1831 4863 \n",
       "L 2375 4863 \n",
       "z\n",
       "\" transform=\"scale(0.015625)\"/>\n",
       "      </defs>\n",
       "      <use xlink:href=\"#DejaVuSans-52\"/>\n",
       "      <use xlink:href=\"#DejaVuSans-65\" x=\"64.982422\"/>\n",
       "      <use xlink:href=\"#DejaVuSans-66\" x=\"126.505859\"/>\n",
       "      <use xlink:href=\"#DejaVuSans-65\" x=\"161.710938\"/>\n",
       "      <use xlink:href=\"#DejaVuSans-72\" x=\"223.234375\"/>\n",
       "      <use xlink:href=\"#DejaVuSans-65\" x=\"262.097656\"/>\n",
       "      <use xlink:href=\"#DejaVuSans-6e\" x=\"323.621094\"/>\n",
       "      <use xlink:href=\"#DejaVuSans-63\" x=\"387\"/>\n",
       "      <use xlink:href=\"#DejaVuSans-65\" x=\"441.980469\"/>\n",
       "     </g>\n",
       "    </g>\n",
       "   </g>\n",
       "  </g>\n",
       " </g>\n",
       " <defs>\n",
       "  <clipPath id=\"pae17685d8d\">\n",
       "   <rect x=\"43.78125\" y=\"7.2\" width=\"418.21827\" height=\"309.24327\"/>\n",
       "  </clipPath>\n",
       " </defs>\n",
       "</svg>\n"
      ],
      "text/plain": [
       "<Figure size 640x480 with 1 Axes>"
      ]
     },
     "metadata": {},
     "output_type": "display_data"
    }
   ],
   "source": [
    "fig, ax = plt.subplots(1, 1, layout=\"constrained\")\n",
    "alpha = onp.linspace(0, onp.pi, 150)\n",
    "ax.plot(alpha, predicted_quantities[0][\"adf\"], label='Initial')\n",
    "ax.plot(alpha, predicted_quantities[num_updates][\"adf\"], label='Predicted')\n",
    "ax.plot(alpha, targets[\"adf\"][\"target\"], label='Reference')\n",
    "ax.set_xlabel(\"Angle [rad]\")\n",
    "ax.set_ylabel(\"ADF\")\n",
    "ax.legend()"
   ]
  },
  {
   "cell_type": "markdown",
   "id": "058dad6f",
   "metadata": {},
   "source": [
    "### Pressure"
   ]
  },
  {
   "cell_type": "code",
   "execution_count": 18,
   "id": "199cd44c",
   "metadata": {
    "execution": {
     "iopub.execute_input": "2024-06-13T03:29:18.428312Z",
     "iopub.status.busy": "2024-06-13T03:29:18.428136Z",
     "iopub.status.idle": "2024-06-13T03:29:18.591468Z",
     "shell.execute_reply": "2024-06-13T03:29:18.591042Z"
    },
    "tags": [
     "hide-input"
    ]
   },
   "outputs": [
    {
     "data": {
      "text/plain": [
       "<matplotlib.legend.Legend at 0x7fb19b7a5ae0>"
      ]
     },
     "execution_count": 18,
     "metadata": {},
     "output_type": "execute_result"
    },
    {
     "data": {
      "image/svg+xml": [
       "<?xml version=\"1.0\" encoding=\"utf-8\" standalone=\"no\"?>\n",
       "<!DOCTYPE svg PUBLIC \"-//W3C//DTD SVG 1.1//EN\"\n",
       "  \"http://www.w3.org/Graphics/SVG/1.1/DTD/svg11.dtd\">\n",
       "<svg xmlns:xlink=\"http://www.w3.org/1999/xlink\" width=\"469.19952pt\" height=\"353.999518pt\" viewBox=\"0 0 469.19952 353.999518\" xmlns=\"http://www.w3.org/2000/svg\" version=\"1.1\">\n",
       " <metadata>\n",
       "  <rdf:RDF xmlns:dc=\"http://purl.org/dc/elements/1.1/\" xmlns:cc=\"http://creativecommons.org/ns#\" xmlns:rdf=\"http://www.w3.org/1999/02/22-rdf-syntax-ns#\">\n",
       "   <cc:Work>\n",
       "    <dc:type rdf:resource=\"http://purl.org/dc/dcmitype/StillImage\"/>\n",
       "    <dc:date>2024-06-13T05:29:18.563891</dc:date>\n",
       "    <dc:format>image/svg+xml</dc:format>\n",
       "    <dc:creator>\n",
       "     <cc:Agent>\n",
       "      <dc:title>Matplotlib v3.8.0, https://matplotlib.org/</dc:title>\n",
       "     </cc:Agent>\n",
       "    </dc:creator>\n",
       "   </cc:Work>\n",
       "  </rdf:RDF>\n",
       " </metadata>\n",
       " <defs>\n",
       "  <style type=\"text/css\">*{stroke-linejoin: round; stroke-linecap: butt}</style>\n",
       " </defs>\n",
       " <g id=\"figure_1\">\n",
       "  <g id=\"patch_1\">\n",
       "   <path d=\"M 0 353.999518 \n",
       "L 469.19952 353.999518 \n",
       "L 469.19952 0 \n",
       "L 0 0 \n",
       "z\n",
       "\" style=\"fill: #ffffff\"/>\n",
       "  </g>\n",
       "  <g id=\"axes_1\">\n",
       "   <g id=\"patch_2\">\n",
       "    <path d=\"M 46.965625 316.443268 \n",
       "L 461.99952 316.443268 \n",
       "L 461.99952 10.597368 \n",
       "L 46.965625 10.597368 \n",
       "z\n",
       "\" style=\"fill: #ffffff\"/>\n",
       "   </g>\n",
       "   <g id=\"matplotlib.axis_1\">\n",
       "    <g id=\"xtick_1\">\n",
       "     <g id=\"line2d_1\">\n",
       "      <defs>\n",
       "       <path id=\"m173f867c76\" d=\"M 0 0 \n",
       "L 0 3.5 \n",
       "\" style=\"stroke: #000000; stroke-width: 0.8\"/>\n",
       "      </defs>\n",
       "      <g>\n",
       "       <use xlink:href=\"#m173f867c76\" x=\"65.830802\" y=\"316.443268\" style=\"stroke: #000000; stroke-width: 0.8\"/>\n",
       "      </g>\n",
       "     </g>\n",
       "     <g id=\"text_1\">\n",
       "      <!-- 0 -->\n",
       "      <g transform=\"translate(62.649552 331.041706) scale(0.1 -0.1)\">\n",
       "       <defs>\n",
       "        <path id=\"DejaVuSans-30\" d=\"M 2034 4250 \n",
       "Q 1547 4250 1301 3770 \n",
       "Q 1056 3291 1056 2328 \n",
       "Q 1056 1369 1301 889 \n",
       "Q 1547 409 2034 409 \n",
       "Q 2525 409 2770 889 \n",
       "Q 3016 1369 3016 2328 \n",
       "Q 3016 3291 2770 3770 \n",
       "Q 2525 4250 2034 4250 \n",
       "z\n",
       "M 2034 4750 \n",
       "Q 2819 4750 3233 4129 \n",
       "Q 3647 3509 3647 2328 \n",
       "Q 3647 1150 3233 529 \n",
       "Q 2819 -91 2034 -91 \n",
       "Q 1250 -91 836 529 \n",
       "Q 422 1150 422 2328 \n",
       "Q 422 3509 836 4129 \n",
       "Q 1250 4750 2034 4750 \n",
       "z\n",
       "\" transform=\"scale(0.015625)\"/>\n",
       "       </defs>\n",
       "       <use xlink:href=\"#DejaVuSans-30\"/>\n",
       "      </g>\n",
       "     </g>\n",
       "    </g>\n",
       "    <g id=\"xtick_2\">\n",
       "     <g id=\"line2d_2\">\n",
       "      <g>\n",
       "       <use xlink:href=\"#m173f867c76\" x=\"128.92504\" y=\"316.443268\" style=\"stroke: #000000; stroke-width: 0.8\"/>\n",
       "      </g>\n",
       "     </g>\n",
       "     <g id=\"text_2\">\n",
       "      <!-- 50 -->\n",
       "      <g transform=\"translate(122.56254 331.041706) scale(0.1 -0.1)\">\n",
       "       <defs>\n",
       "        <path id=\"DejaVuSans-35\" d=\"M 691 4666 \n",
       "L 3169 4666 \n",
       "L 3169 4134 \n",
       "L 1269 4134 \n",
       "L 1269 2991 \n",
       "Q 1406 3038 1543 3061 \n",
       "Q 1681 3084 1819 3084 \n",
       "Q 2600 3084 3056 2656 \n",
       "Q 3513 2228 3513 1497 \n",
       "Q 3513 744 3044 326 \n",
       "Q 2575 -91 1722 -91 \n",
       "Q 1428 -91 1123 -41 \n",
       "Q 819 9 494 109 \n",
       "L 494 744 \n",
       "Q 775 591 1075 516 \n",
       "Q 1375 441 1709 441 \n",
       "Q 2250 441 2565 725 \n",
       "Q 2881 1009 2881 1497 \n",
       "Q 2881 1984 2565 2268 \n",
       "Q 2250 2553 1709 2553 \n",
       "Q 1456 2553 1204 2497 \n",
       "Q 953 2441 691 2322 \n",
       "L 691 4666 \n",
       "z\n",
       "\" transform=\"scale(0.015625)\"/>\n",
       "       </defs>\n",
       "       <use xlink:href=\"#DejaVuSans-35\"/>\n",
       "       <use xlink:href=\"#DejaVuSans-30\" x=\"63.623047\"/>\n",
       "      </g>\n",
       "     </g>\n",
       "    </g>\n",
       "    <g id=\"xtick_3\">\n",
       "     <g id=\"line2d_3\">\n",
       "      <g>\n",
       "       <use xlink:href=\"#m173f867c76\" x=\"192.019277\" y=\"316.443268\" style=\"stroke: #000000; stroke-width: 0.8\"/>\n",
       "      </g>\n",
       "     </g>\n",
       "     <g id=\"text_3\">\n",
       "      <!-- 100 -->\n",
       "      <g transform=\"translate(182.475527 331.041706) scale(0.1 -0.1)\">\n",
       "       <defs>\n",
       "        <path id=\"DejaVuSans-31\" d=\"M 794 531 \n",
       "L 1825 531 \n",
       "L 1825 4091 \n",
       "L 703 3866 \n",
       "L 703 4441 \n",
       "L 1819 4666 \n",
       "L 2450 4666 \n",
       "L 2450 531 \n",
       "L 3481 531 \n",
       "L 3481 0 \n",
       "L 794 0 \n",
       "L 794 531 \n",
       "z\n",
       "\" transform=\"scale(0.015625)\"/>\n",
       "       </defs>\n",
       "       <use xlink:href=\"#DejaVuSans-31\"/>\n",
       "       <use xlink:href=\"#DejaVuSans-30\" x=\"63.623047\"/>\n",
       "       <use xlink:href=\"#DejaVuSans-30\" x=\"127.246094\"/>\n",
       "      </g>\n",
       "     </g>\n",
       "    </g>\n",
       "    <g id=\"xtick_4\">\n",
       "     <g id=\"line2d_4\">\n",
       "      <g>\n",
       "       <use xlink:href=\"#m173f867c76\" x=\"255.113515\" y=\"316.443268\" style=\"stroke: #000000; stroke-width: 0.8\"/>\n",
       "      </g>\n",
       "     </g>\n",
       "     <g id=\"text_4\">\n",
       "      <!-- 150 -->\n",
       "      <g transform=\"translate(245.569765 331.041706) scale(0.1 -0.1)\">\n",
       "       <use xlink:href=\"#DejaVuSans-31\"/>\n",
       "       <use xlink:href=\"#DejaVuSans-35\" x=\"63.623047\"/>\n",
       "       <use xlink:href=\"#DejaVuSans-30\" x=\"127.246094\"/>\n",
       "      </g>\n",
       "     </g>\n",
       "    </g>\n",
       "    <g id=\"xtick_5\">\n",
       "     <g id=\"line2d_5\">\n",
       "      <g>\n",
       "       <use xlink:href=\"#m173f867c76\" x=\"318.207752\" y=\"316.443268\" style=\"stroke: #000000; stroke-width: 0.8\"/>\n",
       "      </g>\n",
       "     </g>\n",
       "     <g id=\"text_5\">\n",
       "      <!-- 200 -->\n",
       "      <g transform=\"translate(308.664002 331.041706) scale(0.1 -0.1)\">\n",
       "       <defs>\n",
       "        <path id=\"DejaVuSans-32\" d=\"M 1228 531 \n",
       "L 3431 531 \n",
       "L 3431 0 \n",
       "L 469 0 \n",
       "L 469 531 \n",
       "Q 828 903 1448 1529 \n",
       "Q 2069 2156 2228 2338 \n",
       "Q 2531 2678 2651 2914 \n",
       "Q 2772 3150 2772 3378 \n",
       "Q 2772 3750 2511 3984 \n",
       "Q 2250 4219 1831 4219 \n",
       "Q 1534 4219 1204 4116 \n",
       "Q 875 4013 500 3803 \n",
       "L 500 4441 \n",
       "Q 881 4594 1212 4672 \n",
       "Q 1544 4750 1819 4750 \n",
       "Q 2544 4750 2975 4387 \n",
       "Q 3406 4025 3406 3419 \n",
       "Q 3406 3131 3298 2873 \n",
       "Q 3191 2616 2906 2266 \n",
       "Q 2828 2175 2409 1742 \n",
       "Q 1991 1309 1228 531 \n",
       "z\n",
       "\" transform=\"scale(0.015625)\"/>\n",
       "       </defs>\n",
       "       <use xlink:href=\"#DejaVuSans-32\"/>\n",
       "       <use xlink:href=\"#DejaVuSans-30\" x=\"63.623047\"/>\n",
       "       <use xlink:href=\"#DejaVuSans-30\" x=\"127.246094\"/>\n",
       "      </g>\n",
       "     </g>\n",
       "    </g>\n",
       "    <g id=\"xtick_6\">\n",
       "     <g id=\"line2d_6\">\n",
       "      <g>\n",
       "       <use xlink:href=\"#m173f867c76\" x=\"381.30199\" y=\"316.443268\" style=\"stroke: #000000; stroke-width: 0.8\"/>\n",
       "      </g>\n",
       "     </g>\n",
       "     <g id=\"text_6\">\n",
       "      <!-- 250 -->\n",
       "      <g transform=\"translate(371.75824 331.041706) scale(0.1 -0.1)\">\n",
       "       <use xlink:href=\"#DejaVuSans-32\"/>\n",
       "       <use xlink:href=\"#DejaVuSans-35\" x=\"63.623047\"/>\n",
       "       <use xlink:href=\"#DejaVuSans-30\" x=\"127.246094\"/>\n",
       "      </g>\n",
       "     </g>\n",
       "    </g>\n",
       "    <g id=\"xtick_7\">\n",
       "     <g id=\"line2d_7\">\n",
       "      <g>\n",
       "       <use xlink:href=\"#m173f867c76\" x=\"444.396228\" y=\"316.443268\" style=\"stroke: #000000; stroke-width: 0.8\"/>\n",
       "      </g>\n",
       "     </g>\n",
       "     <g id=\"text_7\">\n",
       "      <!-- 300 -->\n",
       "      <g transform=\"translate(434.852478 331.041706) scale(0.1 -0.1)\">\n",
       "       <defs>\n",
       "        <path id=\"DejaVuSans-33\" d=\"M 2597 2516 \n",
       "Q 3050 2419 3304 2112 \n",
       "Q 3559 1806 3559 1356 \n",
       "Q 3559 666 3084 287 \n",
       "Q 2609 -91 1734 -91 \n",
       "Q 1441 -91 1130 -33 \n",
       "Q 819 25 488 141 \n",
       "L 488 750 \n",
       "Q 750 597 1062 519 \n",
       "Q 1375 441 1716 441 \n",
       "Q 2309 441 2620 675 \n",
       "Q 2931 909 2931 1356 \n",
       "Q 2931 1769 2642 2001 \n",
       "Q 2353 2234 1838 2234 \n",
       "L 1294 2234 \n",
       "L 1294 2753 \n",
       "L 1863 2753 \n",
       "Q 2328 2753 2575 2939 \n",
       "Q 2822 3125 2822 3475 \n",
       "Q 2822 3834 2567 4026 \n",
       "Q 2313 4219 1838 4219 \n",
       "Q 1578 4219 1281 4162 \n",
       "Q 984 4106 628 3988 \n",
       "L 628 4550 \n",
       "Q 988 4650 1302 4700 \n",
       "Q 1616 4750 1894 4750 \n",
       "Q 2613 4750 3031 4423 \n",
       "Q 3450 4097 3450 3541 \n",
       "Q 3450 3153 3228 2886 \n",
       "Q 3006 2619 2597 2516 \n",
       "z\n",
       "\" transform=\"scale(0.015625)\"/>\n",
       "       </defs>\n",
       "       <use xlink:href=\"#DejaVuSans-33\"/>\n",
       "       <use xlink:href=\"#DejaVuSans-30\" x=\"63.623047\"/>\n",
       "       <use xlink:href=\"#DejaVuSans-30\" x=\"127.246094\"/>\n",
       "      </g>\n",
       "     </g>\n",
       "    </g>\n",
       "    <g id=\"text_8\">\n",
       "     <!-- Update Step -->\n",
       "     <g transform=\"translate(223.39976 344.719831) scale(0.1 -0.1)\">\n",
       "      <defs>\n",
       "       <path id=\"DejaVuSans-55\" d=\"M 556 4666 \n",
       "L 1191 4666 \n",
       "L 1191 1831 \n",
       "Q 1191 1081 1462 751 \n",
       "Q 1734 422 2344 422 \n",
       "Q 2950 422 3222 751 \n",
       "Q 3494 1081 3494 1831 \n",
       "L 3494 4666 \n",
       "L 4128 4666 \n",
       "L 4128 1753 \n",
       "Q 4128 841 3676 375 \n",
       "Q 3225 -91 2344 -91 \n",
       "Q 1459 -91 1007 375 \n",
       "Q 556 841 556 1753 \n",
       "L 556 4666 \n",
       "z\n",
       "\" transform=\"scale(0.015625)\"/>\n",
       "       <path id=\"DejaVuSans-70\" d=\"M 1159 525 \n",
       "L 1159 -1331 \n",
       "L 581 -1331 \n",
       "L 581 3500 \n",
       "L 1159 3500 \n",
       "L 1159 2969 \n",
       "Q 1341 3281 1617 3432 \n",
       "Q 1894 3584 2278 3584 \n",
       "Q 2916 3584 3314 3078 \n",
       "Q 3713 2572 3713 1747 \n",
       "Q 3713 922 3314 415 \n",
       "Q 2916 -91 2278 -91 \n",
       "Q 1894 -91 1617 61 \n",
       "Q 1341 213 1159 525 \n",
       "z\n",
       "M 3116 1747 \n",
       "Q 3116 2381 2855 2742 \n",
       "Q 2594 3103 2138 3103 \n",
       "Q 1681 3103 1420 2742 \n",
       "Q 1159 2381 1159 1747 \n",
       "Q 1159 1113 1420 752 \n",
       "Q 1681 391 2138 391 \n",
       "Q 2594 391 2855 752 \n",
       "Q 3116 1113 3116 1747 \n",
       "z\n",
       "\" transform=\"scale(0.015625)\"/>\n",
       "       <path id=\"DejaVuSans-64\" d=\"M 2906 2969 \n",
       "L 2906 4863 \n",
       "L 3481 4863 \n",
       "L 3481 0 \n",
       "L 2906 0 \n",
       "L 2906 525 \n",
       "Q 2725 213 2448 61 \n",
       "Q 2172 -91 1784 -91 \n",
       "Q 1150 -91 751 415 \n",
       "Q 353 922 353 1747 \n",
       "Q 353 2572 751 3078 \n",
       "Q 1150 3584 1784 3584 \n",
       "Q 2172 3584 2448 3432 \n",
       "Q 2725 3281 2906 2969 \n",
       "z\n",
       "M 947 1747 \n",
       "Q 947 1113 1208 752 \n",
       "Q 1469 391 1925 391 \n",
       "Q 2381 391 2643 752 \n",
       "Q 2906 1113 2906 1747 \n",
       "Q 2906 2381 2643 2742 \n",
       "Q 2381 3103 1925 3103 \n",
       "Q 1469 3103 1208 2742 \n",
       "Q 947 2381 947 1747 \n",
       "z\n",
       "\" transform=\"scale(0.015625)\"/>\n",
       "       <path id=\"DejaVuSans-61\" d=\"M 2194 1759 \n",
       "Q 1497 1759 1228 1600 \n",
       "Q 959 1441 959 1056 \n",
       "Q 959 750 1161 570 \n",
       "Q 1363 391 1709 391 \n",
       "Q 2188 391 2477 730 \n",
       "Q 2766 1069 2766 1631 \n",
       "L 2766 1759 \n",
       "L 2194 1759 \n",
       "z\n",
       "M 3341 1997 \n",
       "L 3341 0 \n",
       "L 2766 0 \n",
       "L 2766 531 \n",
       "Q 2569 213 2275 61 \n",
       "Q 1981 -91 1556 -91 \n",
       "Q 1019 -91 701 211 \n",
       "Q 384 513 384 1019 \n",
       "Q 384 1609 779 1909 \n",
       "Q 1175 2209 1959 2209 \n",
       "L 2766 2209 \n",
       "L 2766 2266 \n",
       "Q 2766 2663 2505 2880 \n",
       "Q 2244 3097 1772 3097 \n",
       "Q 1472 3097 1187 3025 \n",
       "Q 903 2953 641 2809 \n",
       "L 641 3341 \n",
       "Q 956 3463 1253 3523 \n",
       "Q 1550 3584 1831 3584 \n",
       "Q 2591 3584 2966 3190 \n",
       "Q 3341 2797 3341 1997 \n",
       "z\n",
       "\" transform=\"scale(0.015625)\"/>\n",
       "       <path id=\"DejaVuSans-74\" d=\"M 1172 4494 \n",
       "L 1172 3500 \n",
       "L 2356 3500 \n",
       "L 2356 3053 \n",
       "L 1172 3053 \n",
       "L 1172 1153 \n",
       "Q 1172 725 1289 603 \n",
       "Q 1406 481 1766 481 \n",
       "L 2356 481 \n",
       "L 2356 0 \n",
       "L 1766 0 \n",
       "Q 1100 0 847 248 \n",
       "Q 594 497 594 1153 \n",
       "L 594 3053 \n",
       "L 172 3053 \n",
       "L 172 3500 \n",
       "L 594 3500 \n",
       "L 594 4494 \n",
       "L 1172 4494 \n",
       "z\n",
       "\" transform=\"scale(0.015625)\"/>\n",
       "       <path id=\"DejaVuSans-65\" d=\"M 3597 1894 \n",
       "L 3597 1613 \n",
       "L 953 1613 \n",
       "Q 991 1019 1311 708 \n",
       "Q 1631 397 2203 397 \n",
       "Q 2534 397 2845 478 \n",
       "Q 3156 559 3463 722 \n",
       "L 3463 178 \n",
       "Q 3153 47 2828 -22 \n",
       "Q 2503 -91 2169 -91 \n",
       "Q 1331 -91 842 396 \n",
       "Q 353 884 353 1716 \n",
       "Q 353 2575 817 3079 \n",
       "Q 1281 3584 2069 3584 \n",
       "Q 2775 3584 3186 3129 \n",
       "Q 3597 2675 3597 1894 \n",
       "z\n",
       "M 3022 2063 \n",
       "Q 3016 2534 2758 2815 \n",
       "Q 2500 3097 2075 3097 \n",
       "Q 1594 3097 1305 2825 \n",
       "Q 1016 2553 972 2059 \n",
       "L 3022 2063 \n",
       "z\n",
       "\" transform=\"scale(0.015625)\"/>\n",
       "       <path id=\"DejaVuSans-20\" transform=\"scale(0.015625)\"/>\n",
       "       <path id=\"DejaVuSans-53\" d=\"M 3425 4513 \n",
       "L 3425 3897 \n",
       "Q 3066 4069 2747 4153 \n",
       "Q 2428 4238 2131 4238 \n",
       "Q 1616 4238 1336 4038 \n",
       "Q 1056 3838 1056 3469 \n",
       "Q 1056 3159 1242 3001 \n",
       "Q 1428 2844 1947 2747 \n",
       "L 2328 2669 \n",
       "Q 3034 2534 3370 2195 \n",
       "Q 3706 1856 3706 1288 \n",
       "Q 3706 609 3251 259 \n",
       "Q 2797 -91 1919 -91 \n",
       "Q 1588 -91 1214 -16 \n",
       "Q 841 59 441 206 \n",
       "L 441 856 \n",
       "Q 825 641 1194 531 \n",
       "Q 1563 422 1919 422 \n",
       "Q 2459 422 2753 634 \n",
       "Q 3047 847 3047 1241 \n",
       "Q 3047 1584 2836 1778 \n",
       "Q 2625 1972 2144 2069 \n",
       "L 1759 2144 \n",
       "Q 1053 2284 737 2584 \n",
       "Q 422 2884 422 3419 \n",
       "Q 422 4038 858 4394 \n",
       "Q 1294 4750 2059 4750 \n",
       "Q 2388 4750 2728 4690 \n",
       "Q 3069 4631 3425 4513 \n",
       "z\n",
       "\" transform=\"scale(0.015625)\"/>\n",
       "      </defs>\n",
       "      <use xlink:href=\"#DejaVuSans-55\"/>\n",
       "      <use xlink:href=\"#DejaVuSans-70\" x=\"73.193359\"/>\n",
       "      <use xlink:href=\"#DejaVuSans-64\" x=\"136.669922\"/>\n",
       "      <use xlink:href=\"#DejaVuSans-61\" x=\"200.146484\"/>\n",
       "      <use xlink:href=\"#DejaVuSans-74\" x=\"261.425781\"/>\n",
       "      <use xlink:href=\"#DejaVuSans-65\" x=\"300.634766\"/>\n",
       "      <use xlink:href=\"#DejaVuSans-20\" x=\"362.158203\"/>\n",
       "      <use xlink:href=\"#DejaVuSans-53\" x=\"393.945312\"/>\n",
       "      <use xlink:href=\"#DejaVuSans-74\" x=\"457.421875\"/>\n",
       "      <use xlink:href=\"#DejaVuSans-65\" x=\"496.630859\"/>\n",
       "      <use xlink:href=\"#DejaVuSans-70\" x=\"558.154297\"/>\n",
       "     </g>\n",
       "    </g>\n",
       "   </g>\n",
       "   <g id=\"matplotlib.axis_2\">\n",
       "    <g id=\"ytick_1\">\n",
       "     <g id=\"line2d_8\">\n",
       "      <defs>\n",
       "       <path id=\"m8304421021\" d=\"M 0 0 \n",
       "L -3.5 0 \n",
       "\" style=\"stroke: #000000; stroke-width: 0.8\"/>\n",
       "      </defs>\n",
       "      <g>\n",
       "       <use xlink:href=\"#m8304421021\" x=\"46.965625\" y=\"298.332407\" style=\"stroke: #000000; stroke-width: 0.8\"/>\n",
       "      </g>\n",
       "     </g>\n",
       "     <g id=\"text_9\">\n",
       "      <!-- 0 -->\n",
       "      <g transform=\"translate(33.603125 302.131626) scale(0.1 -0.1)\">\n",
       "       <use xlink:href=\"#DejaVuSans-30\"/>\n",
       "      </g>\n",
       "     </g>\n",
       "    </g>\n",
       "    <g id=\"ytick_2\">\n",
       "     <g id=\"line2d_9\">\n",
       "      <g>\n",
       "       <use xlink:href=\"#m8304421021\" x=\"46.965625\" y=\"257.284809\" style=\"stroke: #000000; stroke-width: 0.8\"/>\n",
       "      </g>\n",
       "     </g>\n",
       "     <g id=\"text_10\">\n",
       "      <!-- 100 -->\n",
       "      <g transform=\"translate(20.878125 261.084028) scale(0.1 -0.1)\">\n",
       "       <use xlink:href=\"#DejaVuSans-31\"/>\n",
       "       <use xlink:href=\"#DejaVuSans-30\" x=\"63.623047\"/>\n",
       "       <use xlink:href=\"#DejaVuSans-30\" x=\"127.246094\"/>\n",
       "      </g>\n",
       "     </g>\n",
       "    </g>\n",
       "    <g id=\"ytick_3\">\n",
       "     <g id=\"line2d_10\">\n",
       "      <g>\n",
       "       <use xlink:href=\"#m8304421021\" x=\"46.965625\" y=\"216.23721\" style=\"stroke: #000000; stroke-width: 0.8\"/>\n",
       "      </g>\n",
       "     </g>\n",
       "     <g id=\"text_11\">\n",
       "      <!-- 200 -->\n",
       "      <g transform=\"translate(20.878125 220.036429) scale(0.1 -0.1)\">\n",
       "       <use xlink:href=\"#DejaVuSans-32\"/>\n",
       "       <use xlink:href=\"#DejaVuSans-30\" x=\"63.623047\"/>\n",
       "       <use xlink:href=\"#DejaVuSans-30\" x=\"127.246094\"/>\n",
       "      </g>\n",
       "     </g>\n",
       "    </g>\n",
       "    <g id=\"ytick_4\">\n",
       "     <g id=\"line2d_11\">\n",
       "      <g>\n",
       "       <use xlink:href=\"#m8304421021\" x=\"46.965625\" y=\"175.189612\" style=\"stroke: #000000; stroke-width: 0.8\"/>\n",
       "      </g>\n",
       "     </g>\n",
       "     <g id=\"text_12\">\n",
       "      <!-- 300 -->\n",
       "      <g transform=\"translate(20.878125 178.988831) scale(0.1 -0.1)\">\n",
       "       <use xlink:href=\"#DejaVuSans-33\"/>\n",
       "       <use xlink:href=\"#DejaVuSans-30\" x=\"63.623047\"/>\n",
       "       <use xlink:href=\"#DejaVuSans-30\" x=\"127.246094\"/>\n",
       "      </g>\n",
       "     </g>\n",
       "    </g>\n",
       "    <g id=\"ytick_5\">\n",
       "     <g id=\"line2d_12\">\n",
       "      <g>\n",
       "       <use xlink:href=\"#m8304421021\" x=\"46.965625\" y=\"134.142014\" style=\"stroke: #000000; stroke-width: 0.8\"/>\n",
       "      </g>\n",
       "     </g>\n",
       "     <g id=\"text_13\">\n",
       "      <!-- 400 -->\n",
       "      <g transform=\"translate(20.878125 137.941233) scale(0.1 -0.1)\">\n",
       "       <defs>\n",
       "        <path id=\"DejaVuSans-34\" d=\"M 2419 4116 \n",
       "L 825 1625 \n",
       "L 2419 1625 \n",
       "L 2419 4116 \n",
       "z\n",
       "M 2253 4666 \n",
       "L 3047 4666 \n",
       "L 3047 1625 \n",
       "L 3713 1625 \n",
       "L 3713 1100 \n",
       "L 3047 1100 \n",
       "L 3047 0 \n",
       "L 2419 0 \n",
       "L 2419 1100 \n",
       "L 313 1100 \n",
       "L 313 1709 \n",
       "L 2253 4666 \n",
       "z\n",
       "\" transform=\"scale(0.015625)\"/>\n",
       "       </defs>\n",
       "       <use xlink:href=\"#DejaVuSans-34\"/>\n",
       "       <use xlink:href=\"#DejaVuSans-30\" x=\"63.623047\"/>\n",
       "       <use xlink:href=\"#DejaVuSans-30\" x=\"127.246094\"/>\n",
       "      </g>\n",
       "     </g>\n",
       "    </g>\n",
       "    <g id=\"ytick_6\">\n",
       "     <g id=\"line2d_13\">\n",
       "      <g>\n",
       "       <use xlink:href=\"#m8304421021\" x=\"46.965625\" y=\"93.094415\" style=\"stroke: #000000; stroke-width: 0.8\"/>\n",
       "      </g>\n",
       "     </g>\n",
       "     <g id=\"text_14\">\n",
       "      <!-- 500 -->\n",
       "      <g transform=\"translate(20.878125 96.893634) scale(0.1 -0.1)\">\n",
       "       <use xlink:href=\"#DejaVuSans-35\"/>\n",
       "       <use xlink:href=\"#DejaVuSans-30\" x=\"63.623047\"/>\n",
       "       <use xlink:href=\"#DejaVuSans-30\" x=\"127.246094\"/>\n",
       "      </g>\n",
       "     </g>\n",
       "    </g>\n",
       "    <g id=\"ytick_7\">\n",
       "     <g id=\"line2d_14\">\n",
       "      <g>\n",
       "       <use xlink:href=\"#m8304421021\" x=\"46.965625\" y=\"52.046817\" style=\"stroke: #000000; stroke-width: 0.8\"/>\n",
       "      </g>\n",
       "     </g>\n",
       "     <g id=\"text_15\">\n",
       "      <!-- 600 -->\n",
       "      <g transform=\"translate(20.878125 55.846036) scale(0.1 -0.1)\">\n",
       "       <defs>\n",
       "        <path id=\"DejaVuSans-36\" d=\"M 2113 2584 \n",
       "Q 1688 2584 1439 2293 \n",
       "Q 1191 2003 1191 1497 \n",
       "Q 1191 994 1439 701 \n",
       "Q 1688 409 2113 409 \n",
       "Q 2538 409 2786 701 \n",
       "Q 3034 994 3034 1497 \n",
       "Q 3034 2003 2786 2293 \n",
       "Q 2538 2584 2113 2584 \n",
       "z\n",
       "M 3366 4563 \n",
       "L 3366 3988 \n",
       "Q 3128 4100 2886 4159 \n",
       "Q 2644 4219 2406 4219 \n",
       "Q 1781 4219 1451 3797 \n",
       "Q 1122 3375 1075 2522 \n",
       "Q 1259 2794 1537 2939 \n",
       "Q 1816 3084 2150 3084 \n",
       "Q 2853 3084 3261 2657 \n",
       "Q 3669 2231 3669 1497 \n",
       "Q 3669 778 3244 343 \n",
       "Q 2819 -91 2113 -91 \n",
       "Q 1303 -91 875 529 \n",
       "Q 447 1150 447 2328 \n",
       "Q 447 3434 972 4092 \n",
       "Q 1497 4750 2381 4750 \n",
       "Q 2619 4750 2861 4703 \n",
       "Q 3103 4656 3366 4563 \n",
       "z\n",
       "\" transform=\"scale(0.015625)\"/>\n",
       "       </defs>\n",
       "       <use xlink:href=\"#DejaVuSans-36\"/>\n",
       "       <use xlink:href=\"#DejaVuSans-30\" x=\"63.623047\"/>\n",
       "       <use xlink:href=\"#DejaVuSans-30\" x=\"127.246094\"/>\n",
       "      </g>\n",
       "     </g>\n",
       "    </g>\n",
       "    <g id=\"ytick_8\">\n",
       "     <g id=\"line2d_15\">\n",
       "      <g>\n",
       "       <use xlink:href=\"#m8304421021\" x=\"46.965625\" y=\"10.999219\" style=\"stroke: #000000; stroke-width: 0.8\"/>\n",
       "      </g>\n",
       "     </g>\n",
       "     <g id=\"text_16\">\n",
       "      <!-- 700 -->\n",
       "      <g transform=\"translate(20.878125 14.798437) scale(0.1 -0.1)\">\n",
       "       <defs>\n",
       "        <path id=\"DejaVuSans-37\" d=\"M 525 4666 \n",
       "L 3525 4666 \n",
       "L 3525 4397 \n",
       "L 1831 0 \n",
       "L 1172 0 \n",
       "L 2766 4134 \n",
       "L 525 4134 \n",
       "L 525 4666 \n",
       "z\n",
       "\" transform=\"scale(0.015625)\"/>\n",
       "       </defs>\n",
       "       <use xlink:href=\"#DejaVuSans-37\"/>\n",
       "       <use xlink:href=\"#DejaVuSans-30\" x=\"63.623047\"/>\n",
       "       <use xlink:href=\"#DejaVuSans-30\" x=\"127.246094\"/>\n",
       "      </g>\n",
       "     </g>\n",
       "    </g>\n",
       "    <g id=\"text_17\">\n",
       "     <!-- Pressure [kJ / (mol nm^3)] -->\n",
       "     <g transform=\"translate(14.798438 229.807818) rotate(-90) scale(0.1 -0.1)\">\n",
       "      <defs>\n",
       "       <path id=\"DejaVuSans-50\" d=\"M 1259 4147 \n",
       "L 1259 2394 \n",
       "L 2053 2394 \n",
       "Q 2494 2394 2734 2622 \n",
       "Q 2975 2850 2975 3272 \n",
       "Q 2975 3691 2734 3919 \n",
       "Q 2494 4147 2053 4147 \n",
       "L 1259 4147 \n",
       "z\n",
       "M 628 4666 \n",
       "L 2053 4666 \n",
       "Q 2838 4666 3239 4311 \n",
       "Q 3641 3956 3641 3272 \n",
       "Q 3641 2581 3239 2228 \n",
       "Q 2838 1875 2053 1875 \n",
       "L 1259 1875 \n",
       "L 1259 0 \n",
       "L 628 0 \n",
       "L 628 4666 \n",
       "z\n",
       "\" transform=\"scale(0.015625)\"/>\n",
       "       <path id=\"DejaVuSans-72\" d=\"M 2631 2963 \n",
       "Q 2534 3019 2420 3045 \n",
       "Q 2306 3072 2169 3072 \n",
       "Q 1681 3072 1420 2755 \n",
       "Q 1159 2438 1159 1844 \n",
       "L 1159 0 \n",
       "L 581 0 \n",
       "L 581 3500 \n",
       "L 1159 3500 \n",
       "L 1159 2956 \n",
       "Q 1341 3275 1631 3429 \n",
       "Q 1922 3584 2338 3584 \n",
       "Q 2397 3584 2469 3576 \n",
       "Q 2541 3569 2628 3553 \n",
       "L 2631 2963 \n",
       "z\n",
       "\" transform=\"scale(0.015625)\"/>\n",
       "       <path id=\"DejaVuSans-73\" d=\"M 2834 3397 \n",
       "L 2834 2853 \n",
       "Q 2591 2978 2328 3040 \n",
       "Q 2066 3103 1784 3103 \n",
       "Q 1356 3103 1142 2972 \n",
       "Q 928 2841 928 2578 \n",
       "Q 928 2378 1081 2264 \n",
       "Q 1234 2150 1697 2047 \n",
       "L 1894 2003 \n",
       "Q 2506 1872 2764 1633 \n",
       "Q 3022 1394 3022 966 \n",
       "Q 3022 478 2636 193 \n",
       "Q 2250 -91 1575 -91 \n",
       "Q 1294 -91 989 -36 \n",
       "Q 684 19 347 128 \n",
       "L 347 722 \n",
       "Q 666 556 975 473 \n",
       "Q 1284 391 1588 391 \n",
       "Q 1994 391 2212 530 \n",
       "Q 2431 669 2431 922 \n",
       "Q 2431 1156 2273 1281 \n",
       "Q 2116 1406 1581 1522 \n",
       "L 1381 1569 \n",
       "Q 847 1681 609 1914 \n",
       "Q 372 2147 372 2553 \n",
       "Q 372 3047 722 3315 \n",
       "Q 1072 3584 1716 3584 \n",
       "Q 2034 3584 2315 3537 \n",
       "Q 2597 3491 2834 3397 \n",
       "z\n",
       "\" transform=\"scale(0.015625)\"/>\n",
       "       <path id=\"DejaVuSans-75\" d=\"M 544 1381 \n",
       "L 544 3500 \n",
       "L 1119 3500 \n",
       "L 1119 1403 \n",
       "Q 1119 906 1312 657 \n",
       "Q 1506 409 1894 409 \n",
       "Q 2359 409 2629 706 \n",
       "Q 2900 1003 2900 1516 \n",
       "L 2900 3500 \n",
       "L 3475 3500 \n",
       "L 3475 0 \n",
       "L 2900 0 \n",
       "L 2900 538 \n",
       "Q 2691 219 2414 64 \n",
       "Q 2138 -91 1772 -91 \n",
       "Q 1169 -91 856 284 \n",
       "Q 544 659 544 1381 \n",
       "z\n",
       "M 1991 3584 \n",
       "L 1991 3584 \n",
       "z\n",
       "\" transform=\"scale(0.015625)\"/>\n",
       "       <path id=\"DejaVuSans-5b\" d=\"M 550 4863 \n",
       "L 1875 4863 \n",
       "L 1875 4416 \n",
       "L 1125 4416 \n",
       "L 1125 -397 \n",
       "L 1875 -397 \n",
       "L 1875 -844 \n",
       "L 550 -844 \n",
       "L 550 4863 \n",
       "z\n",
       "\" transform=\"scale(0.015625)\"/>\n",
       "       <path id=\"DejaVuSans-6b\" d=\"M 581 4863 \n",
       "L 1159 4863 \n",
       "L 1159 1991 \n",
       "L 2875 3500 \n",
       "L 3609 3500 \n",
       "L 1753 1863 \n",
       "L 3688 0 \n",
       "L 2938 0 \n",
       "L 1159 1709 \n",
       "L 1159 0 \n",
       "L 581 0 \n",
       "L 581 4863 \n",
       "z\n",
       "\" transform=\"scale(0.015625)\"/>\n",
       "       <path id=\"DejaVuSans-4a\" d=\"M 628 4666 \n",
       "L 1259 4666 \n",
       "L 1259 325 \n",
       "Q 1259 -519 939 -900 \n",
       "Q 619 -1281 -91 -1281 \n",
       "L -331 -1281 \n",
       "L -331 -750 \n",
       "L -134 -750 \n",
       "Q 284 -750 456 -515 \n",
       "Q 628 -281 628 325 \n",
       "L 628 4666 \n",
       "z\n",
       "\" transform=\"scale(0.015625)\"/>\n",
       "       <path id=\"DejaVuSans-2f\" d=\"M 1625 4666 \n",
       "L 2156 4666 \n",
       "L 531 -594 \n",
       "L 0 -594 \n",
       "L 1625 4666 \n",
       "z\n",
       "\" transform=\"scale(0.015625)\"/>\n",
       "       <path id=\"DejaVuSans-28\" d=\"M 1984 4856 \n",
       "Q 1566 4138 1362 3434 \n",
       "Q 1159 2731 1159 2009 \n",
       "Q 1159 1288 1364 580 \n",
       "Q 1569 -128 1984 -844 \n",
       "L 1484 -844 \n",
       "Q 1016 -109 783 600 \n",
       "Q 550 1309 550 2009 \n",
       "Q 550 2706 781 3412 \n",
       "Q 1013 4119 1484 4856 \n",
       "L 1984 4856 \n",
       "z\n",
       "\" transform=\"scale(0.015625)\"/>\n",
       "       <path id=\"DejaVuSans-6d\" d=\"M 3328 2828 \n",
       "Q 3544 3216 3844 3400 \n",
       "Q 4144 3584 4550 3584 \n",
       "Q 5097 3584 5394 3201 \n",
       "Q 5691 2819 5691 2113 \n",
       "L 5691 0 \n",
       "L 5113 0 \n",
       "L 5113 2094 \n",
       "Q 5113 2597 4934 2840 \n",
       "Q 4756 3084 4391 3084 \n",
       "Q 3944 3084 3684 2787 \n",
       "Q 3425 2491 3425 1978 \n",
       "L 3425 0 \n",
       "L 2847 0 \n",
       "L 2847 2094 \n",
       "Q 2847 2600 2669 2842 \n",
       "Q 2491 3084 2119 3084 \n",
       "Q 1678 3084 1418 2786 \n",
       "Q 1159 2488 1159 1978 \n",
       "L 1159 0 \n",
       "L 581 0 \n",
       "L 581 3500 \n",
       "L 1159 3500 \n",
       "L 1159 2956 \n",
       "Q 1356 3278 1631 3431 \n",
       "Q 1906 3584 2284 3584 \n",
       "Q 2666 3584 2933 3390 \n",
       "Q 3200 3197 3328 2828 \n",
       "z\n",
       "\" transform=\"scale(0.015625)\"/>\n",
       "       <path id=\"DejaVuSans-6f\" d=\"M 1959 3097 \n",
       "Q 1497 3097 1228 2736 \n",
       "Q 959 2375 959 1747 \n",
       "Q 959 1119 1226 758 \n",
       "Q 1494 397 1959 397 \n",
       "Q 2419 397 2687 759 \n",
       "Q 2956 1122 2956 1747 \n",
       "Q 2956 2369 2687 2733 \n",
       "Q 2419 3097 1959 3097 \n",
       "z\n",
       "M 1959 3584 \n",
       "Q 2709 3584 3137 3096 \n",
       "Q 3566 2609 3566 1747 \n",
       "Q 3566 888 3137 398 \n",
       "Q 2709 -91 1959 -91 \n",
       "Q 1206 -91 779 398 \n",
       "Q 353 888 353 1747 \n",
       "Q 353 2609 779 3096 \n",
       "Q 1206 3584 1959 3584 \n",
       "z\n",
       "\" transform=\"scale(0.015625)\"/>\n",
       "       <path id=\"DejaVuSans-6c\" d=\"M 603 4863 \n",
       "L 1178 4863 \n",
       "L 1178 0 \n",
       "L 603 0 \n",
       "L 603 4863 \n",
       "z\n",
       "\" transform=\"scale(0.015625)\"/>\n",
       "       <path id=\"DejaVuSans-6e\" d=\"M 3513 2113 \n",
       "L 3513 0 \n",
       "L 2938 0 \n",
       "L 2938 2094 \n",
       "Q 2938 2591 2744 2837 \n",
       "Q 2550 3084 2163 3084 \n",
       "Q 1697 3084 1428 2787 \n",
       "Q 1159 2491 1159 1978 \n",
       "L 1159 0 \n",
       "L 581 0 \n",
       "L 581 3500 \n",
       "L 1159 3500 \n",
       "L 1159 2956 \n",
       "Q 1366 3272 1645 3428 \n",
       "Q 1925 3584 2291 3584 \n",
       "Q 2894 3584 3203 3211 \n",
       "Q 3513 2838 3513 2113 \n",
       "z\n",
       "\" transform=\"scale(0.015625)\"/>\n",
       "       <path id=\"DejaVuSans-5e\" d=\"M 2988 4666 \n",
       "L 4684 2925 \n",
       "L 4056 2925 \n",
       "L 2681 4159 \n",
       "L 1306 2925 \n",
       "L 678 2925 \n",
       "L 2375 4666 \n",
       "L 2988 4666 \n",
       "z\n",
       "\" transform=\"scale(0.015625)\"/>\n",
       "       <path id=\"DejaVuSans-29\" d=\"M 513 4856 \n",
       "L 1013 4856 \n",
       "Q 1481 4119 1714 3412 \n",
       "Q 1947 2706 1947 2009 \n",
       "Q 1947 1309 1714 600 \n",
       "Q 1481 -109 1013 -844 \n",
       "L 513 -844 \n",
       "Q 928 -128 1133 580 \n",
       "Q 1338 1288 1338 2009 \n",
       "Q 1338 2731 1133 3434 \n",
       "Q 928 4138 513 4856 \n",
       "z\n",
       "\" transform=\"scale(0.015625)\"/>\n",
       "       <path id=\"DejaVuSans-5d\" d=\"M 1947 4863 \n",
       "L 1947 -844 \n",
       "L 622 -844 \n",
       "L 622 -397 \n",
       "L 1369 -397 \n",
       "L 1369 4416 \n",
       "L 622 4416 \n",
       "L 622 4863 \n",
       "L 1947 4863 \n",
       "z\n",
       "\" transform=\"scale(0.015625)\"/>\n",
       "      </defs>\n",
       "      <use xlink:href=\"#DejaVuSans-50\"/>\n",
       "      <use xlink:href=\"#DejaVuSans-72\" x=\"58.552734\"/>\n",
       "      <use xlink:href=\"#DejaVuSans-65\" x=\"97.416016\"/>\n",
       "      <use xlink:href=\"#DejaVuSans-73\" x=\"158.939453\"/>\n",
       "      <use xlink:href=\"#DejaVuSans-73\" x=\"211.039062\"/>\n",
       "      <use xlink:href=\"#DejaVuSans-75\" x=\"263.138672\"/>\n",
       "      <use xlink:href=\"#DejaVuSans-72\" x=\"326.517578\"/>\n",
       "      <use xlink:href=\"#DejaVuSans-65\" x=\"365.380859\"/>\n",
       "      <use xlink:href=\"#DejaVuSans-20\" x=\"426.904297\"/>\n",
       "      <use xlink:href=\"#DejaVuSans-5b\" x=\"458.691406\"/>\n",
       "      <use xlink:href=\"#DejaVuSans-6b\" x=\"497.705078\"/>\n",
       "      <use xlink:href=\"#DejaVuSans-4a\" x=\"555.615234\"/>\n",
       "      <use xlink:href=\"#DejaVuSans-20\" x=\"585.107422\"/>\n",
       "      <use xlink:href=\"#DejaVuSans-2f\" x=\"616.894531\"/>\n",
       "      <use xlink:href=\"#DejaVuSans-20\" x=\"650.585938\"/>\n",
       "      <use xlink:href=\"#DejaVuSans-28\" x=\"682.373047\"/>\n",
       "      <use xlink:href=\"#DejaVuSans-6d\" x=\"721.386719\"/>\n",
       "      <use xlink:href=\"#DejaVuSans-6f\" x=\"818.798828\"/>\n",
       "      <use xlink:href=\"#DejaVuSans-6c\" x=\"879.980469\"/>\n",
       "      <use xlink:href=\"#DejaVuSans-20\" x=\"907.763672\"/>\n",
       "      <use xlink:href=\"#DejaVuSans-6e\" x=\"939.550781\"/>\n",
       "      <use xlink:href=\"#DejaVuSans-6d\" x=\"1002.929688\"/>\n",
       "      <use xlink:href=\"#DejaVuSans-5e\" x=\"1100.341797\"/>\n",
       "      <use xlink:href=\"#DejaVuSans-33\" x=\"1184.130859\"/>\n",
       "      <use xlink:href=\"#DejaVuSans-29\" x=\"1247.753906\"/>\n",
       "      <use xlink:href=\"#DejaVuSans-5d\" x=\"1286.767578\"/>\n",
       "     </g>\n",
       "    </g>\n",
       "   </g>\n",
       "   <g id=\"line2d_16\">\n",
       "    <path d=\"M 65.830802 24.499454 \n",
       "L 68.354572 49.67964 \n",
       "L 69.616456 60.77805 \n",
       "L 70.878341 70.066272 \n",
       "L 73.402111 92.191013 \n",
       "L 77.187765 121.530062 \n",
       "L 78.44965 127.415121 \n",
       "L 79.711534 135.975577 \n",
       "L 80.973419 143.404819 \n",
       "L 82.235304 148.911683 \n",
       "L 83.497189 149.268282 \n",
       "L 84.759073 156.555846 \n",
       "L 86.020958 157.067325 \n",
       "L 87.282843 162.637913 \n",
       "L 88.544728 158.486479 \n",
       "L 89.806612 158.287028 \n",
       "L 91.068497 151.290673 \n",
       "L 92.330382 166.930361 \n",
       "L 93.592267 174.440689 \n",
       "L 94.854151 181.048165 \n",
       "L 96.116036 183.725015 \n",
       "L 97.377921 180.552332 \n",
       "L 98.639806 174.449558 \n",
       "L 101.163575 210.83351 \n",
       "L 102.42546 204.621653 \n",
       "L 103.687345 219.930486 \n",
       "L 104.949229 223.564854 \n",
       "L 106.211114 214.239322 \n",
       "L 107.472999 224.008501 \n",
       "L 108.734884 219.612063 \n",
       "L 109.996768 228.182997 \n",
       "L 111.258653 223.575333 \n",
       "L 112.520538 235.731625 \n",
       "L 113.782423 227.018099 \n",
       "L 115.044307 232.419388 \n",
       "L 116.306192 228.349402 \n",
       "L 117.568077 231.463467 \n",
       "L 118.829962 239.864877 \n",
       "L 120.091846 235.847272 \n",
       "L 121.353731 232.664831 \n",
       "L 122.615616 241.439638 \n",
       "L 123.877501 229.495824 \n",
       "L 125.139385 225.470315 \n",
       "L 126.40127 241.210374 \n",
       "L 127.663155 233.923185 \n",
       "L 128.92504 243.59443 \n",
       "L 130.186924 240.905141 \n",
       "L 131.448809 249.921454 \n",
       "L 132.710694 257.280093 \n",
       "L 133.972579 247.607407 \n",
       "L 135.234463 248.696265 \n",
       "L 136.496348 249.622776 \n",
       "L 137.758233 258.320472 \n",
       "L 139.020118 264.688512 \n",
       "L 140.282002 253.739405 \n",
       "L 141.543887 251.111247 \n",
       "L 142.805772 244.095882 \n",
       "L 144.067657 248.166804 \n",
       "L 145.329541 242.040238 \n",
       "L 146.591426 250.169809 \n",
       "L 147.853311 252.552441 \n",
       "L 149.115196 244.725914 \n",
       "L 150.37708 252.916508 \n",
       "L 151.638965 255.153526 \n",
       "L 152.90085 258.811113 \n",
       "L 154.162735 250.584356 \n",
       "L 155.424619 255.382872 \n",
       "L 156.686504 259.014033 \n",
       "L 157.948389 253.380737 \n",
       "L 159.210274 255.292974 \n",
       "L 160.472158 265.730589 \n",
       "L 161.734043 266.673398 \n",
       "L 162.995928 260.073022 \n",
       "L 164.257813 263.009256 \n",
       "L 165.519697 264.584236 \n",
       "L 166.781582 268.454223 \n",
       "L 168.043467 261.789052 \n",
       "L 169.305352 273.889358 \n",
       "L 170.567236 268.768982 \n",
       "L 171.829121 271.648117 \n",
       "L 173.091006 263.099699 \n",
       "L 174.352891 273.118292 \n",
       "L 175.614775 268.512551 \n",
       "L 176.87666 274.902682 \n",
       "L 178.138545 273.359847 \n",
       "L 179.40043 274.552105 \n",
       "L 180.662314 268.644871 \n",
       "L 181.924199 275.978463 \n",
       "L 183.186084 270.030816 \n",
       "L 184.447969 283.184166 \n",
       "L 185.709854 273.108692 \n",
       "L 186.971738 277.704317 \n",
       "L 188.233623 277.144008 \n",
       "L 189.495508 284.652278 \n",
       "L 190.757393 272.384789 \n",
       "L 192.019277 282.977215 \n",
       "L 193.281162 276.323653 \n",
       "L 194.543047 288.849265 \n",
       "L 195.804932 284.499515 \n",
       "L 197.066816 287.567249 \n",
       "L 198.328701 283.982321 \n",
       "L 199.590586 284.194356 \n",
       "L 200.852471 285.549575 \n",
       "L 202.114355 280.523312 \n",
       "L 203.37624 287.351858 \n",
       "L 204.638125 287.53377 \n",
       "L 205.90001 284.064836 \n",
       "L 207.161894 290.68102 \n",
       "L 208.423779 283.008953 \n",
       "L 209.685664 290.500193 \n",
       "L 210.947549 287.644798 \n",
       "L 212.209433 287.663951 \n",
       "L 213.471318 281.94884 \n",
       "L 214.733203 293.022358 \n",
       "L 215.995088 282.682913 \n",
       "L 217.256972 291.590087 \n",
       "L 218.518857 289.418931 \n",
       "L 219.780742 293.423489 \n",
       "L 221.042627 286.220345 \n",
       "L 222.304511 285.825972 \n",
       "L 223.566396 287.987642 \n",
       "L 224.828281 296.625185 \n",
       "L 226.090166 288.71567 \n",
       "L 227.35205 293.500642 \n",
       "L 228.613935 289.717375 \n",
       "L 229.87582 290.387783 \n",
       "L 231.137705 291.70941 \n",
       "L 232.399589 298.927707 \n",
       "L 233.661474 290.314813 \n",
       "L 234.923359 292.434093 \n",
       "L 236.185244 286.600653 \n",
       "L 237.447128 297.038987 \n",
       "L 238.709013 288.360357 \n",
       "L 239.970898 296.04677 \n",
       "L 241.232783 290.462288 \n",
       "L 242.494667 290.501295 \n",
       "L 243.756552 295.202087 \n",
       "L 245.018437 294.812617 \n",
       "L 246.280322 294.937408 \n",
       "L 247.542206 293.293922 \n",
       "L 248.804091 290.167825 \n",
       "L 250.065976 295.281017 \n",
       "L 251.327861 287.592545 \n",
       "L 252.589745 295.148663 \n",
       "L 253.85163 289.160877 \n",
       "L 255.113515 294.854607 \n",
       "L 256.3754 291.522182 \n",
       "L 257.637284 293.658747 \n",
       "L 258.899169 289.836364 \n",
       "L 260.161054 294.030907 \n",
       "L 261.422939 298.649654 \n",
       "L 262.684823 292.113625 \n",
       "L 263.946708 291.27488 \n",
       "L 265.208593 296.687218 \n",
       "L 266.470478 292.923823 \n",
       "L 267.732362 294.639983 \n",
       "L 268.994247 292.436404 \n",
       "L 270.256132 292.018926 \n",
       "L 271.518017 292.680909 \n",
       "L 272.779901 295.898005 \n",
       "L 274.041786 292.332326 \n",
       "L 275.303671 294.415103 \n",
       "L 276.565556 291.815896 \n",
       "L 277.82744 295.790375 \n",
       "L 279.089325 293.26842 \n",
       "L 280.35121 296.410924 \n",
       "L 281.613095 288.791469 \n",
       "L 282.874979 296.031678 \n",
       "L 284.136864 300.998315 \n",
       "L 285.398749 292.453801 \n",
       "L 286.660634 293.624288 \n",
       "L 287.922518 295.141296 \n",
       "L 289.184403 295.562168 \n",
       "L 290.446288 292.094121 \n",
       "L 291.708173 296.483315 \n",
       "L 292.970057 295.505488 \n",
       "L 294.231942 289.315771 \n",
       "L 295.493827 293.543319 \n",
       "L 296.755712 294.57965 \n",
       "L 298.017596 294.934722 \n",
       "L 299.279481 301.917854 \n",
       "L 301.803251 286.82364 \n",
       "L 303.065135 289.06927 \n",
       "L 304.32702 300.609282 \n",
       "L 305.588905 294.619267 \n",
       "L 306.85079 291.062574 \n",
       "L 308.112674 296.459126 \n",
       "L 309.374559 294.380887 \n",
       "L 310.636444 291.43772 \n",
       "L 311.898329 295.559059 \n",
       "L 313.160213 292.254641 \n",
       "L 314.422098 296.309762 \n",
       "L 315.683983 292.214528 \n",
       "L 316.945868 286.647008 \n",
       "L 318.207752 291.057758 \n",
       "L 319.469637 299.265793 \n",
       "L 320.731522 294.830364 \n",
       "L 321.993407 287.590974 \n",
       "L 323.255291 295.106054 \n",
       "L 324.517176 292.317208 \n",
       "L 325.779061 297.861615 \n",
       "L 327.040946 291.938563 \n",
       "L 328.302831 293.813811 \n",
       "L 329.564715 293.174155 \n",
       "L 330.8266 294.901066 \n",
       "L 332.088485 289.183408 \n",
       "L 333.35037 296.490514 \n",
       "L 334.612254 296.19909 \n",
       "L 335.874139 294.279402 \n",
       "L 337.136024 292.865886 \n",
       "L 338.397909 293.605423 \n",
       "L 339.659793 301.738926 \n",
       "L 340.921678 294.231141 \n",
       "L 342.183563 296.823378 \n",
       "L 343.445448 292.343137 \n",
       "L 344.707332 291.770312 \n",
       "L 345.969217 302.541182 \n",
       "L 347.231102 293.567117 \n",
       "L 348.492987 293.768831 \n",
       "L 349.754871 292.381312 \n",
       "L 351.016756 296.957867 \n",
       "L 352.278641 285.884939 \n",
       "L 353.540526 297.625033 \n",
       "L 354.80241 292.405836 \n",
       "L 356.064295 296.290457 \n",
       "L 357.32618 295.014147 \n",
       "L 358.588065 296.159333 \n",
       "L 359.849949 295.866071 \n",
       "L 361.111834 294.345568 \n",
       "L 362.373719 295.878626 \n",
       "L 363.635604 298.173009 \n",
       "L 364.897488 290.634649 \n",
       "L 366.159373 299.492356 \n",
       "L 367.421258 294.021048 \n",
       "L 368.683143 297.303941 \n",
       "L 369.945027 294.660841 \n",
       "L 371.206912 300.291676 \n",
       "L 372.468797 293.443205 \n",
       "L 373.730682 292.086526 \n",
       "L 374.992566 293.876024 \n",
       "L 376.254451 295.89417 \n",
       "L 377.516336 295.842562 \n",
       "L 378.778221 298.867052 \n",
       "L 380.040105 293.348923 \n",
       "L 381.30199 293.883842 \n",
       "L 382.563875 296.980643 \n",
       "L 383.82576 298.596251 \n",
       "L 385.087644 291.411285 \n",
       "L 386.349529 298.287345 \n",
       "L 387.611414 294.205974 \n",
       "L 388.873299 294.934978 \n",
       "L 390.135183 296.679082 \n",
       "L 391.397068 296.774418 \n",
       "L 392.658953 290.108893 \n",
       "L 393.920838 297.459384 \n",
       "L 395.182722 291.267305 \n",
       "L 396.444607 293.701123 \n",
       "L 397.706492 295.172549 \n",
       "L 398.968377 294.761103 \n",
       "L 400.230261 297.782091 \n",
       "L 401.492146 295.337956 \n",
       "L 402.754031 289.054459 \n",
       "L 404.015916 296.980461 \n",
       "L 405.2778 293.83356 \n",
       "L 406.539685 296.96441 \n",
       "L 407.80157 296.532669 \n",
       "L 409.063455 292.865313 \n",
       "L 410.325339 295.581945 \n",
       "L 411.587224 299.661356 \n",
       "L 412.849109 293.258354 \n",
       "L 414.110994 298.754928 \n",
       "L 415.372878 291.435327 \n",
       "L 416.634763 298.187963 \n",
       "L 417.896648 294.050394 \n",
       "L 419.158533 297.120766 \n",
       "L 420.420417 292.693911 \n",
       "L 422.944187 297.942635 \n",
       "L 424.206072 289.977108 \n",
       "L 425.467956 298.937888 \n",
       "L 426.729841 291.700461 \n",
       "L 427.991726 293.323293 \n",
       "L 429.253611 293.82051 \n",
       "L 430.515495 296.541527 \n",
       "L 431.77738 290.17376 \n",
       "L 433.039265 299.566742 \n",
       "L 435.563034 291.764973 \n",
       "L 436.824919 296.690778 \n",
       "L 438.086804 292.854918 \n",
       "L 439.348689 296.692634 \n",
       "L 440.610573 293.420235 \n",
       "L 441.872458 296.091037 \n",
       "L 443.134343 295.193531 \n",
       "L 443.134343 295.193531 \n",
       "\" clip-path=\"url(#pfbb00c3c32)\" style=\"fill: none; stroke: #1f77b4; stroke-width: 1.5; stroke-linecap: square\"/>\n",
       "   </g>\n",
       "   <g id=\"line2d_17\">\n",
       "    <path d=\"M 46.965625 298.307688 \n",
       "L 461.99952 298.307688 \n",
       "\" clip-path=\"url(#pfbb00c3c32)\" style=\"fill: none; stroke-dasharray: 5.55,2.4; stroke-dashoffset: 0; stroke: #000000; stroke-width: 1.5\"/>\n",
       "   </g>\n",
       "   <g id=\"patch_3\">\n",
       "    <path d=\"M 46.965625 316.443268 \n",
       "L 46.965625 10.597368 \n",
       "\" style=\"fill: none; stroke: #000000; stroke-width: 0.8; stroke-linejoin: miter; stroke-linecap: square\"/>\n",
       "   </g>\n",
       "   <g id=\"patch_4\">\n",
       "    <path d=\"M 461.99952 316.443268 \n",
       "L 461.99952 10.597368 \n",
       "\" style=\"fill: none; stroke: #000000; stroke-width: 0.8; stroke-linejoin: miter; stroke-linecap: square\"/>\n",
       "   </g>\n",
       "   <g id=\"patch_5\">\n",
       "    <path d=\"M 46.965625 316.443268 \n",
       "L 461.99952 316.443268 \n",
       "\" style=\"fill: none; stroke: #000000; stroke-width: 0.8; stroke-linejoin: miter; stroke-linecap: square\"/>\n",
       "   </g>\n",
       "   <g id=\"patch_6\">\n",
       "    <path d=\"M 46.965625 10.597368 \n",
       "L 461.99952 10.597368 \n",
       "\" style=\"fill: none; stroke: #000000; stroke-width: 0.8; stroke-linejoin: miter; stroke-linecap: square\"/>\n",
       "   </g>\n",
       "   <g id=\"legend_1\">\n",
       "    <g id=\"patch_7\">\n",
       "     <path d=\"M 372.646395 47.953618 \n",
       "L 454.99952 47.953618 \n",
       "Q 456.99952 47.953618 456.99952 45.953618 \n",
       "L 456.99952 17.597368 \n",
       "Q 456.99952 15.597368 454.99952 15.597368 \n",
       "L 372.646395 15.597368 \n",
       "Q 370.646395 15.597368 370.646395 17.597368 \n",
       "L 370.646395 45.953618 \n",
       "Q 370.646395 47.953618 372.646395 47.953618 \n",
       "z\n",
       "\" style=\"fill: #ffffff; opacity: 0.8; stroke: #cccccc; stroke-linejoin: miter\"/>\n",
       "    </g>\n",
       "    <g id=\"line2d_18\">\n",
       "     <path d=\"M 374.646395 23.695805 \n",
       "L 384.646395 23.695805 \n",
       "L 394.646395 23.695805 \n",
       "\" style=\"fill: none; stroke: #1f77b4; stroke-width: 1.5; stroke-linecap: square\"/>\n",
       "    </g>\n",
       "    <g id=\"text_18\">\n",
       "     <!-- Predicted -->\n",
       "     <g transform=\"translate(402.646395 27.195805) scale(0.1 -0.1)\">\n",
       "      <defs>\n",
       "       <path id=\"DejaVuSans-69\" d=\"M 603 3500 \n",
       "L 1178 3500 \n",
       "L 1178 0 \n",
       "L 603 0 \n",
       "L 603 3500 \n",
       "z\n",
       "M 603 4863 \n",
       "L 1178 4863 \n",
       "L 1178 4134 \n",
       "L 603 4134 \n",
       "L 603 4863 \n",
       "z\n",
       "\" transform=\"scale(0.015625)\"/>\n",
       "       <path id=\"DejaVuSans-63\" d=\"M 3122 3366 \n",
       "L 3122 2828 \n",
       "Q 2878 2963 2633 3030 \n",
       "Q 2388 3097 2138 3097 \n",
       "Q 1578 3097 1268 2742 \n",
       "Q 959 2388 959 1747 \n",
       "Q 959 1106 1268 751 \n",
       "Q 1578 397 2138 397 \n",
       "Q 2388 397 2633 464 \n",
       "Q 2878 531 3122 666 \n",
       "L 3122 134 \n",
       "Q 2881 22 2623 -34 \n",
       "Q 2366 -91 2075 -91 \n",
       "Q 1284 -91 818 406 \n",
       "Q 353 903 353 1747 \n",
       "Q 353 2603 823 3093 \n",
       "Q 1294 3584 2113 3584 \n",
       "Q 2378 3584 2631 3529 \n",
       "Q 2884 3475 3122 3366 \n",
       "z\n",
       "\" transform=\"scale(0.015625)\"/>\n",
       "      </defs>\n",
       "      <use xlink:href=\"#DejaVuSans-50\"/>\n",
       "      <use xlink:href=\"#DejaVuSans-72\" x=\"58.552734\"/>\n",
       "      <use xlink:href=\"#DejaVuSans-65\" x=\"97.416016\"/>\n",
       "      <use xlink:href=\"#DejaVuSans-64\" x=\"158.939453\"/>\n",
       "      <use xlink:href=\"#DejaVuSans-69\" x=\"222.416016\"/>\n",
       "      <use xlink:href=\"#DejaVuSans-63\" x=\"250.199219\"/>\n",
       "      <use xlink:href=\"#DejaVuSans-74\" x=\"305.179688\"/>\n",
       "      <use xlink:href=\"#DejaVuSans-65\" x=\"344.388672\"/>\n",
       "      <use xlink:href=\"#DejaVuSans-64\" x=\"405.912109\"/>\n",
       "     </g>\n",
       "    </g>\n",
       "    <g id=\"line2d_19\">\n",
       "     <path d=\"M 374.646395 38.37393 \n",
       "L 384.646395 38.37393 \n",
       "L 394.646395 38.37393 \n",
       "\" style=\"fill: none; stroke-dasharray: 5.55,2.4; stroke-dashoffset: 0; stroke: #000000; stroke-width: 1.5\"/>\n",
       "    </g>\n",
       "    <g id=\"text_19\">\n",
       "     <!-- Reference -->\n",
       "     <g transform=\"translate(402.646395 41.87393) scale(0.1 -0.1)\">\n",
       "      <defs>\n",
       "       <path id=\"DejaVuSans-52\" d=\"M 2841 2188 \n",
       "Q 3044 2119 3236 1894 \n",
       "Q 3428 1669 3622 1275 \n",
       "L 4263 0 \n",
       "L 3584 0 \n",
       "L 2988 1197 \n",
       "Q 2756 1666 2539 1819 \n",
       "Q 2322 1972 1947 1972 \n",
       "L 1259 1972 \n",
       "L 1259 0 \n",
       "L 628 0 \n",
       "L 628 4666 \n",
       "L 2053 4666 \n",
       "Q 2853 4666 3247 4331 \n",
       "Q 3641 3997 3641 3322 \n",
       "Q 3641 2881 3436 2590 \n",
       "Q 3231 2300 2841 2188 \n",
       "z\n",
       "M 1259 4147 \n",
       "L 1259 2491 \n",
       "L 2053 2491 \n",
       "Q 2509 2491 2742 2702 \n",
       "Q 2975 2913 2975 3322 \n",
       "Q 2975 3731 2742 3939 \n",
       "Q 2509 4147 2053 4147 \n",
       "L 1259 4147 \n",
       "z\n",
       "\" transform=\"scale(0.015625)\"/>\n",
       "       <path id=\"DejaVuSans-66\" d=\"M 2375 4863 \n",
       "L 2375 4384 \n",
       "L 1825 4384 \n",
       "Q 1516 4384 1395 4259 \n",
       "Q 1275 4134 1275 3809 \n",
       "L 1275 3500 \n",
       "L 2222 3500 \n",
       "L 2222 3053 \n",
       "L 1275 3053 \n",
       "L 1275 0 \n",
       "L 697 0 \n",
       "L 697 3053 \n",
       "L 147 3053 \n",
       "L 147 3500 \n",
       "L 697 3500 \n",
       "L 697 3744 \n",
       "Q 697 4328 969 4595 \n",
       "Q 1241 4863 1831 4863 \n",
       "L 2375 4863 \n",
       "z\n",
       "\" transform=\"scale(0.015625)\"/>\n",
       "      </defs>\n",
       "      <use xlink:href=\"#DejaVuSans-52\"/>\n",
       "      <use xlink:href=\"#DejaVuSans-65\" x=\"64.982422\"/>\n",
       "      <use xlink:href=\"#DejaVuSans-66\" x=\"126.505859\"/>\n",
       "      <use xlink:href=\"#DejaVuSans-65\" x=\"161.710938\"/>\n",
       "      <use xlink:href=\"#DejaVuSans-72\" x=\"223.234375\"/>\n",
       "      <use xlink:href=\"#DejaVuSans-65\" x=\"262.097656\"/>\n",
       "      <use xlink:href=\"#DejaVuSans-6e\" x=\"323.621094\"/>\n",
       "      <use xlink:href=\"#DejaVuSans-63\" x=\"387\"/>\n",
       "      <use xlink:href=\"#DejaVuSans-65\" x=\"441.980469\"/>\n",
       "     </g>\n",
       "    </g>\n",
       "   </g>\n",
       "  </g>\n",
       " </g>\n",
       " <defs>\n",
       "  <clipPath id=\"pfbb00c3c32\">\n",
       "   <rect x=\"46.965625\" y=\"10.597368\" width=\"415.033895\" height=\"305.845901\"/>\n",
       "  </clipPath>\n",
       " </defs>\n",
       "</svg>\n"
      ],
      "text/plain": [
       "<Figure size 640x480 with 1 Axes>"
      ]
     },
     "metadata": {},
     "output_type": "display_data"
    }
   ],
   "source": [
    "fig, ax = plt.subplots(1, 1, layout=\"constrained\")\n",
    "ax.set_xlabel('Update Step')\n",
    "ax.set_ylabel('Pressure [kJ / (mol nm^3)]')\n",
    "ax.plot([preds[\"pressure\"] for preds in predicted_quantities.values()], label='Predicted')\n",
    "ax.axhline(y=pressure_target, linestyle='--', label='Reference', color='k')\n",
    "ax.legend()"
   ]
  },
  {
   "cell_type": "markdown",
   "id": "66579427",
   "metadata": {},
   "source": [
    "## References\n",
    "\n",
    "[^Thaler2021]: Thaler, S.; Zavadlav, J. Learning Neural Network Potentials from Experimental Data via Differentiable Trajectory Reweighting. _Nat Commun_ **2021**, _12_ (1), 6884. [https://doi.org/10.1038/s41467-021-27241-4](https://doi.org/10.1038/s41467-021-27241-4).\n",
    "\n",
    "[^Reith2003]: Reith, D.; Pütz, M.; Müller-Plathe, F. Deriving Effective Mesoscale Potentials from Atomistic Simulations: Mesoscale Potentials from Atomistic Simulations. _J. Comput. Chem._ **2003**, _24_ (13), 1624–1636. [https://doi.org/10.1002/jcc.10307](https://doi.org/10.1002/jcc.10307).\n",
    "\n",
    "[^Lyubartsev1995]: Lyubartsev, A. P.; Laaksonen, A. Calculation of Effective Interaction Potentials from Radial Distribution Functions: A Reverse Monte Carlo Approach. _Phys. Rev. E_ **1995**, _52_ (4), 3730–3737. [https://doi.org/10.1103/PhysRevE.52.3730](https://doi.org/10.1103/PhysRevE.52.3730).\n",
    "\n",
    "[^Dhabal2014]: Dhabal, D.; Singh, M.; Wikfeldt, K. T.; Chakravarty, C. Triplet Correlation Functions in Liquid Water. _The Journal of Chemical Physics_ **2014**, _141_ (17), 174504. [https://doi.org/10.1063/1.4898755](https://doi.org/10.1063/1.4898755).\n",
    "\n",
    "[^Torrie1977]: Torrie, G. M.; Valleau, J. P. Nonphysical Sampling Distributions in Monte Carlo Free-Energy Estimation: Umbrella Sampling. _Journal of Computational Physics_ **1977**, _23_ (2), 187–199. [https://doi.org/10.1016/0021-9991(77)90121-8](https://doi.org/10.1016/0021-9991(77)90121-8).\n",
    "\n",
    "[^DimeNet]: Gasteiger, J.; Giri, S.; Margraf, J. T.; Günnemann, S. _Fast and Uncertainty-Aware Directional Message Passing for Non-Equilibrium Molecules_. [http://arxiv.org/abs/2011.14115](http://arxiv.org/abs/2011.14115) (accessed 2023-06-29).\n",
    "\n",
    "[^Soper2008]: Soper, A. K.; Benmore, C. J. Quantum Differences between Heavy and Light Water. _Phys. Rev. Lett._ **2008**, _101_ (6), 065502. [https://doi.org/10.1103/PhysRevLett.101.065502](https://doi.org/10.1103/PhysRevLett.101.065502)."
   ]
  }
 ],
 "metadata": {
  "kernelspec": {
   "display_name": "Python 3",
   "language": "python",
   "name": "python3"
  },
  "language_info": {
   "codemirror_mode": {
    "name": "ipython",
    "version": 3
   },
   "file_extension": ".py",
   "mimetype": "text/x-python",
   "name": "python",
   "nbconvert_exporter": "python",
   "pygments_lexer": "ipython3",
   "version": "3.10.13"
  }
 },
 "nbformat": 4,
 "nbformat_minor": 5
}
